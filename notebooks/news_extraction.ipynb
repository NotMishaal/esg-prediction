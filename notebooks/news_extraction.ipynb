{
 "cells": [
  {
   "cell_type": "markdown",
   "metadata": {},
   "source": [
    "# Setup"
   ]
  },
  {
   "cell_type": "code",
   "execution_count": 17,
   "metadata": {},
   "outputs": [],
   "source": [
    "import requests\n",
    "from bs4 import BeautifulSoup\n",
    "import pandas as pd\n",
    "import re\n",
    "from datetime import datetime\n",
    "import calendar\n",
    "import time\n",
    "import requests\n",
    "from typing import List, Union"
   ]
  },
  {
   "cell_type": "markdown",
   "metadata": {},
   "source": [
    "# Article Scraper"
   ]
  },
  {
   "cell_type": "markdown",
   "metadata": {},
   "source": [
    "Testing out manual fetching of articles"
   ]
  },
  {
   "cell_type": "code",
   "execution_count": 55,
   "metadata": {},
   "outputs": [],
   "source": [
    "query_string = \"(NVIDIA OR NVIDIA Corporation AND environment OR social OR governance OR sustainability OR ESG rating OR climate change OR diversity OR emissions OR resource use OR corporate social responsibility) \"\n",
    "mode = \"artlist\"\n",
    "headers = {\"User-Agent\": f\"GDELT Python API\"}"
   ]
  },
  {
   "cell_type": "code",
   "execution_count": 56,
   "metadata": {},
   "outputs": [],
   "source": [
    "response = requests.get(\n",
    "            f\"https://api.gdeltproject.org/api/v2/doc/doc?query={query_string}&mode={mode}&format=json&maxrecords=200&startdatetime=20180101000000&enddatetime=20180131235959\",\n",
    "            headers=headers\n",
    "        )"
   ]
  },
  {
   "cell_type": "code",
   "execution_count": 57,
   "metadata": {},
   "outputs": [
    {
     "data": {
      "application/vnd.microsoft.datawrangler.viewer.v0+json": {
       "columns": [
        {
         "name": "index",
         "rawType": "int64",
         "type": "integer"
        },
        {
         "name": "url",
         "rawType": "object",
         "type": "string"
        },
        {
         "name": "url_mobile",
         "rawType": "object",
         "type": "string"
        },
        {
         "name": "title",
         "rawType": "object",
         "type": "string"
        },
        {
         "name": "seendate",
         "rawType": "object",
         "type": "string"
        },
        {
         "name": "socialimage",
         "rawType": "object",
         "type": "string"
        },
        {
         "name": "domain",
         "rawType": "object",
         "type": "string"
        },
        {
         "name": "language",
         "rawType": "object",
         "type": "string"
        },
        {
         "name": "sourcecountry",
         "rawType": "object",
         "type": "string"
        }
       ],
       "conversionMethod": "pd.DataFrame",
       "ref": "1c84b24e-cede-4ad1-95d8-dc7e90edf2f9",
       "rows": [
        [
         "0",
         "https://www.investopedia.com/news/amplifying-esg-definition/",
         "",
         "Amplifying The ESG Definition",
         "20180201T150000Z",
         "https://i.investopedia.com/image/jpeg/1513878737038/shutterstock_615350561_green_business.jpg",
         "investopedia.com",
         "English",
         "United States"
        ],
        [
         "1",
         "https://www.cnbc.com/advertorial/2017/12/18/investing-with-impact.html",
         "",
         "Investing with impact",
         "20180130T171500Z",
         "https://fm.cnbc.com/applications/cnbc.com/resources/img/editorial/2018/01/16/104948378-shutterstock_598275707-2600.1910x1000.jpg",
         "cnbc.com",
         "English",
         "United States"
        ],
        [
         "2",
         "http://www.4-traders.com/news/MISC-Berhad-Malaysia-International-Shipping-Continues-to-Maintain-its-Position-in-the-FTSE4Good-Bu--25852512/",
         "http://www.4-traders.com/amp/news/MISC-Berhad-Malaysia-International-Shipping-Continues-to-Maintain-its-Position-in-the-FTSE4Good-Bu--25852512/",
         "MISC Berhad Malaysia International Shipping",
         "20180123T044500Z",
         "",
         "4-traders.com",
         "English",
         "United States"
        ],
        [
         "3",
         "http://www.eco-business.com/press-releases/cdl-receives-global-recognition-for-gender-diversity-and-sustainability/",
         "",
         "CDL receives global recognition for gender diversity and sustainability | Press Releases | Asia",
         "20180124T043000Z",
         "http://www.eco-business.com/media/cache/31/8f/318f53957e51156bfbe671e473cb0aaa.png",
         "eco-business.com",
         "English",
         "China"
        ],
        [
         "4",
         "https://www.hardocp.com/news/2015/10/13/jeff_bezos_plummets_down_corporate_leader_rankings",
         "",
         " [ H ] ardOCP : Jeff Bezos Plummets Down Corporate Leader Rankings",
         "20180201T230000Z",
         "",
         "hardocp.com",
         "English",
         "United States"
        ],
        [
         "5",
         "http://www.4-traders.com/MISC-BHD-6491298/news/MISC-Bhd-Kuala-Lumpur-MISC-Berhad-Continues-to-Maintain-its-Position-in-the-FTSE4Good-Bursa-Mal-25863358/",
         "http://www.4-traders.com/amp/MISC-BHD-6491298/news/MISC-Bhd-Kuala-Lumpur-MISC-Berhad-Continues-to-Maintain-its-Position-in-the-FTSE4Good-Bursa-Mal-25863358/",
         "MISC Bhd : Kuala Lumpur - MISC Berhad Continues to Maintain its Position in the FTSE4Good ; Bursa Malaysia Index with Higher Ratings",
         "20180124T154500Z",
         "",
         "4-traders.com",
         "English",
         "United States"
        ],
        [
         "6",
         "https://www.ajot.com/news/misc-berhad-maintains-its-position-in-the-ftse4good-bursa-malaysia-index",
         "",
         "MISC Berhad maintains its position in the FTSE4Good Bursa Malaysia Index",
         "20180123T150000Z",
         "",
         "ajot.com",
         "English",
         "United States"
        ],
        [
         "7",
         "https://www.etftrends.com/how-etf-investors-can-tap-into-the-expanding-esg-investment-landscape/",
         "https://www.etftrends.com/how-etf-investors-can-tap-into-the-expanding-esg-investment-landscape/amp/",
         "How ETF Investors Can Tap Into the Expanding ESG Investment Landscape",
         "20180117T003000Z",
         "https://www.etftrends.com/wp-content/uploads/2018/01/How-ETF-Investors-Can-Tap-Into-the-Expanding-ESG-Investment-Landscape.jpg",
         "etftrends.com",
         "English",
         "United States"
        ],
        [
         "8",
         "http://www.hellenicshippingnews.com/misc-berhad-maintains-its-position-in-the-ftse4good-bursa-malaysia-index/",
         "",
         "MISC Berhad Maintains its Position in the FTSE4Good Bursa Malaysia Index",
         "20180123T194500Z",
         "",
         "hellenicshippingnews.com",
         "English",
         "China"
        ],
        [
         "9",
         "https://www.etftrends.com/smart-beta-channel/esg-bonds-a-compelling-combination/",
         "https://www.etftrends.com/smart-beta-channel/esg-bonds-a-compelling-combination/amp/",
         "ESG And Bonds : A Compelling Combination",
         "20180103T211500Z",
         "https://www.etftrends.com/wp-content/uploads/2018/01/ESG-Bonds-A-Compelling-Combination.jpg",
         "etftrends.com",
         "English",
         "United States"
        ],
        [
         "10",
         "https://www.maritime-executive.com/corporate/misc-berhad-maintains-position-in-ftse4good-bursa-malaysia-index",
         "",
         "MISC Berhad Maintains Position in FTSE4Good Bursa Malaysia Index",
         "20180124T010000Z",
         "",
         "maritime-executive.com",
         "English",
         "United States"
        ],
        [
         "11",
         "https://www.forbes.com/sites/alapshah/2018/01/23/blackrock-to-executives-serve-a-social-purpose-or-bust/",
         "https://www.forbes.com/sites/alapshah/2018/01/23/blackrock-to-executives-serve-a-social-purpose-or-bust/amp/",
         "BlackRock to Executives : Serve a Social Purpose , or Bust",
         "20180123T184500Z",
         "https://blogs-images.forbes.com/alapshah/files/2018/01/mentions-e1516729734586.jpg",
         "forbes.com",
         "English",
         "United States"
        ],
        [
         "12",
         "http://justmeans.com/press-release/announcing-djsi-how-insights-inspire-action",
         "",
         "Announcing : DJSI - How Insights Inspire Action",
         "20180201T203000Z",
         "",
         "justmeans.com",
         "English",
         "United States"
        ],
        [
         "13",
         "http://www.moneycontrol.com/news/trends/expert-columns-2/value-investing-esg-linked-investments-in-india-likely-to-touch-240-billion-in-10-years-2491829.html",
         "http://www.moneycontrol.com/news/trends/expert-columns-2/value-investing-esg-linked-investments-in-india-likely-to-touch-240-billion-in-10-years-2491829.html/amp",
         "Value Investing ! ESG linked investments in India likely to touch $240 billion in 10 years",
         "20180126T101500Z",
         "https://static-news.moneycontrol.com/static-mcnews/2017/04/shutterstock_102166600-770x433.jpg",
         "moneycontrol.com",
         "English",
         "India"
        ],
        [
         "14",
         "http://www.valuewalk.com/2018/01/search-month-corporate-social-responsibility/",
         "http://www.valuewalk.com/2018/01/search-month-corporate-social-responsibility/amp/",
         "Search Of The Month : Corporate Social Responsibility",
         "20180119T204500Z",
         "http://www.valuewalk.com/wp-content/uploads/2018/01/Corporate-Social-Responsibility.png",
         "valuewalk.com",
         "English",
         "United States"
        ],
        [
         "15",
         "https://www.investmentexecutive.com/newspaper_/building-your-business-newspaper/a-major-tipping-point-for-ri/",
         "",
         "A major tipping point for RI ? ",
         "20180129T231500Z",
         "",
         "investmentexecutive.com",
         "English",
         "Canada"
        ],
        [
         "16",
         "https://www.theedgemarkets.com/article/responsible-investing-asian-investors-should-not-dismiss-sustainable-investing",
         "",
         "Responsible Investing : Asian investors should not dismiss sustainable investing",
         "20180112T114500Z",
         "https://assets.theedgemarkets.com/Stock-Market_20180104162443_theedgemarkets.jpg?null",
         "theedgemarkets.com",
         "English",
         "Malaysia"
        ],
        [
         "17",
         "https://www.japantimes.co.jp/news/2018/01/01/business/investors-consider-nonfinancial-factors-decisions/",
         "",
         "More investors consider nonfinancial factors in decisions",
         "20180101T131500Z",
         "https://www.japantimes.co.jp/wp-content/uploads/2018/01/n-newyear-GPIF-a-20180101-870x1305.jpg",
         "japantimes.co.jp",
         "English",
         "Japan"
        ],
        [
         "18",
         "https://www.japantimes.co.jp/?post_type=news&p=1333125",
         "",
         "More investors consider nonfinancial factors in decisions",
         "20180101T153000Z",
         "https://www.japantimes.co.jp/wp-content/uploads/2018/01/n-newyear-GPIF-a-20180101-870x1305.jpg",
         "japantimes.co.jp",
         "English",
         "Japan"
        ],
        [
         "19",
         "http://www.smartbrief.com/s/2018/01/france-vows-not-increase-emissions-it-phases-out-nuclear",
         "",
         "France vows not to increase emissions as it phases out nuclear",
         "20180126T201500Z",
         "http://cdn.smartbrief.com/images/stories/m/wa/as/waaspex/france-energy-edf-nuclear-plant_w3878.jpg",
         "smartbrief.com",
         "English",
         "United States"
        ],
        [
         "20",
         "https://www.forbes.com/sites/nelldebevoise/2018/01/26/yes-larry-fink-is-talking-to-you-heres-what-to-do-about-it/",
         "https://www.forbes.com/sites/nelldebevoise/2018/01/26/yes-larry-fink-is-talking-to-you-heres-what-to-do-about-it/amp/",
         "Yes , Larry Fink Is Talking To You . Here What To Do About It . ",
         "20180126T183000Z",
         "https:///thumbnails/blog_5236/pt_5236_127_o.jpg?t=1516989783",
         "forbes.com",
         "English",
         "United States"
        ],
        [
         "21",
         "http://news.morningstar.com/articlenet/article.aspx?id=841448",
         "",
         "5 Big Things About Sustainable Investing in 2017",
         "20180102T163000Z",
         "",
         "news.morningstar.com",
         "English",
         "United States"
        ],
        [
         "22",
         "https://www.professionalpensions.com/professional-pensions/advertisement/3025678/applying-esg-analysis-to-sovereign-bonds",
         "",
         "Applying ESG Analysis to Sovereign Bonds",
         "20180131T160000Z",
         "",
         "professionalpensions.com",
         "English",
         "United Kingdom"
        ],
        [
         "23",
         "https://www.jdsupra.com/legalnews/corporation-is-not-a-four-letter-word-66582/",
         "",
         "  Corporation  is Not a Four - Letter Word",
         "20180130T211500Z",
         "https://www.jdsupra.com/showThumbnail.aspx?img=15759_3836.jpg&size=og",
         "jdsupra.com",
         "English",
         "United States"
        ],
        [
         "24",
         "https://www.etftrends.com/smart-beta-channel/invest-with-purpose-esg-smart-beta-etf",
         "https://www.etftrends.com/smart-beta-channel/invest-with-purpose-esg-smart-beta-etf/amp/",
         "Invest With a Purpose With This ETF",
         "20180109T194500Z",
         "https://www.etftrends.com/wp-content/uploads/2018/01/Invest-With-Purpose-With-ESG-Smart-Beta-ETF.jpg",
         "etftrends.com",
         "English",
         "United States"
        ],
        [
         "25",
         "http://en.acnnewswire.com/press-release/english/41063/bdo-awards-to-honor-outstanding-performers-in-esg-reporting",
         "",
         "Untitled",
         "20180125T221500Z",
         "",
         "en.acnnewswire.com",
         "English",
         "United States"
        ],
        [
         "26",
         "http://en.acnnewswire.com/press-release/english/41063/bdo-awards-outstanding-performers-in-esg-reporting,-sees-esg-gaining-solid-ground-in-core-business-considerations",
         "",
         "Untitled",
         "20180125T123000Z",
         "",
         "en.acnnewswire.com",
         "English",
         "United States"
        ],
        [
         "27",
         "https://newswire.net/newsroom/oped/00099628-op-ed-it-s-strictly-business.html",
         "",
         " [ OpEd ] It Strictly Business",
         "20180125T031500Z",
         "http://newswire.net/public/article/35/7a/03/larry-fink.jpg?c=9da8",
         "newswire.net",
         "English",
         "United States"
        ],
        [
         "28",
         "https://www.marketwatch.com/story/will-2018-be-the-year-investors-focus-on-climate-related-risk-2018-01-02",
         "https://www.marketwatch.com/amp/story/guid/5268212E-EFBD-11E7-A21A-4871E602F519",
         "Will 2018 be the year investors focus on climate",
         "20180102T203000Z",
         "http://s.marketwatch.com/public/resources/MWimages/MW-GA947_iceber_ZG_20180102101758.jpg",
         "marketwatch.com",
         "English",
         "United States"
        ],
        [
         "29",
         "http://www.superreview.com.au/news/superannuation/vision-super-reduces-portfolio%E2%80%99s-carbon-footprint",
         "",
         "Vision Super reduces portfolio carbon footprint",
         "20180116T053000Z",
         "http://www.superreview.com.au/sites/superreview.com.au/files/field/image/Environmental-Investment-300.jpg",
         "superreview.com.au",
         "English",
         "Australia"
        ],
        [
         "30",
         "https://www.greenbiz.com/article/state-green-business-2018",
         "",
         "The State of Green Business , 2018",
         "20180116T133000Z",
         "https://www.greenbiz.com/sites/default/files/styles/panopoly_image_full/public/images/articles/featured/earthleaf.jpg?itok=lJpoaU2V",
         "greenbiz.com",
         "English",
         "United States"
        ],
        [
         "31",
         "https://www.direktbroker.de/news/international-bdo-awards-outstanding-performers-in-esg-reporting-sees-esg-gaining-solid-ground-in-core-business-considerations-55933961",
         "",
         "BDO Awards Outstanding Performers in ESG Reporting , Sees ESG Gaining Solid Ground in Core Business Considerations",
         "20180125T094500Z",
         "",
         "direktbroker.de",
         "English",
         "Germany"
        ],
        [
         "32",
         "http://www.climateactionprogramme.org/news/new-sustainability-index-will-facilitate-sustainable-investment-in-europe",
         "",
         "New sustainability index will facilitate sustainable investment in Europe",
         "20180126T203000Z",
         "http://www.climateactionprogramme.org/images/uploads/articles/Deutsche.PNG",
         "climateactionprogramme.org",
         "English",
         "France"
        ],
        [
         "33",
         "http://www.scmp.com/business/companies/article/2127162/why-hong-kong-firms-need-do-better-environment-social-and",
         "http://m.scmp.com/business/companies/article/2127162/why-hong-kong-firms-need-do-better-environment-social-and?amp=1",
         "Why Hong Kong firms need to do better on environment , social and governance risks disclosure",
         "20180107T050000Z",
         "https://cdn3.i-scmp.com/sites/default/files/styles/620x356/public/images/methode/2018/01/07/78761906-f1f3-11e7-bd43-e13d2822bb61_image_hires_120906.JPG?itok=VRUgN8AK",
         "scmp.com",
         "English",
         "China"
        ],
        [
         "34",
         "https://www.triplepundit.com/podium/newmont-ranked-top-miner-fortunes-2018-list-worlds-admired-companies/",
         "",
         "Newmont Ranked as Top Miner in FORTUNE 2018 List of World Most Admired Companies",
         "20180125T174500Z",
         "https://www.triplepundit.com/wp-content/uploads/2012/07/Triple_Pundit-square.jpeg",
         "triplepundit.com",
         "English",
         "United States"
        ],
        [
         "35",
         "http://www.4-traders.com/ENEL-70935/news/Enel-for-the-tenth-time-in-ECPI-Sustainability-Indices-25856497/",
         "http://www.4-traders.com/amp/ENEL-70935/news/Enel-for-the-tenth-time-in-ECPI-Sustainability-Indices-25856497/",
         "Enel : for the tenth time in ECPI Sustainability Indices",
         "20180123T153000Z",
         "",
         "4-traders.com",
         "English",
         "United States"
        ],
        [
         "36",
         "https://www.etftrends.com/evolution-expansion-of-esg-investing/",
         "https://www.etftrends.com/evolution-expansion-of-esg-investing/amp/",
         "The Evolution and Expansion of ESG Investing",
         "20180116T171500Z",
         "https://www.etftrends.com/wp-content/uploads/2018/01/The-Evolution-and-Expansion-of-ESG-Investing.jpg",
         "etftrends.com",
         "English",
         "United States"
        ],
        [
         "37",
         "http://justmeans.com/newsletter/important-group-of-investor-esg-rankers-expands-to-a-significant-player-iss-traditional",
         "",
         "Important Group of Investor ESG Rankers Expands to a Significant Player - ISS - Traditional Governance Focus Expanding to Encompass E & S - ESG QualityScores for 1 , 500 Public Companies Coming in January … ( Sustainability Highlights I 01 . 10 . 201...",
         "20180119T184500Z",
         "",
         "justmeans.com",
         "English",
         "United States"
        ],
        [
         "38",
         "http://www.pionline.com/article/20170918/PRINT/170919886",
         "",
         "ESG factors a welcome addition to portfolio management",
         "20180111T174500Z",
         "http://www.pionline.com/storyimage/CO/20170918/PRINT/170919886/AR/0/AR-170919886.jpg",
         "pionline.com",
         "English",
         "United States"
        ],
        [
         "39",
         "http://justmeans.com/blog/cisco-named-one-of-the-global-100-most-sustainable-corporations-by-corporate-knights",
         "",
         "Cisco Named One of the Global 100 Most Sustainable Corporations by Corporate Knights",
         "20180123T183000Z",
         "",
         "justmeans.com",
         "English",
         "United States"
        ],
        [
         "40",
         "http://justmeans.com/newsletter/big-year-2018-tipping-points-for-developments-in-corporate-sustainability-sustainable",
         "",
         "Big Year , 2018 - Tipping Points for Developments in Corporate Sustainability & Sustainable Investing … ",
         "20180131T213000Z",
         "",
         "justmeans.com",
         "English",
         "United States"
        ],
        [
         "41",
         "https://www.marketwatch.com/story/this-etf-shows-how-you-can-pick-stocks-for-rapid-growth-while-doing-good-2018-01-24",
         "https://www.marketwatch.com/amp/story/guid/05F4A382-003C-11E8-8B37-5A39F2EFB447",
         "This ETF shows how you can pick stocks for rapid growth while doing good",
         "20180124T181500Z",
         "http://s.marketwatch.com/public/resources/MWimages/MW-GC275_MMM_20_ZG_20180123123931.jpg",
         "marketwatch.com",
         "English",
         "United States"
        ],
        [
         "42",
         "http://presstelegraph.com/as-nvidia-corp-nvda-market-value-rose-holder-myriad-asset-management-ltd-cut-by-15-13-million-its-stake/",
         "",
         "As Nvidia Corp ( NVDA ) Market Value Rose , Holder Myriad Asset Management LTD Cut by $15 . 13 Million Its Stake",
         "20180121T134500Z",
         "",
         "presstelegraph.com",
         "English",
         "United States"
        ],
        [
         "43",
         "http://www.4-traders.com/NVIDIA-CORPORATION-10282/news/NVIDIA-Announces-Upcoming-Events-for-Financial-Community-25899305/",
         "http://www.4-traders.com/amp/NVIDIA-CORPORATION-10282/news/NVIDIA-Announces-Upcoming-Events-for-Financial-Community-25899305/",
         "NVIDIA Announces Upcoming Events for Financial Community",
         "20180130T223000Z",
         "",
         "4-traders.com",
         "English",
         "United States"
        ],
        [
         "44",
         "http://www.finances.com/company-news/17827-hess-corporation-recognized-by-cdp-as-sp-500-leader-for-climate-change-transparency.htm",
         "",
         "Hess Corporation Recognized by CDP as S & P 500 Leader for Climate Change Transparency",
         "20180104T134500Z",
         "http://cts.businesswire.com/ct/CT?id=bwnews&sty=20140924005827r1&sid=52880&distro=ftp",
         "finances.com",
         "English",
         "United States"
        ],
        [
         "45",
         "https://www.whatsonthorold.com/2018/01/21/1-15-eps-expected-for-nvidia-nvda-usd-partners-lp-usdp-had-0-bullish-analysts/",
         "",
         "$1 . 15 EPS Expected for NVIDIA ( NVDA ); USD Partners LP ( USDP ) Had 0 Bullish Analysts",
         "20180121T153000Z",
         "https://www.whatsonthorold.com/wp-content/uploads/2018/01/NVDA-Chart-2.jpg",
         "whatsonthorold.com",
         "English",
         ""
        ],
        [
         "46",
         "https://www.investmentexecutive.com/inside-track_/dustyn-lanz/making-sense-of-the-debate-on-fossil-fuel-divestment/",
         "",
         "Making sense of the debate on fossil fuel divestment",
         "20180127T000000Z",
         "https://www.investmentexecutive.com/wp-content/uploads/sites/3/2018/01/800x600_Oil-well-with-the-pump-jack-in-action-Alberta_6750676.jpg",
         "investmentexecutive.com",
         "English",
         "Canada"
        ],
        [
         "47",
         "http://www.jcnnewswire.com/pressrelease/41063/2/BDO-Awards-Outstanding-Performers-in-ESG-Reporting,-Sees-ESG-Gaining-Solid-Ground-in-Core-Business-C",
         "",
         "BDO Awards Outstanding Performers in ESG Reporting , Sees ESG Gaining Solid Ground in Core Business Considerations",
         "20180125T110000Z",
         "",
         "jcnnewswire.com",
         "English",
         "Japan"
        ],
        [
         "48",
         "http://www.bizcommunity.com/Article/196/356/171964.html",
         "http://m.bizcommunity.com/Article/196/721/171964.html",
         " # BizTrends2018 : Sustainability reporting and performance",
         "20180110T064500Z",
         "http://c.biz-file.com/c/1801/424370.jpg?2",
         "bizcommunity.com",
         "English",
         "South Africa"
        ],
        [
         "49",
         "https://www.bna.com/bny-mellons-dubois-n73014474041/",
         "/bny-mellons-dubois-n73014474041/?amp=true",
         "BNY Mellon DuBois : Fostering Gender Equality Through Investing",
         "20180111T223000Z",
         "",
         "bna.com",
         "English",
         "United States"
        ]
       ],
       "shape": {
        "columns": 8,
        "rows": 200
       }
      },
      "text/html": [
       "<div>\n",
       "<style scoped>\n",
       "    .dataframe tbody tr th:only-of-type {\n",
       "        vertical-align: middle;\n",
       "    }\n",
       "\n",
       "    .dataframe tbody tr th {\n",
       "        vertical-align: top;\n",
       "    }\n",
       "\n",
       "    .dataframe thead th {\n",
       "        text-align: right;\n",
       "    }\n",
       "</style>\n",
       "<table border=\"1\" class=\"dataframe\">\n",
       "  <thead>\n",
       "    <tr style=\"text-align: right;\">\n",
       "      <th></th>\n",
       "      <th>url</th>\n",
       "      <th>url_mobile</th>\n",
       "      <th>title</th>\n",
       "      <th>seendate</th>\n",
       "      <th>socialimage</th>\n",
       "      <th>domain</th>\n",
       "      <th>language</th>\n",
       "      <th>sourcecountry</th>\n",
       "    </tr>\n",
       "  </thead>\n",
       "  <tbody>\n",
       "    <tr>\n",
       "      <th>0</th>\n",
       "      <td>https://www.investopedia.com/news/amplifying-e...</td>\n",
       "      <td></td>\n",
       "      <td>Amplifying The ESG Definition</td>\n",
       "      <td>20180201T150000Z</td>\n",
       "      <td>https://i.investopedia.com/image/jpeg/15138787...</td>\n",
       "      <td>investopedia.com</td>\n",
       "      <td>English</td>\n",
       "      <td>United States</td>\n",
       "    </tr>\n",
       "    <tr>\n",
       "      <th>1</th>\n",
       "      <td>https://www.cnbc.com/advertorial/2017/12/18/in...</td>\n",
       "      <td></td>\n",
       "      <td>Investing with impact</td>\n",
       "      <td>20180130T171500Z</td>\n",
       "      <td>https://fm.cnbc.com/applications/cnbc.com/reso...</td>\n",
       "      <td>cnbc.com</td>\n",
       "      <td>English</td>\n",
       "      <td>United States</td>\n",
       "    </tr>\n",
       "    <tr>\n",
       "      <th>2</th>\n",
       "      <td>http://www.4-traders.com/news/MISC-Berhad-Mala...</td>\n",
       "      <td>http://www.4-traders.com/amp/news/MISC-Berhad-...</td>\n",
       "      <td>MISC Berhad Malaysia International Shipping</td>\n",
       "      <td>20180123T044500Z</td>\n",
       "      <td></td>\n",
       "      <td>4-traders.com</td>\n",
       "      <td>English</td>\n",
       "      <td>United States</td>\n",
       "    </tr>\n",
       "    <tr>\n",
       "      <th>3</th>\n",
       "      <td>http://www.eco-business.com/press-releases/cdl...</td>\n",
       "      <td></td>\n",
       "      <td>CDL receives global recognition for gender div...</td>\n",
       "      <td>20180124T043000Z</td>\n",
       "      <td>http://www.eco-business.com/media/cache/31/8f/...</td>\n",
       "      <td>eco-business.com</td>\n",
       "      <td>English</td>\n",
       "      <td>China</td>\n",
       "    </tr>\n",
       "    <tr>\n",
       "      <th>4</th>\n",
       "      <td>https://www.hardocp.com/news/2015/10/13/jeff_b...</td>\n",
       "      <td></td>\n",
       "      <td>[ H ] ardOCP : Jeff Bezos Plummets Down Corpo...</td>\n",
       "      <td>20180201T230000Z</td>\n",
       "      <td></td>\n",
       "      <td>hardocp.com</td>\n",
       "      <td>English</td>\n",
       "      <td>United States</td>\n",
       "    </tr>\n",
       "    <tr>\n",
       "      <th>...</th>\n",
       "      <td>...</td>\n",
       "      <td>...</td>\n",
       "      <td>...</td>\n",
       "      <td>...</td>\n",
       "      <td>...</td>\n",
       "      <td>...</td>\n",
       "      <td>...</td>\n",
       "      <td>...</td>\n",
       "    </tr>\n",
       "    <tr>\n",
       "      <th>195</th>\n",
       "      <td>http://www.4-traders.com/DEUTSCHE-BANK-435694/...</td>\n",
       "      <td>http://www.4-traders.com/amp/DEUTSCHE-BANK-435...</td>\n",
       "      <td>Deutsche Bank : Launch of new sustainability i...</td>\n",
       "      <td>20180125T093000Z</td>\n",
       "      <td></td>\n",
       "      <td>4-traders.com</td>\n",
       "      <td>English</td>\n",
       "      <td>United States</td>\n",
       "    </tr>\n",
       "    <tr>\n",
       "      <th>196</th>\n",
       "      <td>http://www.canberratimes.com.au/business/marke...</td>\n",
       "      <td>https://amp.canberratimes.com.au/business/mark...</td>\n",
       "      <td>World top money manager tells CEOs : Profits a...</td>\n",
       "      <td>20180117T020000Z</td>\n",
       "      <td>http://www.canberratimes.com.au/content/dam/im...</td>\n",
       "      <td>canberratimes.com.au</td>\n",
       "      <td>English</td>\n",
       "      <td>Australia</td>\n",
       "    </tr>\n",
       "    <tr>\n",
       "      <th>197</th>\n",
       "      <td>http://www.smh.com.au/business/markets/worlds-...</td>\n",
       "      <td>https://amp.smh.com.au/business/markets/worlds...</td>\n",
       "      <td>World top money manager tells CEOs : Profits a...</td>\n",
       "      <td>20180116T234500Z</td>\n",
       "      <td>http://www.smh.com.au/content/dam/images/g/u/8...</td>\n",
       "      <td>smh.com.au</td>\n",
       "      <td>English</td>\n",
       "      <td>Australia</td>\n",
       "    </tr>\n",
       "    <tr>\n",
       "      <th>198</th>\n",
       "      <td>http://www.watoday.com.au/business/markets/wor...</td>\n",
       "      <td>https://amp.watoday.com.au/business/markets/wo...</td>\n",
       "      <td>World top money manager tells CEOs : Profits a...</td>\n",
       "      <td>20180117T014500Z</td>\n",
       "      <td>http://www.watoday.com.au/content/dam/images/g...</td>\n",
       "      <td>watoday.com.au</td>\n",
       "      <td>English</td>\n",
       "      <td>Australia</td>\n",
       "    </tr>\n",
       "    <tr>\n",
       "      <th>199</th>\n",
       "      <td>http://www.theage.com.au/business/markets/worl...</td>\n",
       "      <td>https://amp.theage.com.au/business/markets/wor...</td>\n",
       "      <td>World top money manager tells CEOs : Profits a...</td>\n",
       "      <td>20180117T011500Z</td>\n",
       "      <td>http://www.theage.com.au/content/dam/images/g/...</td>\n",
       "      <td>theage.com.au</td>\n",
       "      <td>English</td>\n",
       "      <td>Australia</td>\n",
       "    </tr>\n",
       "  </tbody>\n",
       "</table>\n",
       "<p>200 rows × 8 columns</p>\n",
       "</div>"
      ],
      "text/plain": [
       "                                                   url  \\\n",
       "0    https://www.investopedia.com/news/amplifying-e...   \n",
       "1    https://www.cnbc.com/advertorial/2017/12/18/in...   \n",
       "2    http://www.4-traders.com/news/MISC-Berhad-Mala...   \n",
       "3    http://www.eco-business.com/press-releases/cdl...   \n",
       "4    https://www.hardocp.com/news/2015/10/13/jeff_b...   \n",
       "..                                                 ...   \n",
       "195  http://www.4-traders.com/DEUTSCHE-BANK-435694/...   \n",
       "196  http://www.canberratimes.com.au/business/marke...   \n",
       "197  http://www.smh.com.au/business/markets/worlds-...   \n",
       "198  http://www.watoday.com.au/business/markets/wor...   \n",
       "199  http://www.theage.com.au/business/markets/worl...   \n",
       "\n",
       "                                            url_mobile  \\\n",
       "0                                                        \n",
       "1                                                        \n",
       "2    http://www.4-traders.com/amp/news/MISC-Berhad-...   \n",
       "3                                                        \n",
       "4                                                        \n",
       "..                                                 ...   \n",
       "195  http://www.4-traders.com/amp/DEUTSCHE-BANK-435...   \n",
       "196  https://amp.canberratimes.com.au/business/mark...   \n",
       "197  https://amp.smh.com.au/business/markets/worlds...   \n",
       "198  https://amp.watoday.com.au/business/markets/wo...   \n",
       "199  https://amp.theage.com.au/business/markets/wor...   \n",
       "\n",
       "                                                 title          seendate  \\\n",
       "0                        Amplifying The ESG Definition  20180201T150000Z   \n",
       "1                                Investing with impact  20180130T171500Z   \n",
       "2          MISC Berhad Malaysia International Shipping  20180123T044500Z   \n",
       "3    CDL receives global recognition for gender div...  20180124T043000Z   \n",
       "4     [ H ] ardOCP : Jeff Bezos Plummets Down Corpo...  20180201T230000Z   \n",
       "..                                                 ...               ...   \n",
       "195  Deutsche Bank : Launch of new sustainability i...  20180125T093000Z   \n",
       "196  World top money manager tells CEOs : Profits a...  20180117T020000Z   \n",
       "197  World top money manager tells CEOs : Profits a...  20180116T234500Z   \n",
       "198  World top money manager tells CEOs : Profits a...  20180117T014500Z   \n",
       "199  World top money manager tells CEOs : Profits a...  20180117T011500Z   \n",
       "\n",
       "                                           socialimage                domain  \\\n",
       "0    https://i.investopedia.com/image/jpeg/15138787...      investopedia.com   \n",
       "1    https://fm.cnbc.com/applications/cnbc.com/reso...              cnbc.com   \n",
       "2                                                              4-traders.com   \n",
       "3    http://www.eco-business.com/media/cache/31/8f/...      eco-business.com   \n",
       "4                                                                hardocp.com   \n",
       "..                                                 ...                   ...   \n",
       "195                                                            4-traders.com   \n",
       "196  http://www.canberratimes.com.au/content/dam/im...  canberratimes.com.au   \n",
       "197  http://www.smh.com.au/content/dam/images/g/u/8...            smh.com.au   \n",
       "198  http://www.watoday.com.au/content/dam/images/g...        watoday.com.au   \n",
       "199  http://www.theage.com.au/content/dam/images/g/...         theage.com.au   \n",
       "\n",
       "    language  sourcecountry  \n",
       "0    English  United States  \n",
       "1    English  United States  \n",
       "2    English  United States  \n",
       "3    English          China  \n",
       "4    English  United States  \n",
       "..       ...            ...  \n",
       "195  English  United States  \n",
       "196  English      Australia  \n",
       "197  English      Australia  \n",
       "198  English      Australia  \n",
       "199  English      Australia  \n",
       "\n",
       "[200 rows x 8 columns]"
      ]
     },
     "execution_count": 57,
     "metadata": {},
     "output_type": "execute_result"
    }
   ],
   "source": [
    "pd.DataFrame(response.json()['articles'])"
   ]
  },
  {
   "cell_type": "markdown",
   "metadata": {},
   "source": [
    "Writing methods to automate the article fetcher"
   ]
  },
  {
   "cell_type": "code",
   "execution_count": 18,
   "metadata": {},
   "outputs": [],
   "source": [
    "Filter = Union[List[str], str]"
   ]
  },
  {
   "cell_type": "code",
   "execution_count": 19,
   "metadata": {},
   "outputs": [
    {
     "data": {
      "text/plain": [
       "'(company'"
      ]
     },
     "execution_count": 19,
     "metadata": {},
     "output_type": "execute_result"
    }
   ],
   "source": [
    "foo = \"(\" \n",
    "foo += \"company\"\n",
    "foo"
   ]
  },
  {
   "cell_type": "code",
   "execution_count": 40,
   "metadata": {},
   "outputs": [],
   "source": [
    "def query_maker(companies: Filter, keywords: Filter):\n",
    "    query_string = \"(\"\n",
    "\n",
    "    # process companies\n",
    "    if type(companies) == str:\n",
    "        query_string += companies\n",
    "    else:\n",
    "        query_string = query_string + \" AND \".join([company for company in companies])\n",
    "\n",
    "    # process keywords\n",
    "    if type(keywords) == str:\n",
    "        query_string += f\" AND {keywords}\"\n",
    "    else:\n",
    "        query_string = query_string + \" AND \" + \" OR \".join([keyword for keyword in keywords])\n",
    "\n",
    "    query_string += \") \"\n",
    "    \n",
    "    return query_string"
   ]
  },
  {
   "cell_type": "code",
   "execution_count": 48,
   "metadata": {},
   "outputs": [],
   "source": [
    "companies = [\"NVIDIA\", \"NVIDIA Corporation\"]\n",
    "keywords = [\"environment\", \"social\", \"governance\", \"sustainability\", \"ESG rating\", \"ESG\", \"climate change\", \"diversity\", \"emissions\", \"resource use\", \"corporate social responsibility\"]"
   ]
  },
  {
   "cell_type": "code",
   "execution_count": 49,
   "metadata": {},
   "outputs": [
    {
     "data": {
      "text/plain": [
       "'(NVIDIA AND NVIDIA Corporation AND environment OR social OR governance OR sustainability OR ESG rating OR ESG OR climate change OR diversity OR emissions OR resource use OR corporate social responsibility) '"
      ]
     },
     "execution_count": 49,
     "metadata": {},
     "output_type": "execute_result"
    }
   ],
   "source": [
    "query_maker(companies, keywords)"
   ]
  },
  {
   "cell_type": "code",
   "execution_count": 59,
   "metadata": {},
   "outputs": [],
   "source": [
    "def query(query_string, mode, headers):\n",
    "    \n",
    "    response = requests.get(\n",
    "            f\"https://api.gdeltproject.org/api/v2/doc/doc?query={query_string}&mode={mode}&format=json&maxrecords=200&startdatetime=20180101000000&enddatetime=20180131235959\",\n",
    "            headers=headers\n",
    "        )\n",
    "    \n",
    "    data = pd.DataFrame(response.json(strict=False)['articles'])\n",
    "    return data\n",
    "    # return response"
   ]
  },
  {
   "cell_type": "code",
   "execution_count": 60,
   "metadata": {},
   "outputs": [],
   "source": [
    "query_string = query_maker(companies, keywords)\n",
    "res = query(query_string, mode, headers)"
   ]
  },
  {
   "cell_type": "code",
   "execution_count": 62,
   "metadata": {},
   "outputs": [
    {
     "data": {
      "text/plain": [
       "(200, 8)"
      ]
     },
     "execution_count": 62,
     "metadata": {},
     "output_type": "execute_result"
    }
   ],
   "source": [
    "res.shape"
   ]
  },
  {
   "cell_type": "code",
   "execution_count": 53,
   "metadata": {},
   "outputs": [
    {
     "data": {
      "text/plain": [
       "'(NVIDIA AND NVIDIA Corporation AND environment OR social OR governance OR sustainability OR ESG rating OR ESG OR climate change OR diversity OR emissions OR resource use OR corporate social responsibility) '"
      ]
     },
     "execution_count": 53,
     "metadata": {},
     "output_type": "execute_result"
    }
   ],
   "source": [
    "query_string"
   ]
  },
  {
   "cell_type": "code",
   "execution_count": 54,
   "metadata": {},
   "outputs": [
    {
     "data": {
      "text/plain": [
       "'(NVIDIA OR NVIDIA Corporation AND environment OR social OR governance OR sustainability OR ESG rating OR climate change OR diversity OR emissions OR resource use OR corporate social responsibility) '"
      ]
     },
     "execution_count": 54,
     "metadata": {},
     "output_type": "execute_result"
    }
   ],
   "source": [
    "\"(NVIDIA OR NVIDIA Corporation AND environment OR social OR governance OR sustainability OR ESG rating OR climate change OR diversity OR emissions OR resource use OR corporate social responsibility) \""
   ]
  },
  {
   "cell_type": "code",
   "execution_count": null,
   "metadata": {},
   "outputs": [],
   "source": []
  }
 ],
 "metadata": {
  "kernelspec": {
   "display_name": "esg_pred",
   "language": "python",
   "name": "python3"
  },
  "language_info": {
   "codemirror_mode": {
    "name": "ipython",
    "version": 3
   },
   "file_extension": ".py",
   "mimetype": "text/x-python",
   "name": "python",
   "nbconvert_exporter": "python",
   "pygments_lexer": "ipython3",
   "version": "3.11.11"
  }
 },
 "nbformat": 4,
 "nbformat_minor": 2
}
