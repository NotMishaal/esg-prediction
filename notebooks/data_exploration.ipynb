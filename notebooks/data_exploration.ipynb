{
 "cells": [
  {
   "cell_type": "code",
   "execution_count": 1,
   "metadata": {},
   "outputs": [],
   "source": [
    "import numpy as np\n",
    "import pandas as pd\n",
    "import matplotlib.pyplot as plt\n",
    "import seaborn as sns"
   ]
  },
  {
   "cell_type": "code",
   "execution_count": 2,
   "metadata": {},
   "outputs": [
    {
     "data": {
      "text/plain": [
       "<Figure size 640x480 with 0 Axes>"
      ]
     },
     "metadata": {},
     "output_type": "display_data"
    }
   ],
   "source": [
    "sns.set_style(\"dark\")\n",
    "sns.set_palette(\"GnBu_d\")\n",
    "sns.despine()"
   ]
  },
  {
   "cell_type": "code",
   "execution_count": 3,
   "metadata": {},
   "outputs": [
    {
     "data": {
      "application/vnd.microsoft.datawrangler.viewer.v0+json": {
       "columns": [
        {
         "name": "index",
         "rawType": "int64",
         "type": "integer"
        },
        {
         "name": "Ticker",
         "rawType": "object",
         "type": "string"
        },
        {
         "name": "Date",
         "rawType": "object",
         "type": "string"
        },
        {
         "name": "totalEsg",
         "rawType": "float64",
         "type": "float"
        },
        {
         "name": "Tax Effect Of Unusual Items",
         "rawType": "float64",
         "type": "float"
        },
        {
         "name": "Tax Rate For Calcs",
         "rawType": "float64",
         "type": "float"
        },
        {
         "name": "Normalized EBITDA",
         "rawType": "float64",
         "type": "float"
        },
        {
         "name": "Net Income From Continuing Operation Net Minority Interest",
         "rawType": "float64",
         "type": "float"
        },
        {
         "name": "Reconciled Depreciation",
         "rawType": "float64",
         "type": "float"
        },
        {
         "name": "Reconciled Cost Of Revenue",
         "rawType": "float64",
         "type": "float"
        },
        {
         "name": "EBITDA",
         "rawType": "float64",
         "type": "float"
        },
        {
         "name": "EBIT",
         "rawType": "float64",
         "type": "float"
        },
        {
         "name": "Net Interest Income",
         "rawType": "float64",
         "type": "float"
        },
        {
         "name": "Interest Expense",
         "rawType": "float64",
         "type": "float"
        },
        {
         "name": "Normalized Income",
         "rawType": "float64",
         "type": "float"
        },
        {
         "name": "Net Income From Continuing And Discontinued Operation",
         "rawType": "float64",
         "type": "float"
        },
        {
         "name": "Total Expenses",
         "rawType": "float64",
         "type": "float"
        },
        {
         "name": "Diluted Average Shares",
         "rawType": "float64",
         "type": "float"
        },
        {
         "name": "Basic Average Shares",
         "rawType": "float64",
         "type": "float"
        },
        {
         "name": "Diluted EPS",
         "rawType": "float64",
         "type": "float"
        },
        {
         "name": "Basic EPS",
         "rawType": "float64",
         "type": "float"
        },
        {
         "name": "Diluted NI Availto Com Stockholders",
         "rawType": "float64",
         "type": "float"
        },
        {
         "name": "Net Income Common Stockholders",
         "rawType": "float64",
         "type": "float"
        },
        {
         "name": "Net Income",
         "rawType": "float64",
         "type": "float"
        },
        {
         "name": "Minority Interests",
         "rawType": "float64",
         "type": "float"
        },
        {
         "name": "Net Income Including Noncontrolling Interests",
         "rawType": "float64",
         "type": "float"
        },
        {
         "name": "Net Income Continuous Operations",
         "rawType": "float64",
         "type": "float"
        },
        {
         "name": "Tax Provision",
         "rawType": "float64",
         "type": "float"
        },
        {
         "name": "Pretax Income",
         "rawType": "float64",
         "type": "float"
        },
        {
         "name": "Other Income Expense",
         "rawType": "float64",
         "type": "float"
        },
        {
         "name": "Other Non Operating Income Expenses",
         "rawType": "float64",
         "type": "float"
        },
        {
         "name": "Earnings From Equity Interest",
         "rawType": "float64",
         "type": "float"
        },
        {
         "name": "Net Non Operating Interest Income Expense",
         "rawType": "float64",
         "type": "float"
        },
        {
         "name": "Interest Expense Non Operating",
         "rawType": "float64",
         "type": "float"
        },
        {
         "name": "Operating Income",
         "rawType": "float64",
         "type": "float"
        },
        {
         "name": "Operating Expense",
         "rawType": "float64",
         "type": "float"
        },
        {
         "name": "Other Operating Expenses",
         "rawType": "float64",
         "type": "float"
        },
        {
         "name": "Other Taxes",
         "rawType": "float64",
         "type": "float"
        },
        {
         "name": "Selling General And Administration",
         "rawType": "float64",
         "type": "float"
        },
        {
         "name": "General And Administrative Expense",
         "rawType": "float64",
         "type": "float"
        },
        {
         "name": "Other Gand A",
         "rawType": "float64",
         "type": "float"
        },
        {
         "name": "Salaries And Wages",
         "rawType": "float64",
         "type": "float"
        },
        {
         "name": "Gross Profit",
         "rawType": "float64",
         "type": "float"
        },
        {
         "name": "Cost Of Revenue",
         "rawType": "float64",
         "type": "float"
        },
        {
         "name": "Total Revenue",
         "rawType": "float64",
         "type": "float"
        },
        {
         "name": "Operating Revenue",
         "rawType": "float64",
         "type": "float"
        },
        {
         "name": "Treasury Shares Number",
         "rawType": "float64",
         "type": "float"
        },
        {
         "name": "Ordinary Shares Number",
         "rawType": "float64",
         "type": "float"
        },
        {
         "name": "Share Issued",
         "rawType": "float64",
         "type": "float"
        },
        {
         "name": "Net Debt",
         "rawType": "float64",
         "type": "float"
        },
        {
         "name": "Total Debt",
         "rawType": "float64",
         "type": "float"
        },
        {
         "name": "Tangible Book Value",
         "rawType": "float64",
         "type": "float"
        },
        {
         "name": "Invested Capital",
         "rawType": "float64",
         "type": "float"
        },
        {
         "name": "Working Capital",
         "rawType": "float64",
         "type": "float"
        },
        {
         "name": "Net Tangible Assets",
         "rawType": "float64",
         "type": "float"
        },
        {
         "name": "Capital Lease Obligations",
         "rawType": "float64",
         "type": "float"
        },
        {
         "name": "Common Stock Equity",
         "rawType": "float64",
         "type": "float"
        },
        {
         "name": "Total Capitalization",
         "rawType": "float64",
         "type": "float"
        },
        {
         "name": "Total Equity Gross Minority Interest",
         "rawType": "float64",
         "type": "float"
        },
        {
         "name": "Minority Interest",
         "rawType": "float64",
         "type": "float"
        },
        {
         "name": "Stockholders Equity",
         "rawType": "float64",
         "type": "float"
        },
        {
         "name": "Gains Losses Not Affecting Retained Earnings",
         "rawType": "float64",
         "type": "float"
        },
        {
         "name": "Other Equity Adjustments",
         "rawType": "float64",
         "type": "float"
        },
        {
         "name": "Treasury Stock",
         "rawType": "float64",
         "type": "float"
        },
        {
         "name": "Retained Earnings",
         "rawType": "float64",
         "type": "float"
        },
        {
         "name": "Capital Stock",
         "rawType": "float64",
         "type": "float"
        },
        {
         "name": "Common Stock",
         "rawType": "float64",
         "type": "float"
        },
        {
         "name": "Total Liabilities Net Minority Interest",
         "rawType": "float64",
         "type": "float"
        },
        {
         "name": "Total Non Current Liabilities Net Minority Interest",
         "rawType": "float64",
         "type": "float"
        },
        {
         "name": "Other Non Current Liabilities",
         "rawType": "float64",
         "type": "float"
        },
        {
         "name": "Employee Benefits",
         "rawType": "float64",
         "type": "float"
        },
        {
         "name": "Non Current Pension And Other Postretirement Benefit Plans",
         "rawType": "float64",
         "type": "float"
        },
        {
         "name": "Dueto Related Parties Non Current",
         "rawType": "float64",
         "type": "float"
        },
        {
         "name": "Tradeand Other Payables Non Current",
         "rawType": "float64",
         "type": "float"
        },
        {
         "name": "Non Current Deferred Liabilities",
         "rawType": "float64",
         "type": "float"
        },
        {
         "name": "Non Current Deferred Taxes Liabilities",
         "rawType": "float64",
         "type": "float"
        },
        {
         "name": "Long Term Debt And Capital Lease Obligation",
         "rawType": "float64",
         "type": "float"
        },
        {
         "name": "Long Term Capital Lease Obligation",
         "rawType": "float64",
         "type": "float"
        },
        {
         "name": "Long Term Debt",
         "rawType": "float64",
         "type": "float"
        },
        {
         "name": "Current Liabilities",
         "rawType": "float64",
         "type": "float"
        },
        {
         "name": "Current Debt And Capital Lease Obligation",
         "rawType": "float64",
         "type": "float"
        },
        {
         "name": "Current Debt",
         "rawType": "float64",
         "type": "float"
        },
        {
         "name": "Other Current Borrowings",
         "rawType": "float64",
         "type": "float"
        },
        {
         "name": "Line Of Credit",
         "rawType": "float64",
         "type": "float"
        },
        {
         "name": "Commercial Paper",
         "rawType": "float64",
         "type": "float"
        },
        {
         "name": "Payables And Accrued Expenses",
         "rawType": "float64",
         "type": "float"
        },
        {
         "name": "Payables",
         "rawType": "float64",
         "type": "float"
        },
        {
         "name": "Other Payable",
         "rawType": "float64",
         "type": "float"
        },
        {
         "name": "Dueto Related Parties Current",
         "rawType": "float64",
         "type": "float"
        },
        {
         "name": "Total Tax Payable",
         "rawType": "float64",
         "type": "float"
        },
        {
         "name": "Income Tax Payable",
         "rawType": "float64",
         "type": "float"
        },
        {
         "name": "Accounts Payable",
         "rawType": "float64",
         "type": "float"
        },
        {
         "name": "Total Assets",
         "rawType": "float64",
         "type": "float"
        },
        {
         "name": "Total Non Current Assets",
         "rawType": "float64",
         "type": "float"
        },
        {
         "name": "Other Non Current Assets",
         "rawType": "float64",
         "type": "float"
        },
        {
         "name": "Non Current Prepaid Assets",
         "rawType": "float64",
         "type": "float"
        },
        {
         "name": "Non Current Accounts Receivable",
         "rawType": "float64",
         "type": "float"
        },
        {
         "name": "Investments And Advances",
         "rawType": "float64",
         "type": "float"
        },
        {
         "name": "Investmentin Financial Assets",
         "rawType": "float64",
         "type": "float"
        },
        {
         "name": "Available For Sale Securities",
         "rawType": "float64",
         "type": "float"
        },
        {
         "name": "Long Term Equity Investment",
         "rawType": "float64",
         "type": "float"
        },
        {
         "name": "Net PPE",
         "rawType": "float64",
         "type": "float"
        },
        {
         "name": "Accumulated Depreciation",
         "rawType": "float64",
         "type": "float"
        },
        {
         "name": "Gross PPE",
         "rawType": "float64",
         "type": "float"
        },
        {
         "name": "Other Properties",
         "rawType": "float64",
         "type": "float"
        },
        {
         "name": "Current Assets",
         "rawType": "float64",
         "type": "float"
        },
        {
         "name": "Other Current Assets",
         "rawType": "float64",
         "type": "float"
        },
        {
         "name": "Restricted Cash",
         "rawType": "float64",
         "type": "float"
        },
        {
         "name": "Inventory",
         "rawType": "float64",
         "type": "float"
        },
        {
         "name": "Finished Goods",
         "rawType": "float64",
         "type": "float"
        },
        {
         "name": "Raw Materials",
         "rawType": "float64",
         "type": "float"
        },
        {
         "name": "Receivables",
         "rawType": "float64",
         "type": "float"
        },
        {
         "name": "Other Receivables",
         "rawType": "float64",
         "type": "float"
        },
        {
         "name": "Accounts Receivable",
         "rawType": "float64",
         "type": "float"
        },
        {
         "name": "Allowance For Doubtful Accounts Receivable",
         "rawType": "float64",
         "type": "float"
        },
        {
         "name": "Gross Accounts Receivable",
         "rawType": "float64",
         "type": "float"
        },
        {
         "name": "Cash Cash Equivalents And Short Term Investments",
         "rawType": "float64",
         "type": "float"
        },
        {
         "name": "Cash And Cash Equivalents",
         "rawType": "float64",
         "type": "float"
        },
        {
         "name": "Free Cash Flow",
         "rawType": "float64",
         "type": "float"
        },
        {
         "name": "Repurchase Of Capital Stock",
         "rawType": "float64",
         "type": "float"
        },
        {
         "name": "Repayment Of Debt",
         "rawType": "float64",
         "type": "float"
        },
        {
         "name": "Issuance Of Debt",
         "rawType": "float64",
         "type": "float"
        },
        {
         "name": "Capital Expenditure",
         "rawType": "float64",
         "type": "float"
        },
        {
         "name": "End Cash Position",
         "rawType": "float64",
         "type": "float"
        },
        {
         "name": "Beginning Cash Position",
         "rawType": "float64",
         "type": "float"
        },
        {
         "name": "Effect Of Exchange Rate Changes",
         "rawType": "float64",
         "type": "float"
        },
        {
         "name": "Changes In Cash",
         "rawType": "float64",
         "type": "float"
        },
        {
         "name": "Financing Cash Flow",
         "rawType": "float64",
         "type": "float"
        },
        {
         "name": "Cash Flow From Continuing Financing Activities",
         "rawType": "float64",
         "type": "float"
        },
        {
         "name": "Net Other Financing Charges",
         "rawType": "float64",
         "type": "float"
        },
        {
         "name": "Cash Dividends Paid",
         "rawType": "float64",
         "type": "float"
        },
        {
         "name": "Common Stock Dividend Paid",
         "rawType": "float64",
         "type": "float"
        },
        {
         "name": "Net Common Stock Issuance",
         "rawType": "float64",
         "type": "float"
        },
        {
         "name": "Common Stock Payments",
         "rawType": "float64",
         "type": "float"
        },
        {
         "name": "Net Issuance Payments Of Debt",
         "rawType": "float64",
         "type": "float"
        },
        {
         "name": "Net Short Term Debt Issuance",
         "rawType": "float64",
         "type": "float"
        },
        {
         "name": "Short Term Debt Payments",
         "rawType": "float64",
         "type": "float"
        },
        {
         "name": "Short Term Debt Issuance",
         "rawType": "float64",
         "type": "float"
        },
        {
         "name": "Net Long Term Debt Issuance",
         "rawType": "float64",
         "type": "float"
        },
        {
         "name": "Long Term Debt Payments",
         "rawType": "float64",
         "type": "float"
        },
        {
         "name": "Long Term Debt Issuance",
         "rawType": "float64",
         "type": "float"
        },
        {
         "name": "Investing Cash Flow",
         "rawType": "float64",
         "type": "float"
        },
        {
         "name": "Cash Flow From Continuing Investing Activities",
         "rawType": "float64",
         "type": "float"
        },
        {
         "name": "Net Other Investing Changes",
         "rawType": "float64",
         "type": "float"
        },
        {
         "name": "Net Investment Purchase And Sale",
         "rawType": "float64",
         "type": "float"
        },
        {
         "name": "Purchase Of Investment",
         "rawType": "float64",
         "type": "float"
        },
        {
         "name": "Net Business Purchase And Sale",
         "rawType": "float64",
         "type": "float"
        },
        {
         "name": "Sale Of Business",
         "rawType": "float64",
         "type": "float"
        },
        {
         "name": "Net PPE Purchase And Sale",
         "rawType": "float64",
         "type": "float"
        },
        {
         "name": "Purchase Of PPE",
         "rawType": "float64",
         "type": "float"
        },
        {
         "name": "Operating Cash Flow",
         "rawType": "float64",
         "type": "float"
        },
        {
         "name": "Cash Flow From Continuing Operating Activities",
         "rawType": "float64",
         "type": "float"
        },
        {
         "name": "Dividend Received Cfo",
         "rawType": "float64",
         "type": "float"
        },
        {
         "name": "Dividend Paid Cfo",
         "rawType": "float64",
         "type": "float"
        },
        {
         "name": "Change In Working Capital",
         "rawType": "float64",
         "type": "float"
        },
        {
         "name": "Change In Other Current Assets",
         "rawType": "float64",
         "type": "float"
        },
        {
         "name": "Change In Payables And Accrued Expense",
         "rawType": "float64",
         "type": "float"
        },
        {
         "name": "Change In Payable",
         "rawType": "float64",
         "type": "float"
        },
        {
         "name": "Change In Inventory",
         "rawType": "float64",
         "type": "float"
        },
        {
         "name": "Change In Receivables",
         "rawType": "float64",
         "type": "float"
        },
        {
         "name": "Other Non Cash Items",
         "rawType": "float64",
         "type": "float"
        },
        {
         "name": "Provisionand Write Offof Assets",
         "rawType": "float64",
         "type": "float"
        },
        {
         "name": "Deferred Tax",
         "rawType": "float64",
         "type": "float"
        },
        {
         "name": "Deferred Income Tax",
         "rawType": "float64",
         "type": "float"
        },
        {
         "name": "Depreciation Amortization Depletion",
         "rawType": "float64",
         "type": "float"
        },
        {
         "name": "Operating Gains Losses",
         "rawType": "float64",
         "type": "float"
        },
        {
         "name": "Pension And Employee Benefit Expense",
         "rawType": "float64",
         "type": "float"
        },
        {
         "name": "Net Income From Continuing Operations",
         "rawType": "float64",
         "type": "float"
        },
        {
         "name": "Total Unusual Items",
         "rawType": "float64",
         "type": "float"
        },
        {
         "name": "Total Unusual Items Excluding Goodwill",
         "rawType": "float64",
         "type": "float"
        },
        {
         "name": "Interest Income",
         "rawType": "float64",
         "type": "float"
        },
        {
         "name": "Otherunder Preferred Stock Dividend",
         "rawType": "float64",
         "type": "float"
        },
        {
         "name": "Preferred Stock Dividends",
         "rawType": "float64",
         "type": "float"
        },
        {
         "name": "Special Income Charges",
         "rawType": "float64",
         "type": "float"
        },
        {
         "name": "Other Special Charges",
         "rawType": "float64",
         "type": "float"
        },
        {
         "name": "Impairment Of Capital Assets",
         "rawType": "float64",
         "type": "float"
        },
        {
         "name": "Total Other Finance Cost",
         "rawType": "float64",
         "type": "float"
        },
        {
         "name": "Interest Income Non Operating",
         "rawType": "float64",
         "type": "float"
        },
        {
         "name": "Selling And Marketing Expense",
         "rawType": "float64",
         "type": "float"
        },
        {
         "name": "Preferred Shares Number",
         "rawType": "float64",
         "type": "float"
        },
        {
         "name": "Preferred Stock Equity",
         "rawType": "float64",
         "type": "float"
        },
        {
         "name": "Additional Paid In Capital",
         "rawType": "float64",
         "type": "float"
        },
        {
         "name": "Preferred Stock",
         "rawType": "float64",
         "type": "float"
        },
        {
         "name": "Derivative Product Liabilities",
         "rawType": "float64",
         "type": "float"
        },
        {
         "name": "Non Current Accrued Expenses",
         "rawType": "float64",
         "type": "float"
        },
        {
         "name": "Long Term Provisions",
         "rawType": "float64",
         "type": "float"
        },
        {
         "name": "Current Capital Lease Obligation",
         "rawType": "float64",
         "type": "float"
        },
        {
         "name": "Current Provisions",
         "rawType": "float64",
         "type": "float"
        },
        {
         "name": "Defined Pension Benefit",
         "rawType": "float64",
         "type": "float"
        },
        {
         "name": "Non Current Deferred Taxes Assets",
         "rawType": "float64",
         "type": "float"
        },
        {
         "name": "Financial Assets",
         "rawType": "float64",
         "type": "float"
        },
        {
         "name": "Other Investments",
         "rawType": "float64",
         "type": "float"
        },
        {
         "name": "Financial Assets Designatedas Fair Value Through Profitor Loss Total",
         "rawType": "float64",
         "type": "float"
        },
        {
         "name": "Investmentsin Joint Venturesat Cost",
         "rawType": "float64",
         "type": "float"
        },
        {
         "name": "Investmentsin Associatesat Cost",
         "rawType": "float64",
         "type": "float"
        },
        {
         "name": "Goodwill And Other Intangible Assets",
         "rawType": "float64",
         "type": "float"
        },
        {
         "name": "Other Intangible Assets",
         "rawType": "float64",
         "type": "float"
        },
        {
         "name": "Goodwill",
         "rawType": "float64",
         "type": "float"
        },
        {
         "name": "Machinery Furniture Equipment",
         "rawType": "float64",
         "type": "float"
        },
        {
         "name": "Buildings And Improvements",
         "rawType": "float64",
         "type": "float"
        },
        {
         "name": "Land And Improvements",
         "rawType": "float64",
         "type": "float"
        },
        {
         "name": "Properties",
         "rawType": "float64",
         "type": "float"
        },
        {
         "name": "Hedging Assets Current",
         "rawType": "float64",
         "type": "float"
        },
        {
         "name": "Assets Held For Sale Current",
         "rawType": "float64",
         "type": "float"
        },
        {
         "name": "Prepaid Assets",
         "rawType": "float64",
         "type": "float"
        },
        {
         "name": "Other Inventories",
         "rawType": "float64",
         "type": "float"
        },
        {
         "name": "Taxes Receivable",
         "rawType": "float64",
         "type": "float"
        },
        {
         "name": "Other Short Term Investments",
         "rawType": "float64",
         "type": "float"
        },
        {
         "name": "Preferred Stock Dividend Paid",
         "rawType": "float64",
         "type": "float"
        },
        {
         "name": "Purchase Of Business",
         "rawType": "float64",
         "type": "float"
        },
        {
         "name": "Sale Of PPE",
         "rawType": "float64",
         "type": "float"
        },
        {
         "name": "Capital Expenditure Reported",
         "rawType": "float64",
         "type": "float"
        },
        {
         "name": "Taxes Refund Paid",
         "rawType": "float64",
         "type": "float"
        },
        {
         "name": "Interest Received Cfo",
         "rawType": "float64",
         "type": "float"
        },
        {
         "name": "Interest Paid Cfo",
         "rawType": "float64",
         "type": "float"
        },
        {
         "name": "Change In Other Current Liabilities",
         "rawType": "float64",
         "type": "float"
        },
        {
         "name": "Stock Based Compensation",
         "rawType": "float64",
         "type": "float"
        },
        {
         "name": "Depreciation And Amortization",
         "rawType": "float64",
         "type": "float"
        },
        {
         "name": "Depreciation",
         "rawType": "float64",
         "type": "float"
        },
        {
         "name": "Gain Loss On Investment Securities",
         "rawType": "float64",
         "type": "float"
        },
        {
         "name": "Gain On Sale Of Ppe",
         "rawType": "float64",
         "type": "float"
        },
        {
         "name": "Gain On Sale Of Security",
         "rawType": "float64",
         "type": "float"
        },
        {
         "name": "Excise Taxes",
         "rawType": "float64",
         "type": "float"
        },
        {
         "name": "Foreign Currency Translation Adjustments",
         "rawType": "float64",
         "type": "float"
        },
        {
         "name": "Other Current Liabilities",
         "rawType": "float64",
         "type": "float"
        },
        {
         "name": "Current Deferred Liabilities",
         "rawType": "float64",
         "type": "float"
        },
        {
         "name": "Current Deferred Revenue",
         "rawType": "float64",
         "type": "float"
        },
        {
         "name": "Current Accrued Expenses",
         "rawType": "float64",
         "type": "float"
        },
        {
         "name": "Non Current Deferred Assets",
         "rawType": "float64",
         "type": "float"
        },
        {
         "name": "Non Current Note Receivables",
         "rawType": "float64",
         "type": "float"
        },
        {
         "name": "Construction In Progress",
         "rawType": "float64",
         "type": "float"
        },
        {
         "name": "Cash Equivalents",
         "rawType": "float64",
         "type": "float"
        },
        {
         "name": "Cash Financial",
         "rawType": "float64",
         "type": "float"
        },
        {
         "name": "Issuance Of Capital Stock",
         "rawType": "float64",
         "type": "float"
        },
        {
         "name": "Interest Paid Supplemental Data",
         "rawType": "float64",
         "type": "float"
        },
        {
         "name": "Income Tax Paid Supplemental Data",
         "rawType": "float64",
         "type": "float"
        },
        {
         "name": "Common Stock Issuance",
         "rawType": "float64",
         "type": "float"
        },
        {
         "name": "Sale Of Investment",
         "rawType": "float64",
         "type": "float"
        },
        {
         "name": "Net Intangibles Purchase And Sale",
         "rawType": "float64",
         "type": "float"
        },
        {
         "name": "Sale Of Intangibles",
         "rawType": "float64",
         "type": "float"
        },
        {
         "name": "Purchase Of Intangibles",
         "rawType": "float64",
         "type": "float"
        },
        {
         "name": "Change In Other Working Capital",
         "rawType": "float64",
         "type": "float"
        },
        {
         "name": "Change In Account Payable",
         "rawType": "float64",
         "type": "float"
        },
        {
         "name": "Changes In Account Receivables",
         "rawType": "float64",
         "type": "float"
        },
        {
         "name": "Earnings Losses From Equity Investments",
         "rawType": "float64",
         "type": "float"
        },
        {
         "name": "Minimum Pension Liabilities",
         "rawType": "float64",
         "type": "float"
        },
        {
         "name": "Unrealized Gain Loss",
         "rawType": "float64",
         "type": "float"
        },
        {
         "name": "Non Current Deferred Revenue",
         "rawType": "float64",
         "type": "float"
        },
        {
         "name": "Proceeds From Stock Option Exercised",
         "rawType": "float64",
         "type": "float"
        },
        {
         "name": "Change In Tax Payable",
         "rawType": "float64",
         "type": "float"
        },
        {
         "name": "Change In Income Tax Payable",
         "rawType": "float64",
         "type": "float"
        },
        {
         "name": "Change In Prepaid Assets",
         "rawType": "float64",
         "type": "float"
        },
        {
         "name": "Asset Impairment Charge",
         "rawType": "float64",
         "type": "float"
        },
        {
         "name": "Depletion",
         "rawType": "float64",
         "type": "float"
        },
        {
         "name": "Net Foreign Currency Exchange Gain Loss",
         "rawType": "float64",
         "type": "float"
        },
        {
         "name": "Rent Expense Supplemental",
         "rawType": "float64",
         "type": "float"
        },
        {
         "name": "Total Operating Income As Reported",
         "rawType": "float64",
         "type": "float"
        },
        {
         "name": "Research And Development",
         "rawType": "float64",
         "type": "float"
        },
        {
         "name": "Rent And Landing Fees",
         "rawType": "float64",
         "type": "float"
        },
        {
         "name": "Dividends Payable",
         "rawType": "float64",
         "type": "float"
        },
        {
         "name": "Interest Paid Cff",
         "rawType": "float64",
         "type": "float"
        },
        {
         "name": "Interest Received Cfi",
         "rawType": "float64",
         "type": "float"
        },
        {
         "name": "Dividends Received Cfi",
         "rawType": "float64",
         "type": "float"
        },
        {
         "name": "Gain Loss On Sale Of PPE",
         "rawType": "float64",
         "type": "float"
        },
        {
         "name": "Gain Loss On Sale Of Business",
         "rawType": "float64",
         "type": "float"
        },
        {
         "name": "Gain On Sale Of Business",
         "rawType": "float64",
         "type": "float"
        },
        {
         "name": "Write Off",
         "rawType": "float64",
         "type": "float"
        },
        {
         "name": "Current Notes Payable",
         "rawType": "float64",
         "type": "float"
        },
        {
         "name": "Investmentsin Subsidiariesat Cost",
         "rawType": "float64",
         "type": "float"
        },
        {
         "name": "Work In Process",
         "rawType": "float64",
         "type": "float"
        },
        {
         "name": "Duefrom Related Parties Current",
         "rawType": "float64",
         "type": "float"
        },
        {
         "name": "Other Equity Interest",
         "rawType": "float64",
         "type": "float"
        },
        {
         "name": "Held To Maturity Securities",
         "rawType": "float64",
         "type": "float"
        },
        {
         "name": "Net Income Discontinuous Operations",
         "rawType": "float64",
         "type": "float"
        },
        {
         "name": "Restructuring And Mergern Acquisition",
         "rawType": "float64",
         "type": "float"
        },
        {
         "name": "Other Cash Adjustment Outside Changein Cash",
         "rawType": "float64",
         "type": "float"
        },
        {
         "name": "Provision For Doubtful Accounts",
         "rawType": "float64",
         "type": "float"
        },
        {
         "name": "Depreciation Amortization Depletion Income Statement",
         "rawType": "float64",
         "type": "float"
        },
        {
         "name": "Pensionand Other Post Retirement Benefit Plans Current",
         "rawType": "float64",
         "type": "float"
        },
        {
         "name": "Leases",
         "rawType": "float64",
         "type": "float"
        },
        {
         "name": "Cash From Discontinued Financing Activities",
         "rawType": "float64",
         "type": "float"
        },
        {
         "name": "Cash From Discontinued Investing Activities",
         "rawType": "float64",
         "type": "float"
        },
        {
         "name": "Cash From Discontinued Operating Activities",
         "rawType": "float64",
         "type": "float"
        },
        {
         "name": "Amortization Cash Flow",
         "rawType": "float64",
         "type": "float"
        },
        {
         "name": "Amortization Of Intangibles",
         "rawType": "float64",
         "type": "float"
        },
        {
         "name": "Inventories Adjustments Allowances",
         "rawType": "float64",
         "type": "float"
        },
        {
         "name": "Unrealized Gain Loss On Investment Securities",
         "rawType": "float64",
         "type": "float"
        },
        {
         "name": "Net Income Extraordinary",
         "rawType": "float64",
         "type": "float"
        },
        {
         "name": "Current Deferred Assets",
         "rawType": "float64",
         "type": "float"
        },
        {
         "name": "Cash Flowsfromusedin Operating Activities Direct",
         "rawType": "float64",
         "type": "float"
        },
        {
         "name": "Taxes Refund Paid Direct",
         "rawType": "float64",
         "type": "float"
        },
        {
         "name": "Dividends Received Direct",
         "rawType": "float64",
         "type": "float"
        },
        {
         "name": "Classesof Cash Payments",
         "rawType": "float64",
         "type": "float"
        },
        {
         "name": "Other Cash Paymentsfrom Operating Activities",
         "rawType": "float64",
         "type": "float"
        },
        {
         "name": "Paymentson Behalfof Employees",
         "rawType": "float64",
         "type": "float"
        },
        {
         "name": "Paymentsto Suppliersfor Goodsand Services",
         "rawType": "float64",
         "type": "float"
        },
        {
         "name": "Classesof Cash Receiptsfrom Operating Activities",
         "rawType": "float64",
         "type": "float"
        },
        {
         "name": "Receiptsfrom Customers",
         "rawType": "float64",
         "type": "float"
        },
        {
         "name": "Depreciation And Amortization In Income Statement",
         "rawType": "float64",
         "type": "float"
        },
        {
         "name": "Depreciation Income Statement",
         "rawType": "float64",
         "type": "float"
        },
        {
         "name": "Duefrom Related Parties Non Current",
         "rawType": "float64",
         "type": "float"
        },
        {
         "name": "Investment Properties",
         "rawType": "float64",
         "type": "float"
        },
        {
         "name": "Liabilities Heldfor Sale Non Current",
         "rawType": "float64",
         "type": "float"
        },
        {
         "name": "Interest Payable",
         "rawType": "float64",
         "type": "float"
        },
        {
         "name": "Loans Receivable",
         "rawType": "float64",
         "type": "float"
        },
        {
         "name": "Current Deferred Taxes Liabilities",
         "rawType": "float64",
         "type": "float"
        },
        {
         "name": "Interest Received Direct",
         "rawType": "float64",
         "type": "float"
        },
        {
         "name": "Interest Paid Direct",
         "rawType": "float64",
         "type": "float"
        },
        {
         "name": "Other Cash Receiptsfrom Operating Activities",
         "rawType": "float64",
         "type": "float"
        },
        {
         "name": "Change In Accrued Expense",
         "rawType": "float64",
         "type": "float"
        },
        {
         "name": "Amortization",
         "rawType": "float64",
         "type": "float"
        },
        {
         "name": "Amortization Of Intangibles Income Statement",
         "rawType": "float64",
         "type": "float"
        },
        {
         "name": "Insurance And Claims",
         "rawType": "float64",
         "type": "float"
        },
        {
         "name": "Receivables Adjustments Allowances",
         "rawType": "float64",
         "type": "float"
        },
        {
         "name": "Average Dilution Earnings",
         "rawType": "float64",
         "type": "float"
        },
        {
         "name": "Trading Securities",
         "rawType": "float64",
         "type": "float"
        },
        {
         "name": "Accrued Interest Receivable",
         "rawType": "float64",
         "type": "float"
        },
        {
         "name": "Cash Flow From Discontinued Operation",
         "rawType": "float64",
         "type": "float"
        },
        {
         "name": "Investments In Other Ventures Under Equity Method",
         "rawType": "float64",
         "type": "float"
        },
        {
         "name": "Other Cash Adjustment Inside Changein Cash",
         "rawType": "float64",
         "type": "float"
        },
        {
         "name": "Notes Receivable",
         "rawType": "float64",
         "type": "float"
        },
        {
         "name": "Preferred Securities Outside Stock Equity",
         "rawType": "float64",
         "type": "float"
        },
        {
         "name": "Earnings From Equity Interest Net Of Tax",
         "rawType": "float64",
         "type": "float"
        },
        {
         "name": "Net Preferred Stock Issuance",
         "rawType": "float64",
         "type": "float"
        },
        {
         "name": "Preferred Stock Issuance",
         "rawType": "float64",
         "type": "float"
        },
        {
         "name": "Amortization Of Securities",
         "rawType": "float64",
         "type": "float"
        },
        {
         "name": "Net Investment Properties Purchase And Sale",
         "rawType": "float64",
         "type": "float"
        },
        {
         "name": "Sale Of Investment Properties",
         "rawType": "float64",
         "type": "float"
        },
        {
         "name": "Occupancy And Equipment",
         "rawType": "float64",
         "type": "float"
        },
        {
         "name": "Professional Expense And Contract Services Expense",
         "rawType": "float64",
         "type": "float"
        },
        {
         "name": "Other Non Interest Expense",
         "rawType": "float64",
         "type": "float"
        },
        {
         "name": "Cash Cash Equivalents And Federal Funds Sold",
         "rawType": "float64",
         "type": "float"
        },
        {
         "name": "Preferred Stock Payments",
         "rawType": "float64",
         "type": "float"
        },
        {
         "name": "Fixed Assets Revaluation Reserve",
         "rawType": "float64",
         "type": "float"
        },
        {
         "name": "Net Policyholder Benefits And Claims",
         "rawType": "float64",
         "type": "float"
        },
        {
         "name": "Purchase Of Investment Properties",
         "rawType": "float64",
         "type": "float"
        },
        {
         "name": "Net Income From Tax Loss Carryforward",
         "rawType": "float64",
         "type": "float"
        },
        {
         "name": "Current Deferred Taxes Assets",
         "rawType": "float64",
         "type": "float"
        },
        {
         "name": "Excess Tax Benefit From Stock Based Compensation",
         "rawType": "float64",
         "type": "float"
        },
        {
         "name": "Change In Interest Payable",
         "rawType": "float64",
         "type": "float"
        },
        {
         "name": "Receiptsfrom Government Grants",
         "rawType": "float64",
         "type": "float"
        },
        {
         "name": "Securities Amortization",
         "rawType": "float64",
         "type": "float"
        },
        {
         "name": "Dividends Paid Direct",
         "rawType": "float64",
         "type": "float"
        },
        {
         "name": "maxAge",
         "rawType": "int64",
         "type": "integer"
        },
        {
         "name": "environmentScore",
         "rawType": "float64",
         "type": "float"
        },
        {
         "name": "socialScore",
         "rawType": "float64",
         "type": "float"
        },
        {
         "name": "governanceScore",
         "rawType": "float64",
         "type": "float"
        },
        {
         "name": "ratingYear",
         "rawType": "int64",
         "type": "integer"
        },
        {
         "name": "ratingMonth",
         "rawType": "int64",
         "type": "integer"
        },
        {
         "name": "highestControversy",
         "rawType": "float64",
         "type": "float"
        },
        {
         "name": "peerCount",
         "rawType": "int64",
         "type": "integer"
        },
        {
         "name": "esgPerformance",
         "rawType": "object",
         "type": "string"
        },
        {
         "name": "peerGroup",
         "rawType": "object",
         "type": "string"
        },
        {
         "name": "relatedControversy",
         "rawType": "object",
         "type": "string"
        },
        {
         "name": "peerEsgScorePerformance",
         "rawType": "object",
         "type": "string"
        },
        {
         "name": "peerGovernancePerformance",
         "rawType": "object",
         "type": "string"
        },
        {
         "name": "peerSocialPerformance",
         "rawType": "object",
         "type": "string"
        },
        {
         "name": "peerEnvironmentPerformance",
         "rawType": "object",
         "type": "string"
        },
        {
         "name": "peerHighestControversyPerformance",
         "rawType": "object",
         "type": "string"
        },
        {
         "name": "percentile",
         "rawType": "float64",
         "type": "float"
        },
        {
         "name": "environmentPercentile",
         "rawType": "float64",
         "type": "float"
        },
        {
         "name": "socialPercentile",
         "rawType": "float64",
         "type": "float"
        },
        {
         "name": "governancePercentile",
         "rawType": "float64",
         "type": "float"
        },
        {
         "name": "adult",
         "rawType": "bool",
         "type": "boolean"
        },
        {
         "name": "alcoholic",
         "rawType": "bool",
         "type": "boolean"
        },
        {
         "name": "animalTesting",
         "rawType": "bool",
         "type": "boolean"
        },
        {
         "name": "catholic",
         "rawType": "object",
         "type": "unknown"
        },
        {
         "name": "controversialWeapons",
         "rawType": "bool",
         "type": "boolean"
        },
        {
         "name": "smallArms",
         "rawType": "bool",
         "type": "boolean"
        },
        {
         "name": "furLeather",
         "rawType": "bool",
         "type": "boolean"
        },
        {
         "name": "gambling",
         "rawType": "bool",
         "type": "boolean"
        },
        {
         "name": "gmo",
         "rawType": "bool",
         "type": "boolean"
        },
        {
         "name": "militaryContract",
         "rawType": "bool",
         "type": "boolean"
        },
        {
         "name": "nuclear",
         "rawType": "bool",
         "type": "boolean"
        },
        {
         "name": "pesticides",
         "rawType": "bool",
         "type": "boolean"
        },
        {
         "name": "palmOil",
         "rawType": "bool",
         "type": "boolean"
        },
        {
         "name": "coal",
         "rawType": "bool",
         "type": "boolean"
        },
        {
         "name": "tobacco",
         "rawType": "bool",
         "type": "boolean"
        },
        {
         "name": "ratingDate",
         "rawType": "object",
         "type": "string"
        }
       ],
       "conversionMethod": "pd.DataFrame",
       "ref": "ae378073-2285-4c68-a97b-697f4d57436a",
       "rows": [
        [
         "0",
         "XOM",
         "2023-12-31",
         "43.66",
         "0.0",
         "0.33",
         "74273000000.0",
         "36010000000.0",
         "20641000000.0",
         "250555000000.0",
         "74273000000.0",
         "53632000000.0",
         "-849000000.0",
         "849000000.0",
         "36010000000.0",
         "36010000000.0",
         "290236000000.0",
         "4052000000.0",
         "4050618673.0",
         "8.89",
         "8.89",
         "36010000000.0",
         "36010000000.0",
         "36010000000.0",
         "-1344000000.0",
         "37354000000.0",
         "37354000000.0",
         "15429000000.0",
         "52783000000.0",
         "9171000000.0",
         "2786000000.0",
         "6385000000.0",
         "-849000000.0",
         "849000000.0",
         "44461000000.0",
         "39681000000.0",
         "751000000.0",
         "29011000000.0",
         "9919000000.0",
         "9919000000.0",
         "9919000000.0",
         "714000000.0",
         "84142000000.0",
         "250555000000.0",
         "334697000000.0",
         "334697000000.0",
         "4048000000.0",
         "3971000000.0",
         "8019000000.0",
         "6196000000.0",
         "41573000000.0",
         "204802000000.0",
         "242537000000.0",
         "31293000000.0",
         "204802000000.0",
         "3838000000.0",
         "204802000000.0",
         "238447000000.0",
         "212538000000.0",
         "7736000000.0",
         "204802000000.0",
         "-11989000000.0",
         "-11989000000.0",
         "254917000000.0",
         "453927000000.0",
         "17781000000.0",
         "17781000000.0",
         "163779000000.0",
         "98463000000.0",
         "24228000000.0",
         "10496000000.0",
         "10496000000.0",
         "1804000000.0",
         "0.0",
         "24452000000.0",
         "24452000000.0",
         "37483000000.0",
         "3838000000.0",
         "33645000000.0",
         "65316000000.0",
         "4090000000.0",
         "4090000000.0",
         "4009000000.0",
         "6000000.0",
         "75000000.0",
         "61226000000.0",
         "61226000000.0",
         "11086000000.0",
         "11885000000.0",
         "7006000000.0",
         "3189000000.0",
         "31249000000.0",
         "376317000000.0",
         "279708000000.0",
         "17138000000.0",
         "7527000000.0",
         "5846000000.0",
         "34257000000.0",
         "177000000.0",
         "177000000.0",
         "34080000000.0",
         "214940000000.0",
         "-272445000000.0",
         "487385000000.0",
         "22768000000.0",
         "96609000000.0",
         "1906000000.0",
         "29000000.0",
         "25120000000.0",
         "20528000000.0",
         "4592000000.0",
         "38015000000.0",
         "7719000000.0",
         "30296000000.0",
         "-170000000.0",
         "30466000000.0",
         "31539000000.0",
         "31539000000.0",
         "33450000000.0",
         "-17748000000.0",
         "-1178000000.0",
         "939000000.0",
         "-21919000000.0",
         "31568000000.0",
         "29665000000.0",
         "105000000.0",
         "1798000000.0",
         "-34297000000.0",
         "-34297000000.0",
         "-1369000000.0",
         "-14941000000.0",
         "-14941000000.0",
         "-17748000000.0",
         "-17748000000.0",
         "-239000000.0",
         "-1163000000.0",
         "-1163000000.0",
         "0.0",
         "924000000.0",
         "-15000000.0",
         "939000000.0",
         "-19274000000.0",
         "-19274000000.0",
         "5640000000.0",
         "-2995000000.0",
         "-2995000000.0",
         null,
         null,
         "-21919000000.0",
         "-21919000000.0",
         "55369000000.0",
         "55369000000.0",
         "509000000.0",
         null,
         "-4255000000.0",
         "-426000000.0",
         "-4727000000.0",
         "-4727000000.0",
         "-3472000000.0",
         "4370000000.0",
         "1897000000.0",
         "-1501000000.0",
         "634000000.0",
         "634000000.0",
         "20641000000.0",
         "90000000.0",
         "90000000.0",
         "37354000000.0",
         null,
         null,
         null,
         null,
         null,
         null,
         null,
         null,
         null,
         null,
         null,
         null,
         null,
         null,
         null,
         null,
         null,
         null,
         null,
         null,
         null,
         null,
         null,
         null,
         null,
         null,
         null,
         null,
         null,
         null,
         null,
         null,
         null,
         null,
         null,
         null,
         null,
         null,
         null,
         null,
         null,
         null,
         null,
         null,
         null,
         null,
         null,
         null,
         null,
         null,
         null,
         null,
         null,
         null,
         null,
         null,
         null,
         null,
         null,
         null,
         null,
         null,
         null,
         null,
         null,
         null,
         null,
         null,
         null,
         null,
         null,
         null,
         null,
         null,
         null,
         null,
         null,
         null,
         null,
         null,
         null,
         null,
         null,
         null,
         null,
         null,
         null,
         null,
         null,
         null,
         null,
         null,
         null,
         null,
         null,
         null,
         null,
         null,
         null,
         null,
         null,
         null,
         null,
         null,
         null,
         null,
         null,
         null,
         null,
         null,
         null,
         null,
         null,
         null,
         null,
         null,
         null,
         null,
         null,
         null,
         null,
         null,
         null,
         null,
         null,
         null,
         null,
         null,
         null,
         null,
         null,
         null,
         null,
         null,
         null,
         null,
         null,
         null,
         null,
         null,
         null,
         null,
         null,
         null,
         null,
         null,
         null,
         null,
         null,
         null,
         null,
         null,
         null,
         null,
         null,
         null,
         null,
         null,
         null,
         null,
         null,
         null,
         null,
         null,
         null,
         null,
         null,
         null,
         null,
         null,
         null,
         null,
         null,
         null,
         null,
         "86400",
         "25.09",
         "11.58",
         "6.99",
         "2025",
         "2",
         "3.0",
         "165",
         "LEAD_PERF",
         "Oil & Gas Producers",
         "['Operations Incidents']",
         "{'min': 7.23, 'avg': 42.161030303030316, 'max': 66.22}",
         "{'min': 3.03, 'avg': 6.5607058823529405, 'max': 12.35}",
         "{'min': 1.61, 'avg': 9.672941176470594, 'max': 16.38}",
         "{'min': 0.08, 'avg': 21.21023529411765, 'max': 34.82}",
         "{'min': 0.0, 'avg': 1.1757575757575758, 'max': 5.0}",
         null,
         null,
         null,
         null,
         "False",
         "False",
         "False",
         null,
         "False",
         "False",
         "False",
         "False",
         "False",
         "False",
         "False",
         "False",
         "False",
         "False",
         "False",
         "2025-02-01"
        ],
        [
         "1",
         "XOM",
         "2022-12-31",
         "43.66",
         "0.0",
         "0.33",
         "102591000000.0",
         "55740000000.0",
         "24040000000.0",
         "295608000000.0",
         "102591000000.0",
         "78551000000.0",
         "-798000000.0",
         "798000000.0",
         "55740000000.0",
         "55740000000.0",
         "334647000000.0",
         "4205000000.0",
         "4203619910.0",
         "13.26",
         "13.26",
         "55740000000.0",
         "55740000000.0",
         "55740000000.0",
         "-1837000000.0",
         "57577000000.0",
         "57577000000.0",
         "20176000000.0",
         "77753000000.0",
         "14523000000.0",
         "3060000000.0",
         "11463000000.0",
         "-798000000.0",
         "798000000.0",
         "64028000000.0",
         "39039000000.0",
         "1025000000.0",
         "27919000000.0",
         "10095000000.0",
         "10095000000.0",
         "10095000000.0",
         "482000000.0",
         "103067000000.0",
         "295608000000.0",
         "398675000000.0",
         "398675000000.0",
         "3937000000.0",
         "4082000000.0",
         "8019000000.0",
         "8254000000.0",
         "41193000000.0",
         "195049000000.0",
         "232943000000.0",
         "28586000000.0",
         "195049000000.0",
         "3299000000.0",
         "195049000000.0",
         "232309000000.0",
         "202473000000.0",
         "7424000000.0",
         "195049000000.0",
         "-13270000000.0",
         "-13270000000.0",
         "240293000000.0",
         "432860000000.0",
         "15752000000.0",
         "15752000000.0",
         "166594000000.0",
         "97549000000.0",
         "21733000000.0",
         "10045000000.0",
         "10045000000.0",
         "2338000000.0",
         "0.0",
         "22874000000.0",
         "22874000000.0",
         "40559000000.0",
         "3299000000.0",
         "37260000000.0",
         "69045000000.0",
         "634000000.0",
         "634000000.0",
         "181000000.0",
         "379000000.0",
         "74000000.0",
         "68411000000.0",
         "68411000000.0",
         "11474000000.0",
         "14585000000.0",
         "9183000000.0",
         "5214000000.0",
         "33169000000.0",
         "369067000000.0",
         "271436000000.0",
         "16951000000.0",
         "8049000000.0",
         "6944000000.0",
         "34800000000.0",
         "278000000.0",
         "278000000.0",
         "34522000000.0",
         "204692000000.0",
         "-268001000000.0",
         "472693000000.0",
         "18335000000.0",
         "97631000000.0",
         "1782000000.0",
         "25000000.0",
         "24435000000.0",
         "20434000000.0",
         "4001000000.0",
         "41749000000.0",
         "8905000000.0",
         "32844000000.0",
         "-168000000.0",
         "33012000000.0",
         "29640000000.0",
         "29640000000.0",
         "58390000000.0",
         "-15155000000.0",
         "-8080000000.0",
         "860000000.0",
         "-18407000000.0",
         "29665000000.0",
         "6802000000.0",
         "-78000000.0",
         "22941000000.0",
         "-39114000000.0",
         "-39114000000.0",
         "-1800000000.0",
         "-14939000000.0",
         "-14939000000.0",
         "-15155000000.0",
         "-15155000000.0",
         "-7220000000.0",
         "-7852000000.0",
         "-8075000000.0",
         "223000000.0",
         "632000000.0",
         "-5000000.0",
         "637000000.0",
         "-14742000000.0",
         "-14742000000.0",
         "6755000000.0",
         "-3090000000.0",
         "-3090000000.0",
         null,
         null,
         "-18407000000.0",
         "-18407000000.0",
         "76797000000.0",
         "76797000000.0",
         "-2446000000.0",
         "-2446000000.0",
         "-194000000.0",
         "-688000000.0",
         "18460000000.0",
         "18460000000.0",
         "-6947000000.0",
         "-11019000000.0",
         "-1025000000.0",
         "-1932000000.0",
         "3758000000.0",
         "3758000000.0",
         "24040000000.0",
         "-2981000000.0",
         "-2981000000.0",
         "57577000000.0",
         null,
         null,
         null,
         null,
         null,
         null,
         null,
         null,
         null,
         null,
         null,
         null,
         null,
         null,
         null,
         null,
         null,
         null,
         null,
         null,
         null,
         null,
         null,
         null,
         null,
         null,
         null,
         null,
         null,
         null,
         null,
         null,
         null,
         null,
         null,
         null,
         null,
         null,
         null,
         null,
         null,
         null,
         null,
         null,
         null,
         null,
         null,
         null,
         null,
         null,
         null,
         null,
         null,
         null,
         null,
         null,
         null,
         null,
         null,
         null,
         null,
         null,
         null,
         null,
         null,
         null,
         null,
         null,
         null,
         null,
         null,
         null,
         null,
         null,
         null,
         null,
         null,
         null,
         null,
         null,
         null,
         null,
         null,
         null,
         null,
         null,
         null,
         null,
         null,
         null,
         null,
         null,
         null,
         null,
         null,
         null,
         null,
         null,
         null,
         null,
         null,
         null,
         null,
         null,
         null,
         null,
         null,
         null,
         null,
         null,
         null,
         null,
         null,
         null,
         null,
         null,
         null,
         null,
         null,
         null,
         null,
         null,
         null,
         null,
         null,
         null,
         null,
         null,
         null,
         null,
         null,
         null,
         null,
         null,
         null,
         null,
         null,
         null,
         null,
         null,
         null,
         null,
         null,
         null,
         null,
         null,
         null,
         null,
         null,
         null,
         null,
         null,
         null,
         null,
         null,
         null,
         null,
         null,
         null,
         null,
         null,
         null,
         null,
         null,
         null,
         null,
         null,
         null,
         null,
         null,
         null,
         null,
         null,
         null,
         null,
         "86400",
         "25.09",
         "11.58",
         "6.99",
         "2025",
         "2",
         "3.0",
         "165",
         "LEAD_PERF",
         "Oil & Gas Producers",
         "['Operations Incidents']",
         "{'min': 7.23, 'avg': 42.161030303030316, 'max': 66.22}",
         "{'min': 3.03, 'avg': 6.5607058823529405, 'max': 12.35}",
         "{'min': 1.61, 'avg': 9.672941176470594, 'max': 16.38}",
         "{'min': 0.08, 'avg': 21.21023529411765, 'max': 34.82}",
         "{'min': 0.0, 'avg': 1.1757575757575758, 'max': 5.0}",
         null,
         null,
         null,
         null,
         "False",
         "False",
         "False",
         null,
         "False",
         "False",
         "False",
         "False",
         "False",
         "False",
         "False",
         "False",
         "False",
         "False",
         "False",
         "2025-02-01"
        ],
        [
         "2",
         "XOM",
         "2021-12-31",
         "43.66",
         "0.0",
         "0.31",
         "52788000000.0",
         "23040000000.0",
         "20607000000.0",
         "211806000000.0",
         "52788000000.0",
         "32181000000.0",
         "-947000000.0",
         "947000000.0",
         "23040000000.0",
         "23040000000.0",
         "252673000000.0",
         "4275000000.0",
         "4274582560.0",
         "5.39",
         "5.39",
         "23040000000.0",
         "23040000000.0",
         "23040000000.0",
         "-558000000.0",
         "23598000000.0",
         "23598000000.0",
         "7636000000.0",
         "31234000000.0",
         "8162000000.0",
         "1505000000.0",
         "6657000000.0",
         "-947000000.0",
         "947000000.0",
         "24019000000.0",
         "40867000000.0",
         "1054000000.0",
         "30239000000.0",
         "9574000000.0",
         "9574000000.0",
         "9574000000.0",
         "786000000.0",
         "64886000000.0",
         "211806000000.0",
         "276692000000.0",
         "276692000000.0",
         "3780000000.0",
         "4239000000.0",
         "8019000000.0",
         "39040000000.0",
         "47704000000.0",
         "168577000000.0",
         "214419000000.0",
         "2511000000.0",
         "168577000000.0",
         "1862000000.0",
         "168577000000.0",
         "210143000000.0",
         "175683000000.0",
         "7106000000.0",
         "168577000000.0",
         "-13764000000.0",
         "-13764000000.0",
         "225464000000.0",
         "392059000000.0",
         "15746000000.0",
         "15746000000.0",
         "163240000000.0",
         "106597000000.0",
         "21717000000.0",
         "18430000000.0",
         "18430000000.0",
         "2857000000.0",
         "0.0",
         "20165000000.0",
         "20165000000.0",
         "43428000000.0",
         "1862000000.0",
         "41566000000.0",
         "56643000000.0",
         "4276000000.0",
         "4276000000.0",
         "2392000000.0",
         "276000000.0",
         "1608000000.0",
         "52367000000.0",
         "52367000000.0",
         "11362000000.0",
         "8885000000.0",
         "5497000000.0",
         "1601000000.0",
         "26623000000.0",
         "338923000000.0",
         "279769000000.0",
         "18022000000.0",
         "8326000000.0",
         "5506000000.0",
         "31363000000.0",
         "138000000.0",
         "138000000.0",
         "31225000000.0",
         "216552000000.0",
         "-278510000000.0",
         "495062000000.0",
         "18014000000.0",
         "59154000000.0",
         "1189000000.0",
         "0.0",
         "18780000000.0",
         "14519000000.0",
         "4261000000.0",
         "32383000000.0",
         "5500000000.0",
         "26883000000.0",
         "-159000000.0",
         "27042000000.0",
         "6802000000.0",
         "6802000000.0",
         "36053000000.0",
         "-155000000.0",
         "-32387000000.0",
         "12733000000.0",
         "-12076000000.0",
         "6802000000.0",
         "4364000000.0",
         "-33000000.0",
         "2471000000.0",
         "-35423000000.0",
         "-35423000000.0",
         "-690000000.0",
         "-14924000000.0",
         "-14924000000.0",
         "-155000000.0",
         "-155000000.0",
         "-19654000000.0",
         "-19692000000.0",
         "-32379000000.0",
         "12687000000.0",
         "38000000.0",
         "-8000000.0",
         "46000000.0",
         "-10235000000.0",
         "-10235000000.0",
         "4658000000.0",
         "-2817000000.0",
         "-2817000000.0",
         null,
         null,
         "-12076000000.0",
         "-12076000000.0",
         "48129000000.0",
         "48129000000.0",
         "-668000000.0",
         "-668000000.0",
         "4162000000.0",
         "-71000000.0",
         "16820000000.0",
         "16820000000.0",
         "-489000000.0",
         "-12098000000.0",
         "-677000000.0",
         "50000000.0",
         "303000000.0",
         "303000000.0",
         "20607000000.0",
         "754000000.0",
         "754000000.0",
         "23598000000.0",
         null,
         null,
         null,
         null,
         null,
         null,
         null,
         null,
         null,
         null,
         null,
         null,
         null,
         null,
         null,
         null,
         null,
         null,
         null,
         null,
         null,
         null,
         null,
         null,
         null,
         null,
         null,
         null,
         null,
         null,
         null,
         null,
         null,
         null,
         null,
         null,
         null,
         null,
         null,
         null,
         null,
         null,
         null,
         null,
         null,
         null,
         null,
         null,
         null,
         null,
         null,
         null,
         null,
         null,
         null,
         null,
         null,
         null,
         null,
         null,
         null,
         null,
         null,
         null,
         null,
         null,
         null,
         null,
         null,
         null,
         null,
         null,
         null,
         null,
         null,
         null,
         null,
         null,
         null,
         null,
         null,
         null,
         null,
         null,
         null,
         null,
         null,
         null,
         null,
         null,
         null,
         null,
         null,
         null,
         null,
         null,
         null,
         null,
         null,
         null,
         null,
         null,
         null,
         null,
         null,
         null,
         null,
         null,
         null,
         null,
         null,
         null,
         null,
         null,
         null,
         null,
         null,
         null,
         null,
         null,
         null,
         null,
         null,
         null,
         null,
         null,
         null,
         null,
         null,
         null,
         null,
         null,
         null,
         null,
         null,
         null,
         null,
         null,
         null,
         null,
         null,
         null,
         null,
         null,
         null,
         null,
         null,
         null,
         null,
         null,
         null,
         null,
         null,
         null,
         null,
         null,
         null,
         null,
         null,
         null,
         null,
         null,
         null,
         null,
         null,
         null,
         null,
         null,
         null,
         null,
         null,
         null,
         null,
         null,
         null,
         "86400",
         "25.09",
         "11.58",
         "6.99",
         "2025",
         "2",
         "3.0",
         "165",
         "LEAD_PERF",
         "Oil & Gas Producers",
         "['Operations Incidents']",
         "{'min': 7.23, 'avg': 42.161030303030316, 'max': 66.22}",
         "{'min': 3.03, 'avg': 6.5607058823529405, 'max': 12.35}",
         "{'min': 1.61, 'avg': 9.672941176470594, 'max': 16.38}",
         "{'min': 0.08, 'avg': 21.21023529411765, 'max': 34.82}",
         "{'min': 0.0, 'avg': 1.1757575757575758, 'max': 5.0}",
         null,
         null,
         null,
         null,
         "False",
         "False",
         "False",
         null,
         "False",
         "False",
         "False",
         "False",
         "False",
         "False",
         "False",
         "False",
         "False",
         "False",
         "False",
         "2025-02-01"
        ],
        [
         "3",
         "XOM",
         "2020-12-31",
         "43.66",
         "0.0",
         "0.17",
         "18284000000.0",
         "-22440000000.0",
         "46009000000.0",
         "170447000000.0",
         "18284000000.0",
         "-27725000000.0",
         "-1158000000.0",
         "1158000000.0",
         "-22440000000.0",
         "-22440000000.0",
         "208022000000.0",
         "4274285714.0",
         "4274285714.0",
         "-5.25",
         "-5.25",
         "-22440000000.0",
         "-22440000000.0",
         "-22440000000.0",
         "811000000.0",
         "-23251000000.0",
         "-23251000000.0",
         "-5632000000.0",
         "-28883000000.0",
         "1723000000.0",
         "-9000000.0",
         "1732000000.0",
         "-1158000000.0",
         "1158000000.0",
         "-29448000000.0",
         "37575000000.0",
         "1285000000.0",
         "26122000000.0",
         "10168000000.0",
         "10168000000.0",
         "10168000000.0",
         "1205000000.0",
         "8127000000.0",
         "170447000000.0",
         "178574000000.0",
         "178574000000.0",
         "3786000000.0",
         "4233000000.0",
         "8019000000.0",
         "61596000000.0",
         "67640000000.0",
         "157150000000.0",
         "223110000000.0",
         "-11470000000.0",
         "157150000000.0",
         "1680000000.0",
         "157150000000.0",
         "202652000000.0",
         "164130000000.0",
         "6980000000.0",
         "157150000000.0",
         "-16705000000.0",
         "-16705000000.0",
         "225776000000.0",
         "383943000000.0",
         "15688000000.0",
         "15688000000.0",
         "168620000000.0",
         "112257000000.0",
         "21242000000.0",
         "22415000000.0",
         "22415000000.0",
         "3253000000.0",
         "0.0",
         "18165000000.0",
         "18165000000.0",
         "47182000000.0",
         "1680000000.0",
         "45502000000.0",
         "56363000000.0",
         "20458000000.0",
         "20458000000.0",
         "2930000000.0",
         "222000000.0",
         "17306000000.0",
         "35905000000.0",
         "35905000000.0",
         "7838000000.0",
         "6476000000.0",
         "4092000000.0",
         "684000000.0",
         "17499000000.0",
         "332750000000.0",
         "287857000000.0",
         "16789000000.0",
         "8812000000.0",
         "4788000000.0",
         "29915000000.0",
         "143000000.0",
         "143000000.0",
         "29772000000.0",
         "227553000000.0",
         "-277769000000.0",
         "505322000000.0",
         "17918000000.0",
         "44893000000.0",
         "1098000000.0",
         null,
         "18850000000.0",
         "14169000000.0",
         "4681000000.0",
         "20581000000.0",
         "4242000000.0",
         "16339000000.0",
         "-96000000.0",
         "16435000000.0",
         "4364000000.0",
         "4364000000.0",
         "-2614000000.0",
         "-405000000.0",
         "-38441000000.0",
         "58582000000.0",
         "-17282000000.0",
         "4364000000.0",
         "3089000000.0",
         "-219000000.0",
         "1494000000.0",
         "5285000000.0",
         "5285000000.0",
         "414000000.0",
         "-14865000000.0",
         "-14865000000.0",
         "-405000000.0",
         "-405000000.0",
         "20141000000.0",
         "-3037000000.0",
         "-38433000000.0",
         "35396000000.0",
         "23178000000.0",
         "-8000000.0",
         "23186000000.0",
         "-18459000000.0",
         "-18459000000.0",
         "3680000000.0",
         "-4857000000.0",
         "-4857000000.0",
         "999000000.0",
         "999000000.0",
         "-17282000000.0",
         "-17282000000.0",
         "14668000000.0",
         "14668000000.0",
         "979000000.0",
         null,
         "-1653000000.0",
         "420000000.0",
         "-7142000000.0",
         "-7142000000.0",
         "-315000000.0",
         "5384000000.0",
         "2211000000.0",
         "-1269000000.0",
         "-8856000000.0",
         "-8856000000.0",
         "46009000000.0",
         "498000000.0",
         "498000000.0",
         "-23251000000.0",
         null,
         null,
         null,
         null,
         null,
         null,
         null,
         null,
         null,
         null,
         null,
         null,
         null,
         null,
         null,
         null,
         null,
         null,
         null,
         null,
         null,
         null,
         null,
         null,
         null,
         null,
         null,
         null,
         null,
         null,
         null,
         null,
         null,
         null,
         null,
         null,
         null,
         null,
         null,
         null,
         null,
         null,
         null,
         null,
         null,
         null,
         null,
         null,
         null,
         null,
         null,
         null,
         null,
         null,
         null,
         null,
         null,
         null,
         null,
         null,
         null,
         null,
         null,
         null,
         null,
         null,
         null,
         null,
         null,
         null,
         null,
         null,
         null,
         null,
         null,
         null,
         null,
         null,
         null,
         null,
         null,
         null,
         null,
         null,
         null,
         null,
         null,
         null,
         null,
         null,
         null,
         null,
         null,
         null,
         null,
         null,
         null,
         null,
         null,
         null,
         null,
         null,
         null,
         null,
         null,
         null,
         null,
         null,
         null,
         null,
         null,
         null,
         null,
         null,
         null,
         null,
         null,
         null,
         null,
         null,
         null,
         null,
         null,
         null,
         null,
         null,
         null,
         null,
         null,
         null,
         null,
         null,
         null,
         null,
         null,
         null,
         null,
         null,
         null,
         null,
         null,
         null,
         null,
         null,
         null,
         null,
         null,
         null,
         null,
         null,
         null,
         null,
         null,
         null,
         null,
         null,
         null,
         null,
         null,
         null,
         null,
         null,
         null,
         null,
         null,
         null,
         null,
         null,
         null,
         null,
         null,
         null,
         null,
         null,
         null,
         "86400",
         "25.09",
         "11.58",
         "6.99",
         "2025",
         "2",
         "3.0",
         "165",
         "LEAD_PERF",
         "Oil & Gas Producers",
         "['Operations Incidents']",
         "{'min': 7.23, 'avg': 42.161030303030316, 'max': 66.22}",
         "{'min': 3.03, 'avg': 6.5607058823529405, 'max': 12.35}",
         "{'min': 1.61, 'avg': 9.672941176470594, 'max': 16.38}",
         "{'min': 0.08, 'avg': 21.21023529411765, 'max': 34.82}",
         "{'min': 0.0, 'avg': 1.1757575757575758, 'max': 5.0}",
         null,
         null,
         null,
         null,
         "False",
         "False",
         "False",
         null,
         "False",
         "False",
         "False",
         "False",
         "False",
         "False",
         "False",
         "False",
         "False",
         "False",
         "False",
         "2025-02-01"
        ],
        [
         "4",
         "CVX",
         "2023-12-31",
         "38.36",
         "0.0",
         "0.276",
         "45042000000.0",
         "21369000000.0",
         "14989000000.0",
         "136522000000.0",
         "45042000000.0",
         "30053000000.0",
         "-469000000.0",
         "469000000.0",
         "21369000000.0",
         "21369000000.0",
         "170684000000.0",
         "1880307000.0",
         "1872737000.0",
         "11.36",
         "11.41",
         "21369000000.0",
         "21369000000.0",
         "21369000000.0",
         "-42000000.0",
         "21411000000.0",
         "21411000000.0",
         "8173000000.0",
         "29584000000.0",
         "3824000000.0",
         "-1307000000.0",
         "5131000000.0",
         "-469000000.0",
         "469000000.0",
         "26229000000.0",
         "34162000000.0",
         "25801000000.0",
         "4220000000.0",
         "4141000000.0",
         null,
         null,
         null,
         "60391000000.0",
         "136522000000.0",
         "196913000000.0",
         "196913000000.0",
         "591196776.0",
         "1851479804.0",
         "2442676580.0",
         "12024000000.0",
         "20836000000.0",
         "156235000000.0",
         "181159000000.0",
         "8870000000.0",
         "156235000000.0",
         "634000000.0",
         "160957000000.0",
         "180690000000.0",
         "161929000000.0",
         "972000000.0",
         "160957000000.0",
         "-3200000000.0",
         "5000000.0",
         "59065000000.0",
         "200025000000.0",
         "1832000000.0",
         "1832000000.0",
         "99703000000.0",
         "67445000000.0",
         "24226000000.0",
         "4082000000.0",
         null,
         null,
         null,
         "18830000000.0",
         "18830000000.0",
         "20307000000.0",
         "574000000.0",
         "19733000000.0",
         "32258000000.0",
         "529000000.0",
         "469000000.0",
         "469000000.0",
         null,
         null,
         "31729000000.0",
         "24074000000.0",
         null,
         null,
         "3651000000.0",
         "1863000000.0",
         "20423000000.0",
         "261632000000.0",
         "220504000000.0",
         "14409000000.0",
         null,
         "942000000.0",
         "46812000000.0",
         null,
         null,
         null,
         "153619000000.0",
         "-192462000000.0",
         "346081000000.0",
         null,
         "41128000000.0",
         "4372000000.0",
         null,
         "8612000000.0",
         "6465000000.0",
         "2147000000.0",
         "19921000000.0",
         null,
         "19921000000.0",
         "-301000000.0",
         "20222000000.0",
         "8223000000.0",
         "8178000000.0",
         "19780000000.0",
         "-14939000000.0",
         "-4340000000.0",
         "285000000.0",
         "-15829000000.0",
         "9275000000.0",
         "19121000000.0",
         "-114000000.0",
         "-9732000000.0",
         "-30109000000.0",
         "-30109000000.0",
         "-40000000.0",
         "-11336000000.0",
         "-11336000000.0",
         "-14939000000.0",
         "-14939000000.0",
         "-4055000000.0",
         "135000000.0",
         "0.0",
         "135000000.0",
         "-4190000000.0",
         "-4340000000.0",
         "150000000.0",
         "-15232000000.0",
         "-15232000000.0",
         "144000000.0",
         "175000000.0",
         "-289000000.0",
         "278000000.0",
         "278000000.0",
         null,
         null,
         "35609000000.0",
         "35609000000.0",
         "4246000000.0",
         null,
         "-3335000000.0",
         null,
         "-2850000000.0",
         "-2850000000.0",
         "-320000000.0",
         "1337000000.0",
         "373000000.0",
         null,
         "298000000.0",
         "298000000.0",
         "14989000000.0",
         "-4553000000.0",
         null,
         "21411000000.0",
         null,
         null,
         null,
         null,
         null,
         null,
         null,
         null,
         null,
         null,
         null,
         null,
         null,
         "21365000000.0",
         "0.0",
         null,
         null,
         null,
         "60000000.0",
         null,
         null,
         null,
         null,
         null,
         null,
         null,
         null,
         "4722000000.0",
         null,
         "4722000000.0",
         null,
         null,
         null,
         null,
         null,
         null,
         null,
         null,
         null,
         "45000000.0",
         null,
         null,
         null,
         "-15829000000.0",
         null,
         null,
         null,
         null,
         null,
         "14553000000.0",
         "14553000000.0",
         null,
         null,
         null,
         null,
         "-192000000.0",
         null,
         null,
         null,
         "7655000000.0",
         null,
         null,
         null,
         null,
         null,
         null,
         "465000000.0",
         "10416000000.0",
         null,
         "464000000.0",
         null,
         null,
         null,
         "-300000000.0",
         "-49000000.0",
         "1187000000.0",
         "-5131000000.0",
         "-3002000000.0",
         "-11000000.0",
         null,
         "261000000.0",
         "-2801000000.0",
         "-2801000000.0",
         "-1202000000.0",
         "2180000000.0",
         "436000000.0",
         "578000000.0",
         null,
         null,
         null,
         null,
         null,
         null,
         null,
         null,
         null,
         null,
         null,
         null,
         null,
         null,
         null,
         null,
         null,
         null,
         null,
         null,
         null,
         null,
         null,
         null,
         null,
         null,
         null,
         null,
         null,
         null,
         null,
         null,
         null,
         null,
         null,
         null,
         null,
         null,
         null,
         null,
         null,
         null,
         null,
         null,
         null,
         null,
         null,
         null,
         null,
         null,
         null,
         null,
         null,
         null,
         null,
         null,
         null,
         null,
         null,
         null,
         null,
         null,
         null,
         null,
         null,
         null,
         null,
         null,
         null,
         null,
         null,
         null,
         null,
         null,
         null,
         null,
         null,
         null,
         null,
         null,
         null,
         null,
         null,
         null,
         null,
         null,
         null,
         null,
         "86400",
         "19.91",
         "10.61",
         "7.84",
         "2025",
         "2",
         "3.0",
         "165",
         "LEAD_PERF",
         "Oil & Gas Producers",
         "['Operations Incidents;Society & Community Incidents']",
         "{'min': 7.23, 'avg': 42.161030303030316, 'max': 66.22}",
         "{'min': 3.03, 'avg': 6.5607058823529405, 'max': 12.35}",
         "{'min': 1.61, 'avg': 9.672941176470594, 'max': 16.38}",
         "{'min': 0.08, 'avg': 21.21023529411765, 'max': 34.82}",
         "{'min': 0.0, 'avg': 1.1757575757575758, 'max': 5.0}",
         null,
         null,
         null,
         null,
         "False",
         "False",
         "False",
         null,
         "False",
         "False",
         "False",
         "False",
         "False",
         "False",
         "False",
         "False",
         "False",
         "False",
         "False",
         "2025-02-01"
        ]
       ],
       "shape": {
        "columns": 378,
        "rows": 5
       }
      },
      "text/html": [
       "<div>\n",
       "<style scoped>\n",
       "    .dataframe tbody tr th:only-of-type {\n",
       "        vertical-align: middle;\n",
       "    }\n",
       "\n",
       "    .dataframe tbody tr th {\n",
       "        vertical-align: top;\n",
       "    }\n",
       "\n",
       "    .dataframe thead th {\n",
       "        text-align: right;\n",
       "    }\n",
       "</style>\n",
       "<table border=\"1\" class=\"dataframe\">\n",
       "  <thead>\n",
       "    <tr style=\"text-align: right;\">\n",
       "      <th></th>\n",
       "      <th>Ticker</th>\n",
       "      <th>Date</th>\n",
       "      <th>totalEsg</th>\n",
       "      <th>Tax Effect Of Unusual Items</th>\n",
       "      <th>Tax Rate For Calcs</th>\n",
       "      <th>Normalized EBITDA</th>\n",
       "      <th>Net Income From Continuing Operation Net Minority Interest</th>\n",
       "      <th>Reconciled Depreciation</th>\n",
       "      <th>Reconciled Cost Of Revenue</th>\n",
       "      <th>EBITDA</th>\n",
       "      <th>...</th>\n",
       "      <th>furLeather</th>\n",
       "      <th>gambling</th>\n",
       "      <th>gmo</th>\n",
       "      <th>militaryContract</th>\n",
       "      <th>nuclear</th>\n",
       "      <th>pesticides</th>\n",
       "      <th>palmOil</th>\n",
       "      <th>coal</th>\n",
       "      <th>tobacco</th>\n",
       "      <th>ratingDate</th>\n",
       "    </tr>\n",
       "  </thead>\n",
       "  <tbody>\n",
       "    <tr>\n",
       "      <th>0</th>\n",
       "      <td>XOM</td>\n",
       "      <td>2023-12-31</td>\n",
       "      <td>43.66</td>\n",
       "      <td>0.0</td>\n",
       "      <td>0.330</td>\n",
       "      <td>7.427300e+10</td>\n",
       "      <td>3.601000e+10</td>\n",
       "      <td>2.064100e+10</td>\n",
       "      <td>2.505550e+11</td>\n",
       "      <td>7.427300e+10</td>\n",
       "      <td>...</td>\n",
       "      <td>False</td>\n",
       "      <td>False</td>\n",
       "      <td>False</td>\n",
       "      <td>False</td>\n",
       "      <td>False</td>\n",
       "      <td>False</td>\n",
       "      <td>False</td>\n",
       "      <td>False</td>\n",
       "      <td>False</td>\n",
       "      <td>2025-02-01</td>\n",
       "    </tr>\n",
       "    <tr>\n",
       "      <th>1</th>\n",
       "      <td>XOM</td>\n",
       "      <td>2022-12-31</td>\n",
       "      <td>43.66</td>\n",
       "      <td>0.0</td>\n",
       "      <td>0.330</td>\n",
       "      <td>1.025910e+11</td>\n",
       "      <td>5.574000e+10</td>\n",
       "      <td>2.404000e+10</td>\n",
       "      <td>2.956080e+11</td>\n",
       "      <td>1.025910e+11</td>\n",
       "      <td>...</td>\n",
       "      <td>False</td>\n",
       "      <td>False</td>\n",
       "      <td>False</td>\n",
       "      <td>False</td>\n",
       "      <td>False</td>\n",
       "      <td>False</td>\n",
       "      <td>False</td>\n",
       "      <td>False</td>\n",
       "      <td>False</td>\n",
       "      <td>2025-02-01</td>\n",
       "    </tr>\n",
       "    <tr>\n",
       "      <th>2</th>\n",
       "      <td>XOM</td>\n",
       "      <td>2021-12-31</td>\n",
       "      <td>43.66</td>\n",
       "      <td>0.0</td>\n",
       "      <td>0.310</td>\n",
       "      <td>5.278800e+10</td>\n",
       "      <td>2.304000e+10</td>\n",
       "      <td>2.060700e+10</td>\n",
       "      <td>2.118060e+11</td>\n",
       "      <td>5.278800e+10</td>\n",
       "      <td>...</td>\n",
       "      <td>False</td>\n",
       "      <td>False</td>\n",
       "      <td>False</td>\n",
       "      <td>False</td>\n",
       "      <td>False</td>\n",
       "      <td>False</td>\n",
       "      <td>False</td>\n",
       "      <td>False</td>\n",
       "      <td>False</td>\n",
       "      <td>2025-02-01</td>\n",
       "    </tr>\n",
       "    <tr>\n",
       "      <th>3</th>\n",
       "      <td>XOM</td>\n",
       "      <td>2020-12-31</td>\n",
       "      <td>43.66</td>\n",
       "      <td>0.0</td>\n",
       "      <td>0.170</td>\n",
       "      <td>1.828400e+10</td>\n",
       "      <td>-2.244000e+10</td>\n",
       "      <td>4.600900e+10</td>\n",
       "      <td>1.704470e+11</td>\n",
       "      <td>1.828400e+10</td>\n",
       "      <td>...</td>\n",
       "      <td>False</td>\n",
       "      <td>False</td>\n",
       "      <td>False</td>\n",
       "      <td>False</td>\n",
       "      <td>False</td>\n",
       "      <td>False</td>\n",
       "      <td>False</td>\n",
       "      <td>False</td>\n",
       "      <td>False</td>\n",
       "      <td>2025-02-01</td>\n",
       "    </tr>\n",
       "    <tr>\n",
       "      <th>4</th>\n",
       "      <td>CVX</td>\n",
       "      <td>2023-12-31</td>\n",
       "      <td>38.36</td>\n",
       "      <td>0.0</td>\n",
       "      <td>0.276</td>\n",
       "      <td>4.504200e+10</td>\n",
       "      <td>2.136900e+10</td>\n",
       "      <td>1.498900e+10</td>\n",
       "      <td>1.365220e+11</td>\n",
       "      <td>4.504200e+10</td>\n",
       "      <td>...</td>\n",
       "      <td>False</td>\n",
       "      <td>False</td>\n",
       "      <td>False</td>\n",
       "      <td>False</td>\n",
       "      <td>False</td>\n",
       "      <td>False</td>\n",
       "      <td>False</td>\n",
       "      <td>False</td>\n",
       "      <td>False</td>\n",
       "      <td>2025-02-01</td>\n",
       "    </tr>\n",
       "  </tbody>\n",
       "</table>\n",
       "<p>5 rows × 378 columns</p>\n",
       "</div>"
      ],
      "text/plain": [
       "  Ticker        Date  totalEsg  Tax Effect Of Unusual Items  \\\n",
       "0    XOM  2023-12-31     43.66                          0.0   \n",
       "1    XOM  2022-12-31     43.66                          0.0   \n",
       "2    XOM  2021-12-31     43.66                          0.0   \n",
       "3    XOM  2020-12-31     43.66                          0.0   \n",
       "4    CVX  2023-12-31     38.36                          0.0   \n",
       "\n",
       "   Tax Rate For Calcs  Normalized EBITDA  \\\n",
       "0               0.330       7.427300e+10   \n",
       "1               0.330       1.025910e+11   \n",
       "2               0.310       5.278800e+10   \n",
       "3               0.170       1.828400e+10   \n",
       "4               0.276       4.504200e+10   \n",
       "\n",
       "   Net Income From Continuing Operation Net Minority Interest  \\\n",
       "0                                       3.601000e+10            \n",
       "1                                       5.574000e+10            \n",
       "2                                       2.304000e+10            \n",
       "3                                      -2.244000e+10            \n",
       "4                                       2.136900e+10            \n",
       "\n",
       "   Reconciled Depreciation  Reconciled Cost Of Revenue        EBITDA  ...  \\\n",
       "0             2.064100e+10                2.505550e+11  7.427300e+10  ...   \n",
       "1             2.404000e+10                2.956080e+11  1.025910e+11  ...   \n",
       "2             2.060700e+10                2.118060e+11  5.278800e+10  ...   \n",
       "3             4.600900e+10                1.704470e+11  1.828400e+10  ...   \n",
       "4             1.498900e+10                1.365220e+11  4.504200e+10  ...   \n",
       "\n",
       "   furLeather  gambling    gmo  militaryContract  nuclear  pesticides  \\\n",
       "0       False     False  False             False    False       False   \n",
       "1       False     False  False             False    False       False   \n",
       "2       False     False  False             False    False       False   \n",
       "3       False     False  False             False    False       False   \n",
       "4       False     False  False             False    False       False   \n",
       "\n",
       "   palmOil   coal  tobacco  ratingDate  \n",
       "0    False  False    False  2025-02-01  \n",
       "1    False  False    False  2025-02-01  \n",
       "2    False  False    False  2025-02-01  \n",
       "3    False  False    False  2025-02-01  \n",
       "4    False  False    False  2025-02-01  \n",
       "\n",
       "[5 rows x 378 columns]"
      ]
     },
     "execution_count": 3,
     "metadata": {},
     "output_type": "execute_result"
    }
   ],
   "source": [
    "df = pd.read_csv(\"../data/raw/financial_data.csv\")\n",
    "df.head()"
   ]
  },
  {
   "cell_type": "code",
   "execution_count": 4,
   "metadata": {},
   "outputs": [
    {
     "data": {
      "text/plain": [
       "['Ticker',\n",
       " 'Date',\n",
       " 'totalEsg',\n",
       " 'Tax Effect Of Unusual Items',\n",
       " 'Tax Rate For Calcs',\n",
       " 'Normalized EBITDA',\n",
       " 'Net Income From Continuing Operation Net Minority Interest',\n",
       " 'Reconciled Depreciation',\n",
       " 'Reconciled Cost Of Revenue',\n",
       " 'EBITDA',\n",
       " 'EBIT',\n",
       " 'Net Interest Income',\n",
       " 'Interest Expense',\n",
       " 'Normalized Income',\n",
       " 'Net Income From Continuing And Discontinued Operation',\n",
       " 'Total Expenses',\n",
       " 'Diluted Average Shares',\n",
       " 'Basic Average Shares',\n",
       " 'Diluted EPS',\n",
       " 'Basic EPS',\n",
       " 'Diluted NI Availto Com Stockholders',\n",
       " 'Net Income Common Stockholders',\n",
       " 'Net Income',\n",
       " 'Minority Interests',\n",
       " 'Net Income Including Noncontrolling Interests',\n",
       " 'Net Income Continuous Operations',\n",
       " 'Tax Provision',\n",
       " 'Pretax Income',\n",
       " 'Other Income Expense',\n",
       " 'Other Non Operating Income Expenses',\n",
       " 'Earnings From Equity Interest',\n",
       " 'Net Non Operating Interest Income Expense',\n",
       " 'Interest Expense Non Operating',\n",
       " 'Operating Income',\n",
       " 'Operating Expense',\n",
       " 'Other Operating Expenses',\n",
       " 'Other Taxes',\n",
       " 'Selling General And Administration',\n",
       " 'General And Administrative Expense',\n",
       " 'Other Gand A',\n",
       " 'Salaries And Wages',\n",
       " 'Gross Profit',\n",
       " 'Cost Of Revenue',\n",
       " 'Total Revenue',\n",
       " 'Operating Revenue',\n",
       " 'Treasury Shares Number',\n",
       " 'Ordinary Shares Number',\n",
       " 'Share Issued',\n",
       " 'Net Debt',\n",
       " 'Total Debt',\n",
       " 'Tangible Book Value',\n",
       " 'Invested Capital',\n",
       " 'Working Capital',\n",
       " 'Net Tangible Assets',\n",
       " 'Capital Lease Obligations',\n",
       " 'Common Stock Equity',\n",
       " 'Total Capitalization',\n",
       " 'Total Equity Gross Minority Interest',\n",
       " 'Minority Interest',\n",
       " 'Stockholders Equity',\n",
       " 'Gains Losses Not Affecting Retained Earnings',\n",
       " 'Other Equity Adjustments',\n",
       " 'Treasury Stock',\n",
       " 'Retained Earnings',\n",
       " 'Capital Stock',\n",
       " 'Common Stock',\n",
       " 'Total Liabilities Net Minority Interest',\n",
       " 'Total Non Current Liabilities Net Minority Interest',\n",
       " 'Other Non Current Liabilities',\n",
       " 'Employee Benefits',\n",
       " 'Non Current Pension And Other Postretirement Benefit Plans',\n",
       " 'Dueto Related Parties Non Current',\n",
       " 'Tradeand Other Payables Non Current',\n",
       " 'Non Current Deferred Liabilities',\n",
       " 'Non Current Deferred Taxes Liabilities',\n",
       " 'Long Term Debt And Capital Lease Obligation',\n",
       " 'Long Term Capital Lease Obligation',\n",
       " 'Long Term Debt',\n",
       " 'Current Liabilities',\n",
       " 'Current Debt And Capital Lease Obligation',\n",
       " 'Current Debt',\n",
       " 'Other Current Borrowings',\n",
       " 'Line Of Credit',\n",
       " 'Commercial Paper',\n",
       " 'Payables And Accrued Expenses',\n",
       " 'Payables',\n",
       " 'Other Payable',\n",
       " 'Dueto Related Parties Current',\n",
       " 'Total Tax Payable',\n",
       " 'Income Tax Payable',\n",
       " 'Accounts Payable',\n",
       " 'Total Assets',\n",
       " 'Total Non Current Assets',\n",
       " 'Other Non Current Assets',\n",
       " 'Non Current Prepaid Assets',\n",
       " 'Non Current Accounts Receivable',\n",
       " 'Investments And Advances',\n",
       " 'Investmentin Financial Assets',\n",
       " 'Available For Sale Securities',\n",
       " 'Long Term Equity Investment',\n",
       " 'Net PPE',\n",
       " 'Accumulated Depreciation',\n",
       " 'Gross PPE',\n",
       " 'Other Properties',\n",
       " 'Current Assets',\n",
       " 'Other Current Assets',\n",
       " 'Restricted Cash',\n",
       " 'Inventory',\n",
       " 'Finished Goods',\n",
       " 'Raw Materials',\n",
       " 'Receivables',\n",
       " 'Other Receivables',\n",
       " 'Accounts Receivable',\n",
       " 'Allowance For Doubtful Accounts Receivable',\n",
       " 'Gross Accounts Receivable',\n",
       " 'Cash Cash Equivalents And Short Term Investments',\n",
       " 'Cash And Cash Equivalents',\n",
       " 'Free Cash Flow',\n",
       " 'Repurchase Of Capital Stock',\n",
       " 'Repayment Of Debt',\n",
       " 'Issuance Of Debt',\n",
       " 'Capital Expenditure',\n",
       " 'End Cash Position',\n",
       " 'Beginning Cash Position',\n",
       " 'Effect Of Exchange Rate Changes',\n",
       " 'Changes In Cash',\n",
       " 'Financing Cash Flow',\n",
       " 'Cash Flow From Continuing Financing Activities',\n",
       " 'Net Other Financing Charges',\n",
       " 'Cash Dividends Paid',\n",
       " 'Common Stock Dividend Paid',\n",
       " 'Net Common Stock Issuance',\n",
       " 'Common Stock Payments',\n",
       " 'Net Issuance Payments Of Debt',\n",
       " 'Net Short Term Debt Issuance',\n",
       " 'Short Term Debt Payments',\n",
       " 'Short Term Debt Issuance',\n",
       " 'Net Long Term Debt Issuance',\n",
       " 'Long Term Debt Payments',\n",
       " 'Long Term Debt Issuance',\n",
       " 'Investing Cash Flow',\n",
       " 'Cash Flow From Continuing Investing Activities',\n",
       " 'Net Other Investing Changes',\n",
       " 'Net Investment Purchase And Sale',\n",
       " 'Purchase Of Investment',\n",
       " 'Net Business Purchase And Sale',\n",
       " 'Sale Of Business',\n",
       " 'Net PPE Purchase And Sale',\n",
       " 'Purchase Of PPE',\n",
       " 'Operating Cash Flow',\n",
       " 'Cash Flow From Continuing Operating Activities',\n",
       " 'Dividend Received Cfo',\n",
       " 'Dividend Paid Cfo',\n",
       " 'Change In Working Capital',\n",
       " 'Change In Other Current Assets',\n",
       " 'Change In Payables And Accrued Expense',\n",
       " 'Change In Payable',\n",
       " 'Change In Inventory',\n",
       " 'Change In Receivables',\n",
       " 'Other Non Cash Items',\n",
       " 'Provisionand Write Offof Assets',\n",
       " 'Deferred Tax',\n",
       " 'Deferred Income Tax',\n",
       " 'Depreciation Amortization Depletion',\n",
       " 'Operating Gains Losses',\n",
       " 'Pension And Employee Benefit Expense',\n",
       " 'Net Income From Continuing Operations',\n",
       " 'Total Unusual Items',\n",
       " 'Total Unusual Items Excluding Goodwill',\n",
       " 'Interest Income',\n",
       " 'Otherunder Preferred Stock Dividend',\n",
       " 'Preferred Stock Dividends',\n",
       " 'Special Income Charges',\n",
       " 'Other Special Charges',\n",
       " 'Impairment Of Capital Assets',\n",
       " 'Total Other Finance Cost',\n",
       " 'Interest Income Non Operating',\n",
       " 'Selling And Marketing Expense',\n",
       " 'Preferred Shares Number',\n",
       " 'Preferred Stock Equity',\n",
       " 'Additional Paid In Capital',\n",
       " 'Preferred Stock',\n",
       " 'Derivative Product Liabilities',\n",
       " 'Non Current Accrued Expenses',\n",
       " 'Long Term Provisions',\n",
       " 'Current Capital Lease Obligation',\n",
       " 'Current Provisions',\n",
       " 'Defined Pension Benefit',\n",
       " 'Non Current Deferred Taxes Assets',\n",
       " 'Financial Assets',\n",
       " 'Other Investments',\n",
       " 'Financial Assets Designatedas Fair Value Through Profitor Loss Total',\n",
       " 'Investmentsin Joint Venturesat Cost',\n",
       " 'Investmentsin Associatesat Cost',\n",
       " 'Goodwill And Other Intangible Assets',\n",
       " 'Other Intangible Assets',\n",
       " 'Goodwill',\n",
       " 'Machinery Furniture Equipment',\n",
       " 'Buildings And Improvements',\n",
       " 'Land And Improvements',\n",
       " 'Properties',\n",
       " 'Hedging Assets Current',\n",
       " 'Assets Held For Sale Current',\n",
       " 'Prepaid Assets',\n",
       " 'Other Inventories',\n",
       " 'Taxes Receivable',\n",
       " 'Other Short Term Investments',\n",
       " 'Preferred Stock Dividend Paid',\n",
       " 'Purchase Of Business',\n",
       " 'Sale Of PPE',\n",
       " 'Capital Expenditure Reported',\n",
       " 'Taxes Refund Paid',\n",
       " 'Interest Received Cfo',\n",
       " 'Interest Paid Cfo',\n",
       " 'Change In Other Current Liabilities',\n",
       " 'Stock Based Compensation',\n",
       " 'Depreciation And Amortization',\n",
       " 'Depreciation',\n",
       " 'Gain Loss On Investment Securities',\n",
       " 'Gain On Sale Of Ppe',\n",
       " 'Gain On Sale Of Security',\n",
       " 'Excise Taxes',\n",
       " 'Foreign Currency Translation Adjustments',\n",
       " 'Other Current Liabilities',\n",
       " 'Current Deferred Liabilities',\n",
       " 'Current Deferred Revenue',\n",
       " 'Current Accrued Expenses',\n",
       " 'Non Current Deferred Assets',\n",
       " 'Non Current Note Receivables',\n",
       " 'Construction In Progress',\n",
       " 'Cash Equivalents',\n",
       " 'Cash Financial',\n",
       " 'Issuance Of Capital Stock',\n",
       " 'Interest Paid Supplemental Data',\n",
       " 'Income Tax Paid Supplemental Data',\n",
       " 'Common Stock Issuance',\n",
       " 'Sale Of Investment',\n",
       " 'Net Intangibles Purchase And Sale',\n",
       " 'Sale Of Intangibles',\n",
       " 'Purchase Of Intangibles',\n",
       " 'Change In Other Working Capital',\n",
       " 'Change In Account Payable',\n",
       " 'Changes In Account Receivables',\n",
       " 'Earnings Losses From Equity Investments',\n",
       " 'Minimum Pension Liabilities',\n",
       " 'Unrealized Gain Loss',\n",
       " 'Non Current Deferred Revenue',\n",
       " 'Proceeds From Stock Option Exercised',\n",
       " 'Change In Tax Payable',\n",
       " 'Change In Income Tax Payable',\n",
       " 'Change In Prepaid Assets',\n",
       " 'Asset Impairment Charge',\n",
       " 'Depletion',\n",
       " 'Net Foreign Currency Exchange Gain Loss',\n",
       " 'Rent Expense Supplemental',\n",
       " 'Total Operating Income As Reported',\n",
       " 'Research And Development',\n",
       " 'Rent And Landing Fees',\n",
       " 'Dividends Payable',\n",
       " 'Interest Paid Cff',\n",
       " 'Interest Received Cfi',\n",
       " 'Dividends Received Cfi',\n",
       " 'Gain Loss On Sale Of PPE',\n",
       " 'Gain Loss On Sale Of Business',\n",
       " 'Gain On Sale Of Business',\n",
       " 'Write Off',\n",
       " 'Current Notes Payable',\n",
       " 'Investmentsin Subsidiariesat Cost',\n",
       " 'Work In Process',\n",
       " 'Duefrom Related Parties Current',\n",
       " 'Other Equity Interest',\n",
       " 'Held To Maturity Securities',\n",
       " 'Net Income Discontinuous Operations',\n",
       " 'Restructuring And Mergern Acquisition',\n",
       " 'Other Cash Adjustment Outside Changein Cash',\n",
       " 'Provision For Doubtful Accounts',\n",
       " 'Depreciation Amortization Depletion Income Statement',\n",
       " 'Pensionand Other Post Retirement Benefit Plans Current',\n",
       " 'Leases',\n",
       " 'Cash From Discontinued Financing Activities',\n",
       " 'Cash From Discontinued Investing Activities',\n",
       " 'Cash From Discontinued Operating Activities',\n",
       " 'Amortization Cash Flow',\n",
       " 'Amortization Of Intangibles',\n",
       " 'Inventories Adjustments Allowances',\n",
       " 'Unrealized Gain Loss On Investment Securities',\n",
       " 'Net Income Extraordinary',\n",
       " 'Current Deferred Assets',\n",
       " 'Cash Flowsfromusedin Operating Activities Direct',\n",
       " 'Taxes Refund Paid Direct',\n",
       " 'Dividends Received Direct',\n",
       " 'Classesof Cash Payments',\n",
       " 'Other Cash Paymentsfrom Operating Activities',\n",
       " 'Paymentson Behalfof Employees',\n",
       " 'Paymentsto Suppliersfor Goodsand Services',\n",
       " 'Classesof Cash Receiptsfrom Operating Activities',\n",
       " 'Receiptsfrom Customers',\n",
       " 'Depreciation And Amortization In Income Statement',\n",
       " 'Depreciation Income Statement',\n",
       " 'Duefrom Related Parties Non Current',\n",
       " 'Investment Properties',\n",
       " 'Liabilities Heldfor Sale Non Current',\n",
       " 'Interest Payable',\n",
       " 'Loans Receivable',\n",
       " 'Current Deferred Taxes Liabilities',\n",
       " 'Interest Received Direct',\n",
       " 'Interest Paid Direct',\n",
       " 'Other Cash Receiptsfrom Operating Activities',\n",
       " 'Change In Accrued Expense',\n",
       " 'Amortization',\n",
       " 'Amortization Of Intangibles Income Statement',\n",
       " 'Insurance And Claims',\n",
       " 'Receivables Adjustments Allowances',\n",
       " 'Average Dilution Earnings',\n",
       " 'Trading Securities',\n",
       " 'Accrued Interest Receivable',\n",
       " 'Cash Flow From Discontinued Operation',\n",
       " 'Investments In Other Ventures Under Equity Method',\n",
       " 'Other Cash Adjustment Inside Changein Cash',\n",
       " 'Notes Receivable',\n",
       " 'Preferred Securities Outside Stock Equity',\n",
       " 'Earnings From Equity Interest Net Of Tax',\n",
       " 'Net Preferred Stock Issuance',\n",
       " 'Preferred Stock Issuance',\n",
       " 'Amortization Of Securities',\n",
       " 'Net Investment Properties Purchase And Sale',\n",
       " 'Sale Of Investment Properties',\n",
       " 'Occupancy And Equipment',\n",
       " 'Professional Expense And Contract Services Expense',\n",
       " 'Other Non Interest Expense',\n",
       " 'Cash Cash Equivalents And Federal Funds Sold',\n",
       " 'Preferred Stock Payments',\n",
       " 'Fixed Assets Revaluation Reserve',\n",
       " 'Net Policyholder Benefits And Claims',\n",
       " 'Purchase Of Investment Properties',\n",
       " 'Net Income From Tax Loss Carryforward',\n",
       " 'Current Deferred Taxes Assets',\n",
       " 'Excess Tax Benefit From Stock Based Compensation',\n",
       " 'Change In Interest Payable',\n",
       " 'Receiptsfrom Government Grants',\n",
       " 'Securities Amortization',\n",
       " 'Dividends Paid Direct',\n",
       " 'maxAge',\n",
       " 'environmentScore',\n",
       " 'socialScore',\n",
       " 'governanceScore',\n",
       " 'ratingYear',\n",
       " 'ratingMonth',\n",
       " 'highestControversy',\n",
       " 'peerCount',\n",
       " 'esgPerformance',\n",
       " 'peerGroup',\n",
       " 'relatedControversy',\n",
       " 'peerEsgScorePerformance',\n",
       " 'peerGovernancePerformance',\n",
       " 'peerSocialPerformance',\n",
       " 'peerEnvironmentPerformance',\n",
       " 'peerHighestControversyPerformance',\n",
       " 'percentile',\n",
       " 'environmentPercentile',\n",
       " 'socialPercentile',\n",
       " 'governancePercentile',\n",
       " 'adult',\n",
       " 'alcoholic',\n",
       " 'animalTesting',\n",
       " 'catholic',\n",
       " 'controversialWeapons',\n",
       " 'smallArms',\n",
       " 'furLeather',\n",
       " 'gambling',\n",
       " 'gmo',\n",
       " 'militaryContract',\n",
       " 'nuclear',\n",
       " 'pesticides',\n",
       " 'palmOil',\n",
       " 'coal',\n",
       " 'tobacco',\n",
       " 'ratingDate']"
      ]
     },
     "execution_count": 4,
     "metadata": {},
     "output_type": "execute_result"
    }
   ],
   "source": [
    "df.columns.tolist()"
   ]
  },
  {
   "cell_type": "code",
   "execution_count": 5,
   "metadata": {},
   "outputs": [
    {
     "data": {
      "text/plain": [
       "Index(['Ticker', 'Date', 'totalEsg', 'maxAge', 'ratingYear', 'ratingMonth',\n",
       "       'highestControversy', 'peerCount', 'esgPerformance', 'peerGroup',\n",
       "       'peerEsgScorePerformance', 'peerGovernancePerformance',\n",
       "       'peerSocialPerformance', 'peerEnvironmentPerformance',\n",
       "       'peerHighestControversyPerformance', 'adult', 'alcoholic',\n",
       "       'animalTesting', 'controversialWeapons', 'smallArms', 'furLeather',\n",
       "       'gambling', 'gmo', 'militaryContract', 'nuclear', 'pesticides',\n",
       "       'palmOil', 'coal', 'tobacco', 'ratingDate'],\n",
       "      dtype='object')"
      ]
     },
     "execution_count": 5,
     "metadata": {},
     "output_type": "execute_result"
    }
   ],
   "source": [
    "# checking which columns aren't null\n",
    "df.columns[~df.isna().any()]"
   ]
  },
  {
   "cell_type": "markdown",
   "metadata": {},
   "source": [
    "basically all the financial data has missing values somewhere that needs to be further analyzed"
   ]
  },
  {
   "cell_type": "code",
   "execution_count": 6,
   "metadata": {},
   "outputs": [],
   "source": [
    "null_columns = df.columns[df.isna().any()]"
   ]
  },
  {
   "cell_type": "code",
   "execution_count": 7,
   "metadata": {},
   "outputs": [
    {
     "data": {
      "text/plain": [
       "Tax Effect Of Unusual Items                                     98\n",
       "Tax Rate For Calcs                                              98\n",
       "Normalized EBITDA                                              261\n",
       "Net Income From Continuing Operation Net Minority Interest      98\n",
       "Reconciled Depreciation                                        110\n",
       "                                                              ... \n",
       "percentile                                                    1378\n",
       "environmentPercentile                                         1530\n",
       "socialPercentile                                              1530\n",
       "governancePercentile                                          1530\n",
       "catholic                                                      1378\n",
       "Length: 348, dtype: int64"
      ]
     },
     "execution_count": 7,
     "metadata": {},
     "output_type": "execute_result"
    }
   ],
   "source": [
    "df[null_columns].isna().sum()"
   ]
  },
  {
   "cell_type": "code",
   "execution_count": 8,
   "metadata": {},
   "outputs": [
    {
     "data": {
      "text/plain": [
       "governancePercentile                    1.000000\n",
       "socialPercentile                        1.000000\n",
       "environmentPercentile                   1.000000\n",
       "Dividends Paid Direct                   1.000000\n",
       "Net Policyholder Benefits And Claims    0.998039\n",
       "                                          ...   \n",
       "Changes In Cash                         0.062745\n",
       "governanceScore                         0.037255\n",
       "socialScore                             0.037255\n",
       "environmentScore                        0.037255\n",
       "relatedControversy                      0.005229\n",
       "Length: 348, dtype: float64"
      ]
     },
     "execution_count": 8,
     "metadata": {},
     "output_type": "execute_result"
    }
   ],
   "source": [
    "# calculate the proportion of missing values per feature\n",
    "missing_proportions = df[null_columns].isna().mean()\n",
    "missing_proportions = missing_proportions.sort_values(ascending=False)\n",
    "missing_proportions"
   ]
  },
  {
   "cell_type": "code",
   "execution_count": 9,
   "metadata": {},
   "outputs": [
    {
     "data": {
      "text/plain": [
       "137"
      ]
     },
     "execution_count": 9,
     "metadata": {},
     "output_type": "execute_result"
    }
   ],
   "source": [
    "len(missing_proportions[missing_proportions > 0.7].index)"
   ]
  },
  {
   "cell_type": "code",
   "execution_count": 10,
   "metadata": {},
   "outputs": [],
   "source": [
    "# filter out features with more than 50% missing values\n",
    "df_dropped = df.drop(missing_proportions[missing_proportions > 0.5].index, axis=1)"
   ]
  },
  {
   "cell_type": "code",
   "execution_count": null,
   "metadata": {},
   "outputs": [
    {
     "name": "stderr",
     "output_type": "stream",
     "text": [
      "C:\\Users\\Mishaal\\AppData\\Local\\Temp\\ipykernel_22364\\388043668.py:2: FutureWarning: DataFrame.fillna with 'method' is deprecated and will raise in a future version. Use obj.ffill() or obj.bfill() instead.\n",
      "  df_dropped = df_dropped.fillna(method='bfill', axis=0)\n"
     ]
    }
   ],
   "source": [
    "# backward fill the remaining missing values (temporary bandaid fix for all features, could be perma for some)\n",
    "df_dropped = df_dropped.fillna(method='bfill', axis=0)"
   ]
  },
  {
   "cell_type": "code",
   "execution_count": 44,
   "metadata": {},
   "outputs": [
    {
     "data": {
      "text/plain": [
       "Other Operating Expenses              4\n",
       "Selling General And Administration    4\n",
       "General And Administrative Expense    4\n",
       "Capital Lease Obligations             4\n",
       "Long Term Capital Lease Obligation    4\n",
       "Accounts Payable                      4\n",
       "Raw Materials                         4\n",
       "Other Receivables                     2\n",
       "Capital Expenditure                   4\n",
       "Net PPE Purchase And Sale             4\n",
       "Purchase Of PPE                       4\n",
       "Deferred Tax                          4\n",
       "Current Capital Lease Obligation      4\n",
       "Machinery Furniture Equipment         4\n",
       "Prepaid Assets                        4\n",
       "Other Short Term Investments          6\n",
       "Sale Of PPE                           4\n",
       "dtype: int64"
      ]
     },
     "execution_count": 44,
     "metadata": {},
     "output_type": "execute_result"
    }
   ],
   "source": [
    "df_dropped[null_columns.intersection(df_dropped.columns)].isna().sum()[df_dropped[null_columns.intersection(df_dropped.columns)].isna().sum() > 0]"
   ]
  },
  {
   "cell_type": "code",
   "execution_count": 19,
   "metadata": {},
   "outputs": [
    {
     "data": {
      "text/html": [
       "<div>\n",
       "<style scoped>\n",
       "    .dataframe tbody tr th:only-of-type {\n",
       "        vertical-align: middle;\n",
       "    }\n",
       "\n",
       "    .dataframe tbody tr th {\n",
       "        vertical-align: top;\n",
       "    }\n",
       "\n",
       "    .dataframe thead th {\n",
       "        text-align: right;\n",
       "    }\n",
       "</style>\n",
       "<table border=\"1\" class=\"dataframe\">\n",
       "  <thead>\n",
       "    <tr style=\"text-align: right;\">\n",
       "      <th></th>\n",
       "      <th>Ticker</th>\n",
       "      <th>Date</th>\n",
       "      <th>totalEsg</th>\n",
       "      <th>Tax Effect Of Unusual Items</th>\n",
       "      <th>Tax Rate For Calcs</th>\n",
       "      <th>Normalized EBITDA</th>\n",
       "      <th>Net Income From Continuing Operation Net Minority Interest</th>\n",
       "      <th>Reconciled Depreciation</th>\n",
       "      <th>Reconciled Cost Of Revenue</th>\n",
       "      <th>EBITDA</th>\n",
       "      <th>...</th>\n",
       "      <th>furLeather</th>\n",
       "      <th>gambling</th>\n",
       "      <th>gmo</th>\n",
       "      <th>militaryContract</th>\n",
       "      <th>nuclear</th>\n",
       "      <th>pesticides</th>\n",
       "      <th>palmOil</th>\n",
       "      <th>coal</th>\n",
       "      <th>tobacco</th>\n",
       "      <th>ratingDate</th>\n",
       "    </tr>\n",
       "  </thead>\n",
       "  <tbody>\n",
       "    <tr>\n",
       "      <th>0</th>\n",
       "      <td>XOM</td>\n",
       "      <td>2023-12-31</td>\n",
       "      <td>43.66</td>\n",
       "      <td>0.0</td>\n",
       "      <td>0.330</td>\n",
       "      <td>7.427300e+10</td>\n",
       "      <td>3.601000e+10</td>\n",
       "      <td>2.064100e+10</td>\n",
       "      <td>2.505550e+11</td>\n",
       "      <td>7.427300e+10</td>\n",
       "      <td>...</td>\n",
       "      <td>False</td>\n",
       "      <td>False</td>\n",
       "      <td>False</td>\n",
       "      <td>False</td>\n",
       "      <td>False</td>\n",
       "      <td>False</td>\n",
       "      <td>False</td>\n",
       "      <td>False</td>\n",
       "      <td>False</td>\n",
       "      <td>2025-02-01</td>\n",
       "    </tr>\n",
       "    <tr>\n",
       "      <th>1</th>\n",
       "      <td>XOM</td>\n",
       "      <td>2022-12-31</td>\n",
       "      <td>43.66</td>\n",
       "      <td>0.0</td>\n",
       "      <td>0.330</td>\n",
       "      <td>1.025910e+11</td>\n",
       "      <td>5.574000e+10</td>\n",
       "      <td>2.404000e+10</td>\n",
       "      <td>2.956080e+11</td>\n",
       "      <td>1.025910e+11</td>\n",
       "      <td>...</td>\n",
       "      <td>False</td>\n",
       "      <td>False</td>\n",
       "      <td>False</td>\n",
       "      <td>False</td>\n",
       "      <td>False</td>\n",
       "      <td>False</td>\n",
       "      <td>False</td>\n",
       "      <td>False</td>\n",
       "      <td>False</td>\n",
       "      <td>2025-02-01</td>\n",
       "    </tr>\n",
       "    <tr>\n",
       "      <th>2</th>\n",
       "      <td>XOM</td>\n",
       "      <td>2021-12-31</td>\n",
       "      <td>43.66</td>\n",
       "      <td>0.0</td>\n",
       "      <td>0.310</td>\n",
       "      <td>5.278800e+10</td>\n",
       "      <td>2.304000e+10</td>\n",
       "      <td>2.060700e+10</td>\n",
       "      <td>2.118060e+11</td>\n",
       "      <td>5.278800e+10</td>\n",
       "      <td>...</td>\n",
       "      <td>False</td>\n",
       "      <td>False</td>\n",
       "      <td>False</td>\n",
       "      <td>False</td>\n",
       "      <td>False</td>\n",
       "      <td>False</td>\n",
       "      <td>False</td>\n",
       "      <td>False</td>\n",
       "      <td>False</td>\n",
       "      <td>2025-02-01</td>\n",
       "    </tr>\n",
       "    <tr>\n",
       "      <th>3</th>\n",
       "      <td>XOM</td>\n",
       "      <td>2020-12-31</td>\n",
       "      <td>43.66</td>\n",
       "      <td>0.0</td>\n",
       "      <td>0.170</td>\n",
       "      <td>1.828400e+10</td>\n",
       "      <td>-2.244000e+10</td>\n",
       "      <td>4.600900e+10</td>\n",
       "      <td>1.704470e+11</td>\n",
       "      <td>1.828400e+10</td>\n",
       "      <td>...</td>\n",
       "      <td>False</td>\n",
       "      <td>False</td>\n",
       "      <td>False</td>\n",
       "      <td>False</td>\n",
       "      <td>False</td>\n",
       "      <td>False</td>\n",
       "      <td>False</td>\n",
       "      <td>False</td>\n",
       "      <td>False</td>\n",
       "      <td>2025-02-01</td>\n",
       "    </tr>\n",
       "    <tr>\n",
       "      <th>4</th>\n",
       "      <td>CVX</td>\n",
       "      <td>2023-12-31</td>\n",
       "      <td>38.36</td>\n",
       "      <td>0.0</td>\n",
       "      <td>0.276</td>\n",
       "      <td>4.504200e+10</td>\n",
       "      <td>2.136900e+10</td>\n",
       "      <td>1.498900e+10</td>\n",
       "      <td>1.365220e+11</td>\n",
       "      <td>4.504200e+10</td>\n",
       "      <td>...</td>\n",
       "      <td>False</td>\n",
       "      <td>False</td>\n",
       "      <td>False</td>\n",
       "      <td>False</td>\n",
       "      <td>False</td>\n",
       "      <td>False</td>\n",
       "      <td>False</td>\n",
       "      <td>False</td>\n",
       "      <td>False</td>\n",
       "      <td>2025-02-01</td>\n",
       "    </tr>\n",
       "  </tbody>\n",
       "</table>\n",
       "<p>5 rows × 186 columns</p>\n",
       "</div>"
      ],
      "text/plain": [
       "  Ticker        Date  totalEsg  Tax Effect Of Unusual Items  \\\n",
       "0    XOM  2023-12-31     43.66                          0.0   \n",
       "1    XOM  2022-12-31     43.66                          0.0   \n",
       "2    XOM  2021-12-31     43.66                          0.0   \n",
       "3    XOM  2020-12-31     43.66                          0.0   \n",
       "4    CVX  2023-12-31     38.36                          0.0   \n",
       "\n",
       "   Tax Rate For Calcs  Normalized EBITDA  \\\n",
       "0               0.330       7.427300e+10   \n",
       "1               0.330       1.025910e+11   \n",
       "2               0.310       5.278800e+10   \n",
       "3               0.170       1.828400e+10   \n",
       "4               0.276       4.504200e+10   \n",
       "\n",
       "   Net Income From Continuing Operation Net Minority Interest  \\\n",
       "0                                       3.601000e+10            \n",
       "1                                       5.574000e+10            \n",
       "2                                       2.304000e+10            \n",
       "3                                      -2.244000e+10            \n",
       "4                                       2.136900e+10            \n",
       "\n",
       "   Reconciled Depreciation  Reconciled Cost Of Revenue        EBITDA  ...  \\\n",
       "0             2.064100e+10                2.505550e+11  7.427300e+10  ...   \n",
       "1             2.404000e+10                2.956080e+11  1.025910e+11  ...   \n",
       "2             2.060700e+10                2.118060e+11  5.278800e+10  ...   \n",
       "3             4.600900e+10                1.704470e+11  1.828400e+10  ...   \n",
       "4             1.498900e+10                1.365220e+11  4.504200e+10  ...   \n",
       "\n",
       "   furLeather  gambling    gmo  militaryContract  nuclear  pesticides  \\\n",
       "0       False     False  False             False    False       False   \n",
       "1       False     False  False             False    False       False   \n",
       "2       False     False  False             False    False       False   \n",
       "3       False     False  False             False    False       False   \n",
       "4       False     False  False             False    False       False   \n",
       "\n",
       "   palmOil   coal  tobacco  ratingDate  \n",
       "0    False  False    False  2025-02-01  \n",
       "1    False  False    False  2025-02-01  \n",
       "2    False  False    False  2025-02-01  \n",
       "3    False  False    False  2025-02-01  \n",
       "4    False  False    False  2025-02-01  \n",
       "\n",
       "[5 rows x 186 columns]"
      ]
     },
     "execution_count": 19,
     "metadata": {},
     "output_type": "execute_result"
    }
   ],
   "source": [
    "df_dropped.head()"
   ]
  },
  {
   "cell_type": "markdown",
   "metadata": {},
   "source": [
    "# Visualizations"
   ]
  },
  {
   "cell_type": "code",
   "execution_count": 8,
   "metadata": {},
   "outputs": [
    {
     "data": {
      "image/png": "[encoded data removed]",
      "text/plain": [
       "<Figure size 1200x600 with 1 Axes>"
      ]
     },
     "metadata": {},
     "output_type": "display_data"
    }
   ],
   "source": [
    "date_counts = df.groupby('Date').size().reset_index(name='count')\n",
    "\n",
    "plt.figure(figsize=(12, 6))\n",
    "colors = sns.color_palette(\"GnBu_d\", len(date_counts))\n",
    "sns.barplot(data=date_counts, x='Date', y='count', palette=colors, hue='Date', legend=False)\n",
    "\n",
    "plt.xticks(rotation=90) \n",
    "plt.xlabel(\"Date\")\n",
    "plt.ylabel(\"Data Points\")\n",
    "plt.title(\"Data Count Per Record Date\")\n",
    "plt.tight_layout()\n",
    "plt.show()"
   ]
  },
  {
   "cell_type": "code",
   "execution_count": 9,
   "metadata": {},
   "outputs": [
    {
     "data": {
      "image/png": "[encoded data removed]",
      "text/plain": [
       "<Figure size 1200x600 with 1 Axes>"
      ]
     },
     "metadata": {},
     "output_type": "display_data"
    }
   ],
   "source": [
    "date_counts = df.groupby('ratingYear').size().reset_index(name='count')\n",
    "\n",
    "plt.figure(figsize=(12, 6))\n",
    "colors = sns.color_palette(\"GnBu_d\", len(date_counts))\n",
    "sns.barplot(data=date_counts, x='ratingYear', y='count', palette=colors, hue='ratingYear', legend=False)\n",
    "\n",
    "plt.xticks(rotation=90) \n",
    "plt.xlabel(\"ratingYear\")\n",
    "plt.ylabel(\"Data Points\")\n",
    "plt.title(\"Data Count Per ESG Rating Year\")\n",
    "plt.tight_layout()\n",
    "plt.show()"
   ]
  },
  {
   "cell_type": "code",
   "execution_count": 11,
   "metadata": {},
   "outputs": [
    {
     "data": {
      "text/plain": [
       "['Ticker',\n",
       " 'Date',\n",
       " 'totalEsg',\n",
       " 'Tax Effect Of Unusual Items',\n",
       " 'Tax Rate For Calcs',\n",
       " 'Normalized EBITDA',\n",
       " 'Net Income From Continuing Operation Net Minority Interest',\n",
       " 'Reconciled Depreciation',\n",
       " 'Reconciled Cost Of Revenue',\n",
       " 'EBITDA',\n",
       " 'EBIT',\n",
       " 'Net Interest Income',\n",
       " 'Interest Expense',\n",
       " 'Normalized Income',\n",
       " 'Net Income From Continuing And Discontinued Operation',\n",
       " 'Total Expenses',\n",
       " 'Diluted Average Shares',\n",
       " 'Basic Average Shares',\n",
       " 'Diluted EPS',\n",
       " 'Basic EPS',\n",
       " 'Diluted NI Availto Com Stockholders',\n",
       " 'Net Income Common Stockholders',\n",
       " 'Net Income',\n",
       " 'Minority Interests',\n",
       " 'Net Income Including Noncontrolling Interests',\n",
       " 'Net Income Continuous Operations',\n",
       " 'Tax Provision',\n",
       " 'Pretax Income',\n",
       " 'Other Income Expense',\n",
       " 'Other Non Operating Income Expenses',\n",
       " 'Earnings From Equity Interest',\n",
       " 'Net Non Operating Interest Income Expense',\n",
       " 'Interest Expense Non Operating',\n",
       " 'Operating Income',\n",
       " 'Operating Expense',\n",
       " 'Other Operating Expenses',\n",
       " 'Other Taxes',\n",
       " 'Selling General And Administration',\n",
       " 'General And Administrative Expense',\n",
       " 'Other Gand A',\n",
       " 'Salaries And Wages',\n",
       " 'Gross Profit',\n",
       " 'Cost Of Revenue',\n",
       " 'Total Revenue',\n",
       " 'Operating Revenue',\n",
       " 'Treasury Shares Number',\n",
       " 'Ordinary Shares Number',\n",
       " 'Share Issued',\n",
       " 'Net Debt',\n",
       " 'Total Debt',\n",
       " 'Tangible Book Value',\n",
       " 'Invested Capital',\n",
       " 'Working Capital',\n",
       " 'Net Tangible Assets',\n",
       " 'Capital Lease Obligations',\n",
       " 'Common Stock Equity',\n",
       " 'Total Capitalization',\n",
       " 'Total Equity Gross Minority Interest',\n",
       " 'Minority Interest',\n",
       " 'Stockholders Equity',\n",
       " 'Gains Losses Not Affecting Retained Earnings',\n",
       " 'Other Equity Adjustments',\n",
       " 'Treasury Stock',\n",
       " 'Retained Earnings',\n",
       " 'Capital Stock',\n",
       " 'Common Stock',\n",
       " 'Total Liabilities Net Minority Interest',\n",
       " 'Total Non Current Liabilities Net Minority Interest',\n",
       " 'Other Non Current Liabilities',\n",
       " 'Employee Benefits',\n",
       " 'Non Current Pension And Other Postretirement Benefit Plans',\n",
       " 'Dueto Related Parties Non Current',\n",
       " 'Tradeand Other Payables Non Current',\n",
       " 'Non Current Deferred Liabilities',\n",
       " 'Non Current Deferred Taxes Liabilities',\n",
       " 'Long Term Debt And Capital Lease Obligation',\n",
       " 'Long Term Capital Lease Obligation',\n",
       " 'Long Term Debt',\n",
       " 'Current Liabilities',\n",
       " 'Current Debt And Capital Lease Obligation',\n",
       " 'Current Debt',\n",
       " 'Other Current Borrowings',\n",
       " 'Line Of Credit',\n",
       " 'Commercial Paper',\n",
       " 'Payables And Accrued Expenses',\n",
       " 'Payables',\n",
       " 'Other Payable',\n",
       " 'Dueto Related Parties Current',\n",
       " 'Total Tax Payable',\n",
       " 'Income Tax Payable',\n",
       " 'Accounts Payable',\n",
       " 'Total Assets',\n",
       " 'Total Non Current Assets',\n",
       " 'Other Non Current Assets',\n",
       " 'Non Current Prepaid Assets',\n",
       " 'Non Current Accounts Receivable',\n",
       " 'Investments And Advances',\n",
       " 'Investmentin Financial Assets',\n",
       " 'Available For Sale Securities',\n",
       " 'Long Term Equity Investment',\n",
       " 'Net PPE',\n",
       " 'Accumulated Depreciation',\n",
       " 'Gross PPE',\n",
       " 'Other Properties',\n",
       " 'Current Assets',\n",
       " 'Other Current Assets',\n",
       " 'Restricted Cash',\n",
       " 'Inventory',\n",
       " 'Finished Goods',\n",
       " 'Raw Materials',\n",
       " 'Receivables',\n",
       " 'Other Receivables',\n",
       " 'Accounts Receivable',\n",
       " 'Allowance For Doubtful Accounts Receivable',\n",
       " 'Gross Accounts Receivable',\n",
       " 'Cash Cash Equivalents And Short Term Investments',\n",
       " 'Cash And Cash Equivalents',\n",
       " 'Free Cash Flow',\n",
       " 'Repurchase Of Capital Stock',\n",
       " 'Repayment Of Debt',\n",
       " 'Issuance Of Debt',\n",
       " 'Capital Expenditure',\n",
       " 'End Cash Position',\n",
       " 'Beginning Cash Position',\n",
       " 'Effect Of Exchange Rate Changes',\n",
       " 'Changes In Cash',\n",
       " 'Financing Cash Flow',\n",
       " 'Cash Flow From Continuing Financing Activities',\n",
       " 'Net Other Financing Charges',\n",
       " 'Cash Dividends Paid',\n",
       " 'Common Stock Dividend Paid',\n",
       " 'Net Common Stock Issuance',\n",
       " 'Common Stock Payments',\n",
       " 'Net Issuance Payments Of Debt',\n",
       " 'Net Short Term Debt Issuance',\n",
       " 'Short Term Debt Payments',\n",
       " 'Short Term Debt Issuance',\n",
       " 'Net Long Term Debt Issuance',\n",
       " 'Long Term Debt Payments',\n",
       " 'Long Term Debt Issuance',\n",
       " 'Investing Cash Flow',\n",
       " 'Cash Flow From Continuing Investing Activities',\n",
       " 'Net Other Investing Changes',\n",
       " 'Net Investment Purchase And Sale',\n",
       " 'Purchase Of Investment',\n",
       " 'Net Business Purchase And Sale',\n",
       " 'Sale Of Business',\n",
       " 'Net PPE Purchase And Sale',\n",
       " 'Purchase Of PPE',\n",
       " 'Operating Cash Flow',\n",
       " 'Cash Flow From Continuing Operating Activities',\n",
       " 'Dividend Received Cfo',\n",
       " 'Dividend Paid Cfo',\n",
       " 'Change In Working Capital',\n",
       " 'Change In Other Current Assets',\n",
       " 'Change In Payables And Accrued Expense',\n",
       " 'Change In Payable',\n",
       " 'Change In Inventory',\n",
       " 'Change In Receivables',\n",
       " 'Other Non Cash Items',\n",
       " 'Provisionand Write Offof Assets',\n",
       " 'Deferred Tax',\n",
       " 'Deferred Income Tax',\n",
       " 'Depreciation Amortization Depletion',\n",
       " 'Operating Gains Losses',\n",
       " 'Pension And Employee Benefit Expense',\n",
       " 'Net Income From Continuing Operations',\n",
       " 'Total Unusual Items',\n",
       " 'Total Unusual Items Excluding Goodwill',\n",
       " 'Interest Income',\n",
       " 'Otherunder Preferred Stock Dividend',\n",
       " 'Preferred Stock Dividends',\n",
       " 'Special Income Charges',\n",
       " 'Other Special Charges',\n",
       " 'Impairment Of Capital Assets',\n",
       " 'Total Other Finance Cost',\n",
       " 'Interest Income Non Operating',\n",
       " 'Selling And Marketing Expense',\n",
       " 'Preferred Shares Number',\n",
       " 'Preferred Stock Equity',\n",
       " 'Additional Paid In Capital',\n",
       " 'Preferred Stock',\n",
       " 'Derivative Product Liabilities',\n",
       " 'Non Current Accrued Expenses',\n",
       " 'Long Term Provisions',\n",
       " 'Current Capital Lease Obligation',\n",
       " 'Current Provisions',\n",
       " 'Defined Pension Benefit',\n",
       " 'Non Current Deferred Taxes Assets',\n",
       " 'Financial Assets',\n",
       " 'Other Investments',\n",
       " 'Financial Assets Designatedas Fair Value Through Profitor Loss Total',\n",
       " 'Investmentsin Joint Venturesat Cost',\n",
       " 'Investmentsin Associatesat Cost',\n",
       " 'Goodwill And Other Intangible Assets',\n",
       " 'Other Intangible Assets',\n",
       " 'Goodwill',\n",
       " 'Machinery Furniture Equipment',\n",
       " 'Buildings And Improvements',\n",
       " 'Land And Improvements',\n",
       " 'Properties',\n",
       " 'Hedging Assets Current',\n",
       " 'Assets Held For Sale Current',\n",
       " 'Prepaid Assets',\n",
       " 'Other Inventories',\n",
       " 'Taxes Receivable',\n",
       " 'Other Short Term Investments',\n",
       " 'Preferred Stock Dividend Paid',\n",
       " 'Purchase Of Business',\n",
       " 'Sale Of PPE',\n",
       " 'Capital Expenditure Reported',\n",
       " 'Taxes Refund Paid',\n",
       " 'Interest Received Cfo',\n",
       " 'Interest Paid Cfo',\n",
       " 'Change In Other Current Liabilities',\n",
       " 'Stock Based Compensation',\n",
       " 'Depreciation And Amortization',\n",
       " 'Depreciation',\n",
       " 'Gain Loss On Investment Securities',\n",
       " 'Gain On Sale Of Ppe',\n",
       " 'Gain On Sale Of Security',\n",
       " 'Excise Taxes',\n",
       " 'Foreign Currency Translation Adjustments',\n",
       " 'Other Current Liabilities',\n",
       " 'Current Deferred Liabilities',\n",
       " 'Current Deferred Revenue',\n",
       " 'Current Accrued Expenses',\n",
       " 'Non Current Deferred Assets',\n",
       " 'Non Current Note Receivables',\n",
       " 'Construction In Progress',\n",
       " 'Cash Equivalents',\n",
       " 'Cash Financial',\n",
       " 'Issuance Of Capital Stock',\n",
       " 'Interest Paid Supplemental Data',\n",
       " 'Income Tax Paid Supplemental Data',\n",
       " 'Common Stock Issuance',\n",
       " 'Sale Of Investment',\n",
       " 'Net Intangibles Purchase And Sale',\n",
       " 'Sale Of Intangibles',\n",
       " 'Purchase Of Intangibles',\n",
       " 'Change In Other Working Capital',\n",
       " 'Change In Account Payable',\n",
       " 'Changes In Account Receivables',\n",
       " 'Earnings Losses From Equity Investments',\n",
       " 'Minimum Pension Liabilities',\n",
       " 'Unrealized Gain Loss',\n",
       " 'Non Current Deferred Revenue',\n",
       " 'Proceeds From Stock Option Exercised',\n",
       " 'Change In Tax Payable',\n",
       " 'Change In Income Tax Payable',\n",
       " 'Change In Prepaid Assets',\n",
       " 'Asset Impairment Charge',\n",
       " 'Depletion',\n",
       " 'Net Foreign Currency Exchange Gain Loss',\n",
       " 'Rent Expense Supplemental',\n",
       " 'Total Operating Income As Reported',\n",
       " 'Research And Development',\n",
       " 'Rent And Landing Fees',\n",
       " 'Dividends Payable',\n",
       " 'Interest Paid Cff',\n",
       " 'Interest Received Cfi',\n",
       " 'Dividends Received Cfi',\n",
       " 'Gain Loss On Sale Of PPE',\n",
       " 'Gain Loss On Sale Of Business',\n",
       " 'Gain On Sale Of Business',\n",
       " 'Write Off',\n",
       " 'Current Notes Payable',\n",
       " 'Investmentsin Subsidiariesat Cost',\n",
       " 'Work In Process',\n",
       " 'Duefrom Related Parties Current',\n",
       " 'Other Equity Interest',\n",
       " 'Held To Maturity Securities',\n",
       " 'Net Income Discontinuous Operations',\n",
       " 'Restructuring And Mergern Acquisition',\n",
       " 'Other Cash Adjustment Outside Changein Cash',\n",
       " 'Provision For Doubtful Accounts',\n",
       " 'Depreciation Amortization Depletion Income Statement',\n",
       " 'Pensionand Other Post Retirement Benefit Plans Current',\n",
       " 'Leases',\n",
       " 'Cash From Discontinued Financing Activities',\n",
       " 'Cash From Discontinued Investing Activities',\n",
       " 'Cash From Discontinued Operating Activities',\n",
       " 'Amortization Cash Flow',\n",
       " 'Amortization Of Intangibles',\n",
       " 'Inventories Adjustments Allowances',\n",
       " 'Unrealized Gain Loss On Investment Securities',\n",
       " 'Net Income Extraordinary',\n",
       " 'Current Deferred Assets',\n",
       " 'Cash Flowsfromusedin Operating Activities Direct',\n",
       " 'Taxes Refund Paid Direct',\n",
       " 'Dividends Received Direct',\n",
       " 'Classesof Cash Payments',\n",
       " 'Other Cash Paymentsfrom Operating Activities',\n",
       " 'Paymentson Behalfof Employees',\n",
       " 'Paymentsto Suppliersfor Goodsand Services',\n",
       " 'Classesof Cash Receiptsfrom Operating Activities',\n",
       " 'Receiptsfrom Customers',\n",
       " 'Depreciation And Amortization In Income Statement',\n",
       " 'Depreciation Income Statement',\n",
       " 'Duefrom Related Parties Non Current',\n",
       " 'Investment Properties',\n",
       " 'Liabilities Heldfor Sale Non Current',\n",
       " 'Interest Payable',\n",
       " 'Loans Receivable',\n",
       " 'Current Deferred Taxes Liabilities',\n",
       " 'Interest Received Direct',\n",
       " 'Interest Paid Direct',\n",
       " 'Other Cash Receiptsfrom Operating Activities',\n",
       " 'Change In Accrued Expense',\n",
       " 'Amortization',\n",
       " 'Amortization Of Intangibles Income Statement',\n",
       " 'Insurance And Claims',\n",
       " 'Receivables Adjustments Allowances',\n",
       " 'Average Dilution Earnings',\n",
       " 'Trading Securities',\n",
       " 'Accrued Interest Receivable',\n",
       " 'Cash Flow From Discontinued Operation',\n",
       " 'Investments In Other Ventures Under Equity Method',\n",
       " 'Other Cash Adjustment Inside Changein Cash',\n",
       " 'Notes Receivable',\n",
       " 'Preferred Securities Outside Stock Equity',\n",
       " 'Earnings From Equity Interest Net Of Tax',\n",
       " 'Net Preferred Stock Issuance',\n",
       " 'Preferred Stock Issuance',\n",
       " 'Amortization Of Securities',\n",
       " 'Net Investment Properties Purchase And Sale',\n",
       " 'Sale Of Investment Properties',\n",
       " 'Occupancy And Equipment',\n",
       " 'Professional Expense And Contract Services Expense',\n",
       " 'Other Non Interest Expense',\n",
       " 'Cash Cash Equivalents And Federal Funds Sold',\n",
       " 'Preferred Stock Payments',\n",
       " 'Fixed Assets Revaluation Reserve',\n",
       " 'Net Policyholder Benefits And Claims',\n",
       " 'Purchase Of Investment Properties',\n",
       " 'Net Income From Tax Loss Carryforward',\n",
       " 'Current Deferred Taxes Assets',\n",
       " 'Excess Tax Benefit From Stock Based Compensation',\n",
       " 'Change In Interest Payable',\n",
       " 'Receiptsfrom Government Grants',\n",
       " 'Securities Amortization',\n",
       " 'Dividends Paid Direct',\n",
       " 'maxAge',\n",
       " 'environmentScore',\n",
       " 'socialScore',\n",
       " 'governanceScore',\n",
       " 'ratingYear',\n",
       " 'ratingMonth',\n",
       " 'highestControversy',\n",
       " 'peerCount',\n",
       " 'esgPerformance',\n",
       " 'peerGroup',\n",
       " 'relatedControversy',\n",
       " 'peerEsgScorePerformance',\n",
       " 'peerGovernancePerformance',\n",
       " 'peerSocialPerformance',\n",
       " 'peerEnvironmentPerformance',\n",
       " 'peerHighestControversyPerformance',\n",
       " 'percentile',\n",
       " 'environmentPercentile',\n",
       " 'socialPercentile',\n",
       " 'governancePercentile',\n",
       " 'adult',\n",
       " 'alcoholic',\n",
       " 'animalTesting',\n",
       " 'catholic',\n",
       " 'controversialWeapons',\n",
       " 'smallArms',\n",
       " 'furLeather',\n",
       " 'gambling',\n",
       " 'gmo',\n",
       " 'militaryContract',\n",
       " 'nuclear',\n",
       " 'pesticides',\n",
       " 'palmOil',\n",
       " 'coal',\n",
       " 'tobacco',\n",
       " 'ratingDate']"
      ]
     },
     "execution_count": 11,
     "metadata": {},
     "output_type": "execute_result"
    }
   ],
   "source": [
    "df.columns.tolist()"
   ]
  },
  {
   "cell_type": "code",
   "execution_count": 13,
   "metadata": {},
   "outputs": [],
   "source": [
    "# important financial feature extracted based on domain knowledge\n",
    "financial_features = [\n",
    "    'EBITDA',\n",
    "    'EBIT',\n",
    "    'Total Expenses',\n",
    "    'Diluted EPS',\n",
    "    'Basic EPS',\n",
    "    'Net Income',\n",
    "    'Operating Income',\n",
    "    'Operating Expense',\n",
    "    'Gross Profit',\n",
    "    'Cost Of Revenue',\n",
    "    'Total Revenue',\n",
    "    'Total Debt',\n",
    "    'Net Debt',\n",
    "    'Working Capital',\n",
    "    'Total Assets',\n",
    "    'Stockholders Equity',\n",
    "    'Total Expenses',\n",
    "    'Operating Cash Flow',\n",
    "    'Free Cash Flow',\n",
    "    'Capital Expenditure',\n",
    "    'Research And Development',\n",
    "    'Common Stock Dividend Paid',\n",
    "    'Ordinary Shares Number',\n",
    "    'Current Assets',\n",
    "    'Current Liabilities',\n",
    "]"
   ]
  },
  {
   "cell_type": "code",
   "execution_count": 14,
   "metadata": {},
   "outputs": [],
   "source": [
    "base_features = [\n",
    "    'Ticker',\n",
    "    'Date',\n",
    "    'totalEsg',\n",
    "    'ratingDate',\n",
    "    'environtmentScore',\n",
    "    'socialScore',\n",
    "    'governanceScore',\n",
    "]"
   ]
  },
  {
   "cell_type": "markdown",
   "metadata": {},
   "source": [
    "# EDA"
   ]
  },
  {
   "cell_type": "markdown",
   "metadata": {},
   "source": [
    "## Feature Characteristics"
   ]
  },
  {
   "cell_type": "markdown",
   "metadata": {},
   "source": [
    "### Checking data types & distributions"
   ]
  },
  {
   "cell_type": "code",
   "execution_count": 36,
   "metadata": {},
   "outputs": [
    {
     "data": {
      "text/plain": [
       "float64    350\n",
       "bool        14\n",
       "object      12\n",
       "int64        4\n",
       "Name: count, dtype: int64"
      ]
     },
     "execution_count": 36,
     "metadata": {},
     "output_type": "execute_result"
    }
   ],
   "source": [
    "df.dtypes.value_counts()"
   ]
  },
  {
   "cell_type": "code",
   "execution_count": 37,
   "metadata": {},
   "outputs": [],
   "source": [
    "categorical_features = df.select_dtypes(include=['object']).columns"
   ]
  },
  {
   "cell_type": "code",
   "execution_count": 38,
   "metadata": {},
   "outputs": [
    {
     "data": {
      "text/plain": [
       "Index(['Ticker', 'Date', 'esgPerformance', 'peerGroup', 'relatedControversy',\n",
       "       'peerEsgScorePerformance', 'peerGovernancePerformance',\n",
       "       'peerSocialPerformance', 'peerEnvironmentPerformance',\n",
       "       'peerHighestControversyPerformance', 'catholic', 'ratingDate'],\n",
       "      dtype='object')"
      ]
     },
     "execution_count": 38,
     "metadata": {},
     "output_type": "execute_result"
    }
   ],
   "source": [
    "categorical_features"
   ]
  },
  {
   "cell_type": "code",
   "execution_count": 35,
   "metadata": {},
   "outputs": [
    {
     "data": {
      "text/plain": [
       "EBITDA                        float64\n",
       "EBIT                          float64\n",
       "Total Expenses                float64\n",
       "Diluted EPS                   float64\n",
       "Basic EPS                     float64\n",
       "Net Income                    float64\n",
       "Operating Income              float64\n",
       "Operating Expense             float64\n",
       "Gross Profit                  float64\n",
       "Cost Of Revenue               float64\n",
       "Total Revenue                 float64\n",
       "Total Debt                    float64\n",
       "Net Debt                      float64\n",
       "Working Capital               float64\n",
       "Total Assets                  float64\n",
       "Stockholders Equity           float64\n",
       "Total Expenses                float64\n",
       "Operating Cash Flow           float64\n",
       "Free Cash Flow                float64\n",
       "Capital Expenditure           float64\n",
       "Research And Development      float64\n",
       "Common Stock Dividend Paid    float64\n",
       "Ordinary Shares Number        float64\n",
       "Current Assets                float64\n",
       "Current Liabilities           float64\n",
       "dtype: object"
      ]
     },
     "execution_count": 35,
     "metadata": {},
     "output_type": "execute_result"
    }
   ],
   "source": [
    "df[financial_features].dtypes"
   ]
  },
  {
   "cell_type": "code",
   "execution_count": 24,
   "metadata": {},
   "outputs": [
    {
     "name": "stdout",
     "output_type": "stream",
     "text": [
      "Feature: EBITDA\n"
     ]
    },
    {
     "data": {
      "image/png": "[encoded data removed]",
      "text/plain": [
       "<Figure size 640x480 with 1 Axes>"
      ]
     },
     "metadata": {},
     "output_type": "display_data"
    }
   ],
   "source": [
    "feature = financial_features[0]\n",
    "print(f\"Feature: {feature}\")\n",
    "sns.histplot(df[feature], kde=True)\n",
    "plt.title(f\"Distribution of {feature}\")\n",
    "plt.xlim(0, df[feature].quantile(0.90)) # used to remove outliers\n",
    "plt.show()"
   ]
  },
  {
   "cell_type": "code",
   "execution_count": 26,
   "metadata": {},
   "outputs": [
    {
     "name": "stdout",
     "output_type": "stream",
     "text": [
      "\n",
      "Feature: EBITDA\n"
     ]
    },
    {
     "data": {
      "image/png": "[encoded data removed]",
      "text/plain": [
       "<Figure size 640x480 with 1 Axes>"
      ]
     },
     "metadata": {},
     "output_type": "display_data"
    },
    {
     "name": "stdout",
     "output_type": "stream",
     "text": [
      "\n",
      "Feature: EBIT\n"
     ]
    },
    {
     "data": {
      "image/png": "[encoded data removed]",
      "text/plain": [
       "<Figure size 640x480 with 1 Axes>"
      ]
     },
     "metadata": {},
     "output_type": "display_data"
    },
    {
     "name": "stdout",
     "output_type": "stream",
     "text": [
      "\n",
      "Feature: Total Expenses\n"
     ]
    },
    {
     "data": {
      "image/png": "[encoded data removed]",
      "text/plain": [
       "<Figure size 640x480 with 1 Axes>"
      ]
     },
     "metadata": {},
     "output_type": "display_data"
    },
    {
     "name": "stdout",
     "output_type": "stream",
     "text": [
      "\n",
      "Feature: Diluted EPS\n"
     ]
    },
    {
     "data": {
      "image/png": "[encoded data removed]",
      "text/plain": [
       "<Figure size 640x480 with 1 Axes>"
      ]
     },
     "metadata": {},
     "output_type": "display_data"
    },
    {
     "name": "stdout",
     "output_type": "stream",
     "text": [
      "\n",
      "Feature: Basic EPS\n"
     ]
    },
    {
     "data": {
      "image/png": "[encoded data removed]",
      "text/plain": [
       "<Figure size 640x480 with 1 Axes>"
      ]
     },
     "metadata": {},
     "output_type": "display_data"
    },
    {
     "name": "stdout",
     "output_type": "stream",
     "text": [
      "\n",
      "Feature: Net Income\n"
     ]
    },
    {
     "data": {
      "image/png": "[encoded data removed]",
      "text/plain": [
       "<Figure size 640x480 with 1 Axes>"
      ]
     },
     "metadata": {},
     "output_type": "display_data"
    },
    {
     "name": "stdout",
     "output_type": "stream",
     "text": [
      "\n",
      "Feature: Operating Income\n"
     ]
    },
    {
     "data": {
      "image/png": "[encoded data removed]",
      "text/plain": [
       "<Figure size 640x480 with 1 Axes>"
      ]
     },
     "metadata": {},
     "output_type": "display_data"
    },
    {
     "name": "stdout",
     "output_type": "stream",
     "text": [
      "\n",
      "Feature: Operating Expense\n"
     ]
    },
    {
     "data": {
      "image/png": "[encoded data removed]",
      "text/plain": [
       "<Figure size 640x480 with 1 Axes>"
      ]
     },
     "metadata": {},
     "output_type": "display_data"
    },
    {
     "name": "stdout",
     "output_type": "stream",
     "text": [
      "\n",
      "Feature: Gross Profit\n"
     ]
    },
    {
     "data": {
      "image/png": "[encoded data removed]",
      "text/plain": [
       "<Figure size 640x480 with 1 Axes>"
      ]
     },
     "metadata": {},
     "output_type": "display_data"
    },
    {
     "name": "stdout",
     "output_type": "stream",
     "text": [
      "\n",
      "Feature: Cost Of Revenue\n"
     ]
    },
    {
     "data": {
      "image/png": "[encoded data removed]",
      "text/plain": [
       "<Figure size 640x480 with 1 Axes>"
      ]
     },
     "metadata": {},
     "output_type": "display_data"
    },
    {
     "name": "stdout",
     "output_type": "stream",
     "text": [
      "\n",
      "Feature: Total Revenue\n"
     ]
    },
    {
     "data": {
      "image/png": "[encoded data removed]",
      "text/plain": [
       "<Figure size 640x480 with 1 Axes>"
      ]
     },
     "metadata": {},
     "output_type": "display_data"
    },
    {
     "name": "stdout",
     "output_type": "stream",
     "text": [
      "\n",
      "Feature: Total Debt\n"
     ]
    },
    {
     "data": {
      "image/png": "[encoded data removed]",
      "text/plain": [
       "<Figure size 640x480 with 1 Axes>"
      ]
     },
     "metadata": {},
     "output_type": "display_data"
    },
    {
     "name": "stdout",
     "output_type": "stream",
     "text": [
      "\n",
      "Feature: Net Debt\n"
     ]
    },
    {
     "data": {
      "image/png": "[encoded data removed]",
      "text/plain": [
       "<Figure size 640x480 with 1 Axes>"
      ]
     },
     "metadata": {},
     "output_type": "display_data"
    },
    {
     "name": "stdout",
     "output_type": "stream",
     "text": [
      "\n",
      "Feature: Working Capital\n"
     ]
    },
    {
     "data": {
      "image/png": "[encoded data removed]",
      "text/plain": [
       "<Figure size 640x480 with 1 Axes>"
      ]
     },
     "metadata": {},
     "output_type": "display_data"
    },
    {
     "name": "stdout",
     "output_type": "stream",
     "text": [
      "\n",
      "Feature: Total Assets\n"
     ]
    },
    {
     "data": {
      "image/png": "[encoded data removed]",
      "text/plain": [
       "<Figure size 640x480 with 1 Axes>"
      ]
     },
     "metadata": {},
     "output_type": "display_data"
    },
    {
     "name": "stdout",
     "output_type": "stream",
     "text": [
      "\n",
      "Feature: Stockholders Equity\n"
     ]
    },
    {
     "data": {
      "image/png": "[encoded data removed]",
      "text/plain": [
       "<Figure size 640x480 with 1 Axes>"
      ]
     },
     "metadata": {},
     "output_type": "display_data"
    },
    {
     "name": "stdout",
     "output_type": "stream",
     "text": [
      "\n",
      "Feature: Total Expenses\n"
     ]
    },
    {
     "data": {
      "image/png": "[encoded data removed]",
      "text/plain": [
       "<Figure size 640x480 with 1 Axes>"
      ]
     },
     "metadata": {},
     "output_type": "display_data"
    },
    {
     "name": "stdout",
     "output_type": "stream",
     "text": [
      "\n",
      "Feature: Operating Cash Flow\n"
     ]
    },
    {
     "data": {
      "image/png": "[encoded data removed]",
      "text/plain": [
       "<Figure size 640x480 with 1 Axes>"
      ]
     },
     "metadata": {},
     "output_type": "display_data"
    },
    {
     "name": "stdout",
     "output_type": "stream",
     "text": [
      "\n",
      "Feature: Free Cash Flow\n"
     ]
    },
    {
     "data": {
      "image/png": "[encoded data removed]",
      "text/plain": [
       "<Figure size 640x480 with 1 Axes>"
      ]
     },
     "metadata": {},
     "output_type": "display_data"
    },
    {
     "name": "stdout",
     "output_type": "stream",
     "text": [
      "\n",
      "Feature: Capital Expenditure\n"
     ]
    },
    {
     "data": {
      "image/png": "[encoded data removed]",
      "text/plain": [
       "<Figure size 640x480 with 1 Axes>"
      ]
     },
     "metadata": {},
     "output_type": "display_data"
    },
    {
     "name": "stdout",
     "output_type": "stream",
     "text": [
      "\n",
      "Feature: Research And Development\n"
     ]
    },
    {
     "data": {
      "image/png": "[encoded data removed]",
      "text/plain": [
       "<Figure size 640x480 with 1 Axes>"
      ]
     },
     "metadata": {},
     "output_type": "display_data"
    },
    {
     "name": "stdout",
     "output_type": "stream",
     "text": [
      "\n",
      "Feature: Common Stock Dividend Paid\n"
     ]
    },
    {
     "data": {
      "image/png": "[encoded data removed]",
      "text/plain": [
       "<Figure size 640x480 with 1 Axes>"
      ]
     },
     "metadata": {},
     "output_type": "display_data"
    },
    {
     "name": "stdout",
     "output_type": "stream",
     "text": [
      "\n",
      "Feature: Ordinary Shares Number\n"
     ]
    },
    {
     "data": {
      "image/png": "[encoded data removed]",
      "text/plain": [
       "<Figure size 640x480 with 1 Axes>"
      ]
     },
     "metadata": {},
     "output_type": "display_data"
    },
    {
     "name": "stdout",
     "output_type": "stream",
     "text": [
      "\n",
      "Feature: Current Assets\n"
     ]
    },
    {
     "data": {
      "image/png": "[encoded data removed]",
      "text/plain": [
       "<Figure size 640x480 with 1 Axes>"
      ]
     },
     "metadata": {},
     "output_type": "display_data"
    },
    {
     "name": "stdout",
     "output_type": "stream",
     "text": [
      "\n",
      "Feature: Current Liabilities\n"
     ]
    },
    {
     "data": {
      "image/png": "[encoded data removed]",
      "text/plain": [
       "<Figure size 640x480 with 1 Axes>"
      ]
     },
     "metadata": {},
     "output_type": "display_data"
    }
   ],
   "source": [
    "for feature in financial_features:\n",
    "    print(f\"\\nFeature: {feature}\")\n",
    "    sns.histplot(df[feature], kde=True)\n",
    "    plt.title(f\"Distribution of {feature}\")\n",
    "    plt.xlim(0, df[feature].quantile(0.90))\n",
    "    plt.show()"
   ]
  },
  {
   "cell_type": "code",
   "execution_count": 27,
   "metadata": {},
   "outputs": [
    {
     "name": "stderr",
     "output_type": "stream",
     "text": [
      "l:\\Programs\\anaconda\\envs\\esg_pred\\Lib\\site-packages\\pandas\\core\\arraylike.py:399: RuntimeWarning: invalid value encountered in log1p\n",
      "  result = getattr(ufunc, method)(*inputs, **kwargs)\n"
     ]
    },
    {
     "data": {
      "image/png": "[encoded data removed]",
      "text/plain": [
       "<Figure size 800x500 with 1 Axes>"
      ]
     },
     "metadata": {},
     "output_type": "display_data"
    }
   ],
   "source": [
    "# trying out log transformations to handle skewedness\n",
    "df[\"Basic_EPS_Log\"] = np.log1p(df[\"Basic EPS\"])  # log1p avoids log(0) errors\n",
    "\n",
    "plt.figure(figsize=(8, 5))\n",
    "sns.histplot(df[\"Basic_EPS_Log\"], kde=True, bins=30)\n",
    "plt.title(\"Log-Transformed Distribution of Basic EPS\")\n",
    "plt.xlabel(\"Log(Basic EPS)\")\n",
    "plt.ylabel(\"Frequency\")\n",
    "plt.show()"
   ]
  },
  {
   "cell_type": "code",
   "execution_count": 30,
   "metadata": {},
   "outputs": [],
   "source": [
    "# trying out robust scaling to handle skewedness\n",
    "from sklearn.preprocessing import RobustScaler\n",
    "\n",
    "scaler = RobustScaler()\n",
    "df[\"Basic_EPS_Scaled\"] = scaler.fit_transform(df[[\"Basic EPS\"]])\n"
   ]
  },
  {
   "cell_type": "code",
   "execution_count": 33,
   "metadata": {},
   "outputs": [
    {
     "data": {
      "image/png": "[encoded data removed]",
      "text/plain": [
       "<Figure size 800x500 with 1 Axes>"
      ]
     },
     "metadata": {},
     "output_type": "display_data"
    }
   ],
   "source": [
    "plt.figure(figsize=(8, 5))\n",
    "sns.histplot(df[\"Basic_EPS_Scaled\"], kde=True, bins=30)\n",
    "plt.title(\"Robust Scaled Distribution of Basic EPS\")\n",
    "plt.xlim(0, df[\"Basic_EPS_Scaled\"].quantile(0.99))\n",
    "plt.xlabel(\"Basic EPS (Robust Scaled)\")\n",
    "plt.ylabel(\"Frequency\")\n",
    "plt.show()"
   ]
  },
  {
   "cell_type": "markdown",
   "metadata": {},
   "source": [
    "### Missing Values"
   ]
  },
  {
   "cell_type": "markdown",
   "metadata": {},
   "source": [
    "## Assessing Feature Relevance"
   ]
  },
  {
   "cell_type": "markdown",
   "metadata": {},
   "source": [
    "### Correlation Analysis"
   ]
  },
  {
   "cell_type": "code",
   "execution_count": null,
   "metadata": {},
   "outputs": [],
   "source": []
  },
  {
   "cell_type": "markdown",
   "metadata": {},
   "source": [
    "## Identifying Redundant Features"
   ]
  },
  {
   "cell_type": "markdown",
   "metadata": {},
   "source": [
    "### Multicollinearity Check"
   ]
  },
  {
   "cell_type": "code",
   "execution_count": null,
   "metadata": {},
   "outputs": [],
   "source": []
  },
  {
   "cell_type": "markdown",
   "metadata": {},
   "source": [
    "## Feature Selection Techniques"
   ]
  },
  {
   "cell_type": "code",
   "execution_count": null,
   "metadata": {},
   "outputs": [],
   "source": []
  },
  {
   "cell_type": "markdown",
   "metadata": {},
   "source": [
    "## Feature Relationships"
   ]
  },
  {
   "cell_type": "markdown",
   "metadata": {},
   "source": [
    "### Pair Plots & Heatmaps"
   ]
  },
  {
   "cell_type": "code",
   "execution_count": null,
   "metadata": {},
   "outputs": [],
   "source": []
  },
  {
   "cell_type": "markdown",
   "metadata": {},
   "source": [
    "## Feature Importance"
   ]
  },
  {
   "cell_type": "code",
   "execution_count": null,
   "metadata": {},
   "outputs": [],
   "source": []
  },
  {
   "cell_type": "markdown",
   "metadata": {},
   "source": [
    "***"
   ]
  }
 ],
 "metadata": {
  "kernelspec": {
   "display_name": "esg_pred",
   "language": "python",
   "name": "python3"
  },
  "language_info": {
   "codemirror_mode": {
    "name": "ipython",
    "version": 3
   },
   "file_extension": ".py",
   "mimetype": "text/x-python",
   "name": "python",
   "nbconvert_exporter": "python",
   "pygments_lexer": "ipython3",
   "version": "3.11.11"
  }
 },
 "nbformat": 4,
 "nbformat_minor": 2
}
