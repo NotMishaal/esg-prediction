{
 "cells": [
  {
   "cell_type": "code",
   "execution_count": 9,
   "id": "4e206827",
   "metadata": {},
   "outputs": [],
   "source": [
    "import pandas as pd\n",
    "import numpy as np\n",
    "from joblib import dump, load\n",
    "\n",
    "from sklearn.linear_model import Ridge\n",
    "from sklearn.ensemble import RandomForestRegressor\n",
    "from sklearn.neural_network import MLPRegressor\n",
    "from xgboost import XGBRegressor\n",
    "\n",
    "from sklearn.metrics import mean_squared_error, mean_absolute_error, r2_score\n",
    "from sklearn.model_selection import GridSearchCV"
   ]
  },
  {
   "cell_type": "markdown",
   "id": "ffa2621d",
   "metadata": {},
   "source": [
    "Helper Functions"
   ]
  },
  {
   "cell_type": "code",
   "execution_count": 18,
   "id": "90c4b88d",
   "metadata": {},
   "outputs": [],
   "source": [
    "# initial random seed\n",
    "seed = 42"
   ]
  },
  {
   "cell_type": "code",
   "execution_count": 2,
   "id": "c1b66621",
   "metadata": {},
   "outputs": [],
   "source": [
    "def compute_metrics(y_true, y_pred):\n",
    "    \"\"\"Compute RMSE, MAE, and R2.\"\"\"\n",
    "    rmse = np.sqrt(mean_squared_error(y_true, y_pred))\n",
    "    mae = mean_absolute_error(y_true, y_pred)\n",
    "    r2 = r2_score(y_true, y_pred)\n",
    "    return rmse, mae, r2"
   ]
  },
  {
   "cell_type": "code",
   "execution_count": 3,
   "id": "ba34086b",
   "metadata": {},
   "outputs": [],
   "source": [
    "def compute_stability(model, X, y, noise_level=0.01, n_trials=5):\n",
    "    \"\"\"\n",
    "    Add Gaussian noise to numeric features and measure average relative RMSE change.\n",
    "    noise_level is fraction of std-dev of each feature.\n",
    "    \"\"\"\n",
    "    numeric_cols = X.select_dtypes(include=[np.number]).columns\n",
    "    base_rmse = np.sqrt(mean_squared_error(y, model.predict(X)))\n",
    "    rel_changes = []\n",
    "    \n",
    "    for _ in range(n_trials):\n",
    "        Xp = X.copy()\n",
    "        noise = np.random.normal(0, noise_level * Xp[numeric_cols].std(), \n",
    "                                 size=Xp[numeric_cols].shape)\n",
    "        Xp[numeric_cols] += noise\n",
    "        rp = model.predict(Xp)\n",
    "        rmse_p = np.sqrt(mean_squared_error(y, rp))\n",
    "        rel_changes.append((rmse_p - base_rmse) / base_rmse)\n",
    "    \n",
    "    # Return average relative change (lower = more stable)\n",
    "    return np.mean(rel_changes)"
   ]
  },
  {
   "cell_type": "markdown",
   "id": "15eed113",
   "metadata": {},
   "source": [
    "# Model Definition"
   ]
  },
  {
   "cell_type": "code",
   "execution_count": null,
   "id": "1e64049d",
   "metadata": {},
   "outputs": [],
   "source": [
    "models = {\n",
    "    'Ridge': Ridge(random_state=42, alpha=1.0), \n",
    "    'RandomForest': RandomForestRegressor(n_estimators=100, random_state=seed),\n",
    "    'XGBoost': XGBRegressor(n_estimators=100, use_label_encoder=False, eval_metric='rmse', random_state=seed),\n",
    "    'MLP': MLPRegressor(hidden_layer_sizes=(64, 64),    # implemented a simple MLP with sklearn for easy compatibility with the rest of the code\n",
    "                        activation='relu',\n",
    "                        solver='adam',\n",
    "                        max_iter=200,\n",
    "                        random_state=42)\n",
    "}"
   ]
  },
  {
   "cell_type": "code",
   "execution_count": null,
   "id": "68ca9c56",
   "metadata": {},
   "outputs": [],
   "source": [
    "param_grids = {\n",
    "    'Ridge': {'alpha': [0.01, 0.1, 1.0, 10.0]},\n",
    "    'RandomForest': {'n_estimators': [100, 200],\n",
    "                     'max_depth': [None, 10, 20]},\n",
    "    'XGBoost': {'n_estimators': [100, 200],\n",
    "                'learning_rate': [0.01, 0.1],\n",
    "                'max_depth': [3, 6]},\n",
    "    'MLP': {'hidden_layer_sizes': [(64,), (64, 64)],\n",
    "            'alpha': [1e-4, 1e-3],\n",
    "            'learning_rate_init': [1e-3, 1e-2],\n",
    "            'max_iter': [200]}\n",
    "}"
   ]
  },
  {
   "cell_type": "code",
   "execution_count": 6,
   "id": "6fc371f4",
   "metadata": {},
   "outputs": [],
   "source": [
    "datasets = load('..\\data\\experimental\\experiment_datasets_2.joblib')  # Load datasets from joblib file"
   ]
  },
  {
   "cell_type": "markdown",
   "id": "fea3c39f",
   "metadata": {},
   "source": [
    "# Manual Training"
   ]
  },
  {
   "cell_type": "code",
   "execution_count": 6,
   "id": "e33241aa",
   "metadata": {},
   "outputs": [
    {
     "data": {
      "text/plain": [
       "((291, 82), (73, 82))"
      ]
     },
     "execution_count": 6,
     "metadata": {},
     "output_type": "execute_result"
    }
   ],
   "source": [
    "train_df = datasets['baselines']['full']['within_sample']['within_sample']['train']\n",
    "test_df = datasets['baselines']['full']['within_sample']['within_sample']['test']\n",
    "\n",
    "train_df.shape, test_df.shape"
   ]
  },
  {
   "cell_type": "code",
   "execution_count": 7,
   "id": "9aefcac6",
   "metadata": {},
   "outputs": [],
   "source": [
    "X_train = train_df.drop(columns=['totalEsg'])\n",
    "y_train = train_df['totalEsg']\n",
    "X_test  = test_df.drop(columns=['totalEsg'])\n",
    "y_test  = test_df['totalEsg']"
   ]
  },
  {
   "cell_type": "code",
   "execution_count": 8,
   "id": "fb332847",
   "metadata": {},
   "outputs": [
    {
     "data": {
      "text/plain": [
       "((291, 81), (291,), (73, 81), (73,))"
      ]
     },
     "execution_count": 8,
     "metadata": {},
     "output_type": "execute_result"
    }
   ],
   "source": [
    "X_train.shape, y_train.shape, X_test.shape, y_test.shape"
   ]
  },
  {
   "cell_type": "code",
   "execution_count": 9,
   "id": "f1406fa9",
   "metadata": {},
   "outputs": [],
   "source": [
    "model = models['Ridge']  # Choose the model you want to use"
   ]
  },
  {
   "cell_type": "code",
   "execution_count": 10,
   "id": "79c45bef",
   "metadata": {},
   "outputs": [
    {
     "data": {
      "text/html": [
       "<style>#sk-container-id-1 {\n",
       "  /* Definition of color scheme common for light and dark mode */\n",
       "  --sklearn-color-text: #000;\n",
       "  --sklearn-color-text-muted: #666;\n",
       "  --sklearn-color-line: gray;\n",
       "  /* Definition of color scheme for unfitted estimators */\n",
       "  --sklearn-color-unfitted-level-0: #fff5e6;\n",
       "  --sklearn-color-unfitted-level-1: #f6e4d2;\n",
       "  --sklearn-color-unfitted-level-2: #ffe0b3;\n",
       "  --sklearn-color-unfitted-level-3: chocolate;\n",
       "  /* Definition of color scheme for fitted estimators */\n",
       "  --sklearn-color-fitted-level-0: #f0f8ff;\n",
       "  --sklearn-color-fitted-level-1: #d4ebff;\n",
       "  --sklearn-color-fitted-level-2: #b3dbfd;\n",
       "  --sklearn-color-fitted-level-3: cornflowerblue;\n",
       "\n",
       "  /* Specific color for light theme */\n",
       "  --sklearn-color-text-on-default-background: var(--sg-text-color, var(--theme-code-foreground, var(--jp-content-font-color1, black)));\n",
       "  --sklearn-color-background: var(--sg-background-color, var(--theme-background, var(--jp-layout-color0, white)));\n",
       "  --sklearn-color-border-box: var(--sg-text-color, var(--theme-code-foreground, var(--jp-content-font-color1, black)));\n",
       "  --sklearn-color-icon: #696969;\n",
       "\n",
       "  @media (prefers-color-scheme: dark) {\n",
       "    /* Redefinition of color scheme for dark theme */\n",
       "    --sklearn-color-text-on-default-background: var(--sg-text-color, var(--theme-code-foreground, var(--jp-content-font-color1, white)));\n",
       "    --sklearn-color-background: var(--sg-background-color, var(--theme-background, var(--jp-layout-color0, #111)));\n",
       "    --sklearn-color-border-box: var(--sg-text-color, var(--theme-code-foreground, var(--jp-content-font-color1, white)));\n",
       "    --sklearn-color-icon: #878787;\n",
       "  }\n",
       "}\n",
       "\n",
       "#sk-container-id-1 {\n",
       "  color: var(--sklearn-color-text);\n",
       "}\n",
       "\n",
       "#sk-container-id-1 pre {\n",
       "  padding: 0;\n",
       "}\n",
       "\n",
       "#sk-container-id-1 input.sk-hidden--visually {\n",
       "  border: 0;\n",
       "  clip: rect(1px 1px 1px 1px);\n",
       "  clip: rect(1px, 1px, 1px, 1px);\n",
       "  height: 1px;\n",
       "  margin: -1px;\n",
       "  overflow: hidden;\n",
       "  padding: 0;\n",
       "  position: absolute;\n",
       "  width: 1px;\n",
       "}\n",
       "\n",
       "#sk-container-id-1 div.sk-dashed-wrapped {\n",
       "  border: 1px dashed var(--sklearn-color-line);\n",
       "  margin: 0 0.4em 0.5em 0.4em;\n",
       "  box-sizing: border-box;\n",
       "  padding-bottom: 0.4em;\n",
       "  background-color: var(--sklearn-color-background);\n",
       "}\n",
       "\n",
       "#sk-container-id-1 div.sk-container {\n",
       "  /* jupyter's `normalize.less` sets `[hidden] { display: none; }`\n",
       "     but bootstrap.min.css set `[hidden] { display: none !important; }`\n",
       "     so we also need the `!important` here to be able to override the\n",
       "     default hidden behavior on the sphinx rendered scikit-learn.org.\n",
       "     See: https://github.com/scikit-learn/scikit-learn/issues/21755 */\n",
       "  display: inline-block !important;\n",
       "  position: relative;\n",
       "}\n",
       "\n",
       "#sk-container-id-1 div.sk-text-repr-fallback {\n",
       "  display: none;\n",
       "}\n",
       "\n",
       "div.sk-parallel-item,\n",
       "div.sk-serial,\n",
       "div.sk-item {\n",
       "  /* draw centered vertical line to link estimators */\n",
       "  background-image: linear-gradient(var(--sklearn-color-text-on-default-background), var(--sklearn-color-text-on-default-background));\n",
       "  background-size: 2px 100%;\n",
       "  background-repeat: no-repeat;\n",
       "  background-position: center center;\n",
       "}\n",
       "\n",
       "/* Parallel-specific style estimator block */\n",
       "\n",
       "#sk-container-id-1 div.sk-parallel-item::after {\n",
       "  content: \"\";\n",
       "  width: 100%;\n",
       "  border-bottom: 2px solid var(--sklearn-color-text-on-default-background);\n",
       "  flex-grow: 1;\n",
       "}\n",
       "\n",
       "#sk-container-id-1 div.sk-parallel {\n",
       "  display: flex;\n",
       "  align-items: stretch;\n",
       "  justify-content: center;\n",
       "  background-color: var(--sklearn-color-background);\n",
       "  position: relative;\n",
       "}\n",
       "\n",
       "#sk-container-id-1 div.sk-parallel-item {\n",
       "  display: flex;\n",
       "  flex-direction: column;\n",
       "}\n",
       "\n",
       "#sk-container-id-1 div.sk-parallel-item:first-child::after {\n",
       "  align-self: flex-end;\n",
       "  width: 50%;\n",
       "}\n",
       "\n",
       "#sk-container-id-1 div.sk-parallel-item:last-child::after {\n",
       "  align-self: flex-start;\n",
       "  width: 50%;\n",
       "}\n",
       "\n",
       "#sk-container-id-1 div.sk-parallel-item:only-child::after {\n",
       "  width: 0;\n",
       "}\n",
       "\n",
       "/* Serial-specific style estimator block */\n",
       "\n",
       "#sk-container-id-1 div.sk-serial {\n",
       "  display: flex;\n",
       "  flex-direction: column;\n",
       "  align-items: center;\n",
       "  background-color: var(--sklearn-color-background);\n",
       "  padding-right: 1em;\n",
       "  padding-left: 1em;\n",
       "}\n",
       "\n",
       "\n",
       "/* Toggleable style: style used for estimator/Pipeline/ColumnTransformer box that is\n",
       "clickable and can be expanded/collapsed.\n",
       "- Pipeline and ColumnTransformer use this feature and define the default style\n",
       "- Estimators will overwrite some part of the style using the `sk-estimator` class\n",
       "*/\n",
       "\n",
       "/* Pipeline and ColumnTransformer style (default) */\n",
       "\n",
       "#sk-container-id-1 div.sk-toggleable {\n",
       "  /* Default theme specific background. It is overwritten whether we have a\n",
       "  specific estimator or a Pipeline/ColumnTransformer */\n",
       "  background-color: var(--sklearn-color-background);\n",
       "}\n",
       "\n",
       "/* Toggleable label */\n",
       "#sk-container-id-1 label.sk-toggleable__label {\n",
       "  cursor: pointer;\n",
       "  display: flex;\n",
       "  width: 100%;\n",
       "  margin-bottom: 0;\n",
       "  padding: 0.5em;\n",
       "  box-sizing: border-box;\n",
       "  text-align: center;\n",
       "  align-items: start;\n",
       "  justify-content: space-between;\n",
       "  gap: 0.5em;\n",
       "}\n",
       "\n",
       "#sk-container-id-1 label.sk-toggleable__label .caption {\n",
       "  font-size: 0.6rem;\n",
       "  font-weight: lighter;\n",
       "  color: var(--sklearn-color-text-muted);\n",
       "}\n",
       "\n",
       "#sk-container-id-1 label.sk-toggleable__label-arrow:before {\n",
       "  /* Arrow on the left of the label */\n",
       "  content: \"▸\";\n",
       "  float: left;\n",
       "  margin-right: 0.25em;\n",
       "  color: var(--sklearn-color-icon);\n",
       "}\n",
       "\n",
       "#sk-container-id-1 label.sk-toggleable__label-arrow:hover:before {\n",
       "  color: var(--sklearn-color-text);\n",
       "}\n",
       "\n",
       "/* Toggleable content - dropdown */\n",
       "\n",
       "#sk-container-id-1 div.sk-toggleable__content {\n",
       "  max-height: 0;\n",
       "  max-width: 0;\n",
       "  overflow: hidden;\n",
       "  text-align: left;\n",
       "  /* unfitted */\n",
       "  background-color: var(--sklearn-color-unfitted-level-0);\n",
       "}\n",
       "\n",
       "#sk-container-id-1 div.sk-toggleable__content.fitted {\n",
       "  /* fitted */\n",
       "  background-color: var(--sklearn-color-fitted-level-0);\n",
       "}\n",
       "\n",
       "#sk-container-id-1 div.sk-toggleable__content pre {\n",
       "  margin: 0.2em;\n",
       "  border-radius: 0.25em;\n",
       "  color: var(--sklearn-color-text);\n",
       "  /* unfitted */\n",
       "  background-color: var(--sklearn-color-unfitted-level-0);\n",
       "}\n",
       "\n",
       "#sk-container-id-1 div.sk-toggleable__content.fitted pre {\n",
       "  /* unfitted */\n",
       "  background-color: var(--sklearn-color-fitted-level-0);\n",
       "}\n",
       "\n",
       "#sk-container-id-1 input.sk-toggleable__control:checked~div.sk-toggleable__content {\n",
       "  /* Expand drop-down */\n",
       "  max-height: 200px;\n",
       "  max-width: 100%;\n",
       "  overflow: auto;\n",
       "}\n",
       "\n",
       "#sk-container-id-1 input.sk-toggleable__control:checked~label.sk-toggleable__label-arrow:before {\n",
       "  content: \"▾\";\n",
       "}\n",
       "\n",
       "/* Pipeline/ColumnTransformer-specific style */\n",
       "\n",
       "#sk-container-id-1 div.sk-label input.sk-toggleable__control:checked~label.sk-toggleable__label {\n",
       "  color: var(--sklearn-color-text);\n",
       "  background-color: var(--sklearn-color-unfitted-level-2);\n",
       "}\n",
       "\n",
       "#sk-container-id-1 div.sk-label.fitted input.sk-toggleable__control:checked~label.sk-toggleable__label {\n",
       "  background-color: var(--sklearn-color-fitted-level-2);\n",
       "}\n",
       "\n",
       "/* Estimator-specific style */\n",
       "\n",
       "/* Colorize estimator box */\n",
       "#sk-container-id-1 div.sk-estimator input.sk-toggleable__control:checked~label.sk-toggleable__label {\n",
       "  /* unfitted */\n",
       "  background-color: var(--sklearn-color-unfitted-level-2);\n",
       "}\n",
       "\n",
       "#sk-container-id-1 div.sk-estimator.fitted input.sk-toggleable__control:checked~label.sk-toggleable__label {\n",
       "  /* fitted */\n",
       "  background-color: var(--sklearn-color-fitted-level-2);\n",
       "}\n",
       "\n",
       "#sk-container-id-1 div.sk-label label.sk-toggleable__label,\n",
       "#sk-container-id-1 div.sk-label label {\n",
       "  /* The background is the default theme color */\n",
       "  color: var(--sklearn-color-text-on-default-background);\n",
       "}\n",
       "\n",
       "/* On hover, darken the color of the background */\n",
       "#sk-container-id-1 div.sk-label:hover label.sk-toggleable__label {\n",
       "  color: var(--sklearn-color-text);\n",
       "  background-color: var(--sklearn-color-unfitted-level-2);\n",
       "}\n",
       "\n",
       "/* Label box, darken color on hover, fitted */\n",
       "#sk-container-id-1 div.sk-label.fitted:hover label.sk-toggleable__label.fitted {\n",
       "  color: var(--sklearn-color-text);\n",
       "  background-color: var(--sklearn-color-fitted-level-2);\n",
       "}\n",
       "\n",
       "/* Estimator label */\n",
       "\n",
       "#sk-container-id-1 div.sk-label label {\n",
       "  font-family: monospace;\n",
       "  font-weight: bold;\n",
       "  display: inline-block;\n",
       "  line-height: 1.2em;\n",
       "}\n",
       "\n",
       "#sk-container-id-1 div.sk-label-container {\n",
       "  text-align: center;\n",
       "}\n",
       "\n",
       "/* Estimator-specific */\n",
       "#sk-container-id-1 div.sk-estimator {\n",
       "  font-family: monospace;\n",
       "  border: 1px dotted var(--sklearn-color-border-box);\n",
       "  border-radius: 0.25em;\n",
       "  box-sizing: border-box;\n",
       "  margin-bottom: 0.5em;\n",
       "  /* unfitted */\n",
       "  background-color: var(--sklearn-color-unfitted-level-0);\n",
       "}\n",
       "\n",
       "#sk-container-id-1 div.sk-estimator.fitted {\n",
       "  /* fitted */\n",
       "  background-color: var(--sklearn-color-fitted-level-0);\n",
       "}\n",
       "\n",
       "/* on hover */\n",
       "#sk-container-id-1 div.sk-estimator:hover {\n",
       "  /* unfitted */\n",
       "  background-color: var(--sklearn-color-unfitted-level-2);\n",
       "}\n",
       "\n",
       "#sk-container-id-1 div.sk-estimator.fitted:hover {\n",
       "  /* fitted */\n",
       "  background-color: var(--sklearn-color-fitted-level-2);\n",
       "}\n",
       "\n",
       "/* Specification for estimator info (e.g. \"i\" and \"?\") */\n",
       "\n",
       "/* Common style for \"i\" and \"?\" */\n",
       "\n",
       ".sk-estimator-doc-link,\n",
       "a:link.sk-estimator-doc-link,\n",
       "a:visited.sk-estimator-doc-link {\n",
       "  float: right;\n",
       "  font-size: smaller;\n",
       "  line-height: 1em;\n",
       "  font-family: monospace;\n",
       "  background-color: var(--sklearn-color-background);\n",
       "  border-radius: 1em;\n",
       "  height: 1em;\n",
       "  width: 1em;\n",
       "  text-decoration: none !important;\n",
       "  margin-left: 0.5em;\n",
       "  text-align: center;\n",
       "  /* unfitted */\n",
       "  border: var(--sklearn-color-unfitted-level-1) 1pt solid;\n",
       "  color: var(--sklearn-color-unfitted-level-1);\n",
       "}\n",
       "\n",
       ".sk-estimator-doc-link.fitted,\n",
       "a:link.sk-estimator-doc-link.fitted,\n",
       "a:visited.sk-estimator-doc-link.fitted {\n",
       "  /* fitted */\n",
       "  border: var(--sklearn-color-fitted-level-1) 1pt solid;\n",
       "  color: var(--sklearn-color-fitted-level-1);\n",
       "}\n",
       "\n",
       "/* On hover */\n",
       "div.sk-estimator:hover .sk-estimator-doc-link:hover,\n",
       ".sk-estimator-doc-link:hover,\n",
       "div.sk-label-container:hover .sk-estimator-doc-link:hover,\n",
       ".sk-estimator-doc-link:hover {\n",
       "  /* unfitted */\n",
       "  background-color: var(--sklearn-color-unfitted-level-3);\n",
       "  color: var(--sklearn-color-background);\n",
       "  text-decoration: none;\n",
       "}\n",
       "\n",
       "div.sk-estimator.fitted:hover .sk-estimator-doc-link.fitted:hover,\n",
       ".sk-estimator-doc-link.fitted:hover,\n",
       "div.sk-label-container:hover .sk-estimator-doc-link.fitted:hover,\n",
       ".sk-estimator-doc-link.fitted:hover {\n",
       "  /* fitted */\n",
       "  background-color: var(--sklearn-color-fitted-level-3);\n",
       "  color: var(--sklearn-color-background);\n",
       "  text-decoration: none;\n",
       "}\n",
       "\n",
       "/* Span, style for the box shown on hovering the info icon */\n",
       ".sk-estimator-doc-link span {\n",
       "  display: none;\n",
       "  z-index: 9999;\n",
       "  position: relative;\n",
       "  font-weight: normal;\n",
       "  right: .2ex;\n",
       "  padding: .5ex;\n",
       "  margin: .5ex;\n",
       "  width: min-content;\n",
       "  min-width: 20ex;\n",
       "  max-width: 50ex;\n",
       "  color: var(--sklearn-color-text);\n",
       "  box-shadow: 2pt 2pt 4pt #999;\n",
       "  /* unfitted */\n",
       "  background: var(--sklearn-color-unfitted-level-0);\n",
       "  border: .5pt solid var(--sklearn-color-unfitted-level-3);\n",
       "}\n",
       "\n",
       ".sk-estimator-doc-link.fitted span {\n",
       "  /* fitted */\n",
       "  background: var(--sklearn-color-fitted-level-0);\n",
       "  border: var(--sklearn-color-fitted-level-3);\n",
       "}\n",
       "\n",
       ".sk-estimator-doc-link:hover span {\n",
       "  display: block;\n",
       "}\n",
       "\n",
       "/* \"?\"-specific style due to the `<a>` HTML tag */\n",
       "\n",
       "#sk-container-id-1 a.estimator_doc_link {\n",
       "  float: right;\n",
       "  font-size: 1rem;\n",
       "  line-height: 1em;\n",
       "  font-family: monospace;\n",
       "  background-color: var(--sklearn-color-background);\n",
       "  border-radius: 1rem;\n",
       "  height: 1rem;\n",
       "  width: 1rem;\n",
       "  text-decoration: none;\n",
       "  /* unfitted */\n",
       "  color: var(--sklearn-color-unfitted-level-1);\n",
       "  border: var(--sklearn-color-unfitted-level-1) 1pt solid;\n",
       "}\n",
       "\n",
       "#sk-container-id-1 a.estimator_doc_link.fitted {\n",
       "  /* fitted */\n",
       "  border: var(--sklearn-color-fitted-level-1) 1pt solid;\n",
       "  color: var(--sklearn-color-fitted-level-1);\n",
       "}\n",
       "\n",
       "/* On hover */\n",
       "#sk-container-id-1 a.estimator_doc_link:hover {\n",
       "  /* unfitted */\n",
       "  background-color: var(--sklearn-color-unfitted-level-3);\n",
       "  color: var(--sklearn-color-background);\n",
       "  text-decoration: none;\n",
       "}\n",
       "\n",
       "#sk-container-id-1 a.estimator_doc_link.fitted:hover {\n",
       "  /* fitted */\n",
       "  background-color: var(--sklearn-color-fitted-level-3);\n",
       "}\n",
       "</style><div id=\"sk-container-id-1\" class=\"sk-top-container\"><div class=\"sk-text-repr-fallback\"><pre>Ridge(random_state=42)</pre><b>In a Jupyter environment, please rerun this cell to show the HTML representation or trust the notebook. <br />On GitHub, the HTML representation is unable to render, please try loading this page with nbviewer.org.</b></div><div class=\"sk-container\" hidden><div class=\"sk-item\"><div class=\"sk-estimator  sk-toggleable\"><input class=\"sk-toggleable__control sk-hidden--visually\" id=\"sk-estimator-id-1\" type=\"checkbox\" checked><label for=\"sk-estimator-id-1\" class=\"sk-toggleable__label  sk-toggleable__label-arrow\"><div><div>Ridge</div></div><div><a class=\"sk-estimator-doc-link \" rel=\"noreferrer\" target=\"_blank\" href=\"https://scikit-learn.org/1.6/modules/generated/sklearn.linear_model.Ridge.html\">?<span>Documentation for Ridge</span></a><span class=\"sk-estimator-doc-link \">i<span>Not fitted</span></span></div></label><div class=\"sk-toggleable__content \"><pre>Ridge(random_state=42)</pre></div> </div></div></div></div>"
      ],
      "text/plain": [
       "Ridge(random_state=42)"
      ]
     },
     "execution_count": 10,
     "metadata": {},
     "output_type": "execute_result"
    }
   ],
   "source": [
    "model"
   ]
  },
  {
   "cell_type": "code",
   "execution_count": 11,
   "id": "d9db37f4",
   "metadata": {},
   "outputs": [
    {
     "name": "stderr",
     "output_type": "stream",
     "text": [
      "l:\\Programs\\anaconda\\envs\\esg_pred\\Lib\\site-packages\\sklearn\\linear_model\\_ridge.py:215: LinAlgWarning: Ill-conditioned matrix (rcond=5.17923e-28): result may not be accurate.\n",
      "  return linalg.solve(A, Xy, assume_a=\"pos\", overwrite_a=True).T\n"
     ]
    },
    {
     "data": {
      "text/html": [
       "<style>#sk-container-id-2 {\n",
       "  /* Definition of color scheme common for light and dark mode */\n",
       "  --sklearn-color-text: #000;\n",
       "  --sklearn-color-text-muted: #666;\n",
       "  --sklearn-color-line: gray;\n",
       "  /* Definition of color scheme for unfitted estimators */\n",
       "  --sklearn-color-unfitted-level-0: #fff5e6;\n",
       "  --sklearn-color-unfitted-level-1: #f6e4d2;\n",
       "  --sklearn-color-unfitted-level-2: #ffe0b3;\n",
       "  --sklearn-color-unfitted-level-3: chocolate;\n",
       "  /* Definition of color scheme for fitted estimators */\n",
       "  --sklearn-color-fitted-level-0: #f0f8ff;\n",
       "  --sklearn-color-fitted-level-1: #d4ebff;\n",
       "  --sklearn-color-fitted-level-2: #b3dbfd;\n",
       "  --sklearn-color-fitted-level-3: cornflowerblue;\n",
       "\n",
       "  /* Specific color for light theme */\n",
       "  --sklearn-color-text-on-default-background: var(--sg-text-color, var(--theme-code-foreground, var(--jp-content-font-color1, black)));\n",
       "  --sklearn-color-background: var(--sg-background-color, var(--theme-background, var(--jp-layout-color0, white)));\n",
       "  --sklearn-color-border-box: var(--sg-text-color, var(--theme-code-foreground, var(--jp-content-font-color1, black)));\n",
       "  --sklearn-color-icon: #696969;\n",
       "\n",
       "  @media (prefers-color-scheme: dark) {\n",
       "    /* Redefinition of color scheme for dark theme */\n",
       "    --sklearn-color-text-on-default-background: var(--sg-text-color, var(--theme-code-foreground, var(--jp-content-font-color1, white)));\n",
       "    --sklearn-color-background: var(--sg-background-color, var(--theme-background, var(--jp-layout-color0, #111)));\n",
       "    --sklearn-color-border-box: var(--sg-text-color, var(--theme-code-foreground, var(--jp-content-font-color1, white)));\n",
       "    --sklearn-color-icon: #878787;\n",
       "  }\n",
       "}\n",
       "\n",
       "#sk-container-id-2 {\n",
       "  color: var(--sklearn-color-text);\n",
       "}\n",
       "\n",
       "#sk-container-id-2 pre {\n",
       "  padding: 0;\n",
       "}\n",
       "\n",
       "#sk-container-id-2 input.sk-hidden--visually {\n",
       "  border: 0;\n",
       "  clip: rect(1px 1px 1px 1px);\n",
       "  clip: rect(1px, 1px, 1px, 1px);\n",
       "  height: 1px;\n",
       "  margin: -1px;\n",
       "  overflow: hidden;\n",
       "  padding: 0;\n",
       "  position: absolute;\n",
       "  width: 1px;\n",
       "}\n",
       "\n",
       "#sk-container-id-2 div.sk-dashed-wrapped {\n",
       "  border: 1px dashed var(--sklearn-color-line);\n",
       "  margin: 0 0.4em 0.5em 0.4em;\n",
       "  box-sizing: border-box;\n",
       "  padding-bottom: 0.4em;\n",
       "  background-color: var(--sklearn-color-background);\n",
       "}\n",
       "\n",
       "#sk-container-id-2 div.sk-container {\n",
       "  /* jupyter's `normalize.less` sets `[hidden] { display: none; }`\n",
       "     but bootstrap.min.css set `[hidden] { display: none !important; }`\n",
       "     so we also need the `!important` here to be able to override the\n",
       "     default hidden behavior on the sphinx rendered scikit-learn.org.\n",
       "     See: https://github.com/scikit-learn/scikit-learn/issues/21755 */\n",
       "  display: inline-block !important;\n",
       "  position: relative;\n",
       "}\n",
       "\n",
       "#sk-container-id-2 div.sk-text-repr-fallback {\n",
       "  display: none;\n",
       "}\n",
       "\n",
       "div.sk-parallel-item,\n",
       "div.sk-serial,\n",
       "div.sk-item {\n",
       "  /* draw centered vertical line to link estimators */\n",
       "  background-image: linear-gradient(var(--sklearn-color-text-on-default-background), var(--sklearn-color-text-on-default-background));\n",
       "  background-size: 2px 100%;\n",
       "  background-repeat: no-repeat;\n",
       "  background-position: center center;\n",
       "}\n",
       "\n",
       "/* Parallel-specific style estimator block */\n",
       "\n",
       "#sk-container-id-2 div.sk-parallel-item::after {\n",
       "  content: \"\";\n",
       "  width: 100%;\n",
       "  border-bottom: 2px solid var(--sklearn-color-text-on-default-background);\n",
       "  flex-grow: 1;\n",
       "}\n",
       "\n",
       "#sk-container-id-2 div.sk-parallel {\n",
       "  display: flex;\n",
       "  align-items: stretch;\n",
       "  justify-content: center;\n",
       "  background-color: var(--sklearn-color-background);\n",
       "  position: relative;\n",
       "}\n",
       "\n",
       "#sk-container-id-2 div.sk-parallel-item {\n",
       "  display: flex;\n",
       "  flex-direction: column;\n",
       "}\n",
       "\n",
       "#sk-container-id-2 div.sk-parallel-item:first-child::after {\n",
       "  align-self: flex-end;\n",
       "  width: 50%;\n",
       "}\n",
       "\n",
       "#sk-container-id-2 div.sk-parallel-item:last-child::after {\n",
       "  align-self: flex-start;\n",
       "  width: 50%;\n",
       "}\n",
       "\n",
       "#sk-container-id-2 div.sk-parallel-item:only-child::after {\n",
       "  width: 0;\n",
       "}\n",
       "\n",
       "/* Serial-specific style estimator block */\n",
       "\n",
       "#sk-container-id-2 div.sk-serial {\n",
       "  display: flex;\n",
       "  flex-direction: column;\n",
       "  align-items: center;\n",
       "  background-color: var(--sklearn-color-background);\n",
       "  padding-right: 1em;\n",
       "  padding-left: 1em;\n",
       "}\n",
       "\n",
       "\n",
       "/* Toggleable style: style used for estimator/Pipeline/ColumnTransformer box that is\n",
       "clickable and can be expanded/collapsed.\n",
       "- Pipeline and ColumnTransformer use this feature and define the default style\n",
       "- Estimators will overwrite some part of the style using the `sk-estimator` class\n",
       "*/\n",
       "\n",
       "/* Pipeline and ColumnTransformer style (default) */\n",
       "\n",
       "#sk-container-id-2 div.sk-toggleable {\n",
       "  /* Default theme specific background. It is overwritten whether we have a\n",
       "  specific estimator or a Pipeline/ColumnTransformer */\n",
       "  background-color: var(--sklearn-color-background);\n",
       "}\n",
       "\n",
       "/* Toggleable label */\n",
       "#sk-container-id-2 label.sk-toggleable__label {\n",
       "  cursor: pointer;\n",
       "  display: flex;\n",
       "  width: 100%;\n",
       "  margin-bottom: 0;\n",
       "  padding: 0.5em;\n",
       "  box-sizing: border-box;\n",
       "  text-align: center;\n",
       "  align-items: start;\n",
       "  justify-content: space-between;\n",
       "  gap: 0.5em;\n",
       "}\n",
       "\n",
       "#sk-container-id-2 label.sk-toggleable__label .caption {\n",
       "  font-size: 0.6rem;\n",
       "  font-weight: lighter;\n",
       "  color: var(--sklearn-color-text-muted);\n",
       "}\n",
       "\n",
       "#sk-container-id-2 label.sk-toggleable__label-arrow:before {\n",
       "  /* Arrow on the left of the label */\n",
       "  content: \"▸\";\n",
       "  float: left;\n",
       "  margin-right: 0.25em;\n",
       "  color: var(--sklearn-color-icon);\n",
       "}\n",
       "\n",
       "#sk-container-id-2 label.sk-toggleable__label-arrow:hover:before {\n",
       "  color: var(--sklearn-color-text);\n",
       "}\n",
       "\n",
       "/* Toggleable content - dropdown */\n",
       "\n",
       "#sk-container-id-2 div.sk-toggleable__content {\n",
       "  max-height: 0;\n",
       "  max-width: 0;\n",
       "  overflow: hidden;\n",
       "  text-align: left;\n",
       "  /* unfitted */\n",
       "  background-color: var(--sklearn-color-unfitted-level-0);\n",
       "}\n",
       "\n",
       "#sk-container-id-2 div.sk-toggleable__content.fitted {\n",
       "  /* fitted */\n",
       "  background-color: var(--sklearn-color-fitted-level-0);\n",
       "}\n",
       "\n",
       "#sk-container-id-2 div.sk-toggleable__content pre {\n",
       "  margin: 0.2em;\n",
       "  border-radius: 0.25em;\n",
       "  color: var(--sklearn-color-text);\n",
       "  /* unfitted */\n",
       "  background-color: var(--sklearn-color-unfitted-level-0);\n",
       "}\n",
       "\n",
       "#sk-container-id-2 div.sk-toggleable__content.fitted pre {\n",
       "  /* unfitted */\n",
       "  background-color: var(--sklearn-color-fitted-level-0);\n",
       "}\n",
       "\n",
       "#sk-container-id-2 input.sk-toggleable__control:checked~div.sk-toggleable__content {\n",
       "  /* Expand drop-down */\n",
       "  max-height: 200px;\n",
       "  max-width: 100%;\n",
       "  overflow: auto;\n",
       "}\n",
       "\n",
       "#sk-container-id-2 input.sk-toggleable__control:checked~label.sk-toggleable__label-arrow:before {\n",
       "  content: \"▾\";\n",
       "}\n",
       "\n",
       "/* Pipeline/ColumnTransformer-specific style */\n",
       "\n",
       "#sk-container-id-2 div.sk-label input.sk-toggleable__control:checked~label.sk-toggleable__label {\n",
       "  color: var(--sklearn-color-text);\n",
       "  background-color: var(--sklearn-color-unfitted-level-2);\n",
       "}\n",
       "\n",
       "#sk-container-id-2 div.sk-label.fitted input.sk-toggleable__control:checked~label.sk-toggleable__label {\n",
       "  background-color: var(--sklearn-color-fitted-level-2);\n",
       "}\n",
       "\n",
       "/* Estimator-specific style */\n",
       "\n",
       "/* Colorize estimator box */\n",
       "#sk-container-id-2 div.sk-estimator input.sk-toggleable__control:checked~label.sk-toggleable__label {\n",
       "  /* unfitted */\n",
       "  background-color: var(--sklearn-color-unfitted-level-2);\n",
       "}\n",
       "\n",
       "#sk-container-id-2 div.sk-estimator.fitted input.sk-toggleable__control:checked~label.sk-toggleable__label {\n",
       "  /* fitted */\n",
       "  background-color: var(--sklearn-color-fitted-level-2);\n",
       "}\n",
       "\n",
       "#sk-container-id-2 div.sk-label label.sk-toggleable__label,\n",
       "#sk-container-id-2 div.sk-label label {\n",
       "  /* The background is the default theme color */\n",
       "  color: var(--sklearn-color-text-on-default-background);\n",
       "}\n",
       "\n",
       "/* On hover, darken the color of the background */\n",
       "#sk-container-id-2 div.sk-label:hover label.sk-toggleable__label {\n",
       "  color: var(--sklearn-color-text);\n",
       "  background-color: var(--sklearn-color-unfitted-level-2);\n",
       "}\n",
       "\n",
       "/* Label box, darken color on hover, fitted */\n",
       "#sk-container-id-2 div.sk-label.fitted:hover label.sk-toggleable__label.fitted {\n",
       "  color: var(--sklearn-color-text);\n",
       "  background-color: var(--sklearn-color-fitted-level-2);\n",
       "}\n",
       "\n",
       "/* Estimator label */\n",
       "\n",
       "#sk-container-id-2 div.sk-label label {\n",
       "  font-family: monospace;\n",
       "  font-weight: bold;\n",
       "  display: inline-block;\n",
       "  line-height: 1.2em;\n",
       "}\n",
       "\n",
       "#sk-container-id-2 div.sk-label-container {\n",
       "  text-align: center;\n",
       "}\n",
       "\n",
       "/* Estimator-specific */\n",
       "#sk-container-id-2 div.sk-estimator {\n",
       "  font-family: monospace;\n",
       "  border: 1px dotted var(--sklearn-color-border-box);\n",
       "  border-radius: 0.25em;\n",
       "  box-sizing: border-box;\n",
       "  margin-bottom: 0.5em;\n",
       "  /* unfitted */\n",
       "  background-color: var(--sklearn-color-unfitted-level-0);\n",
       "}\n",
       "\n",
       "#sk-container-id-2 div.sk-estimator.fitted {\n",
       "  /* fitted */\n",
       "  background-color: var(--sklearn-color-fitted-level-0);\n",
       "}\n",
       "\n",
       "/* on hover */\n",
       "#sk-container-id-2 div.sk-estimator:hover {\n",
       "  /* unfitted */\n",
       "  background-color: var(--sklearn-color-unfitted-level-2);\n",
       "}\n",
       "\n",
       "#sk-container-id-2 div.sk-estimator.fitted:hover {\n",
       "  /* fitted */\n",
       "  background-color: var(--sklearn-color-fitted-level-2);\n",
       "}\n",
       "\n",
       "/* Specification for estimator info (e.g. \"i\" and \"?\") */\n",
       "\n",
       "/* Common style for \"i\" and \"?\" */\n",
       "\n",
       ".sk-estimator-doc-link,\n",
       "a:link.sk-estimator-doc-link,\n",
       "a:visited.sk-estimator-doc-link {\n",
       "  float: right;\n",
       "  font-size: smaller;\n",
       "  line-height: 1em;\n",
       "  font-family: monospace;\n",
       "  background-color: var(--sklearn-color-background);\n",
       "  border-radius: 1em;\n",
       "  height: 1em;\n",
       "  width: 1em;\n",
       "  text-decoration: none !important;\n",
       "  margin-left: 0.5em;\n",
       "  text-align: center;\n",
       "  /* unfitted */\n",
       "  border: var(--sklearn-color-unfitted-level-1) 1pt solid;\n",
       "  color: var(--sklearn-color-unfitted-level-1);\n",
       "}\n",
       "\n",
       ".sk-estimator-doc-link.fitted,\n",
       "a:link.sk-estimator-doc-link.fitted,\n",
       "a:visited.sk-estimator-doc-link.fitted {\n",
       "  /* fitted */\n",
       "  border: var(--sklearn-color-fitted-level-1) 1pt solid;\n",
       "  color: var(--sklearn-color-fitted-level-1);\n",
       "}\n",
       "\n",
       "/* On hover */\n",
       "div.sk-estimator:hover .sk-estimator-doc-link:hover,\n",
       ".sk-estimator-doc-link:hover,\n",
       "div.sk-label-container:hover .sk-estimator-doc-link:hover,\n",
       ".sk-estimator-doc-link:hover {\n",
       "  /* unfitted */\n",
       "  background-color: var(--sklearn-color-unfitted-level-3);\n",
       "  color: var(--sklearn-color-background);\n",
       "  text-decoration: none;\n",
       "}\n",
       "\n",
       "div.sk-estimator.fitted:hover .sk-estimator-doc-link.fitted:hover,\n",
       ".sk-estimator-doc-link.fitted:hover,\n",
       "div.sk-label-container:hover .sk-estimator-doc-link.fitted:hover,\n",
       ".sk-estimator-doc-link.fitted:hover {\n",
       "  /* fitted */\n",
       "  background-color: var(--sklearn-color-fitted-level-3);\n",
       "  color: var(--sklearn-color-background);\n",
       "  text-decoration: none;\n",
       "}\n",
       "\n",
       "/* Span, style for the box shown on hovering the info icon */\n",
       ".sk-estimator-doc-link span {\n",
       "  display: none;\n",
       "  z-index: 9999;\n",
       "  position: relative;\n",
       "  font-weight: normal;\n",
       "  right: .2ex;\n",
       "  padding: .5ex;\n",
       "  margin: .5ex;\n",
       "  width: min-content;\n",
       "  min-width: 20ex;\n",
       "  max-width: 50ex;\n",
       "  color: var(--sklearn-color-text);\n",
       "  box-shadow: 2pt 2pt 4pt #999;\n",
       "  /* unfitted */\n",
       "  background: var(--sklearn-color-unfitted-level-0);\n",
       "  border: .5pt solid var(--sklearn-color-unfitted-level-3);\n",
       "}\n",
       "\n",
       ".sk-estimator-doc-link.fitted span {\n",
       "  /* fitted */\n",
       "  background: var(--sklearn-color-fitted-level-0);\n",
       "  border: var(--sklearn-color-fitted-level-3);\n",
       "}\n",
       "\n",
       ".sk-estimator-doc-link:hover span {\n",
       "  display: block;\n",
       "}\n",
       "\n",
       "/* \"?\"-specific style due to the `<a>` HTML tag */\n",
       "\n",
       "#sk-container-id-2 a.estimator_doc_link {\n",
       "  float: right;\n",
       "  font-size: 1rem;\n",
       "  line-height: 1em;\n",
       "  font-family: monospace;\n",
       "  background-color: var(--sklearn-color-background);\n",
       "  border-radius: 1rem;\n",
       "  height: 1rem;\n",
       "  width: 1rem;\n",
       "  text-decoration: none;\n",
       "  /* unfitted */\n",
       "  color: var(--sklearn-color-unfitted-level-1);\n",
       "  border: var(--sklearn-color-unfitted-level-1) 1pt solid;\n",
       "}\n",
       "\n",
       "#sk-container-id-2 a.estimator_doc_link.fitted {\n",
       "  /* fitted */\n",
       "  border: var(--sklearn-color-fitted-level-1) 1pt solid;\n",
       "  color: var(--sklearn-color-fitted-level-1);\n",
       "}\n",
       "\n",
       "/* On hover */\n",
       "#sk-container-id-2 a.estimator_doc_link:hover {\n",
       "  /* unfitted */\n",
       "  background-color: var(--sklearn-color-unfitted-level-3);\n",
       "  color: var(--sklearn-color-background);\n",
       "  text-decoration: none;\n",
       "}\n",
       "\n",
       "#sk-container-id-2 a.estimator_doc_link.fitted:hover {\n",
       "  /* fitted */\n",
       "  background-color: var(--sklearn-color-fitted-level-3);\n",
       "}\n",
       "</style><div id=\"sk-container-id-2\" class=\"sk-top-container\"><div class=\"sk-text-repr-fallback\"><pre>Ridge(random_state=42)</pre><b>In a Jupyter environment, please rerun this cell to show the HTML representation or trust the notebook. <br />On GitHub, the HTML representation is unable to render, please try loading this page with nbviewer.org.</b></div><div class=\"sk-container\" hidden><div class=\"sk-item\"><div class=\"sk-estimator fitted sk-toggleable\"><input class=\"sk-toggleable__control sk-hidden--visually\" id=\"sk-estimator-id-2\" type=\"checkbox\" checked><label for=\"sk-estimator-id-2\" class=\"sk-toggleable__label fitted sk-toggleable__label-arrow\"><div><div>Ridge</div></div><div><a class=\"sk-estimator-doc-link fitted\" rel=\"noreferrer\" target=\"_blank\" href=\"https://scikit-learn.org/1.6/modules/generated/sklearn.linear_model.Ridge.html\">?<span>Documentation for Ridge</span></a><span class=\"sk-estimator-doc-link fitted\">i<span>Fitted</span></span></div></label><div class=\"sk-toggleable__content fitted\"><pre>Ridge(random_state=42)</pre></div> </div></div></div></div>"
      ],
      "text/plain": [
       "Ridge(random_state=42)"
      ]
     },
     "execution_count": 11,
     "metadata": {},
     "output_type": "execute_result"
    }
   ],
   "source": [
    "model.fit(X_train, y_train)"
   ]
  },
  {
   "cell_type": "code",
   "execution_count": 12,
   "id": "fa532c99",
   "metadata": {},
   "outputs": [],
   "source": [
    "# predict\n",
    "y_pred = model.predict(X_test)"
   ]
  },
  {
   "cell_type": "code",
   "execution_count": 13,
   "id": "0476cf8e",
   "metadata": {},
   "outputs": [],
   "source": [
    "# compute metrics\n",
    "rmse, mae, r2 = compute_metrics(y_test, y_pred)\n",
    "stability = compute_stability(model, X_test, y_test,\n",
    "                            noise_level=0.01, n_trials=5)"
   ]
  },
  {
   "cell_type": "code",
   "execution_count": 14,
   "id": "d822ed67",
   "metadata": {},
   "outputs": [],
   "source": [
    "manual_results = {\n",
    "            'RMSE': rmse,\n",
    "            'MAE': mae,\n",
    "            'R2': r2,\n",
    "            'Stability': stability\n",
    "        }"
   ]
  },
  {
   "cell_type": "code",
   "execution_count": 15,
   "id": "f2dc67c0",
   "metadata": {},
   "outputs": [
    {
     "data": {
      "application/vnd.microsoft.datawrangler.viewer.v0+json": {
       "columns": [
        {
         "name": "index",
         "rawType": "int64",
         "type": "integer"
        },
        {
         "name": "RMSE",
         "rawType": "float64",
         "type": "float"
        },
        {
         "name": "MAE",
         "rawType": "float64",
         "type": "float"
        },
        {
         "name": "R2",
         "rawType": "float64",
         "type": "float"
        },
        {
         "name": "Stability",
         "rawType": "float64",
         "type": "float"
        }
       ],
       "conversionMethod": "pd.DataFrame",
       "ref": "179defcf-2603-4352-8364-4548ddcf1d6b",
       "rows": [
        [
         "0",
         "44.79569547375485",
         "15.571980591268394",
         "-32.24554237698919",
         "-0.0010842998496107645"
        ]
       ],
       "shape": {
        "columns": 4,
        "rows": 1
       }
      },
      "text/html": [
       "<div>\n",
       "<style scoped>\n",
       "    .dataframe tbody tr th:only-of-type {\n",
       "        vertical-align: middle;\n",
       "    }\n",
       "\n",
       "    .dataframe tbody tr th {\n",
       "        vertical-align: top;\n",
       "    }\n",
       "\n",
       "    .dataframe thead th {\n",
       "        text-align: right;\n",
       "    }\n",
       "</style>\n",
       "<table border=\"1\" class=\"dataframe\">\n",
       "  <thead>\n",
       "    <tr style=\"text-align: right;\">\n",
       "      <th></th>\n",
       "      <th>RMSE</th>\n",
       "      <th>MAE</th>\n",
       "      <th>R2</th>\n",
       "      <th>Stability</th>\n",
       "    </tr>\n",
       "  </thead>\n",
       "  <tbody>\n",
       "    <tr>\n",
       "      <th>0</th>\n",
       "      <td>44.795695</td>\n",
       "      <td>15.571981</td>\n",
       "      <td>-32.245542</td>\n",
       "      <td>-0.001084</td>\n",
       "    </tr>\n",
       "  </tbody>\n",
       "</table>\n",
       "</div>"
      ],
      "text/plain": [
       "        RMSE        MAE         R2  Stability\n",
       "0  44.795695  15.571981 -32.245542  -0.001084"
      ]
     },
     "execution_count": 15,
     "metadata": {},
     "output_type": "execute_result"
    }
   ],
   "source": [
    "pd.DataFrame(manual_results, index=[0])"
   ]
  },
  {
   "cell_type": "markdown",
   "id": "8756fe2b",
   "metadata": {},
   "source": [
    "# Iterative Training"
   ]
  },
  {
   "cell_type": "code",
   "execution_count": null,
   "id": "5be33ab2",
   "metadata": {},
   "outputs": [],
   "source": [
    "def process_dataset(train_df, test_df, models, scenario_info):\n",
    "    \"\"\"\n",
    "    Process a single dataset with all models and return results.\n",
    "    \n",
    "    Parameters:\n",
    "        train_df (pd.DataFrame): Training data\n",
    "        test_df (pd.DataFrame): Test data\n",
    "        models (dict): Dictionary of models to evaluate\n",
    "        scenario_info (dict): Dictionary containing scenario metadata\n",
    "    \"\"\"\n",
    "    temp_results = []\n",
    "    \n",
    "    # Separate features and target\n",
    "    X_train = train_df.drop(columns=['totalEsg'])\n",
    "    y_train = train_df['totalEsg']\n",
    "    X_test = test_df.drop(columns=['totalEsg'])\n",
    "    y_test = test_df['totalEsg']\n",
    "    \n",
    "    print(f\"Data shapes - Train: {train_df.shape}, Test: {test_df.shape}\")\n",
    "    \n",
    "    # Train and evaluate models\n",
    "    for model_name, model in models.items():\n",
    "        # Train and predict\n",
    "        model.fit(X_train, y_train)\n",
    "        y_pred = model.predict(X_test)\n",
    "        \n",
    "        # Compute metrics\n",
    "        rmse, mae, r2 = compute_metrics(y_test, y_pred)\n",
    "        stability = compute_stability(model, X_test, y_test, \n",
    "                                   noise_level=0.01, n_trials=5)\n",
    "        \n",
    "        # Store results\n",
    "        temp_results.append({\n",
    "            **scenario_info,\n",
    "            'model': model_name,\n",
    "            'RMSE': rmse,\n",
    "            'MAE': mae,\n",
    "            'R2': r2,\n",
    "            'Stability': stability\n",
    "        })\n",
    "    \n",
    "    return temp_results"
   ]
  },
  {
   "cell_type": "code",
   "execution_count": 6,
   "id": "0cdc7fdb",
   "metadata": {},
   "outputs": [
    {
     "data": {
      "text/plain": [
       "(275, 82)"
      ]
     },
     "execution_count": 6,
     "metadata": {},
     "output_type": "execute_result"
    }
   ],
   "source": [
    "datasets['baselines']['full']['region_holdout']['europe_n_central_asia']['train'].shape"
   ]
  },
  {
   "cell_type": "code",
   "execution_count": 7,
   "id": "2ddcc900",
   "metadata": {},
   "outputs": [
    {
     "data": {
      "text/plain": [
       "dict_keys(['train', 'test', 'train_size', 'test_size'])"
      ]
     },
     "execution_count": 7,
     "metadata": {},
     "output_type": "execute_result"
    }
   ],
   "source": [
    "datasets['baselines']['full']['region_holdout']['europe_n_central_asia'].keys()"
   ]
  },
  {
   "cell_type": "code",
   "execution_count": null,
   "id": "9f86d966",
   "metadata": {},
   "outputs": [],
   "source": [
    "results = []\n",
    "n_runs = 5 # number of runs for statistical comparison"
   ]
  },
  {
   "cell_type": "code",
   "execution_count": null,
   "id": "6f6c5d9f",
   "metadata": {},
   "outputs": [
    {
     "name": "stdout",
     "output_type": "stream",
     "text": [
      "Scenario: baselines, full, Split: within_sample\n",
      "(291, 83) (73, 83)\n"
     ]
    },
    {
     "name": "stderr",
     "output_type": "stream",
     "text": [
      "l:\\Programs\\anaconda\\envs\\esg_pred\\Lib\\site-packages\\sklearn\\linear_model\\_ridge.py:215: LinAlgWarning: Ill-conditioned matrix (rcond=3.99506e-27): result may not be accurate.\n",
      "  return linalg.solve(A, Xy, assume_a=\"pos\", overwrite_a=True).T\n",
      "l:\\Programs\\anaconda\\envs\\esg_pred\\Lib\\site-packages\\xgboost\\training.py:183: UserWarning: [07:32:39] WARNING: C:\\actions-runner\\_work\\xgboost\\xgboost\\src\\learner.cc:738: \n",
      "Parameters: { \"use_label_encoder\" } are not used.\n",
      "\n",
      "  bst.update(dtrain, iteration=i, fobj=obj)\n"
     ]
    },
    {
     "name": "stdout",
     "output_type": "stream",
     "text": [
      "Scenario: baselines, full, Split: region_holdout, Context: east_asia_n_pacific\n",
      "(301, 82) (63, 82)\n"
     ]
    },
    {
     "name": "stderr",
     "output_type": "stream",
     "text": [
      "l:\\Programs\\anaconda\\envs\\esg_pred\\Lib\\site-packages\\sklearn\\linear_model\\_ridge.py:215: LinAlgWarning: Ill-conditioned matrix (rcond=3.96165e-27): result may not be accurate.\n",
      "  return linalg.solve(A, Xy, assume_a=\"pos\", overwrite_a=True).T\n",
      "l:\\Programs\\anaconda\\envs\\esg_pred\\Lib\\site-packages\\xgboost\\training.py:183: UserWarning: [07:32:47] WARNING: C:\\actions-runner\\_work\\xgboost\\xgboost\\src\\learner.cc:738: \n",
      "Parameters: { \"use_label_encoder\" } are not used.\n",
      "\n",
      "  bst.update(dtrain, iteration=i, fobj=obj)\n"
     ]
    },
    {
     "name": "stdout",
     "output_type": "stream",
     "text": [
      "Scenario: baselines, full, Split: region_holdout, Context: europe_n_central_asia\n",
      "(275, 82) (89, 82)\n"
     ]
    },
    {
     "name": "stderr",
     "output_type": "stream",
     "text": [
      "l:\\Programs\\anaconda\\envs\\esg_pred\\Lib\\site-packages\\sklearn\\linear_model\\_ridge.py:215: LinAlgWarning: Ill-conditioned matrix (rcond=3.87006e-27): result may not be accurate.\n",
      "  return linalg.solve(A, Xy, assume_a=\"pos\", overwrite_a=True).T\n",
      "l:\\Programs\\anaconda\\envs\\esg_pred\\Lib\\site-packages\\xgboost\\training.py:183: UserWarning: [07:32:55] WARNING: C:\\actions-runner\\_work\\xgboost\\xgboost\\src\\learner.cc:738: \n",
      "Parameters: { \"use_label_encoder\" } are not used.\n",
      "\n",
      "  bst.update(dtrain, iteration=i, fobj=obj)\n"
     ]
    },
    {
     "name": "stdout",
     "output_type": "stream",
     "text": [
      "Scenario: baselines, full, Split: region_holdout, Context: latin_america_n_caribbean\n",
      "(322, 82) (42, 82)\n"
     ]
    },
    {
     "name": "stderr",
     "output_type": "stream",
     "text": [
      "l:\\Programs\\anaconda\\envs\\esg_pred\\Lib\\site-packages\\sklearn\\linear_model\\_ridge.py:215: LinAlgWarning: Ill-conditioned matrix (rcond=6.88608e-30): result may not be accurate.\n",
      "  return linalg.solve(A, Xy, assume_a=\"pos\", overwrite_a=True).T\n",
      "l:\\Programs\\anaconda\\envs\\esg_pred\\Lib\\site-packages\\xgboost\\training.py:183: UserWarning: [07:33:04] WARNING: C:\\actions-runner\\_work\\xgboost\\xgboost\\src\\learner.cc:738: \n",
      "Parameters: { \"use_label_encoder\" } are not used.\n",
      "\n",
      "  bst.update(dtrain, iteration=i, fobj=obj)\n"
     ]
    },
    {
     "name": "stdout",
     "output_type": "stream",
     "text": [
      "Scenario: baselines, full, Split: region_holdout, Context: north_america\n",
      "(250, 82) (114, 82)\n"
     ]
    },
    {
     "name": "stderr",
     "output_type": "stream",
     "text": [
      "l:\\Programs\\anaconda\\envs\\esg_pred\\Lib\\site-packages\\sklearn\\linear_model\\_ridge.py:215: LinAlgWarning: Ill-conditioned matrix (rcond=3.95053e-27): result may not be accurate.\n",
      "  return linalg.solve(A, Xy, assume_a=\"pos\", overwrite_a=True).T\n",
      "l:\\Programs\\anaconda\\envs\\esg_pred\\Lib\\site-packages\\xgboost\\training.py:183: UserWarning: [07:33:10] WARNING: C:\\actions-runner\\_work\\xgboost\\xgboost\\src\\learner.cc:738: \n",
      "Parameters: { \"use_label_encoder\" } are not used.\n",
      "\n",
      "  bst.update(dtrain, iteration=i, fobj=obj)\n"
     ]
    },
    {
     "name": "stdout",
     "output_type": "stream",
     "text": [
      "Scenario: baselines, full, Split: region_holdout, Context: south_asia\n",
      "(327, 82) (37, 82)\n"
     ]
    },
    {
     "name": "stderr",
     "output_type": "stream",
     "text": [
      "l:\\Programs\\anaconda\\envs\\esg_pred\\Lib\\site-packages\\sklearn\\linear_model\\_ridge.py:215: LinAlgWarning: Ill-conditioned matrix (rcond=4.31965e-27): result may not be accurate.\n",
      "  return linalg.solve(A, Xy, assume_a=\"pos\", overwrite_a=True).T\n",
      "l:\\Programs\\anaconda\\envs\\esg_pred\\Lib\\site-packages\\xgboost\\training.py:183: UserWarning: [07:33:19] WARNING: C:\\actions-runner\\_work\\xgboost\\xgboost\\src\\learner.cc:738: \n",
      "Parameters: { \"use_label_encoder\" } are not used.\n",
      "\n",
      "  bst.update(dtrain, iteration=i, fobj=obj)\n"
     ]
    },
    {
     "name": "stdout",
     "output_type": "stream",
     "text": [
      "Scenario: baselines, full, Split: region_holdout, Context: sub_saharan_africa\n",
      "(345, 82) (19, 82)\n"
     ]
    },
    {
     "name": "stderr",
     "output_type": "stream",
     "text": [
      "l:\\Programs\\anaconda\\envs\\esg_pred\\Lib\\site-packages\\sklearn\\linear_model\\_ridge.py:215: LinAlgWarning: Ill-conditioned matrix (rcond=5.30054e-28): result may not be accurate.\n",
      "  return linalg.solve(A, Xy, assume_a=\"pos\", overwrite_a=True).T\n",
      "l:\\Programs\\anaconda\\envs\\esg_pred\\Lib\\site-packages\\xgboost\\training.py:183: UserWarning: [07:33:29] WARNING: C:\\actions-runner\\_work\\xgboost\\xgboost\\src\\learner.cc:738: \n",
      "Parameters: { \"use_label_encoder\" } are not used.\n",
      "\n",
      "  bst.update(dtrain, iteration=i, fobj=obj)\n"
     ]
    },
    {
     "name": "stdout",
     "output_type": "stream",
     "text": [
      "Scenario: baselines, full, Split: size_holdout, Context: Large-Cap\n",
      "(251, 83) (113, 83)\n"
     ]
    },
    {
     "name": "stderr",
     "output_type": "stream",
     "text": [
      "l:\\Programs\\anaconda\\envs\\esg_pred\\Lib\\site-packages\\sklearn\\linear_model\\_ridge.py:215: LinAlgWarning: Ill-conditioned matrix (rcond=8.98707e-24): result may not be accurate.\n",
      "  return linalg.solve(A, Xy, assume_a=\"pos\", overwrite_a=True).T\n",
      "l:\\Programs\\anaconda\\envs\\esg_pred\\Lib\\site-packages\\xgboost\\training.py:183: UserWarning: [07:33:36] WARNING: C:\\actions-runner\\_work\\xgboost\\xgboost\\src\\learner.cc:738: \n",
      "Parameters: { \"use_label_encoder\" } are not used.\n",
      "\n",
      "  bst.update(dtrain, iteration=i, fobj=obj)\n"
     ]
    },
    {
     "name": "stdout",
     "output_type": "stream",
     "text": [
      "Scenario: baselines, full, Split: size_holdout, Context: Mid-Cap\n",
      "(249, 83) (115, 83)\n"
     ]
    },
    {
     "name": "stderr",
     "output_type": "stream",
     "text": [
      "l:\\Programs\\anaconda\\envs\\esg_pred\\Lib\\site-packages\\sklearn\\linear_model\\_ridge.py:215: LinAlgWarning: Ill-conditioned matrix (rcond=6.88343e-30): result may not be accurate.\n",
      "  return linalg.solve(A, Xy, assume_a=\"pos\", overwrite_a=True).T\n",
      "l:\\Programs\\anaconda\\envs\\esg_pred\\Lib\\site-packages\\xgboost\\training.py:183: UserWarning: [07:33:43] WARNING: C:\\actions-runner\\_work\\xgboost\\xgboost\\src\\learner.cc:738: \n",
      "Parameters: { \"use_label_encoder\" } are not used.\n",
      "\n",
      "  bst.update(dtrain, iteration=i, fobj=obj)\n"
     ]
    },
    {
     "name": "stdout",
     "output_type": "stream",
     "text": [
      "Scenario: baselines, full, Split: size_holdout, Context: Small-Cap\n",
      "(228, 83) (136, 83)\n"
     ]
    },
    {
     "name": "stderr",
     "output_type": "stream",
     "text": [
      "l:\\Programs\\anaconda\\envs\\esg_pred\\Lib\\site-packages\\sklearn\\linear_model\\_ridge.py:215: LinAlgWarning: Ill-conditioned matrix (rcond=5.49227e-28): result may not be accurate.\n",
      "  return linalg.solve(A, Xy, assume_a=\"pos\", overwrite_a=True).T\n",
      "l:\\Programs\\anaconda\\envs\\esg_pred\\Lib\\site-packages\\xgboost\\training.py:183: UserWarning: [07:33:49] WARNING: C:\\actions-runner\\_work\\xgboost\\xgboost\\src\\learner.cc:738: \n",
      "Parameters: { \"use_label_encoder\" } are not used.\n",
      "\n",
      "  bst.update(dtrain, iteration=i, fobj=obj)\n"
     ]
    },
    {
     "name": "stdout",
     "output_type": "stream",
     "text": [
      "Scenario: baselines, constrained, Split: within_sample\n",
      "(113, 83) (29, 83)\n"
     ]
    },
    {
     "name": "stderr",
     "output_type": "stream",
     "text": [
      "l:\\Programs\\anaconda\\envs\\esg_pred\\Lib\\site-packages\\sklearn\\linear_model\\_ridge.py:215: LinAlgWarning: Ill-conditioned matrix (rcond=2.47357e-25): result may not be accurate.\n",
      "  return linalg.solve(A, Xy, assume_a=\"pos\", overwrite_a=True).T\n",
      "l:\\Programs\\anaconda\\envs\\esg_pred\\Lib\\site-packages\\xgboost\\training.py:183: UserWarning: [07:33:52] WARNING: C:\\actions-runner\\_work\\xgboost\\xgboost\\src\\learner.cc:738: \n",
      "Parameters: { \"use_label_encoder\" } are not used.\n",
      "\n",
      "  bst.update(dtrain, iteration=i, fobj=obj)\n"
     ]
    },
    {
     "name": "stdout",
     "output_type": "stream",
     "text": [
      "Scenario: baselines, constrained, Split: region_holdout, Context: europe_n_central_asia\n",
      "(87, 78) (55, 78)\n"
     ]
    },
    {
     "name": "stderr",
     "output_type": "stream",
     "text": [
      "l:\\Programs\\anaconda\\envs\\esg_pred\\Lib\\site-packages\\sklearn\\linear_model\\_ridge.py:215: LinAlgWarning: Ill-conditioned matrix (rcond=5.52641e-23): result may not be accurate.\n",
      "  return linalg.solve(A, Xy, assume_a=\"pos\", overwrite_a=True).T\n",
      "l:\\Programs\\anaconda\\envs\\esg_pred\\Lib\\site-packages\\xgboost\\training.py:183: UserWarning: [07:33:55] WARNING: C:\\actions-runner\\_work\\xgboost\\xgboost\\src\\learner.cc:738: \n",
      "Parameters: { \"use_label_encoder\" } are not used.\n",
      "\n",
      "  bst.update(dtrain, iteration=i, fobj=obj)\n"
     ]
    },
    {
     "name": "stdout",
     "output_type": "stream",
     "text": [
      "Scenario: baselines, constrained, Split: region_holdout, Context: north_america\n",
      "(55, 78) (87, 78)\n"
     ]
    },
    {
     "name": "stderr",
     "output_type": "stream",
     "text": [
      "l:\\Programs\\anaconda\\envs\\esg_pred\\Lib\\site-packages\\sklearn\\linear_model\\_ridge.py:254: UserWarning: Singular matrix in solving dual problem. Using least-squares solution instead.\n",
      "  warnings.warn(\n",
      "l:\\Programs\\anaconda\\envs\\esg_pred\\Lib\\site-packages\\xgboost\\training.py:183: UserWarning: [07:33:57] WARNING: C:\\actions-runner\\_work\\xgboost\\xgboost\\src\\learner.cc:738: \n",
      "Parameters: { \"use_label_encoder\" } are not used.\n",
      "\n",
      "  bst.update(dtrain, iteration=i, fobj=obj)\n"
     ]
    },
    {
     "name": "stdout",
     "output_type": "stream",
     "text": [
      "Scenario: baselines, constrained, Split: size_holdout, Context: Large-Cap\n",
      "(81, 82) (61, 82)\n"
     ]
    },
    {
     "name": "stderr",
     "output_type": "stream",
     "text": [
      "l:\\Programs\\anaconda\\envs\\esg_pred\\Lib\\site-packages\\sklearn\\linear_model\\_ridge.py:215: LinAlgWarning: Ill-conditioned matrix (rcond=7.64207e-26): result may not be accurate.\n",
      "  return linalg.solve(A, Xy, assume_a=\"pos\", overwrite_a=True).T\n",
      "l:\\Programs\\anaconda\\envs\\esg_pred\\Lib\\site-packages\\xgboost\\training.py:183: UserWarning: [07:33:59] WARNING: C:\\actions-runner\\_work\\xgboost\\xgboost\\src\\learner.cc:738: \n",
      "Parameters: { \"use_label_encoder\" } are not used.\n",
      "\n",
      "  bst.update(dtrain, iteration=i, fobj=obj)\n"
     ]
    },
    {
     "name": "stdout",
     "output_type": "stream",
     "text": [
      "Scenario: baselines, constrained, Split: size_holdout, Context: Mid-Cap\n",
      "(61, 82) (81, 82)\n"
     ]
    },
    {
     "name": "stderr",
     "output_type": "stream",
     "text": [
      "l:\\Programs\\anaconda\\envs\\esg_pred\\Lib\\site-packages\\sklearn\\linear_model\\_ridge.py:254: UserWarning: Singular matrix in solving dual problem. Using least-squares solution instead.\n",
      "  warnings.warn(\n",
      "l:\\Programs\\anaconda\\envs\\esg_pred\\Lib\\site-packages\\xgboost\\training.py:183: UserWarning: [07:34:01] WARNING: C:\\actions-runner\\_work\\xgboost\\xgboost\\src\\learner.cc:738: \n",
      "Parameters: { \"use_label_encoder\" } are not used.\n",
      "\n",
      "  bst.update(dtrain, iteration=i, fobj=obj)\n"
     ]
    },
    {
     "name": "stdout",
     "output_type": "stream",
     "text": [
      "Scenario: diversified, max_balanced, Split: within_sample\n",
      "(563, 83) (141, 83)\n"
     ]
    },
    {
     "name": "stderr",
     "output_type": "stream",
     "text": [
      "l:\\Programs\\anaconda\\envs\\esg_pred\\Lib\\site-packages\\sklearn\\linear_model\\_ridge.py:215: LinAlgWarning: Ill-conditioned matrix (rcond=1.10558e-27): result may not be accurate.\n",
      "  return linalg.solve(A, Xy, assume_a=\"pos\", overwrite_a=True).T\n",
      "l:\\Programs\\anaconda\\envs\\esg_pred\\Lib\\site-packages\\xgboost\\training.py:183: UserWarning: [07:34:11] WARNING: C:\\actions-runner\\_work\\xgboost\\xgboost\\src\\learner.cc:738: \n",
      "Parameters: { \"use_label_encoder\" } are not used.\n",
      "\n",
      "  bst.update(dtrain, iteration=i, fobj=obj)\n"
     ]
    },
    {
     "name": "stdout",
     "output_type": "stream",
     "text": [
      "Scenario: diversified, max_balanced, Split: region_holdout, Context: east_asia_n_pacific\n",
      "(572, 82) (132, 82)\n"
     ]
    },
    {
     "name": "stderr",
     "output_type": "stream",
     "text": [
      "l:\\Programs\\anaconda\\envs\\esg_pred\\Lib\\site-packages\\sklearn\\linear_model\\_ridge.py:215: LinAlgWarning: Ill-conditioned matrix (rcond=7.82082e-24): result may not be accurate.\n",
      "  return linalg.solve(A, Xy, assume_a=\"pos\", overwrite_a=True).T\n",
      "l:\\Programs\\anaconda\\envs\\esg_pred\\Lib\\site-packages\\xgboost\\training.py:183: UserWarning: [07:34:21] WARNING: C:\\actions-runner\\_work\\xgboost\\xgboost\\src\\learner.cc:738: \n",
      "Parameters: { \"use_label_encoder\" } are not used.\n",
      "\n",
      "  bst.update(dtrain, iteration=i, fobj=obj)\n"
     ]
    },
    {
     "name": "stdout",
     "output_type": "stream",
     "text": [
      "Scenario: diversified, max_balanced, Split: region_holdout, Context: europe_n_central_asia\n",
      "(572, 82) (132, 82)\n"
     ]
    },
    {
     "name": "stderr",
     "output_type": "stream",
     "text": [
      "l:\\Programs\\anaconda\\envs\\esg_pred\\Lib\\site-packages\\sklearn\\linear_model\\_ridge.py:215: LinAlgWarning: Ill-conditioned matrix (rcond=1.03279e-27): result may not be accurate.\n",
      "  return linalg.solve(A, Xy, assume_a=\"pos\", overwrite_a=True).T\n",
      "l:\\Programs\\anaconda\\envs\\esg_pred\\Lib\\site-packages\\xgboost\\training.py:183: UserWarning: [07:34:30] WARNING: C:\\actions-runner\\_work\\xgboost\\xgboost\\src\\learner.cc:738: \n",
      "Parameters: { \"use_label_encoder\" } are not used.\n",
      "\n",
      "  bst.update(dtrain, iteration=i, fobj=obj)\n"
     ]
    },
    {
     "name": "stdout",
     "output_type": "stream",
     "text": [
      "Scenario: diversified, max_balanced, Split: region_holdout, Context: latin_america_n_caribbean\n",
      "(616, 82) (88, 82)\n"
     ]
    },
    {
     "name": "stderr",
     "output_type": "stream",
     "text": [
      "l:\\Programs\\anaconda\\envs\\esg_pred\\Lib\\site-packages\\sklearn\\linear_model\\_ridge.py:215: LinAlgWarning: Ill-conditioned matrix (rcond=1.12808e-27): result may not be accurate.\n",
      "  return linalg.solve(A, Xy, assume_a=\"pos\", overwrite_a=True).T\n",
      "l:\\Programs\\anaconda\\envs\\esg_pred\\Lib\\site-packages\\xgboost\\training.py:183: UserWarning: [07:34:40] WARNING: C:\\actions-runner\\_work\\xgboost\\xgboost\\src\\learner.cc:738: \n",
      "Parameters: { \"use_label_encoder\" } are not used.\n",
      "\n",
      "  bst.update(dtrain, iteration=i, fobj=obj)\n"
     ]
    },
    {
     "name": "stdout",
     "output_type": "stream",
     "text": [
      "Scenario: diversified, max_balanced, Split: region_holdout, Context: north_america\n",
      "(572, 82) (132, 82)\n"
     ]
    },
    {
     "name": "stderr",
     "output_type": "stream",
     "text": [
      "l:\\Programs\\anaconda\\envs\\esg_pred\\Lib\\site-packages\\sklearn\\linear_model\\_ridge.py:215: LinAlgWarning: Ill-conditioned matrix (rcond=1.01078e-27): result may not be accurate.\n",
      "  return linalg.solve(A, Xy, assume_a=\"pos\", overwrite_a=True).T\n",
      "l:\\Programs\\anaconda\\envs\\esg_pred\\Lib\\site-packages\\xgboost\\training.py:183: UserWarning: [07:34:49] WARNING: C:\\actions-runner\\_work\\xgboost\\xgboost\\src\\learner.cc:738: \n",
      "Parameters: { \"use_label_encoder\" } are not used.\n",
      "\n",
      "  bst.update(dtrain, iteration=i, fobj=obj)\n"
     ]
    },
    {
     "name": "stdout",
     "output_type": "stream",
     "text": [
      "Scenario: diversified, max_balanced, Split: region_holdout, Context: south_asia\n",
      "(616, 82) (88, 82)\n"
     ]
    },
    {
     "name": "stderr",
     "output_type": "stream",
     "text": [
      "l:\\Programs\\anaconda\\envs\\esg_pred\\Lib\\site-packages\\sklearn\\linear_model\\_ridge.py:215: LinAlgWarning: Ill-conditioned matrix (rcond=1.11889e-27): result may not be accurate.\n",
      "  return linalg.solve(A, Xy, assume_a=\"pos\", overwrite_a=True).T\n",
      "l:\\Programs\\anaconda\\envs\\esg_pred\\Lib\\site-packages\\xgboost\\training.py:183: UserWarning: [07:34:59] WARNING: C:\\actions-runner\\_work\\xgboost\\xgboost\\src\\learner.cc:738: \n",
      "Parameters: { \"use_label_encoder\" } are not used.\n",
      "\n",
      "  bst.update(dtrain, iteration=i, fobj=obj)\n"
     ]
    },
    {
     "name": "stdout",
     "output_type": "stream",
     "text": [
      "Scenario: diversified, max_balanced, Split: region_holdout, Context: sub_saharan_africa\n",
      "(572, 82) (132, 82)\n"
     ]
    },
    {
     "name": "stderr",
     "output_type": "stream",
     "text": [
      "l:\\Programs\\anaconda\\envs\\esg_pred\\Lib\\site-packages\\sklearn\\linear_model\\_ridge.py:215: LinAlgWarning: Ill-conditioned matrix (rcond=1.02006e-27): result may not be accurate.\n",
      "  return linalg.solve(A, Xy, assume_a=\"pos\", overwrite_a=True).T\n",
      "l:\\Programs\\anaconda\\envs\\esg_pred\\Lib\\site-packages\\xgboost\\training.py:183: UserWarning: [07:35:09] WARNING: C:\\actions-runner\\_work\\xgboost\\xgboost\\src\\learner.cc:738: \n",
      "Parameters: { \"use_label_encoder\" } are not used.\n",
      "\n",
      "  bst.update(dtrain, iteration=i, fobj=obj)\n"
     ]
    },
    {
     "name": "stdout",
     "output_type": "stream",
     "text": [
      "Scenario: diversified, max_balanced, Split: size_holdout, Context: Large-Cap\n",
      "(440, 83) (264, 83)\n"
     ]
    },
    {
     "name": "stderr",
     "output_type": "stream",
     "text": [
      "l:\\Programs\\anaconda\\envs\\esg_pred\\Lib\\site-packages\\sklearn\\linear_model\\_ridge.py:215: LinAlgWarning: Ill-conditioned matrix (rcond=8.57774e-24): result may not be accurate.\n",
      "  return linalg.solve(A, Xy, assume_a=\"pos\", overwrite_a=True).T\n",
      "l:\\Programs\\anaconda\\envs\\esg_pred\\Lib\\site-packages\\xgboost\\training.py:183: UserWarning: [07:35:18] WARNING: C:\\actions-runner\\_work\\xgboost\\xgboost\\src\\learner.cc:738: \n",
      "Parameters: { \"use_label_encoder\" } are not used.\n",
      "\n",
      "  bst.update(dtrain, iteration=i, fobj=obj)\n"
     ]
    },
    {
     "name": "stdout",
     "output_type": "stream",
     "text": [
      "Scenario: diversified, max_balanced, Split: size_holdout, Context: Mid-Cap\n",
      "(484, 83) (220, 83)\n"
     ]
    },
    {
     "name": "stderr",
     "output_type": "stream",
     "text": [
      "l:\\Programs\\anaconda\\envs\\esg_pred\\Lib\\site-packages\\sklearn\\linear_model\\_ridge.py:215: LinAlgWarning: Ill-conditioned matrix (rcond=1.02894e-27): result may not be accurate.\n",
      "  return linalg.solve(A, Xy, assume_a=\"pos\", overwrite_a=True).T\n",
      "l:\\Programs\\anaconda\\envs\\esg_pred\\Lib\\site-packages\\xgboost\\training.py:183: UserWarning: [07:35:27] WARNING: C:\\actions-runner\\_work\\xgboost\\xgboost\\src\\learner.cc:738: \n",
      "Parameters: { \"use_label_encoder\" } are not used.\n",
      "\n",
      "  bst.update(dtrain, iteration=i, fobj=obj)\n"
     ]
    },
    {
     "name": "stdout",
     "output_type": "stream",
     "text": [
      "Scenario: diversified, max_balanced, Split: size_holdout, Context: Small-Cap\n",
      "(484, 83) (220, 83)\n"
     ]
    },
    {
     "name": "stderr",
     "output_type": "stream",
     "text": [
      "l:\\Programs\\anaconda\\envs\\esg_pred\\Lib\\site-packages\\sklearn\\linear_model\\_ridge.py:215: LinAlgWarning: Ill-conditioned matrix (rcond=1.05611e-27): result may not be accurate.\n",
      "  return linalg.solve(A, Xy, assume_a=\"pos\", overwrite_a=True).T\n",
      "l:\\Programs\\anaconda\\envs\\esg_pred\\Lib\\site-packages\\xgboost\\training.py:183: UserWarning: [07:35:36] WARNING: C:\\actions-runner\\_work\\xgboost\\xgboost\\src\\learner.cc:738: \n",
      "Parameters: { \"use_label_encoder\" } are not used.\n",
      "\n",
      "  bst.update(dtrain, iteration=i, fobj=obj)\n"
     ]
    },
    {
     "name": "stdout",
     "output_type": "stream",
     "text": [
      "Scenario: diversified, median_balanced, Split: within_sample\n",
      "(320, 83) (80, 83)\n"
     ]
    },
    {
     "name": "stderr",
     "output_type": "stream",
     "text": [
      "l:\\Programs\\anaconda\\envs\\esg_pred\\Lib\\site-packages\\sklearn\\linear_model\\_ridge.py:215: LinAlgWarning: Ill-conditioned matrix (rcond=2.14013e-27): result may not be accurate.\n",
      "  return linalg.solve(A, Xy, assume_a=\"pos\", overwrite_a=True).T\n",
      "l:\\Programs\\anaconda\\envs\\esg_pred\\Lib\\site-packages\\xgboost\\training.py:183: UserWarning: [07:35:43] WARNING: C:\\actions-runner\\_work\\xgboost\\xgboost\\src\\learner.cc:738: \n",
      "Parameters: { \"use_label_encoder\" } are not used.\n",
      "\n",
      "  bst.update(dtrain, iteration=i, fobj=obj)\n"
     ]
    },
    {
     "name": "stdout",
     "output_type": "stream",
     "text": [
      "Scenario: diversified, median_balanced, Split: region_holdout, Context: east_asia_n_pacific\n",
      "(325, 82) (75, 82)\n"
     ]
    },
    {
     "name": "stderr",
     "output_type": "stream",
     "text": [
      "l:\\Programs\\anaconda\\envs\\esg_pred\\Lib\\site-packages\\sklearn\\linear_model\\_ridge.py:215: LinAlgWarning: Ill-conditioned matrix (rcond=2.37277e-24): result may not be accurate.\n",
      "  return linalg.solve(A, Xy, assume_a=\"pos\", overwrite_a=True).T\n",
      "l:\\Programs\\anaconda\\envs\\esg_pred\\Lib\\site-packages\\xgboost\\training.py:183: UserWarning: [07:35:51] WARNING: C:\\actions-runner\\_work\\xgboost\\xgboost\\src\\learner.cc:738: \n",
      "Parameters: { \"use_label_encoder\" } are not used.\n",
      "\n",
      "  bst.update(dtrain, iteration=i, fobj=obj)\n"
     ]
    },
    {
     "name": "stdout",
     "output_type": "stream",
     "text": [
      "Scenario: diversified, median_balanced, Split: region_holdout, Context: europe_n_central_asia\n",
      "(325, 82) (75, 82)\n"
     ]
    },
    {
     "name": "stderr",
     "output_type": "stream",
     "text": [
      "l:\\Programs\\anaconda\\envs\\esg_pred\\Lib\\site-packages\\sklearn\\linear_model\\_ridge.py:215: LinAlgWarning: Ill-conditioned matrix (rcond=1.9949e-27): result may not be accurate.\n",
      "  return linalg.solve(A, Xy, assume_a=\"pos\", overwrite_a=True).T\n",
      "l:\\Programs\\anaconda\\envs\\esg_pred\\Lib\\site-packages\\xgboost\\training.py:183: UserWarning: [07:35:58] WARNING: C:\\actions-runner\\_work\\xgboost\\xgboost\\src\\learner.cc:738: \n",
      "Parameters: { \"use_label_encoder\" } are not used.\n",
      "\n",
      "  bst.update(dtrain, iteration=i, fobj=obj)\n"
     ]
    },
    {
     "name": "stdout",
     "output_type": "stream",
     "text": [
      "Scenario: diversified, median_balanced, Split: region_holdout, Context: latin_america_n_caribbean\n",
      "(350, 82) (50, 82)\n"
     ]
    },
    {
     "name": "stderr",
     "output_type": "stream",
     "text": [
      "l:\\Programs\\anaconda\\envs\\esg_pred\\Lib\\site-packages\\sklearn\\linear_model\\_ridge.py:215: LinAlgWarning: Ill-conditioned matrix (rcond=2.20702e-27): result may not be accurate.\n",
      "  return linalg.solve(A, Xy, assume_a=\"pos\", overwrite_a=True).T\n",
      "l:\\Programs\\anaconda\\envs\\esg_pred\\Lib\\site-packages\\xgboost\\training.py:183: UserWarning: [07:36:06] WARNING: C:\\actions-runner\\_work\\xgboost\\xgboost\\src\\learner.cc:738: \n",
      "Parameters: { \"use_label_encoder\" } are not used.\n",
      "\n",
      "  bst.update(dtrain, iteration=i, fobj=obj)\n"
     ]
    },
    {
     "name": "stdout",
     "output_type": "stream",
     "text": [
      "Scenario: diversified, median_balanced, Split: region_holdout, Context: north_america\n",
      "(325, 82) (75, 82)\n"
     ]
    },
    {
     "name": "stderr",
     "output_type": "stream",
     "text": [
      "l:\\Programs\\anaconda\\envs\\esg_pred\\Lib\\site-packages\\sklearn\\linear_model\\_ridge.py:215: LinAlgWarning: Ill-conditioned matrix (rcond=1.87253e-27): result may not be accurate.\n",
      "  return linalg.solve(A, Xy, assume_a=\"pos\", overwrite_a=True).T\n",
      "l:\\Programs\\anaconda\\envs\\esg_pred\\Lib\\site-packages\\xgboost\\training.py:183: UserWarning: [07:36:13] WARNING: C:\\actions-runner\\_work\\xgboost\\xgboost\\src\\learner.cc:738: \n",
      "Parameters: { \"use_label_encoder\" } are not used.\n",
      "\n",
      "  bst.update(dtrain, iteration=i, fobj=obj)\n"
     ]
    },
    {
     "name": "stdout",
     "output_type": "stream",
     "text": [
      "Scenario: diversified, median_balanced, Split: region_holdout, Context: south_asia\n",
      "(350, 82) (50, 82)\n"
     ]
    },
    {
     "name": "stderr",
     "output_type": "stream",
     "text": [
      "l:\\Programs\\anaconda\\envs\\esg_pred\\Lib\\site-packages\\sklearn\\linear_model\\_ridge.py:215: LinAlgWarning: Ill-conditioned matrix (rcond=2.15883e-27): result may not be accurate.\n",
      "  return linalg.solve(A, Xy, assume_a=\"pos\", overwrite_a=True).T\n",
      "l:\\Programs\\anaconda\\envs\\esg_pred\\Lib\\site-packages\\xgboost\\training.py:183: UserWarning: [07:36:20] WARNING: C:\\actions-runner\\_work\\xgboost\\xgboost\\src\\learner.cc:738: \n",
      "Parameters: { \"use_label_encoder\" } are not used.\n",
      "\n",
      "  bst.update(dtrain, iteration=i, fobj=obj)\n"
     ]
    },
    {
     "name": "stdout",
     "output_type": "stream",
     "text": [
      "Scenario: diversified, median_balanced, Split: region_holdout, Context: sub_saharan_africa\n",
      "(325, 82) (75, 82)\n"
     ]
    },
    {
     "name": "stderr",
     "output_type": "stream",
     "text": [
      "l:\\Programs\\anaconda\\envs\\esg_pred\\Lib\\site-packages\\sklearn\\linear_model\\_ridge.py:215: LinAlgWarning: Ill-conditioned matrix (rcond=1.97784e-27): result may not be accurate.\n",
      "  return linalg.solve(A, Xy, assume_a=\"pos\", overwrite_a=True).T\n",
      "l:\\Programs\\anaconda\\envs\\esg_pred\\Lib\\site-packages\\xgboost\\training.py:183: UserWarning: [07:36:27] WARNING: C:\\actions-runner\\_work\\xgboost\\xgboost\\src\\learner.cc:738: \n",
      "Parameters: { \"use_label_encoder\" } are not used.\n",
      "\n",
      "  bst.update(dtrain, iteration=i, fobj=obj)\n"
     ]
    },
    {
     "name": "stdout",
     "output_type": "stream",
     "text": [
      "Scenario: diversified, median_balanced, Split: size_holdout, Context: Large-Cap\n",
      "(250, 83) (150, 83)\n"
     ]
    },
    {
     "name": "stderr",
     "output_type": "stream",
     "text": [
      "l:\\Programs\\anaconda\\envs\\esg_pred\\Lib\\site-packages\\sklearn\\linear_model\\_ridge.py:215: LinAlgWarning: Ill-conditioned matrix (rcond=8.82842e-24): result may not be accurate.\n",
      "  return linalg.solve(A, Xy, assume_a=\"pos\", overwrite_a=True).T\n",
      "l:\\Programs\\anaconda\\envs\\esg_pred\\Lib\\site-packages\\xgboost\\training.py:183: UserWarning: [07:36:32] WARNING: C:\\actions-runner\\_work\\xgboost\\xgboost\\src\\learner.cc:738: \n",
      "Parameters: { \"use_label_encoder\" } are not used.\n",
      "\n",
      "  bst.update(dtrain, iteration=i, fobj=obj)\n"
     ]
    },
    {
     "name": "stdout",
     "output_type": "stream",
     "text": [
      "Scenario: diversified, median_balanced, Split: size_holdout, Context: Mid-Cap\n",
      "(275, 83) (125, 83)\n"
     ]
    },
    {
     "name": "stderr",
     "output_type": "stream",
     "text": [
      "l:\\Programs\\anaconda\\envs\\esg_pred\\Lib\\site-packages\\sklearn\\linear_model\\_ridge.py:215: LinAlgWarning: Ill-conditioned matrix (rcond=2.0202e-27): result may not be accurate.\n",
      "  return linalg.solve(A, Xy, assume_a=\"pos\", overwrite_a=True).T\n",
      "l:\\Programs\\anaconda\\envs\\esg_pred\\Lib\\site-packages\\xgboost\\training.py:183: UserWarning: [07:36:38] WARNING: C:\\actions-runner\\_work\\xgboost\\xgboost\\src\\learner.cc:738: \n",
      "Parameters: { \"use_label_encoder\" } are not used.\n",
      "\n",
      "  bst.update(dtrain, iteration=i, fobj=obj)\n"
     ]
    },
    {
     "name": "stdout",
     "output_type": "stream",
     "text": [
      "Scenario: diversified, median_balanced, Split: size_holdout, Context: Small-Cap\n",
      "(275, 83) (125, 83)\n"
     ]
    },
    {
     "name": "stderr",
     "output_type": "stream",
     "text": [
      "l:\\Programs\\anaconda\\envs\\esg_pred\\Lib\\site-packages\\sklearn\\linear_model\\_ridge.py:215: LinAlgWarning: Ill-conditioned matrix (rcond=2.01205e-27): result may not be accurate.\n",
      "  return linalg.solve(A, Xy, assume_a=\"pos\", overwrite_a=True).T\n",
      "l:\\Programs\\anaconda\\envs\\esg_pred\\Lib\\site-packages\\xgboost\\training.py:183: UserWarning: [07:36:43] WARNING: C:\\actions-runner\\_work\\xgboost\\xgboost\\src\\learner.cc:738: \n",
      "Parameters: { \"use_label_encoder\" } are not used.\n",
      "\n",
      "  bst.update(dtrain, iteration=i, fobj=obj)\n"
     ]
    },
    {
     "name": "stdout",
     "output_type": "stream",
     "text": [
      "CPU times: total: 3min 51s\n",
      "Wall time: 4min 14s\n"
     ]
    }
   ],
   "source": [
    "%%time\n",
    "for scenario_type, scenario_dict in datasets.items():        # e.g., 'baselines', 'diversified'\n",
    "    for scenario_name, splits in scenario_dict.items():      # e.g., 'full', 'constrained', 'max_balanced', etc.\n",
    "        for split_type, data_group in splits.items():        # 'within_sample', 'region_holdout', 'size_holdout'\n",
    "            if split_type == 'original_data':\n",
    "                continue  # Skip original data entries\n",
    "            \n",
    "            # if split_type == 'region_holdout':\n",
    "            #     continue # TEMP TO CHECK SMTH\n",
    "\n",
    "            # For within-sample, we have one group; for others, multiple contexts\n",
    "            # contexts = {'within_sample': data_group} if split_type == 'within_sample' else data_group\n",
    "\n",
    "            # for context_name, data in contexts.items():\n",
    "            #     print(f\"Scenario: {scenario_type}, {scenario_name}, Split: {split_type}, Context: {context_name}\")\n",
    "\n",
    "            # Handle different split types\n",
    "            if split_type == 'within_sample':\n",
    "                # For within_sample, data structure is one level deeper\n",
    "                data = data_group['within_sample']\n",
    "                print(f\"Scenario: {scenario_type}, {scenario_name}, Split: {split_type}\")\n",
    "                if 'train' not in data or 'test' not in data:\n",
    "                    continue\n",
    "                    \n",
    "                train_df = data['train']\n",
    "                test_df = data['test']\n",
    "\n",
    "                print(train_df.shape, test_df.shape)\n",
    "\n",
    "                # Separate features and target\n",
    "                X_train = train_df.drop(columns=['totalEsg'])\n",
    "                y_train = train_df['totalEsg']\n",
    "                X_test  = test_df.drop(columns=['totalEsg'])\n",
    "                y_test  = test_df['totalEsg']\n",
    "                \n",
    "                # Train and evaluate models\n",
    "                for model_name, model in models.items():\n",
    "                    # Prepare grid search\n",
    "                    grid = GridSearchCV(\n",
    "                        estimator=model,\n",
    "                        param_grid=param_grids[model_name],\n",
    "                        cv=3,\n",
    "                        scoring='neg_root_mean_squared_error',\n",
    "                        n_jobs=-1\n",
    "                    )\n",
    "                    # Tune on training data\n",
    "                    grid.fit(X_train, y_train)\n",
    "                    best_model = grid.best_estimator_\n",
    "\n",
    "                    # train\n",
    "                    # model.fit(X_train, y_train)\n",
    "\n",
    "\n",
    "                    # predict\n",
    "                    # y_pred = model.predict(X_test)\n",
    "                    y_pred = best_model.predict(X_test)\n",
    "\n",
    "                    # compute metrics\n",
    "                    rmse, mae, r2 = compute_metrics(y_test, y_pred)\n",
    "                    stability = compute_stability(best_model, X_test, y_test,\n",
    "                                                noise_level=0.01, n_trials=5)\n",
    "                    \n",
    "                    results.append({\n",
    "                        'scenario_type': scenario_type,\n",
    "                        'scenario': scenario_name,\n",
    "                        'split': split_type,\n",
    "                        'context': 'within_sample',\n",
    "                        'model': model_name,\n",
    "                        'RMSE': rmse,\n",
    "                        'MAE': mae,\n",
    "                        'R2': r2,\n",
    "                        'Stability': stability\n",
    "                    })\n",
    "            \n",
    "            else:\n",
    "                # For region_holdout and size_holdout, process each context\n",
    "                for context_name, data in data_group.items():\n",
    "                    print(f\"Scenario: {scenario_type}, {scenario_name}, Split: {split_type}, Context: {context_name}\")\n",
    "                    if 'train' not in data or 'test' not in data:\n",
    "                        continue\n",
    "                        \n",
    "                    train_df = data['train']\n",
    "                    test_df = data['test']\n",
    "\n",
    "                    print(train_df.shape, test_df.shape)\n",
    "\n",
    "                    # Separate features and target\n",
    "                    X_train = train_df.drop(columns=['totalEsg'])\n",
    "                    y_train = train_df['totalEsg']\n",
    "                    X_test  = test_df.drop(columns=['totalEsg'])\n",
    "                    y_test  = test_df['totalEsg']\n",
    "                    \n",
    "                    # Train and evaluate models\n",
    "                    for model_name, model in models.items():\n",
    "                        # Prepare grid search\n",
    "                        grid = GridSearchCV(\n",
    "                            estimator=model,\n",
    "                            param_grid=param_grids[model_name],\n",
    "                            cv=3,\n",
    "                            scoring='neg_root_mean_squared_error',\n",
    "                            n_jobs=-1\n",
    "                        )\n",
    "                        # Tune on training data\n",
    "                        grid.fit(X_train, y_train)\n",
    "                        best_model = grid.best_estimator_\n",
    "\n",
    "                        # train\n",
    "                        # model.fit(X_train, y_train)\n",
    "\n",
    "\n",
    "                        # predict\n",
    "                        # y_pred = model.predict(X_test)\n",
    "                        y_pred = best_model.predict(X_test)\n",
    "\n",
    "                        # compute metrics\n",
    "                        rmse, mae, r2 = compute_metrics(y_test, y_pred)\n",
    "                        stability = compute_stability(best_model, X_test, y_test,\n",
    "                                                  noise_level=0.01, n_trials=5)\n",
    "                        \n",
    "                        results.append({\n",
    "                            'scenario_type': scenario_type,\n",
    "                            'scenario': scenario_name,\n",
    "                            'split': split_type,\n",
    "                            'context': context_name,\n",
    "                            'model': model_name,\n",
    "                            'RMSE': rmse,\n",
    "                            'MAE': mae,\n",
    "                            'R2': r2,\n",
    "                            'Stability': stability\n",
    "                        })\n",
    "\n",
    "results_df = pd.DataFrame(results)"
   ]
  },
  {
   "cell_type": "code",
   "execution_count": 15,
   "id": "f890b89e",
   "metadata": {},
   "outputs": [],
   "source": [
    "results_df = pd.DataFrame(results)"
   ]
  },
  {
   "cell_type": "code",
   "execution_count": 16,
   "id": "96089c1a",
   "metadata": {},
   "outputs": [
    {
     "data": {
      "application/vnd.microsoft.datawrangler.viewer.v0+json": {
       "columns": [
        {
         "name": "index",
         "rawType": "int64",
         "type": "integer"
        },
        {
         "name": "scenario_type",
         "rawType": "object",
         "type": "string"
        },
        {
         "name": "scenario",
         "rawType": "object",
         "type": "string"
        },
        {
         "name": "split",
         "rawType": "object",
         "type": "string"
        },
        {
         "name": "context",
         "rawType": "object",
         "type": "string"
        },
        {
         "name": "model",
         "rawType": "object",
         "type": "string"
        },
        {
         "name": "RMSE",
         "rawType": "float64",
         "type": "float"
        },
        {
         "name": "MAE",
         "rawType": "float64",
         "type": "float"
        },
        {
         "name": "R2",
         "rawType": "float64",
         "type": "float"
        },
        {
         "name": "Stability",
         "rawType": "float64",
         "type": "float"
        }
       ],
       "conversionMethod": "pd.DataFrame",
       "ref": "713d6ae7-43fb-4cb4-b419-97f4681eebb5",
       "rows": [
        [
         "0",
         "baselines",
         "full",
         "within_sample",
         "within_sample",
         "Ridge",
         "42.59572020962293",
         "14.851930984356589",
         "-29.0602637479519",
         "0.0012292957727972802"
        ],
        [
         "1",
         "baselines",
         "full",
         "within_sample",
         "within_sample",
         "RandomForest",
         "6.853873723434217",
         "5.183023578248235",
         "0.2217250491557935",
         "0.04860457291042573"
        ],
        [
         "2",
         "baselines",
         "full",
         "within_sample",
         "within_sample",
         "XGBoost",
         "6.757274983339961",
         "4.804277217290173",
         "0.24350852087928632",
         "0.11409032117671636"
        ],
        [
         "3",
         "baselines",
         "full",
         "within_sample",
         "within_sample",
         "MLP",
         "199588297.4010287",
         "32125020.8708891",
         "-659980345354952.5",
         "0.0005356045612934104"
        ],
        [
         "4",
         "baselines",
         "full",
         "region_holdout",
         "east_asia_n_pacific",
         "Ridge",
         "178.75716025064165",
         "76.54021424314055",
         "-562.159553434239",
         "-0.0012666423471821482"
        ],
        [
         "5",
         "baselines",
         "full",
         "region_holdout",
         "east_asia_n_pacific",
         "RandomForest",
         "8.878997572989354",
         "7.331653174603177",
         "-0.3894164513320506",
         "0.04743312255840235"
        ],
        [
         "6",
         "baselines",
         "full",
         "region_holdout",
         "east_asia_n_pacific",
         "XGBoost",
         "7.624813840295626",
         "6.022237927875821",
         "-0.02462052651593072",
         "0.09933944021377153"
        ],
        [
         "7",
         "baselines",
         "full",
         "region_holdout",
         "east_asia_n_pacific",
         "MLP",
         "15440442378.870234",
         "1993591764.8343265",
         "-4.201690321093975e+18",
         "0.00012435982105652663"
        ],
        [
         "8",
         "baselines",
         "full",
         "region_holdout",
         "europe_n_central_asia",
         "Ridge",
         "7.034084709491035",
         "5.6180608436018735",
         "0.13781121068810742",
         "0.001245493033595482"
        ],
        [
         "9",
         "baselines",
         "full",
         "region_holdout",
         "europe_n_central_asia",
         "RandomForest",
         "6.03804913110342",
         "4.663826665292027",
         "0.36469764028760754",
         "0.0740033544737567"
        ],
        [
         "10",
         "baselines",
         "full",
         "region_holdout",
         "europe_n_central_asia",
         "XGBoost",
         "6.690065174336463",
         "5.441718074498551",
         "0.22008390887506768",
         "0.022560138170575065"
        ],
        [
         "11",
         "baselines",
         "full",
         "region_holdout",
         "europe_n_central_asia",
         "MLP",
         "37708827.14579473",
         "8685378.09600531",
         "-24778398486447.08",
         "0.0033869217734235216"
        ],
        [
         "12",
         "baselines",
         "full",
         "region_holdout",
         "latin_america_n_caribbean",
         "Ridge",
         "7.531877772921841",
         "6.097652641751738",
         "-0.18572862555198966",
         "0.0006495180164292766"
        ],
        [
         "13",
         "baselines",
         "full",
         "region_holdout",
         "latin_america_n_caribbean",
         "RandomForest",
         "5.600445216499536",
         "4.2023751727662475",
         "0.34442273531241785",
         "0.021207380967092605"
        ],
        [
         "14",
         "baselines",
         "full",
         "region_holdout",
         "latin_america_n_caribbean",
         "XGBoost",
         "6.154832977660113",
         "4.520234180632092",
         "0.20820761362725082",
         "0.03221010582043931"
        ],
        [
         "15",
         "baselines",
         "full",
         "region_holdout",
         "latin_america_n_caribbean",
         "MLP",
         "496218233.28987706",
         "106533065.26726827",
         "-5146645007216087.0",
         "0.0009219338817952818"
        ],
        [
         "16",
         "baselines",
         "full",
         "region_holdout",
         "north_america",
         "Ridge",
         "222.47318633234818",
         "29.576015858077955",
         "-919.1778590450049",
         "-0.0003731771441955619"
        ],
        [
         "17",
         "baselines",
         "full",
         "region_holdout",
         "north_america",
         "RandomForest",
         "6.40712743705692",
         "4.736943323414868",
         "0.23679157896747738",
         "0.16759225873979097"
        ],
        [
         "18",
         "baselines",
         "full",
         "region_holdout",
         "north_america",
         "XGBoost",
         "6.869682601005917",
         "5.153030821147719",
         "0.1226158732680086",
         "0.11124180674289466"
        ],
        [
         "19",
         "baselines",
         "full",
         "region_holdout",
         "north_america",
         "MLP",
         "153553154.63861698",
         "23926798.17835922",
         "-438363025398348.4",
         "0.0002635160660078369"
        ],
        [
         "20",
         "baselines",
         "full",
         "region_holdout",
         "south_asia",
         "Ridge",
         "9.71460573086878",
         "7.738018670729056",
         "-0.3927493310764325",
         "0.001003109139226671"
        ],
        [
         "21",
         "baselines",
         "full",
         "region_holdout",
         "south_asia",
         "RandomForest",
         "9.00475928323683",
         "7.251334226044224",
         "-0.196649090756692",
         "0.004779097885606925"
        ],
        [
         "22",
         "baselines",
         "full",
         "region_holdout",
         "south_asia",
         "XGBoost",
         "8.718642810740562",
         "6.994323755212732",
         "-0.12181274853099122",
         "0.03244175081602904"
        ],
        [
         "23",
         "baselines",
         "full",
         "region_holdout",
         "south_asia",
         "MLP",
         "187705950.89432865",
         "53547141.79790528",
         "-519970473095992.44",
         "8.207542571445956e-05"
        ],
        [
         "24",
         "baselines",
         "full",
         "region_holdout",
         "sub_saharan_africa",
         "Ridge",
         "13.178999669910704",
         "9.421848075749091",
         "-0.8968509349619904",
         "-0.0012287693404451664"
        ],
        [
         "25",
         "baselines",
         "full",
         "region_holdout",
         "sub_saharan_africa",
         "RandomForest",
         "9.406891743803685",
         "7.595759595141698",
         "0.0335918118181352",
         "-0.00267453488582407"
        ],
        [
         "26",
         "baselines",
         "full",
         "region_holdout",
         "sub_saharan_africa",
         "XGBoost",
         "9.69501461447894",
         "7.986260143079256",
         "-0.026514870025737824",
         "-0.00273519594972109"
        ],
        [
         "27",
         "baselines",
         "full",
         "region_holdout",
         "sub_saharan_africa",
         "MLP",
         "73558859.96537055",
         "35888807.19373391",
         "-59093306125167.836",
         "0.001201087075542039"
        ],
        [
         "28",
         "baselines",
         "full",
         "size_holdout",
         "Large-Cap",
         "Ridge",
         "169.94964667474648",
         "33.505342407333025",
         "-421.56912743779185",
         "-0.0004336133943838759"
        ],
        [
         "29",
         "baselines",
         "full",
         "size_holdout",
         "Large-Cap",
         "RandomForest",
         "6.896406142728912",
         "5.228817840967196",
         "0.3041704106880938",
         "0.11915061829188353"
        ],
        [
         "30",
         "baselines",
         "full",
         "size_holdout",
         "Large-Cap",
         "XGBoost",
         "6.606941821823216",
         "4.791959912122878",
         "0.36135693902166266",
         "0.2047284156827401"
        ],
        [
         "31",
         "baselines",
         "full",
         "size_holdout",
         "Large-Cap",
         "MLP",
         "34284397897.093933",
         "3508253685.88229",
         "-1.7196904765387938e+19",
         "-0.00024284687152792585"
        ],
        [
         "32",
         "baselines",
         "full",
         "size_holdout",
         "Mid-Cap",
         "Ridge",
         "62.49647481026066",
         "20.12392157999429",
         "-65.32309002373161",
         "-0.0008561126896456482"
        ],
        [
         "33",
         "baselines",
         "full",
         "size_holdout",
         "Mid-Cap",
         "RandomForest",
         "6.466161688737193",
         "5.131902557352876",
         "0.2900188310394639",
         "0.17070677859921166"
        ],
        [
         "34",
         "baselines",
         "full",
         "size_holdout",
         "Mid-Cap",
         "XGBoost",
         "6.261788090506545",
         "4.722668034097421",
         "0.33418980282078914",
         "0.14024606378950932"
        ],
        [
         "35",
         "baselines",
         "full",
         "size_holdout",
         "Mid-Cap",
         "MLP",
         "2216075348.942233",
         "353205267.6666611",
         "-8.339168617163547e+16",
         "-0.00023197305256728384"
        ],
        [
         "36",
         "baselines",
         "full",
         "size_holdout",
         "Small-Cap",
         "Ridge",
         "11.42028072487529",
         "8.230023830072199",
         "-1.1266878626998826",
         "-0.0002821703456966543"
        ],
        [
         "37",
         "baselines",
         "full",
         "size_holdout",
         "Small-Cap",
         "RandomForest",
         "7.117267910439413",
         "5.018607352941178",
         "0.1740061355132041",
         "0.008497215688573413"
        ],
        [
         "38",
         "baselines",
         "full",
         "size_holdout",
         "Small-Cap",
         "XGBoost",
         "7.172991107892815",
         "4.9622664692822624",
         "0.16102160286188172",
         "0.0756963984777709"
        ],
        [
         "39",
         "baselines",
         "full",
         "size_holdout",
         "Small-Cap",
         "MLP",
         "92360450.91141929",
         "19374138.834067892",
         "-139098447385867.38",
         "6.0623791019520006e-05"
        ],
        [
         "40",
         "baselines",
         "constrained",
         "within_sample",
         "within_sample",
         "Ridge",
         "23.77056993939639",
         "11.252457518745267",
         "-11.193394483621203",
         "4.8656028560812227e-05"
        ],
        [
         "41",
         "baselines",
         "constrained",
         "within_sample",
         "within_sample",
         "RandomForest",
         "5.479143593453103",
         "4.148748703320153",
         "0.3521554652876091",
         "0.007177389455087592"
        ],
        [
         "42",
         "baselines",
         "constrained",
         "within_sample",
         "within_sample",
         "XGBoost",
         "5.547745637989752",
         "3.9430480220400055",
         "0.3358311300111264",
         "0.006093574308405502"
        ],
        [
         "43",
         "baselines",
         "constrained",
         "within_sample",
         "within_sample",
         "MLP",
         "123178838.17767464",
         "38445274.471438475",
         "-327429377065354.9",
         "0.008337580315520612"
        ],
        [
         "44",
         "baselines",
         "constrained",
         "region_holdout",
         "europe_n_central_asia",
         "Ridge",
         "19.128269451282183",
         "11.043908488630269",
         "-5.339381345910733",
         "0.005947458243436177"
        ],
        [
         "45",
         "baselines",
         "constrained",
         "region_holdout",
         "europe_n_central_asia",
         "RandomForest",
         "6.007674162934842",
         "4.628621988390398",
         "0.37467145238225497",
         "0.06181955640651039"
        ],
        [
         "46",
         "baselines",
         "constrained",
         "region_holdout",
         "europe_n_central_asia",
         "XGBoost",
         "6.658410152857901",
         "5.457407942338422",
         "0.23186668133754784",
         "0.02983471894653137"
        ],
        [
         "47",
         "baselines",
         "constrained",
         "region_holdout",
         "europe_n_central_asia",
         "MLP",
         "20065280.017633572",
         "5360230.511577512",
         "-6975670616829.95",
         "0.42822522823719567"
        ],
        [
         "48",
         "baselines",
         "constrained",
         "region_holdout",
         "north_america",
         "Ridge",
         "8.481796024148476",
         "5.646097209935446",
         "-0.5327076205312327",
         "1.1760645690187486e-05"
        ],
        [
         "49",
         "baselines",
         "constrained",
         "region_holdout",
         "north_america",
         "RandomForest",
         "6.651808556428792",
         "4.804194252873561",
         "0.05732247810401492",
         "0.12216889099943644"
        ]
       ],
       "shape": {
        "columns": 9,
        "rows": 140
       }
      },
      "text/html": [
       "<div>\n",
       "<style scoped>\n",
       "    .dataframe tbody tr th:only-of-type {\n",
       "        vertical-align: middle;\n",
       "    }\n",
       "\n",
       "    .dataframe tbody tr th {\n",
       "        vertical-align: top;\n",
       "    }\n",
       "\n",
       "    .dataframe thead th {\n",
       "        text-align: right;\n",
       "    }\n",
       "</style>\n",
       "<table border=\"1\" class=\"dataframe\">\n",
       "  <thead>\n",
       "    <tr style=\"text-align: right;\">\n",
       "      <th></th>\n",
       "      <th>scenario_type</th>\n",
       "      <th>scenario</th>\n",
       "      <th>split</th>\n",
       "      <th>context</th>\n",
       "      <th>model</th>\n",
       "      <th>RMSE</th>\n",
       "      <th>MAE</th>\n",
       "      <th>R2</th>\n",
       "      <th>Stability</th>\n",
       "    </tr>\n",
       "  </thead>\n",
       "  <tbody>\n",
       "    <tr>\n",
       "      <th>0</th>\n",
       "      <td>baselines</td>\n",
       "      <td>full</td>\n",
       "      <td>within_sample</td>\n",
       "      <td>within_sample</td>\n",
       "      <td>Ridge</td>\n",
       "      <td>4.259572e+01</td>\n",
       "      <td>1.485193e+01</td>\n",
       "      <td>-2.906026e+01</td>\n",
       "      <td>0.001229</td>\n",
       "    </tr>\n",
       "    <tr>\n",
       "      <th>1</th>\n",
       "      <td>baselines</td>\n",
       "      <td>full</td>\n",
       "      <td>within_sample</td>\n",
       "      <td>within_sample</td>\n",
       "      <td>RandomForest</td>\n",
       "      <td>6.853874e+00</td>\n",
       "      <td>5.183024e+00</td>\n",
       "      <td>2.217250e-01</td>\n",
       "      <td>0.048605</td>\n",
       "    </tr>\n",
       "    <tr>\n",
       "      <th>2</th>\n",
       "      <td>baselines</td>\n",
       "      <td>full</td>\n",
       "      <td>within_sample</td>\n",
       "      <td>within_sample</td>\n",
       "      <td>XGBoost</td>\n",
       "      <td>6.757275e+00</td>\n",
       "      <td>4.804277e+00</td>\n",
       "      <td>2.435085e-01</td>\n",
       "      <td>0.114090</td>\n",
       "    </tr>\n",
       "    <tr>\n",
       "      <th>3</th>\n",
       "      <td>baselines</td>\n",
       "      <td>full</td>\n",
       "      <td>within_sample</td>\n",
       "      <td>within_sample</td>\n",
       "      <td>MLP</td>\n",
       "      <td>1.995883e+08</td>\n",
       "      <td>3.212502e+07</td>\n",
       "      <td>-6.599803e+14</td>\n",
       "      <td>0.000536</td>\n",
       "    </tr>\n",
       "    <tr>\n",
       "      <th>4</th>\n",
       "      <td>baselines</td>\n",
       "      <td>full</td>\n",
       "      <td>region_holdout</td>\n",
       "      <td>east_asia_n_pacific</td>\n",
       "      <td>Ridge</td>\n",
       "      <td>1.787572e+02</td>\n",
       "      <td>7.654021e+01</td>\n",
       "      <td>-5.621596e+02</td>\n",
       "      <td>-0.001267</td>\n",
       "    </tr>\n",
       "    <tr>\n",
       "      <th>...</th>\n",
       "      <td>...</td>\n",
       "      <td>...</td>\n",
       "      <td>...</td>\n",
       "      <td>...</td>\n",
       "      <td>...</td>\n",
       "      <td>...</td>\n",
       "      <td>...</td>\n",
       "      <td>...</td>\n",
       "      <td>...</td>\n",
       "    </tr>\n",
       "    <tr>\n",
       "      <th>135</th>\n",
       "      <td>diversified</td>\n",
       "      <td>median_balanced</td>\n",
       "      <td>size_holdout</td>\n",
       "      <td>Mid-Cap</td>\n",
       "      <td>MLP</td>\n",
       "      <td>1.481721e+09</td>\n",
       "      <td>2.293669e+08</td>\n",
       "      <td>-4.045075e+16</td>\n",
       "      <td>-0.000275</td>\n",
       "    </tr>\n",
       "    <tr>\n",
       "      <th>136</th>\n",
       "      <td>diversified</td>\n",
       "      <td>median_balanced</td>\n",
       "      <td>size_holdout</td>\n",
       "      <td>Small-Cap</td>\n",
       "      <td>Ridge</td>\n",
       "      <td>1.808906e+01</td>\n",
       "      <td>1.144357e+01</td>\n",
       "      <td>-3.088830e+00</td>\n",
       "      <td>0.000232</td>\n",
       "    </tr>\n",
       "    <tr>\n",
       "      <th>137</th>\n",
       "      <td>diversified</td>\n",
       "      <td>median_balanced</td>\n",
       "      <td>size_holdout</td>\n",
       "      <td>Small-Cap</td>\n",
       "      <td>RandomForest</td>\n",
       "      <td>8.895846e+00</td>\n",
       "      <td>6.472343e+00</td>\n",
       "      <td>1.112487e-02</td>\n",
       "      <td>-0.007204</td>\n",
       "    </tr>\n",
       "    <tr>\n",
       "      <th>138</th>\n",
       "      <td>diversified</td>\n",
       "      <td>median_balanced</td>\n",
       "      <td>size_holdout</td>\n",
       "      <td>Small-Cap</td>\n",
       "      <td>XGBoost</td>\n",
       "      <td>9.466702e+00</td>\n",
       "      <td>6.653255e+00</td>\n",
       "      <td>-1.198616e-01</td>\n",
       "      <td>-0.010946</td>\n",
       "    </tr>\n",
       "    <tr>\n",
       "      <th>139</th>\n",
       "      <td>diversified</td>\n",
       "      <td>median_balanced</td>\n",
       "      <td>size_holdout</td>\n",
       "      <td>Small-Cap</td>\n",
       "      <td>MLP</td>\n",
       "      <td>1.249244e+08</td>\n",
       "      <td>3.394963e+07</td>\n",
       "      <td>-1.950120e+14</td>\n",
       "      <td>0.000292</td>\n",
       "    </tr>\n",
       "  </tbody>\n",
       "</table>\n",
       "<p>140 rows × 9 columns</p>\n",
       "</div>"
      ],
      "text/plain": [
       "    scenario_type         scenario           split              context  \\\n",
       "0       baselines             full   within_sample        within_sample   \n",
       "1       baselines             full   within_sample        within_sample   \n",
       "2       baselines             full   within_sample        within_sample   \n",
       "3       baselines             full   within_sample        within_sample   \n",
       "4       baselines             full  region_holdout  east_asia_n_pacific   \n",
       "..            ...              ...             ...                  ...   \n",
       "135   diversified  median_balanced    size_holdout              Mid-Cap   \n",
       "136   diversified  median_balanced    size_holdout            Small-Cap   \n",
       "137   diversified  median_balanced    size_holdout            Small-Cap   \n",
       "138   diversified  median_balanced    size_holdout            Small-Cap   \n",
       "139   diversified  median_balanced    size_holdout            Small-Cap   \n",
       "\n",
       "            model          RMSE           MAE            R2  Stability  \n",
       "0           Ridge  4.259572e+01  1.485193e+01 -2.906026e+01   0.001229  \n",
       "1    RandomForest  6.853874e+00  5.183024e+00  2.217250e-01   0.048605  \n",
       "2         XGBoost  6.757275e+00  4.804277e+00  2.435085e-01   0.114090  \n",
       "3             MLP  1.995883e+08  3.212502e+07 -6.599803e+14   0.000536  \n",
       "4           Ridge  1.787572e+02  7.654021e+01 -5.621596e+02  -0.001267  \n",
       "..            ...           ...           ...           ...        ...  \n",
       "135           MLP  1.481721e+09  2.293669e+08 -4.045075e+16  -0.000275  \n",
       "136         Ridge  1.808906e+01  1.144357e+01 -3.088830e+00   0.000232  \n",
       "137  RandomForest  8.895846e+00  6.472343e+00  1.112487e-02  -0.007204  \n",
       "138       XGBoost  9.466702e+00  6.653255e+00 -1.198616e-01  -0.010946  \n",
       "139           MLP  1.249244e+08  3.394963e+07 -1.950120e+14   0.000292  \n",
       "\n",
       "[140 rows x 9 columns]"
      ]
     },
     "execution_count": 16,
     "metadata": {},
     "output_type": "execute_result"
    }
   ],
   "source": [
    "results_df"
   ]
  },
  {
   "cell_type": "code",
   "execution_count": 17,
   "id": "e0f8c778",
   "metadata": {},
   "outputs": [
    {
     "data": {
      "text/plain": [
       "0.8708870271267248"
      ]
     },
     "execution_count": 17,
     "metadata": {},
     "output_type": "execute_result"
    }
   ],
   "source": [
    "results_df['R2'].max()"
   ]
  },
  {
   "cell_type": "code",
   "execution_count": null,
   "id": "35dcd740",
   "metadata": {},
   "outputs": [],
   "source": [
    "# 1. Extract within-sample RMSE per scenario/model\n",
    "within = results_df[results_df['split'] == 'within_sample'][['scenario_type', 'scenario', 'model', 'RMSE']]\n",
    "within = within.rename(columns={'RMSE': 'RMSE_within'})\n",
    "\n",
    "# 2. Merge to get RMSE_within alongside all rows\n",
    "merged = results_df.merge(within, on=['scenario_type', 'scenario', 'model'], how='left')\n",
    "\n",
    "# 3. Compute Cross-Context Generalization Score:\n",
    "#    Transfer Score = 1 - (RMSE_holdout / RMSE_within)\n",
    "#    For within-sample rows, set NaN\n",
    "merged['CrossContextScore'] = np.where(\n",
    "    merged['split'] == 'within_sample',\n",
    "    np.nan,\n",
    "    1 - merged['RMSE'] / merged['RMSE_within']\n",
    ")"
   ]
  }
 ],
 "metadata": {
  "kernelspec": {
   "display_name": "esg_pred",
   "language": "python",
   "name": "python3"
  },
  "language_info": {
   "codemirror_mode": {
    "name": "ipython",
    "version": 3
   },
   "file_extension": ".py",
   "mimetype": "text/x-python",
   "name": "python",
   "nbconvert_exporter": "python",
   "pygments_lexer": "ipython3",
   "version": "3.11.11"
  }
 },
 "nbformat": 4,
 "nbformat_minor": 5
}
