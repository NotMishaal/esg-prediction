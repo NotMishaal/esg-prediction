{
 "cells": [
  {
   "cell_type": "code",
   "execution_count": 1,
   "id": "4e206827",
   "metadata": {},
   "outputs": [],
   "source": [
    "import pandas as pd\n",
    "import numpy as np\n",
    "from joblib import dump, load\n",
    "\n",
    "from sklearn.linear_model import Ridge\n",
    "from sklearn.ensemble import RandomForestRegressor\n",
    "from sklearn.neural_network import MLPRegressor\n",
    "from xgboost import XGBRegressor\n",
    "\n",
    "from sklearn.metrics import mean_squared_error, mean_absolute_error, r2_score"
   ]
  },
  {
   "cell_type": "markdown",
   "id": "ffa2621d",
   "metadata": {},
   "source": [
    "Helper Functions"
   ]
  },
  {
   "cell_type": "code",
   "execution_count": 2,
   "id": "c1b66621",
   "metadata": {},
   "outputs": [],
   "source": [
    "def compute_metrics(y_true, y_pred):\n",
    "    \"\"\"Compute RMSE, MAE, and R2.\"\"\"\n",
    "    rmse = np.sqrt(mean_squared_error(y_true, y_pred))\n",
    "    mae = mean_absolute_error(y_true, y_pred)\n",
    "    r2 = r2_score(y_true, y_pred)\n",
    "    return rmse, mae, r2"
   ]
  },
  {
   "cell_type": "code",
   "execution_count": 3,
   "id": "ba34086b",
   "metadata": {},
   "outputs": [],
   "source": [
    "def compute_stability(model, X, y, noise_level=0.01, n_trials=5):\n",
    "    \"\"\"\n",
    "    Add Gaussian noise to numeric features and measure average relative RMSE change.\n",
    "    noise_level is fraction of std-dev of each feature.\n",
    "    \"\"\"\n",
    "    numeric_cols = X.select_dtypes(include=[np.number]).columns\n",
    "    base_rmse = np.sqrt(mean_squared_error(y, model.predict(X)))\n",
    "    rel_changes = []\n",
    "    \n",
    "    for _ in range(n_trials):\n",
    "        Xp = X.copy()\n",
    "        noise = np.random.normal(0, noise_level * Xp[numeric_cols].std(), \n",
    "                                 size=Xp[numeric_cols].shape)\n",
    "        Xp[numeric_cols] += noise\n",
    "        rp = model.predict(Xp)\n",
    "        rmse_p = np.sqrt(mean_squared_error(y, rp))\n",
    "        rel_changes.append((rmse_p - base_rmse) / base_rmse)\n",
    "    \n",
    "    # Return average relative change (lower = more stable)\n",
    "    return np.mean(rel_changes)"
   ]
  },
  {
   "cell_type": "markdown",
   "id": "15eed113",
   "metadata": {},
   "source": [
    "# Model Definition"
   ]
  },
  {
   "cell_type": "code",
   "execution_count": 4,
   "id": "1e64049d",
   "metadata": {},
   "outputs": [],
   "source": [
    "models = {\n",
    "    'Ridge': Ridge(random_state=42),\n",
    "    'RandomForest': RandomForestRegressor(n_estimators=100, random_state=42),\n",
    "    'XGBoost': XGBRegressor(n_estimators=100, use_label_encoder=False, eval_metric='rmse', random_state=42),\n",
    "    'MLP': MLPRegressor(hidden_layer_sizes=(64, 64),    # implemented a simple MLP with sklearn for easy compatibility with the rest of the code\n",
    "                        activation='relu',\n",
    "                        solver='adam',\n",
    "                        max_iter=200,\n",
    "                        random_state=42)\n",
    "}"
   ]
  },
  {
   "cell_type": "code",
   "execution_count": 5,
   "id": "6fc371f4",
   "metadata": {},
   "outputs": [],
   "source": [
    "datasets = load('..\\data\\experimental\\experiment_datasets_2.joblib')  # Load datasets from joblib file"
   ]
  },
  {
   "cell_type": "markdown",
   "id": "fea3c39f",
   "metadata": {},
   "source": [
    "# Manual Training"
   ]
  },
  {
   "cell_type": "code",
   "execution_count": 6,
   "id": "e33241aa",
   "metadata": {},
   "outputs": [
    {
     "data": {
      "text/plain": [
       "((291, 82), (73, 82))"
      ]
     },
     "execution_count": 6,
     "metadata": {},
     "output_type": "execute_result"
    }
   ],
   "source": [
    "train_df = datasets['baselines']['full']['within_sample']['within_sample']['train']\n",
    "test_df = datasets['baselines']['full']['within_sample']['within_sample']['test']\n",
    "\n",
    "train_df.shape, test_df.shape"
   ]
  },
  {
   "cell_type": "code",
   "execution_count": 7,
   "id": "9aefcac6",
   "metadata": {},
   "outputs": [],
   "source": [
    "X_train = train_df.drop(columns=['totalEsg'])\n",
    "y_train = train_df['totalEsg']\n",
    "X_test  = test_df.drop(columns=['totalEsg'])\n",
    "y_test  = test_df['totalEsg']"
   ]
  },
  {
   "cell_type": "code",
   "execution_count": 8,
   "id": "fb332847",
   "metadata": {},
   "outputs": [
    {
     "data": {
      "text/plain": [
       "((291, 81), (291,), (73, 81), (73,))"
      ]
     },
     "execution_count": 8,
     "metadata": {},
     "output_type": "execute_result"
    }
   ],
   "source": [
    "X_train.shape, y_train.shape, X_test.shape, y_test.shape"
   ]
  },
  {
   "cell_type": "code",
   "execution_count": 9,
   "id": "f1406fa9",
   "metadata": {},
   "outputs": [],
   "source": [
    "model = models['Ridge']  # Choose the model you want to use"
   ]
  },
  {
   "cell_type": "code",
   "execution_count": 10,
   "id": "79c45bef",
   "metadata": {},
   "outputs": [
    {
     "data": {
      "text/html": [
       "<style>#sk-container-id-1 {\n",
       "  /* Definition of color scheme common for light and dark mode */\n",
       "  --sklearn-color-text: #000;\n",
       "  --sklearn-color-text-muted: #666;\n",
       "  --sklearn-color-line: gray;\n",
       "  /* Definition of color scheme for unfitted estimators */\n",
       "  --sklearn-color-unfitted-level-0: #fff5e6;\n",
       "  --sklearn-color-unfitted-level-1: #f6e4d2;\n",
       "  --sklearn-color-unfitted-level-2: #ffe0b3;\n",
       "  --sklearn-color-unfitted-level-3: chocolate;\n",
       "  /* Definition of color scheme for fitted estimators */\n",
       "  --sklearn-color-fitted-level-0: #f0f8ff;\n",
       "  --sklearn-color-fitted-level-1: #d4ebff;\n",
       "  --sklearn-color-fitted-level-2: #b3dbfd;\n",
       "  --sklearn-color-fitted-level-3: cornflowerblue;\n",
       "\n",
       "  /* Specific color for light theme */\n",
       "  --sklearn-color-text-on-default-background: var(--sg-text-color, var(--theme-code-foreground, var(--jp-content-font-color1, black)));\n",
       "  --sklearn-color-background: var(--sg-background-color, var(--theme-background, var(--jp-layout-color0, white)));\n",
       "  --sklearn-color-border-box: var(--sg-text-color, var(--theme-code-foreground, var(--jp-content-font-color1, black)));\n",
       "  --sklearn-color-icon: #696969;\n",
       "\n",
       "  @media (prefers-color-scheme: dark) {\n",
       "    /* Redefinition of color scheme for dark theme */\n",
       "    --sklearn-color-text-on-default-background: var(--sg-text-color, var(--theme-code-foreground, var(--jp-content-font-color1, white)));\n",
       "    --sklearn-color-background: var(--sg-background-color, var(--theme-background, var(--jp-layout-color0, #111)));\n",
       "    --sklearn-color-border-box: var(--sg-text-color, var(--theme-code-foreground, var(--jp-content-font-color1, white)));\n",
       "    --sklearn-color-icon: #878787;\n",
       "  }\n",
       "}\n",
       "\n",
       "#sk-container-id-1 {\n",
       "  color: var(--sklearn-color-text);\n",
       "}\n",
       "\n",
       "#sk-container-id-1 pre {\n",
       "  padding: 0;\n",
       "}\n",
       "\n",
       "#sk-container-id-1 input.sk-hidden--visually {\n",
       "  border: 0;\n",
       "  clip: rect(1px 1px 1px 1px);\n",
       "  clip: rect(1px, 1px, 1px, 1px);\n",
       "  height: 1px;\n",
       "  margin: -1px;\n",
       "  overflow: hidden;\n",
       "  padding: 0;\n",
       "  position: absolute;\n",
       "  width: 1px;\n",
       "}\n",
       "\n",
       "#sk-container-id-1 div.sk-dashed-wrapped {\n",
       "  border: 1px dashed var(--sklearn-color-line);\n",
       "  margin: 0 0.4em 0.5em 0.4em;\n",
       "  box-sizing: border-box;\n",
       "  padding-bottom: 0.4em;\n",
       "  background-color: var(--sklearn-color-background);\n",
       "}\n",
       "\n",
       "#sk-container-id-1 div.sk-container {\n",
       "  /* jupyter's `normalize.less` sets `[hidden] { display: none; }`\n",
       "     but bootstrap.min.css set `[hidden] { display: none !important; }`\n",
       "     so we also need the `!important` here to be able to override the\n",
       "     default hidden behavior on the sphinx rendered scikit-learn.org.\n",
       "     See: https://github.com/scikit-learn/scikit-learn/issues/21755 */\n",
       "  display: inline-block !important;\n",
       "  position: relative;\n",
       "}\n",
       "\n",
       "#sk-container-id-1 div.sk-text-repr-fallback {\n",
       "  display: none;\n",
       "}\n",
       "\n",
       "div.sk-parallel-item,\n",
       "div.sk-serial,\n",
       "div.sk-item {\n",
       "  /* draw centered vertical line to link estimators */\n",
       "  background-image: linear-gradient(var(--sklearn-color-text-on-default-background), var(--sklearn-color-text-on-default-background));\n",
       "  background-size: 2px 100%;\n",
       "  background-repeat: no-repeat;\n",
       "  background-position: center center;\n",
       "}\n",
       "\n",
       "/* Parallel-specific style estimator block */\n",
       "\n",
       "#sk-container-id-1 div.sk-parallel-item::after {\n",
       "  content: \"\";\n",
       "  width: 100%;\n",
       "  border-bottom: 2px solid var(--sklearn-color-text-on-default-background);\n",
       "  flex-grow: 1;\n",
       "}\n",
       "\n",
       "#sk-container-id-1 div.sk-parallel {\n",
       "  display: flex;\n",
       "  align-items: stretch;\n",
       "  justify-content: center;\n",
       "  background-color: var(--sklearn-color-background);\n",
       "  position: relative;\n",
       "}\n",
       "\n",
       "#sk-container-id-1 div.sk-parallel-item {\n",
       "  display: flex;\n",
       "  flex-direction: column;\n",
       "}\n",
       "\n",
       "#sk-container-id-1 div.sk-parallel-item:first-child::after {\n",
       "  align-self: flex-end;\n",
       "  width: 50%;\n",
       "}\n",
       "\n",
       "#sk-container-id-1 div.sk-parallel-item:last-child::after {\n",
       "  align-self: flex-start;\n",
       "  width: 50%;\n",
       "}\n",
       "\n",
       "#sk-container-id-1 div.sk-parallel-item:only-child::after {\n",
       "  width: 0;\n",
       "}\n",
       "\n",
       "/* Serial-specific style estimator block */\n",
       "\n",
       "#sk-container-id-1 div.sk-serial {\n",
       "  display: flex;\n",
       "  flex-direction: column;\n",
       "  align-items: center;\n",
       "  background-color: var(--sklearn-color-background);\n",
       "  padding-right: 1em;\n",
       "  padding-left: 1em;\n",
       "}\n",
       "\n",
       "\n",
       "/* Toggleable style: style used for estimator/Pipeline/ColumnTransformer box that is\n",
       "clickable and can be expanded/collapsed.\n",
       "- Pipeline and ColumnTransformer use this feature and define the default style\n",
       "- Estimators will overwrite some part of the style using the `sk-estimator` class\n",
       "*/\n",
       "\n",
       "/* Pipeline and ColumnTransformer style (default) */\n",
       "\n",
       "#sk-container-id-1 div.sk-toggleable {\n",
       "  /* Default theme specific background. It is overwritten whether we have a\n",
       "  specific estimator or a Pipeline/ColumnTransformer */\n",
       "  background-color: var(--sklearn-color-background);\n",
       "}\n",
       "\n",
       "/* Toggleable label */\n",
       "#sk-container-id-1 label.sk-toggleable__label {\n",
       "  cursor: pointer;\n",
       "  display: flex;\n",
       "  width: 100%;\n",
       "  margin-bottom: 0;\n",
       "  padding: 0.5em;\n",
       "  box-sizing: border-box;\n",
       "  text-align: center;\n",
       "  align-items: start;\n",
       "  justify-content: space-between;\n",
       "  gap: 0.5em;\n",
       "}\n",
       "\n",
       "#sk-container-id-1 label.sk-toggleable__label .caption {\n",
       "  font-size: 0.6rem;\n",
       "  font-weight: lighter;\n",
       "  color: var(--sklearn-color-text-muted);\n",
       "}\n",
       "\n",
       "#sk-container-id-1 label.sk-toggleable__label-arrow:before {\n",
       "  /* Arrow on the left of the label */\n",
       "  content: \"▸\";\n",
       "  float: left;\n",
       "  margin-right: 0.25em;\n",
       "  color: var(--sklearn-color-icon);\n",
       "}\n",
       "\n",
       "#sk-container-id-1 label.sk-toggleable__label-arrow:hover:before {\n",
       "  color: var(--sklearn-color-text);\n",
       "}\n",
       "\n",
       "/* Toggleable content - dropdown */\n",
       "\n",
       "#sk-container-id-1 div.sk-toggleable__content {\n",
       "  max-height: 0;\n",
       "  max-width: 0;\n",
       "  overflow: hidden;\n",
       "  text-align: left;\n",
       "  /* unfitted */\n",
       "  background-color: var(--sklearn-color-unfitted-level-0);\n",
       "}\n",
       "\n",
       "#sk-container-id-1 div.sk-toggleable__content.fitted {\n",
       "  /* fitted */\n",
       "  background-color: var(--sklearn-color-fitted-level-0);\n",
       "}\n",
       "\n",
       "#sk-container-id-1 div.sk-toggleable__content pre {\n",
       "  margin: 0.2em;\n",
       "  border-radius: 0.25em;\n",
       "  color: var(--sklearn-color-text);\n",
       "  /* unfitted */\n",
       "  background-color: var(--sklearn-color-unfitted-level-0);\n",
       "}\n",
       "\n",
       "#sk-container-id-1 div.sk-toggleable__content.fitted pre {\n",
       "  /* unfitted */\n",
       "  background-color: var(--sklearn-color-fitted-level-0);\n",
       "}\n",
       "\n",
       "#sk-container-id-1 input.sk-toggleable__control:checked~div.sk-toggleable__content {\n",
       "  /* Expand drop-down */\n",
       "  max-height: 200px;\n",
       "  max-width: 100%;\n",
       "  overflow: auto;\n",
       "}\n",
       "\n",
       "#sk-container-id-1 input.sk-toggleable__control:checked~label.sk-toggleable__label-arrow:before {\n",
       "  content: \"▾\";\n",
       "}\n",
       "\n",
       "/* Pipeline/ColumnTransformer-specific style */\n",
       "\n",
       "#sk-container-id-1 div.sk-label input.sk-toggleable__control:checked~label.sk-toggleable__label {\n",
       "  color: var(--sklearn-color-text);\n",
       "  background-color: var(--sklearn-color-unfitted-level-2);\n",
       "}\n",
       "\n",
       "#sk-container-id-1 div.sk-label.fitted input.sk-toggleable__control:checked~label.sk-toggleable__label {\n",
       "  background-color: var(--sklearn-color-fitted-level-2);\n",
       "}\n",
       "\n",
       "/* Estimator-specific style */\n",
       "\n",
       "/* Colorize estimator box */\n",
       "#sk-container-id-1 div.sk-estimator input.sk-toggleable__control:checked~label.sk-toggleable__label {\n",
       "  /* unfitted */\n",
       "  background-color: var(--sklearn-color-unfitted-level-2);\n",
       "}\n",
       "\n",
       "#sk-container-id-1 div.sk-estimator.fitted input.sk-toggleable__control:checked~label.sk-toggleable__label {\n",
       "  /* fitted */\n",
       "  background-color: var(--sklearn-color-fitted-level-2);\n",
       "}\n",
       "\n",
       "#sk-container-id-1 div.sk-label label.sk-toggleable__label,\n",
       "#sk-container-id-1 div.sk-label label {\n",
       "  /* The background is the default theme color */\n",
       "  color: var(--sklearn-color-text-on-default-background);\n",
       "}\n",
       "\n",
       "/* On hover, darken the color of the background */\n",
       "#sk-container-id-1 div.sk-label:hover label.sk-toggleable__label {\n",
       "  color: var(--sklearn-color-text);\n",
       "  background-color: var(--sklearn-color-unfitted-level-2);\n",
       "}\n",
       "\n",
       "/* Label box, darken color on hover, fitted */\n",
       "#sk-container-id-1 div.sk-label.fitted:hover label.sk-toggleable__label.fitted {\n",
       "  color: var(--sklearn-color-text);\n",
       "  background-color: var(--sklearn-color-fitted-level-2);\n",
       "}\n",
       "\n",
       "/* Estimator label */\n",
       "\n",
       "#sk-container-id-1 div.sk-label label {\n",
       "  font-family: monospace;\n",
       "  font-weight: bold;\n",
       "  display: inline-block;\n",
       "  line-height: 1.2em;\n",
       "}\n",
       "\n",
       "#sk-container-id-1 div.sk-label-container {\n",
       "  text-align: center;\n",
       "}\n",
       "\n",
       "/* Estimator-specific */\n",
       "#sk-container-id-1 div.sk-estimator {\n",
       "  font-family: monospace;\n",
       "  border: 1px dotted var(--sklearn-color-border-box);\n",
       "  border-radius: 0.25em;\n",
       "  box-sizing: border-box;\n",
       "  margin-bottom: 0.5em;\n",
       "  /* unfitted */\n",
       "  background-color: var(--sklearn-color-unfitted-level-0);\n",
       "}\n",
       "\n",
       "#sk-container-id-1 div.sk-estimator.fitted {\n",
       "  /* fitted */\n",
       "  background-color: var(--sklearn-color-fitted-level-0);\n",
       "}\n",
       "\n",
       "/* on hover */\n",
       "#sk-container-id-1 div.sk-estimator:hover {\n",
       "  /* unfitted */\n",
       "  background-color: var(--sklearn-color-unfitted-level-2);\n",
       "}\n",
       "\n",
       "#sk-container-id-1 div.sk-estimator.fitted:hover {\n",
       "  /* fitted */\n",
       "  background-color: var(--sklearn-color-fitted-level-2);\n",
       "}\n",
       "\n",
       "/* Specification for estimator info (e.g. \"i\" and \"?\") */\n",
       "\n",
       "/* Common style for \"i\" and \"?\" */\n",
       "\n",
       ".sk-estimator-doc-link,\n",
       "a:link.sk-estimator-doc-link,\n",
       "a:visited.sk-estimator-doc-link {\n",
       "  float: right;\n",
       "  font-size: smaller;\n",
       "  line-height: 1em;\n",
       "  font-family: monospace;\n",
       "  background-color: var(--sklearn-color-background);\n",
       "  border-radius: 1em;\n",
       "  height: 1em;\n",
       "  width: 1em;\n",
       "  text-decoration: none !important;\n",
       "  margin-left: 0.5em;\n",
       "  text-align: center;\n",
       "  /* unfitted */\n",
       "  border: var(--sklearn-color-unfitted-level-1) 1pt solid;\n",
       "  color: var(--sklearn-color-unfitted-level-1);\n",
       "}\n",
       "\n",
       ".sk-estimator-doc-link.fitted,\n",
       "a:link.sk-estimator-doc-link.fitted,\n",
       "a:visited.sk-estimator-doc-link.fitted {\n",
       "  /* fitted */\n",
       "  border: var(--sklearn-color-fitted-level-1) 1pt solid;\n",
       "  color: var(--sklearn-color-fitted-level-1);\n",
       "}\n",
       "\n",
       "/* On hover */\n",
       "div.sk-estimator:hover .sk-estimator-doc-link:hover,\n",
       ".sk-estimator-doc-link:hover,\n",
       "div.sk-label-container:hover .sk-estimator-doc-link:hover,\n",
       ".sk-estimator-doc-link:hover {\n",
       "  /* unfitted */\n",
       "  background-color: var(--sklearn-color-unfitted-level-3);\n",
       "  color: var(--sklearn-color-background);\n",
       "  text-decoration: none;\n",
       "}\n",
       "\n",
       "div.sk-estimator.fitted:hover .sk-estimator-doc-link.fitted:hover,\n",
       ".sk-estimator-doc-link.fitted:hover,\n",
       "div.sk-label-container:hover .sk-estimator-doc-link.fitted:hover,\n",
       ".sk-estimator-doc-link.fitted:hover {\n",
       "  /* fitted */\n",
       "  background-color: var(--sklearn-color-fitted-level-3);\n",
       "  color: var(--sklearn-color-background);\n",
       "  text-decoration: none;\n",
       "}\n",
       "\n",
       "/* Span, style for the box shown on hovering the info icon */\n",
       ".sk-estimator-doc-link span {\n",
       "  display: none;\n",
       "  z-index: 9999;\n",
       "  position: relative;\n",
       "  font-weight: normal;\n",
       "  right: .2ex;\n",
       "  padding: .5ex;\n",
       "  margin: .5ex;\n",
       "  width: min-content;\n",
       "  min-width: 20ex;\n",
       "  max-width: 50ex;\n",
       "  color: var(--sklearn-color-text);\n",
       "  box-shadow: 2pt 2pt 4pt #999;\n",
       "  /* unfitted */\n",
       "  background: var(--sklearn-color-unfitted-level-0);\n",
       "  border: .5pt solid var(--sklearn-color-unfitted-level-3);\n",
       "}\n",
       "\n",
       ".sk-estimator-doc-link.fitted span {\n",
       "  /* fitted */\n",
       "  background: var(--sklearn-color-fitted-level-0);\n",
       "  border: var(--sklearn-color-fitted-level-3);\n",
       "}\n",
       "\n",
       ".sk-estimator-doc-link:hover span {\n",
       "  display: block;\n",
       "}\n",
       "\n",
       "/* \"?\"-specific style due to the `<a>` HTML tag */\n",
       "\n",
       "#sk-container-id-1 a.estimator_doc_link {\n",
       "  float: right;\n",
       "  font-size: 1rem;\n",
       "  line-height: 1em;\n",
       "  font-family: monospace;\n",
       "  background-color: var(--sklearn-color-background);\n",
       "  border-radius: 1rem;\n",
       "  height: 1rem;\n",
       "  width: 1rem;\n",
       "  text-decoration: none;\n",
       "  /* unfitted */\n",
       "  color: var(--sklearn-color-unfitted-level-1);\n",
       "  border: var(--sklearn-color-unfitted-level-1) 1pt solid;\n",
       "}\n",
       "\n",
       "#sk-container-id-1 a.estimator_doc_link.fitted {\n",
       "  /* fitted */\n",
       "  border: var(--sklearn-color-fitted-level-1) 1pt solid;\n",
       "  color: var(--sklearn-color-fitted-level-1);\n",
       "}\n",
       "\n",
       "/* On hover */\n",
       "#sk-container-id-1 a.estimator_doc_link:hover {\n",
       "  /* unfitted */\n",
       "  background-color: var(--sklearn-color-unfitted-level-3);\n",
       "  color: var(--sklearn-color-background);\n",
       "  text-decoration: none;\n",
       "}\n",
       "\n",
       "#sk-container-id-1 a.estimator_doc_link.fitted:hover {\n",
       "  /* fitted */\n",
       "  background-color: var(--sklearn-color-fitted-level-3);\n",
       "}\n",
       "</style><div id=\"sk-container-id-1\" class=\"sk-top-container\"><div class=\"sk-text-repr-fallback\"><pre>Ridge(random_state=42)</pre><b>In a Jupyter environment, please rerun this cell to show the HTML representation or trust the notebook. <br />On GitHub, the HTML representation is unable to render, please try loading this page with nbviewer.org.</b></div><div class=\"sk-container\" hidden><div class=\"sk-item\"><div class=\"sk-estimator  sk-toggleable\"><input class=\"sk-toggleable__control sk-hidden--visually\" id=\"sk-estimator-id-1\" type=\"checkbox\" checked><label for=\"sk-estimator-id-1\" class=\"sk-toggleable__label  sk-toggleable__label-arrow\"><div><div>Ridge</div></div><div><a class=\"sk-estimator-doc-link \" rel=\"noreferrer\" target=\"_blank\" href=\"https://scikit-learn.org/1.6/modules/generated/sklearn.linear_model.Ridge.html\">?<span>Documentation for Ridge</span></a><span class=\"sk-estimator-doc-link \">i<span>Not fitted</span></span></div></label><div class=\"sk-toggleable__content \"><pre>Ridge(random_state=42)</pre></div> </div></div></div></div>"
      ],
      "text/plain": [
       "Ridge(random_state=42)"
      ]
     },
     "execution_count": 10,
     "metadata": {},
     "output_type": "execute_result"
    }
   ],
   "source": [
    "model"
   ]
  },
  {
   "cell_type": "code",
   "execution_count": 11,
   "id": "d9db37f4",
   "metadata": {},
   "outputs": [
    {
     "name": "stderr",
     "output_type": "stream",
     "text": [
      "l:\\Programs\\anaconda\\envs\\esg_pred\\Lib\\site-packages\\sklearn\\linear_model\\_ridge.py:215: LinAlgWarning: Ill-conditioned matrix (rcond=5.17923e-28): result may not be accurate.\n",
      "  return linalg.solve(A, Xy, assume_a=\"pos\", overwrite_a=True).T\n"
     ]
    },
    {
     "data": {
      "text/html": [
       "<style>#sk-container-id-2 {\n",
       "  /* Definition of color scheme common for light and dark mode */\n",
       "  --sklearn-color-text: #000;\n",
       "  --sklearn-color-text-muted: #666;\n",
       "  --sklearn-color-line: gray;\n",
       "  /* Definition of color scheme for unfitted estimators */\n",
       "  --sklearn-color-unfitted-level-0: #fff5e6;\n",
       "  --sklearn-color-unfitted-level-1: #f6e4d2;\n",
       "  --sklearn-color-unfitted-level-2: #ffe0b3;\n",
       "  --sklearn-color-unfitted-level-3: chocolate;\n",
       "  /* Definition of color scheme for fitted estimators */\n",
       "  --sklearn-color-fitted-level-0: #f0f8ff;\n",
       "  --sklearn-color-fitted-level-1: #d4ebff;\n",
       "  --sklearn-color-fitted-level-2: #b3dbfd;\n",
       "  --sklearn-color-fitted-level-3: cornflowerblue;\n",
       "\n",
       "  /* Specific color for light theme */\n",
       "  --sklearn-color-text-on-default-background: var(--sg-text-color, var(--theme-code-foreground, var(--jp-content-font-color1, black)));\n",
       "  --sklearn-color-background: var(--sg-background-color, var(--theme-background, var(--jp-layout-color0, white)));\n",
       "  --sklearn-color-border-box: var(--sg-text-color, var(--theme-code-foreground, var(--jp-content-font-color1, black)));\n",
       "  --sklearn-color-icon: #696969;\n",
       "\n",
       "  @media (prefers-color-scheme: dark) {\n",
       "    /* Redefinition of color scheme for dark theme */\n",
       "    --sklearn-color-text-on-default-background: var(--sg-text-color, var(--theme-code-foreground, var(--jp-content-font-color1, white)));\n",
       "    --sklearn-color-background: var(--sg-background-color, var(--theme-background, var(--jp-layout-color0, #111)));\n",
       "    --sklearn-color-border-box: var(--sg-text-color, var(--theme-code-foreground, var(--jp-content-font-color1, white)));\n",
       "    --sklearn-color-icon: #878787;\n",
       "  }\n",
       "}\n",
       "\n",
       "#sk-container-id-2 {\n",
       "  color: var(--sklearn-color-text);\n",
       "}\n",
       "\n",
       "#sk-container-id-2 pre {\n",
       "  padding: 0;\n",
       "}\n",
       "\n",
       "#sk-container-id-2 input.sk-hidden--visually {\n",
       "  border: 0;\n",
       "  clip: rect(1px 1px 1px 1px);\n",
       "  clip: rect(1px, 1px, 1px, 1px);\n",
       "  height: 1px;\n",
       "  margin: -1px;\n",
       "  overflow: hidden;\n",
       "  padding: 0;\n",
       "  position: absolute;\n",
       "  width: 1px;\n",
       "}\n",
       "\n",
       "#sk-container-id-2 div.sk-dashed-wrapped {\n",
       "  border: 1px dashed var(--sklearn-color-line);\n",
       "  margin: 0 0.4em 0.5em 0.4em;\n",
       "  box-sizing: border-box;\n",
       "  padding-bottom: 0.4em;\n",
       "  background-color: var(--sklearn-color-background);\n",
       "}\n",
       "\n",
       "#sk-container-id-2 div.sk-container {\n",
       "  /* jupyter's `normalize.less` sets `[hidden] { display: none; }`\n",
       "     but bootstrap.min.css set `[hidden] { display: none !important; }`\n",
       "     so we also need the `!important` here to be able to override the\n",
       "     default hidden behavior on the sphinx rendered scikit-learn.org.\n",
       "     See: https://github.com/scikit-learn/scikit-learn/issues/21755 */\n",
       "  display: inline-block !important;\n",
       "  position: relative;\n",
       "}\n",
       "\n",
       "#sk-container-id-2 div.sk-text-repr-fallback {\n",
       "  display: none;\n",
       "}\n",
       "\n",
       "div.sk-parallel-item,\n",
       "div.sk-serial,\n",
       "div.sk-item {\n",
       "  /* draw centered vertical line to link estimators */\n",
       "  background-image: linear-gradient(var(--sklearn-color-text-on-default-background), var(--sklearn-color-text-on-default-background));\n",
       "  background-size: 2px 100%;\n",
       "  background-repeat: no-repeat;\n",
       "  background-position: center center;\n",
       "}\n",
       "\n",
       "/* Parallel-specific style estimator block */\n",
       "\n",
       "#sk-container-id-2 div.sk-parallel-item::after {\n",
       "  content: \"\";\n",
       "  width: 100%;\n",
       "  border-bottom: 2px solid var(--sklearn-color-text-on-default-background);\n",
       "  flex-grow: 1;\n",
       "}\n",
       "\n",
       "#sk-container-id-2 div.sk-parallel {\n",
       "  display: flex;\n",
       "  align-items: stretch;\n",
       "  justify-content: center;\n",
       "  background-color: var(--sklearn-color-background);\n",
       "  position: relative;\n",
       "}\n",
       "\n",
       "#sk-container-id-2 div.sk-parallel-item {\n",
       "  display: flex;\n",
       "  flex-direction: column;\n",
       "}\n",
       "\n",
       "#sk-container-id-2 div.sk-parallel-item:first-child::after {\n",
       "  align-self: flex-end;\n",
       "  width: 50%;\n",
       "}\n",
       "\n",
       "#sk-container-id-2 div.sk-parallel-item:last-child::after {\n",
       "  align-self: flex-start;\n",
       "  width: 50%;\n",
       "}\n",
       "\n",
       "#sk-container-id-2 div.sk-parallel-item:only-child::after {\n",
       "  width: 0;\n",
       "}\n",
       "\n",
       "/* Serial-specific style estimator block */\n",
       "\n",
       "#sk-container-id-2 div.sk-serial {\n",
       "  display: flex;\n",
       "  flex-direction: column;\n",
       "  align-items: center;\n",
       "  background-color: var(--sklearn-color-background);\n",
       "  padding-right: 1em;\n",
       "  padding-left: 1em;\n",
       "}\n",
       "\n",
       "\n",
       "/* Toggleable style: style used for estimator/Pipeline/ColumnTransformer box that is\n",
       "clickable and can be expanded/collapsed.\n",
       "- Pipeline and ColumnTransformer use this feature and define the default style\n",
       "- Estimators will overwrite some part of the style using the `sk-estimator` class\n",
       "*/\n",
       "\n",
       "/* Pipeline and ColumnTransformer style (default) */\n",
       "\n",
       "#sk-container-id-2 div.sk-toggleable {\n",
       "  /* Default theme specific background. It is overwritten whether we have a\n",
       "  specific estimator or a Pipeline/ColumnTransformer */\n",
       "  background-color: var(--sklearn-color-background);\n",
       "}\n",
       "\n",
       "/* Toggleable label */\n",
       "#sk-container-id-2 label.sk-toggleable__label {\n",
       "  cursor: pointer;\n",
       "  display: flex;\n",
       "  width: 100%;\n",
       "  margin-bottom: 0;\n",
       "  padding: 0.5em;\n",
       "  box-sizing: border-box;\n",
       "  text-align: center;\n",
       "  align-items: start;\n",
       "  justify-content: space-between;\n",
       "  gap: 0.5em;\n",
       "}\n",
       "\n",
       "#sk-container-id-2 label.sk-toggleable__label .caption {\n",
       "  font-size: 0.6rem;\n",
       "  font-weight: lighter;\n",
       "  color: var(--sklearn-color-text-muted);\n",
       "}\n",
       "\n",
       "#sk-container-id-2 label.sk-toggleable__label-arrow:before {\n",
       "  /* Arrow on the left of the label */\n",
       "  content: \"▸\";\n",
       "  float: left;\n",
       "  margin-right: 0.25em;\n",
       "  color: var(--sklearn-color-icon);\n",
       "}\n",
       "\n",
       "#sk-container-id-2 label.sk-toggleable__label-arrow:hover:before {\n",
       "  color: var(--sklearn-color-text);\n",
       "}\n",
       "\n",
       "/* Toggleable content - dropdown */\n",
       "\n",
       "#sk-container-id-2 div.sk-toggleable__content {\n",
       "  max-height: 0;\n",
       "  max-width: 0;\n",
       "  overflow: hidden;\n",
       "  text-align: left;\n",
       "  /* unfitted */\n",
       "  background-color: var(--sklearn-color-unfitted-level-0);\n",
       "}\n",
       "\n",
       "#sk-container-id-2 div.sk-toggleable__content.fitted {\n",
       "  /* fitted */\n",
       "  background-color: var(--sklearn-color-fitted-level-0);\n",
       "}\n",
       "\n",
       "#sk-container-id-2 div.sk-toggleable__content pre {\n",
       "  margin: 0.2em;\n",
       "  border-radius: 0.25em;\n",
       "  color: var(--sklearn-color-text);\n",
       "  /* unfitted */\n",
       "  background-color: var(--sklearn-color-unfitted-level-0);\n",
       "}\n",
       "\n",
       "#sk-container-id-2 div.sk-toggleable__content.fitted pre {\n",
       "  /* unfitted */\n",
       "  background-color: var(--sklearn-color-fitted-level-0);\n",
       "}\n",
       "\n",
       "#sk-container-id-2 input.sk-toggleable__control:checked~div.sk-toggleable__content {\n",
       "  /* Expand drop-down */\n",
       "  max-height: 200px;\n",
       "  max-width: 100%;\n",
       "  overflow: auto;\n",
       "}\n",
       "\n",
       "#sk-container-id-2 input.sk-toggleable__control:checked~label.sk-toggleable__label-arrow:before {\n",
       "  content: \"▾\";\n",
       "}\n",
       "\n",
       "/* Pipeline/ColumnTransformer-specific style */\n",
       "\n",
       "#sk-container-id-2 div.sk-label input.sk-toggleable__control:checked~label.sk-toggleable__label {\n",
       "  color: var(--sklearn-color-text);\n",
       "  background-color: var(--sklearn-color-unfitted-level-2);\n",
       "}\n",
       "\n",
       "#sk-container-id-2 div.sk-label.fitted input.sk-toggleable__control:checked~label.sk-toggleable__label {\n",
       "  background-color: var(--sklearn-color-fitted-level-2);\n",
       "}\n",
       "\n",
       "/* Estimator-specific style */\n",
       "\n",
       "/* Colorize estimator box */\n",
       "#sk-container-id-2 div.sk-estimator input.sk-toggleable__control:checked~label.sk-toggleable__label {\n",
       "  /* unfitted */\n",
       "  background-color: var(--sklearn-color-unfitted-level-2);\n",
       "}\n",
       "\n",
       "#sk-container-id-2 div.sk-estimator.fitted input.sk-toggleable__control:checked~label.sk-toggleable__label {\n",
       "  /* fitted */\n",
       "  background-color: var(--sklearn-color-fitted-level-2);\n",
       "}\n",
       "\n",
       "#sk-container-id-2 div.sk-label label.sk-toggleable__label,\n",
       "#sk-container-id-2 div.sk-label label {\n",
       "  /* The background is the default theme color */\n",
       "  color: var(--sklearn-color-text-on-default-background);\n",
       "}\n",
       "\n",
       "/* On hover, darken the color of the background */\n",
       "#sk-container-id-2 div.sk-label:hover label.sk-toggleable__label {\n",
       "  color: var(--sklearn-color-text);\n",
       "  background-color: var(--sklearn-color-unfitted-level-2);\n",
       "}\n",
       "\n",
       "/* Label box, darken color on hover, fitted */\n",
       "#sk-container-id-2 div.sk-label.fitted:hover label.sk-toggleable__label.fitted {\n",
       "  color: var(--sklearn-color-text);\n",
       "  background-color: var(--sklearn-color-fitted-level-2);\n",
       "}\n",
       "\n",
       "/* Estimator label */\n",
       "\n",
       "#sk-container-id-2 div.sk-label label {\n",
       "  font-family: monospace;\n",
       "  font-weight: bold;\n",
       "  display: inline-block;\n",
       "  line-height: 1.2em;\n",
       "}\n",
       "\n",
       "#sk-container-id-2 div.sk-label-container {\n",
       "  text-align: center;\n",
       "}\n",
       "\n",
       "/* Estimator-specific */\n",
       "#sk-container-id-2 div.sk-estimator {\n",
       "  font-family: monospace;\n",
       "  border: 1px dotted var(--sklearn-color-border-box);\n",
       "  border-radius: 0.25em;\n",
       "  box-sizing: border-box;\n",
       "  margin-bottom: 0.5em;\n",
       "  /* unfitted */\n",
       "  background-color: var(--sklearn-color-unfitted-level-0);\n",
       "}\n",
       "\n",
       "#sk-container-id-2 div.sk-estimator.fitted {\n",
       "  /* fitted */\n",
       "  background-color: var(--sklearn-color-fitted-level-0);\n",
       "}\n",
       "\n",
       "/* on hover */\n",
       "#sk-container-id-2 div.sk-estimator:hover {\n",
       "  /* unfitted */\n",
       "  background-color: var(--sklearn-color-unfitted-level-2);\n",
       "}\n",
       "\n",
       "#sk-container-id-2 div.sk-estimator.fitted:hover {\n",
       "  /* fitted */\n",
       "  background-color: var(--sklearn-color-fitted-level-2);\n",
       "}\n",
       "\n",
       "/* Specification for estimator info (e.g. \"i\" and \"?\") */\n",
       "\n",
       "/* Common style for \"i\" and \"?\" */\n",
       "\n",
       ".sk-estimator-doc-link,\n",
       "a:link.sk-estimator-doc-link,\n",
       "a:visited.sk-estimator-doc-link {\n",
       "  float: right;\n",
       "  font-size: smaller;\n",
       "  line-height: 1em;\n",
       "  font-family: monospace;\n",
       "  background-color: var(--sklearn-color-background);\n",
       "  border-radius: 1em;\n",
       "  height: 1em;\n",
       "  width: 1em;\n",
       "  text-decoration: none !important;\n",
       "  margin-left: 0.5em;\n",
       "  text-align: center;\n",
       "  /* unfitted */\n",
       "  border: var(--sklearn-color-unfitted-level-1) 1pt solid;\n",
       "  color: var(--sklearn-color-unfitted-level-1);\n",
       "}\n",
       "\n",
       ".sk-estimator-doc-link.fitted,\n",
       "a:link.sk-estimator-doc-link.fitted,\n",
       "a:visited.sk-estimator-doc-link.fitted {\n",
       "  /* fitted */\n",
       "  border: var(--sklearn-color-fitted-level-1) 1pt solid;\n",
       "  color: var(--sklearn-color-fitted-level-1);\n",
       "}\n",
       "\n",
       "/* On hover */\n",
       "div.sk-estimator:hover .sk-estimator-doc-link:hover,\n",
       ".sk-estimator-doc-link:hover,\n",
       "div.sk-label-container:hover .sk-estimator-doc-link:hover,\n",
       ".sk-estimator-doc-link:hover {\n",
       "  /* unfitted */\n",
       "  background-color: var(--sklearn-color-unfitted-level-3);\n",
       "  color: var(--sklearn-color-background);\n",
       "  text-decoration: none;\n",
       "}\n",
       "\n",
       "div.sk-estimator.fitted:hover .sk-estimator-doc-link.fitted:hover,\n",
       ".sk-estimator-doc-link.fitted:hover,\n",
       "div.sk-label-container:hover .sk-estimator-doc-link.fitted:hover,\n",
       ".sk-estimator-doc-link.fitted:hover {\n",
       "  /* fitted */\n",
       "  background-color: var(--sklearn-color-fitted-level-3);\n",
       "  color: var(--sklearn-color-background);\n",
       "  text-decoration: none;\n",
       "}\n",
       "\n",
       "/* Span, style for the box shown on hovering the info icon */\n",
       ".sk-estimator-doc-link span {\n",
       "  display: none;\n",
       "  z-index: 9999;\n",
       "  position: relative;\n",
       "  font-weight: normal;\n",
       "  right: .2ex;\n",
       "  padding: .5ex;\n",
       "  margin: .5ex;\n",
       "  width: min-content;\n",
       "  min-width: 20ex;\n",
       "  max-width: 50ex;\n",
       "  color: var(--sklearn-color-text);\n",
       "  box-shadow: 2pt 2pt 4pt #999;\n",
       "  /* unfitted */\n",
       "  background: var(--sklearn-color-unfitted-level-0);\n",
       "  border: .5pt solid var(--sklearn-color-unfitted-level-3);\n",
       "}\n",
       "\n",
       ".sk-estimator-doc-link.fitted span {\n",
       "  /* fitted */\n",
       "  background: var(--sklearn-color-fitted-level-0);\n",
       "  border: var(--sklearn-color-fitted-level-3);\n",
       "}\n",
       "\n",
       ".sk-estimator-doc-link:hover span {\n",
       "  display: block;\n",
       "}\n",
       "\n",
       "/* \"?\"-specific style due to the `<a>` HTML tag */\n",
       "\n",
       "#sk-container-id-2 a.estimator_doc_link {\n",
       "  float: right;\n",
       "  font-size: 1rem;\n",
       "  line-height: 1em;\n",
       "  font-family: monospace;\n",
       "  background-color: var(--sklearn-color-background);\n",
       "  border-radius: 1rem;\n",
       "  height: 1rem;\n",
       "  width: 1rem;\n",
       "  text-decoration: none;\n",
       "  /* unfitted */\n",
       "  color: var(--sklearn-color-unfitted-level-1);\n",
       "  border: var(--sklearn-color-unfitted-level-1) 1pt solid;\n",
       "}\n",
       "\n",
       "#sk-container-id-2 a.estimator_doc_link.fitted {\n",
       "  /* fitted */\n",
       "  border: var(--sklearn-color-fitted-level-1) 1pt solid;\n",
       "  color: var(--sklearn-color-fitted-level-1);\n",
       "}\n",
       "\n",
       "/* On hover */\n",
       "#sk-container-id-2 a.estimator_doc_link:hover {\n",
       "  /* unfitted */\n",
       "  background-color: var(--sklearn-color-unfitted-level-3);\n",
       "  color: var(--sklearn-color-background);\n",
       "  text-decoration: none;\n",
       "}\n",
       "\n",
       "#sk-container-id-2 a.estimator_doc_link.fitted:hover {\n",
       "  /* fitted */\n",
       "  background-color: var(--sklearn-color-fitted-level-3);\n",
       "}\n",
       "</style><div id=\"sk-container-id-2\" class=\"sk-top-container\"><div class=\"sk-text-repr-fallback\"><pre>Ridge(random_state=42)</pre><b>In a Jupyter environment, please rerun this cell to show the HTML representation or trust the notebook. <br />On GitHub, the HTML representation is unable to render, please try loading this page with nbviewer.org.</b></div><div class=\"sk-container\" hidden><div class=\"sk-item\"><div class=\"sk-estimator fitted sk-toggleable\"><input class=\"sk-toggleable__control sk-hidden--visually\" id=\"sk-estimator-id-2\" type=\"checkbox\" checked><label for=\"sk-estimator-id-2\" class=\"sk-toggleable__label fitted sk-toggleable__label-arrow\"><div><div>Ridge</div></div><div><a class=\"sk-estimator-doc-link fitted\" rel=\"noreferrer\" target=\"_blank\" href=\"https://scikit-learn.org/1.6/modules/generated/sklearn.linear_model.Ridge.html\">?<span>Documentation for Ridge</span></a><span class=\"sk-estimator-doc-link fitted\">i<span>Fitted</span></span></div></label><div class=\"sk-toggleable__content fitted\"><pre>Ridge(random_state=42)</pre></div> </div></div></div></div>"
      ],
      "text/plain": [
       "Ridge(random_state=42)"
      ]
     },
     "execution_count": 11,
     "metadata": {},
     "output_type": "execute_result"
    }
   ],
   "source": [
    "model.fit(X_train, y_train)"
   ]
  },
  {
   "cell_type": "code",
   "execution_count": 12,
   "id": "fa532c99",
   "metadata": {},
   "outputs": [],
   "source": [
    "# predict\n",
    "y_pred = model.predict(X_test)"
   ]
  },
  {
   "cell_type": "code",
   "execution_count": 13,
   "id": "0476cf8e",
   "metadata": {},
   "outputs": [],
   "source": [
    "# compute metrics\n",
    "rmse, mae, r2 = compute_metrics(y_test, y_pred)\n",
    "stability = compute_stability(model, X_test, y_test,\n",
    "                            noise_level=0.01, n_trials=5)"
   ]
  },
  {
   "cell_type": "code",
   "execution_count": 14,
   "id": "d822ed67",
   "metadata": {},
   "outputs": [],
   "source": [
    "manual_results = {\n",
    "            'RMSE': rmse,\n",
    "            'MAE': mae,\n",
    "            'R2': r2,\n",
    "            'Stability': stability\n",
    "        }"
   ]
  },
  {
   "cell_type": "code",
   "execution_count": 15,
   "id": "f2dc67c0",
   "metadata": {},
   "outputs": [
    {
     "data": {
      "application/vnd.microsoft.datawrangler.viewer.v0+json": {
       "columns": [
        {
         "name": "index",
         "rawType": "int64",
         "type": "integer"
        },
        {
         "name": "RMSE",
         "rawType": "float64",
         "type": "float"
        },
        {
         "name": "MAE",
         "rawType": "float64",
         "type": "float"
        },
        {
         "name": "R2",
         "rawType": "float64",
         "type": "float"
        },
        {
         "name": "Stability",
         "rawType": "float64",
         "type": "float"
        }
       ],
       "conversionMethod": "pd.DataFrame",
       "ref": "179defcf-2603-4352-8364-4548ddcf1d6b",
       "rows": [
        [
         "0",
         "44.79569547375485",
         "15.571980591268394",
         "-32.24554237698919",
         "-0.0010842998496107645"
        ]
       ],
       "shape": {
        "columns": 4,
        "rows": 1
       }
      },
      "text/html": [
       "<div>\n",
       "<style scoped>\n",
       "    .dataframe tbody tr th:only-of-type {\n",
       "        vertical-align: middle;\n",
       "    }\n",
       "\n",
       "    .dataframe tbody tr th {\n",
       "        vertical-align: top;\n",
       "    }\n",
       "\n",
       "    .dataframe thead th {\n",
       "        text-align: right;\n",
       "    }\n",
       "</style>\n",
       "<table border=\"1\" class=\"dataframe\">\n",
       "  <thead>\n",
       "    <tr style=\"text-align: right;\">\n",
       "      <th></th>\n",
       "      <th>RMSE</th>\n",
       "      <th>MAE</th>\n",
       "      <th>R2</th>\n",
       "      <th>Stability</th>\n",
       "    </tr>\n",
       "  </thead>\n",
       "  <tbody>\n",
       "    <tr>\n",
       "      <th>0</th>\n",
       "      <td>44.795695</td>\n",
       "      <td>15.571981</td>\n",
       "      <td>-32.245542</td>\n",
       "      <td>-0.001084</td>\n",
       "    </tr>\n",
       "  </tbody>\n",
       "</table>\n",
       "</div>"
      ],
      "text/plain": [
       "        RMSE        MAE         R2  Stability\n",
       "0  44.795695  15.571981 -32.245542  -0.001084"
      ]
     },
     "execution_count": 15,
     "metadata": {},
     "output_type": "execute_result"
    }
   ],
   "source": [
    "pd.DataFrame(manual_results, index=[0])"
   ]
  },
  {
   "cell_type": "markdown",
   "id": "8756fe2b",
   "metadata": {},
   "source": [
    "# Iterative Training"
   ]
  },
  {
   "cell_type": "code",
   "execution_count": 6,
   "id": "0cdc7fdb",
   "metadata": {},
   "outputs": [
    {
     "data": {
      "text/plain": [
       "(275, 82)"
      ]
     },
     "execution_count": 6,
     "metadata": {},
     "output_type": "execute_result"
    }
   ],
   "source": [
    "datasets['baselines']['full']['region_holdout']['europe_n_central_asia']['train'].shape"
   ]
  },
  {
   "cell_type": "code",
   "execution_count": 7,
   "id": "2ddcc900",
   "metadata": {},
   "outputs": [
    {
     "data": {
      "text/plain": [
       "dict_keys(['train', 'test', 'train_size', 'test_size'])"
      ]
     },
     "execution_count": 7,
     "metadata": {},
     "output_type": "execute_result"
    }
   ],
   "source": [
    "datasets['baselines']['full']['region_holdout']['europe_n_central_asia'].keys()"
   ]
  },
  {
   "cell_type": "code",
   "execution_count": 8,
   "id": "9f86d966",
   "metadata": {},
   "outputs": [],
   "source": [
    "results = []"
   ]
  },
  {
   "cell_type": "code",
   "execution_count": 9,
   "id": "6f6c5d9f",
   "metadata": {},
   "outputs": [
    {
     "name": "stdout",
     "output_type": "stream",
     "text": [
      "Scenario: baselines, full, Split: within_sample\n",
      "(291, 83) (73, 83)\n"
     ]
    },
    {
     "name": "stderr",
     "output_type": "stream",
     "text": [
      "l:\\Programs\\anaconda\\envs\\esg_pred\\Lib\\site-packages\\sklearn\\linear_model\\_ridge.py:215: LinAlgWarning: Ill-conditioned matrix (rcond=5.17923e-28): result may not be accurate.\n",
      "  return linalg.solve(A, Xy, assume_a=\"pos\", overwrite_a=True).T\n",
      "l:\\Programs\\anaconda\\envs\\esg_pred\\Lib\\site-packages\\xgboost\\training.py:183: UserWarning: [21:42:03] WARNING: C:\\actions-runner\\_work\\xgboost\\xgboost\\src\\learner.cc:738: \n",
      "Parameters: { \"use_label_encoder\" } are not used.\n",
      "\n",
      "  bst.update(dtrain, iteration=i, fobj=obj)\n"
     ]
    },
    {
     "name": "stdout",
     "output_type": "stream",
     "text": [
      "Scenario: baselines, full, Split: region_holdout, Context: east_asia_n_pacific\n",
      "(301, 82) (63, 82)\n"
     ]
    },
    {
     "name": "stderr",
     "output_type": "stream",
     "text": [
      "l:\\Programs\\anaconda\\envs\\esg_pred\\Lib\\site-packages\\sklearn\\linear_model\\_ridge.py:215: LinAlgWarning: Ill-conditioned matrix (rcond=3.05446e-25): result may not be accurate.\n",
      "  return linalg.solve(A, Xy, assume_a=\"pos\", overwrite_a=True).T\n",
      "l:\\Programs\\anaconda\\envs\\esg_pred\\Lib\\site-packages\\xgboost\\training.py:183: UserWarning: [21:42:05] WARNING: C:\\actions-runner\\_work\\xgboost\\xgboost\\src\\learner.cc:738: \n",
      "Parameters: { \"use_label_encoder\" } are not used.\n",
      "\n",
      "  bst.update(dtrain, iteration=i, fobj=obj)\n"
     ]
    },
    {
     "name": "stdout",
     "output_type": "stream",
     "text": [
      "Scenario: baselines, full, Split: region_holdout, Context: europe_n_central_asia\n",
      "(275, 82) (89, 82)\n"
     ]
    },
    {
     "name": "stderr",
     "output_type": "stream",
     "text": [
      "l:\\Programs\\anaconda\\envs\\esg_pred\\Lib\\site-packages\\sklearn\\linear_model\\_ridge.py:215: LinAlgWarning: Ill-conditioned matrix (rcond=5.20745e-28): result may not be accurate.\n",
      "  return linalg.solve(A, Xy, assume_a=\"pos\", overwrite_a=True).T\n",
      "l:\\Programs\\anaconda\\envs\\esg_pred\\Lib\\site-packages\\xgboost\\training.py:183: UserWarning: [21:42:06] WARNING: C:\\actions-runner\\_work\\xgboost\\xgboost\\src\\learner.cc:738: \n",
      "Parameters: { \"use_label_encoder\" } are not used.\n",
      "\n",
      "  bst.update(dtrain, iteration=i, fobj=obj)\n"
     ]
    },
    {
     "name": "stdout",
     "output_type": "stream",
     "text": [
      "Scenario: baselines, full, Split: region_holdout, Context: latin_america_n_caribbean\n",
      "(322, 82) (42, 82)\n"
     ]
    },
    {
     "name": "stderr",
     "output_type": "stream",
     "text": [
      "l:\\Programs\\anaconda\\envs\\esg_pred\\Lib\\site-packages\\sklearn\\linear_model\\_ridge.py:215: LinAlgWarning: Ill-conditioned matrix (rcond=5.63754e-28): result may not be accurate.\n",
      "  return linalg.solve(A, Xy, assume_a=\"pos\", overwrite_a=True).T\n",
      "l:\\Programs\\anaconda\\envs\\esg_pred\\Lib\\site-packages\\xgboost\\training.py:183: UserWarning: [21:42:08] WARNING: C:\\actions-runner\\_work\\xgboost\\xgboost\\src\\learner.cc:738: \n",
      "Parameters: { \"use_label_encoder\" } are not used.\n",
      "\n",
      "  bst.update(dtrain, iteration=i, fobj=obj)\n"
     ]
    },
    {
     "name": "stdout",
     "output_type": "stream",
     "text": [
      "Scenario: baselines, full, Split: region_holdout, Context: north_america\n",
      "(250, 82) (114, 82)\n"
     ]
    },
    {
     "name": "stderr",
     "output_type": "stream",
     "text": [
      "l:\\Programs\\anaconda\\envs\\esg_pred\\Lib\\site-packages\\sklearn\\linear_model\\_ridge.py:215: LinAlgWarning: Ill-conditioned matrix (rcond=5.16451e-28): result may not be accurate.\n",
      "  return linalg.solve(A, Xy, assume_a=\"pos\", overwrite_a=True).T\n",
      "l:\\Programs\\anaconda\\envs\\esg_pred\\Lib\\site-packages\\xgboost\\training.py:183: UserWarning: [21:42:10] WARNING: C:\\actions-runner\\_work\\xgboost\\xgboost\\src\\learner.cc:738: \n",
      "Parameters: { \"use_label_encoder\" } are not used.\n",
      "\n",
      "  bst.update(dtrain, iteration=i, fobj=obj)\n"
     ]
    },
    {
     "name": "stdout",
     "output_type": "stream",
     "text": [
      "Scenario: baselines, full, Split: region_holdout, Context: south_asia\n",
      "(327, 82) (37, 82)\n"
     ]
    },
    {
     "name": "stderr",
     "output_type": "stream",
     "text": [
      "l:\\Programs\\anaconda\\envs\\esg_pred\\Lib\\site-packages\\sklearn\\linear_model\\_ridge.py:215: LinAlgWarning: Ill-conditioned matrix (rcond=5.50317e-28): result may not be accurate.\n",
      "  return linalg.solve(A, Xy, assume_a=\"pos\", overwrite_a=True).T\n",
      "l:\\Programs\\anaconda\\envs\\esg_pred\\Lib\\site-packages\\xgboost\\training.py:183: UserWarning: [21:42:11] WARNING: C:\\actions-runner\\_work\\xgboost\\xgboost\\src\\learner.cc:738: \n",
      "Parameters: { \"use_label_encoder\" } are not used.\n",
      "\n",
      "  bst.update(dtrain, iteration=i, fobj=obj)\n"
     ]
    },
    {
     "name": "stdout",
     "output_type": "stream",
     "text": [
      "Scenario: baselines, full, Split: region_holdout, Context: sub_saharan_africa\n",
      "(345, 82) (19, 82)\n"
     ]
    },
    {
     "name": "stderr",
     "output_type": "stream",
     "text": [
      "l:\\Programs\\anaconda\\envs\\esg_pred\\Lib\\site-packages\\sklearn\\linear_model\\_ridge.py:215: LinAlgWarning: Ill-conditioned matrix (rcond=5.30054e-28): result may not be accurate.\n",
      "  return linalg.solve(A, Xy, assume_a=\"pos\", overwrite_a=True).T\n",
      "l:\\Programs\\anaconda\\envs\\esg_pred\\Lib\\site-packages\\xgboost\\training.py:183: UserWarning: [21:42:13] WARNING: C:\\actions-runner\\_work\\xgboost\\xgboost\\src\\learner.cc:738: \n",
      "Parameters: { \"use_label_encoder\" } are not used.\n",
      "\n",
      "  bst.update(dtrain, iteration=i, fobj=obj)\n"
     ]
    },
    {
     "name": "stdout",
     "output_type": "stream",
     "text": [
      "Scenario: baselines, full, Split: size_holdout, Context: Large-Cap\n",
      "(251, 83) (113, 83)\n"
     ]
    },
    {
     "name": "stderr",
     "output_type": "stream",
     "text": [
      "l:\\Programs\\anaconda\\envs\\esg_pred\\Lib\\site-packages\\sklearn\\linear_model\\_ridge.py:215: LinAlgWarning: Ill-conditioned matrix (rcond=1.04545e-24): result may not be accurate.\n",
      "  return linalg.solve(A, Xy, assume_a=\"pos\", overwrite_a=True).T\n",
      "l:\\Programs\\anaconda\\envs\\esg_pred\\Lib\\site-packages\\xgboost\\training.py:183: UserWarning: [21:42:15] WARNING: C:\\actions-runner\\_work\\xgboost\\xgboost\\src\\learner.cc:738: \n",
      "Parameters: { \"use_label_encoder\" } are not used.\n",
      "\n",
      "  bst.update(dtrain, iteration=i, fobj=obj)\n"
     ]
    },
    {
     "name": "stdout",
     "output_type": "stream",
     "text": [
      "Scenario: baselines, full, Split: size_holdout, Context: Mid-Cap\n",
      "(249, 83) (115, 83)\n"
     ]
    },
    {
     "name": "stderr",
     "output_type": "stream",
     "text": [
      "l:\\Programs\\anaconda\\envs\\esg_pred\\Lib\\site-packages\\sklearn\\linear_model\\_ridge.py:215: LinAlgWarning: Ill-conditioned matrix (rcond=5.26653e-28): result may not be accurate.\n",
      "  return linalg.solve(A, Xy, assume_a=\"pos\", overwrite_a=True).T\n",
      "l:\\Programs\\anaconda\\envs\\esg_pred\\Lib\\site-packages\\xgboost\\training.py:183: UserWarning: [21:42:16] WARNING: C:\\actions-runner\\_work\\xgboost\\xgboost\\src\\learner.cc:738: \n",
      "Parameters: { \"use_label_encoder\" } are not used.\n",
      "\n",
      "  bst.update(dtrain, iteration=i, fobj=obj)\n"
     ]
    },
    {
     "name": "stdout",
     "output_type": "stream",
     "text": [
      "Scenario: baselines, full, Split: size_holdout, Context: Small-Cap\n",
      "(228, 83) (136, 83)\n"
     ]
    },
    {
     "name": "stderr",
     "output_type": "stream",
     "text": [
      "l:\\Programs\\anaconda\\envs\\esg_pred\\Lib\\site-packages\\sklearn\\linear_model\\_ridge.py:215: LinAlgWarning: Ill-conditioned matrix (rcond=5.49227e-28): result may not be accurate.\n",
      "  return linalg.solve(A, Xy, assume_a=\"pos\", overwrite_a=True).T\n",
      "l:\\Programs\\anaconda\\envs\\esg_pred\\Lib\\site-packages\\xgboost\\training.py:183: UserWarning: [21:42:18] WARNING: C:\\actions-runner\\_work\\xgboost\\xgboost\\src\\learner.cc:738: \n",
      "Parameters: { \"use_label_encoder\" } are not used.\n",
      "\n",
      "  bst.update(dtrain, iteration=i, fobj=obj)\n"
     ]
    },
    {
     "name": "stdout",
     "output_type": "stream",
     "text": [
      "Scenario: baselines, constrained, Split: within_sample\n",
      "(113, 83) (29, 83)\n"
     ]
    },
    {
     "name": "stderr",
     "output_type": "stream",
     "text": [
      "l:\\Programs\\anaconda\\envs\\esg_pred\\Lib\\site-packages\\sklearn\\linear_model\\_ridge.py:215: LinAlgWarning: Ill-conditioned matrix (rcond=1.59576e-23): result may not be accurate.\n",
      "  return linalg.solve(A, Xy, assume_a=\"pos\", overwrite_a=True).T\n",
      "l:\\Programs\\anaconda\\envs\\esg_pred\\Lib\\site-packages\\xgboost\\training.py:183: UserWarning: [21:42:19] WARNING: C:\\actions-runner\\_work\\xgboost\\xgboost\\src\\learner.cc:738: \n",
      "Parameters: { \"use_label_encoder\" } are not used.\n",
      "\n",
      "  bst.update(dtrain, iteration=i, fobj=obj)\n"
     ]
    },
    {
     "name": "stdout",
     "output_type": "stream",
     "text": [
      "Scenario: baselines, constrained, Split: region_holdout, Context: europe_n_central_asia\n",
      "(87, 78) (55, 78)\n"
     ]
    },
    {
     "name": "stderr",
     "output_type": "stream",
     "text": [
      "l:\\Programs\\anaconda\\envs\\esg_pred\\Lib\\site-packages\\sklearn\\linear_model\\_ridge.py:215: LinAlgWarning: Ill-conditioned matrix (rcond=6.80748e-24): result may not be accurate.\n",
      "  return linalg.solve(A, Xy, assume_a=\"pos\", overwrite_a=True).T\n",
      "l:\\Programs\\anaconda\\envs\\esg_pred\\Lib\\site-packages\\xgboost\\training.py:183: UserWarning: [21:42:19] WARNING: C:\\actions-runner\\_work\\xgboost\\xgboost\\src\\learner.cc:738: \n",
      "Parameters: { \"use_label_encoder\" } are not used.\n",
      "\n",
      "  bst.update(dtrain, iteration=i, fobj=obj)\n"
     ]
    },
    {
     "name": "stdout",
     "output_type": "stream",
     "text": [
      "Scenario: baselines, constrained, Split: region_holdout, Context: north_america\n",
      "(55, 78) (87, 78)\n"
     ]
    },
    {
     "name": "stderr",
     "output_type": "stream",
     "text": [
      "l:\\Programs\\anaconda\\envs\\esg_pred\\Lib\\site-packages\\sklearn\\linear_model\\_ridge.py:254: UserWarning: Singular matrix in solving dual problem. Using least-squares solution instead.\n",
      "  warnings.warn(\n",
      "l:\\Programs\\anaconda\\envs\\esg_pred\\Lib\\site-packages\\xgboost\\training.py:183: UserWarning: [21:42:20] WARNING: C:\\actions-runner\\_work\\xgboost\\xgboost\\src\\learner.cc:738: \n",
      "Parameters: { \"use_label_encoder\" } are not used.\n",
      "\n",
      "  bst.update(dtrain, iteration=i, fobj=obj)\n"
     ]
    },
    {
     "name": "stdout",
     "output_type": "stream",
     "text": [
      "Scenario: baselines, constrained, Split: size_holdout, Context: Large-Cap\n",
      "(81, 82) (61, 82)\n"
     ]
    },
    {
     "name": "stderr",
     "output_type": "stream",
     "text": [
      "l:\\Programs\\anaconda\\envs\\esg_pred\\Lib\\site-packages\\sklearn\\linear_model\\_ridge.py:215: LinAlgWarning: Ill-conditioned matrix (rcond=4.64093e-24): result may not be accurate.\n",
      "  return linalg.solve(A, Xy, assume_a=\"pos\", overwrite_a=True).T\n",
      "l:\\Programs\\anaconda\\envs\\esg_pred\\Lib\\site-packages\\xgboost\\training.py:183: UserWarning: [21:42:21] WARNING: C:\\actions-runner\\_work\\xgboost\\xgboost\\src\\learner.cc:738: \n",
      "Parameters: { \"use_label_encoder\" } are not used.\n",
      "\n",
      "  bst.update(dtrain, iteration=i, fobj=obj)\n"
     ]
    },
    {
     "name": "stdout",
     "output_type": "stream",
     "text": [
      "Scenario: baselines, constrained, Split: size_holdout, Context: Mid-Cap\n",
      "(61, 82) (81, 82)\n"
     ]
    },
    {
     "name": "stderr",
     "output_type": "stream",
     "text": [
      "l:\\Programs\\anaconda\\envs\\esg_pred\\Lib\\site-packages\\sklearn\\linear_model\\_ridge.py:254: UserWarning: Singular matrix in solving dual problem. Using least-squares solution instead.\n",
      "  warnings.warn(\n",
      "l:\\Programs\\anaconda\\envs\\esg_pred\\Lib\\site-packages\\xgboost\\training.py:183: UserWarning: [21:42:22] WARNING: C:\\actions-runner\\_work\\xgboost\\xgboost\\src\\learner.cc:738: \n",
      "Parameters: { \"use_label_encoder\" } are not used.\n",
      "\n",
      "  bst.update(dtrain, iteration=i, fobj=obj)\n"
     ]
    },
    {
     "name": "stdout",
     "output_type": "stream",
     "text": [
      "Scenario: diversified, max_balanced, Split: within_sample\n",
      "(563, 83) (141, 83)\n"
     ]
    },
    {
     "name": "stderr",
     "output_type": "stream",
     "text": [
      "l:\\Programs\\anaconda\\envs\\esg_pred\\Lib\\site-packages\\sklearn\\linear_model\\_ridge.py:215: LinAlgWarning: Ill-conditioned matrix (rcond=1.45333e-28): result may not be accurate.\n",
      "  return linalg.solve(A, Xy, assume_a=\"pos\", overwrite_a=True).T\n",
      "l:\\Programs\\anaconda\\envs\\esg_pred\\Lib\\site-packages\\xgboost\\training.py:183: UserWarning: [21:42:23] WARNING: C:\\actions-runner\\_work\\xgboost\\xgboost\\src\\learner.cc:738: \n",
      "Parameters: { \"use_label_encoder\" } are not used.\n",
      "\n",
      "  bst.update(dtrain, iteration=i, fobj=obj)\n"
     ]
    },
    {
     "name": "stdout",
     "output_type": "stream",
     "text": [
      "Scenario: diversified, max_balanced, Split: region_holdout, Context: east_asia_n_pacific\n",
      "(572, 82) (132, 82)\n"
     ]
    },
    {
     "name": "stderr",
     "output_type": "stream",
     "text": [
      "l:\\Programs\\anaconda\\envs\\esg_pred\\Lib\\site-packages\\sklearn\\linear_model\\_ridge.py:215: LinAlgWarning: Ill-conditioned matrix (rcond=1.07029e-24): result may not be accurate.\n",
      "  return linalg.solve(A, Xy, assume_a=\"pos\", overwrite_a=True).T\n",
      "l:\\Programs\\anaconda\\envs\\esg_pred\\Lib\\site-packages\\xgboost\\training.py:183: UserWarning: [21:42:25] WARNING: C:\\actions-runner\\_work\\xgboost\\xgboost\\src\\learner.cc:738: \n",
      "Parameters: { \"use_label_encoder\" } are not used.\n",
      "\n",
      "  bst.update(dtrain, iteration=i, fobj=obj)\n"
     ]
    },
    {
     "name": "stdout",
     "output_type": "stream",
     "text": [
      "Scenario: diversified, max_balanced, Split: region_holdout, Context: europe_n_central_asia\n",
      "(572, 82) (132, 82)\n"
     ]
    },
    {
     "name": "stderr",
     "output_type": "stream",
     "text": [
      "l:\\Programs\\anaconda\\envs\\esg_pred\\Lib\\site-packages\\sklearn\\linear_model\\_ridge.py:215: LinAlgWarning: Ill-conditioned matrix (rcond=1.41165e-28): result may not be accurate.\n",
      "  return linalg.solve(A, Xy, assume_a=\"pos\", overwrite_a=True).T\n",
      "l:\\Programs\\anaconda\\envs\\esg_pred\\Lib\\site-packages\\xgboost\\training.py:183: UserWarning: [21:42:27] WARNING: C:\\actions-runner\\_work\\xgboost\\xgboost\\src\\learner.cc:738: \n",
      "Parameters: { \"use_label_encoder\" } are not used.\n",
      "\n",
      "  bst.update(dtrain, iteration=i, fobj=obj)\n"
     ]
    },
    {
     "name": "stdout",
     "output_type": "stream",
     "text": [
      "Scenario: diversified, max_balanced, Split: region_holdout, Context: latin_america_n_caribbean\n",
      "(616, 82) (88, 82)\n"
     ]
    },
    {
     "name": "stderr",
     "output_type": "stream",
     "text": [
      "l:\\Programs\\anaconda\\envs\\esg_pred\\Lib\\site-packages\\sklearn\\linear_model\\_ridge.py:215: LinAlgWarning: Ill-conditioned matrix (rcond=1.49358e-28): result may not be accurate.\n",
      "  return linalg.solve(A, Xy, assume_a=\"pos\", overwrite_a=True).T\n",
      "l:\\Programs\\anaconda\\envs\\esg_pred\\Lib\\site-packages\\xgboost\\training.py:183: UserWarning: [21:42:29] WARNING: C:\\actions-runner\\_work\\xgboost\\xgboost\\src\\learner.cc:738: \n",
      "Parameters: { \"use_label_encoder\" } are not used.\n",
      "\n",
      "  bst.update(dtrain, iteration=i, fobj=obj)\n"
     ]
    },
    {
     "name": "stdout",
     "output_type": "stream",
     "text": [
      "Scenario: diversified, max_balanced, Split: region_holdout, Context: north_america\n",
      "(572, 82) (132, 82)\n"
     ]
    },
    {
     "name": "stderr",
     "output_type": "stream",
     "text": [
      "l:\\Programs\\anaconda\\envs\\esg_pred\\Lib\\site-packages\\sklearn\\linear_model\\_ridge.py:215: LinAlgWarning: Ill-conditioned matrix (rcond=1.4348e-28): result may not be accurate.\n",
      "  return linalg.solve(A, Xy, assume_a=\"pos\", overwrite_a=True).T\n",
      "l:\\Programs\\anaconda\\envs\\esg_pred\\Lib\\site-packages\\xgboost\\training.py:183: UserWarning: [21:42:31] WARNING: C:\\actions-runner\\_work\\xgboost\\xgboost\\src\\learner.cc:738: \n",
      "Parameters: { \"use_label_encoder\" } are not used.\n",
      "\n",
      "  bst.update(dtrain, iteration=i, fobj=obj)\n"
     ]
    },
    {
     "name": "stdout",
     "output_type": "stream",
     "text": [
      "Scenario: diversified, max_balanced, Split: region_holdout, Context: south_asia\n",
      "(616, 82) (88, 82)\n"
     ]
    },
    {
     "name": "stderr",
     "output_type": "stream",
     "text": [
      "l:\\Programs\\anaconda\\envs\\esg_pred\\Lib\\site-packages\\sklearn\\linear_model\\_ridge.py:215: LinAlgWarning: Ill-conditioned matrix (rcond=1.465e-28): result may not be accurate.\n",
      "  return linalg.solve(A, Xy, assume_a=\"pos\", overwrite_a=True).T\n",
      "l:\\Programs\\anaconda\\envs\\esg_pred\\Lib\\site-packages\\xgboost\\training.py:183: UserWarning: [21:42:33] WARNING: C:\\actions-runner\\_work\\xgboost\\xgboost\\src\\learner.cc:738: \n",
      "Parameters: { \"use_label_encoder\" } are not used.\n",
      "\n",
      "  bst.update(dtrain, iteration=i, fobj=obj)\n"
     ]
    },
    {
     "name": "stdout",
     "output_type": "stream",
     "text": [
      "Scenario: diversified, max_balanced, Split: region_holdout, Context: sub_saharan_africa\n",
      "(572, 82) (132, 82)\n"
     ]
    },
    {
     "name": "stderr",
     "output_type": "stream",
     "text": [
      "l:\\Programs\\anaconda\\envs\\esg_pred\\Lib\\site-packages\\sklearn\\linear_model\\_ridge.py:215: LinAlgWarning: Ill-conditioned matrix (rcond=1.39274e-28): result may not be accurate.\n",
      "  return linalg.solve(A, Xy, assume_a=\"pos\", overwrite_a=True).T\n",
      "l:\\Programs\\anaconda\\envs\\esg_pred\\Lib\\site-packages\\xgboost\\training.py:183: UserWarning: [21:42:35] WARNING: C:\\actions-runner\\_work\\xgboost\\xgboost\\src\\learner.cc:738: \n",
      "Parameters: { \"use_label_encoder\" } are not used.\n",
      "\n",
      "  bst.update(dtrain, iteration=i, fobj=obj)\n"
     ]
    },
    {
     "name": "stdout",
     "output_type": "stream",
     "text": [
      "Scenario: diversified, max_balanced, Split: size_holdout, Context: Large-Cap\n",
      "(440, 83) (264, 83)\n"
     ]
    },
    {
     "name": "stderr",
     "output_type": "stream",
     "text": [
      "l:\\Programs\\anaconda\\envs\\esg_pred\\Lib\\site-packages\\sklearn\\linear_model\\_ridge.py:215: LinAlgWarning: Ill-conditioned matrix (rcond=9.98163e-25): result may not be accurate.\n",
      "  return linalg.solve(A, Xy, assume_a=\"pos\", overwrite_a=True).T\n",
      "l:\\Programs\\anaconda\\envs\\esg_pred\\Lib\\site-packages\\xgboost\\training.py:183: UserWarning: [21:42:37] WARNING: C:\\actions-runner\\_work\\xgboost\\xgboost\\src\\learner.cc:738: \n",
      "Parameters: { \"use_label_encoder\" } are not used.\n",
      "\n",
      "  bst.update(dtrain, iteration=i, fobj=obj)\n"
     ]
    },
    {
     "name": "stdout",
     "output_type": "stream",
     "text": [
      "Scenario: diversified, max_balanced, Split: size_holdout, Context: Mid-Cap\n",
      "(484, 83) (220, 83)\n"
     ]
    },
    {
     "name": "stderr",
     "output_type": "stream",
     "text": [
      "l:\\Programs\\anaconda\\envs\\esg_pred\\Lib\\site-packages\\sklearn\\linear_model\\_ridge.py:215: LinAlgWarning: Ill-conditioned matrix (rcond=1.39733e-28): result may not be accurate.\n",
      "  return linalg.solve(A, Xy, assume_a=\"pos\", overwrite_a=True).T\n",
      "l:\\Programs\\anaconda\\envs\\esg_pred\\Lib\\site-packages\\xgboost\\training.py:183: UserWarning: [21:42:38] WARNING: C:\\actions-runner\\_work\\xgboost\\xgboost\\src\\learner.cc:738: \n",
      "Parameters: { \"use_label_encoder\" } are not used.\n",
      "\n",
      "  bst.update(dtrain, iteration=i, fobj=obj)\n"
     ]
    },
    {
     "name": "stdout",
     "output_type": "stream",
     "text": [
      "Scenario: diversified, max_balanced, Split: size_holdout, Context: Small-Cap\n",
      "(484, 83) (220, 83)\n"
     ]
    },
    {
     "name": "stderr",
     "output_type": "stream",
     "text": [
      "l:\\Programs\\anaconda\\envs\\esg_pred\\Lib\\site-packages\\sklearn\\linear_model\\_ridge.py:215: LinAlgWarning: Ill-conditioned matrix (rcond=1.47204e-28): result may not be accurate.\n",
      "  return linalg.solve(A, Xy, assume_a=\"pos\", overwrite_a=True).T\n",
      "l:\\Programs\\anaconda\\envs\\esg_pred\\Lib\\site-packages\\xgboost\\training.py:183: UserWarning: [21:42:40] WARNING: C:\\actions-runner\\_work\\xgboost\\xgboost\\src\\learner.cc:738: \n",
      "Parameters: { \"use_label_encoder\" } are not used.\n",
      "\n",
      "  bst.update(dtrain, iteration=i, fobj=obj)\n"
     ]
    },
    {
     "name": "stdout",
     "output_type": "stream",
     "text": [
      "Scenario: diversified, median_balanced, Split: within_sample\n",
      "(320, 83) (80, 83)\n"
     ]
    },
    {
     "name": "stderr",
     "output_type": "stream",
     "text": [
      "l:\\Programs\\anaconda\\envs\\esg_pred\\Lib\\site-packages\\sklearn\\linear_model\\_ridge.py:215: LinAlgWarning: Ill-conditioned matrix (rcond=2.65307e-28): result may not be accurate.\n",
      "  return linalg.solve(A, Xy, assume_a=\"pos\", overwrite_a=True).T\n",
      "l:\\Programs\\anaconda\\envs\\esg_pred\\Lib\\site-packages\\xgboost\\training.py:183: UserWarning: [21:42:42] WARNING: C:\\actions-runner\\_work\\xgboost\\xgboost\\src\\learner.cc:738: \n",
      "Parameters: { \"use_label_encoder\" } are not used.\n",
      "\n",
      "  bst.update(dtrain, iteration=i, fobj=obj)\n"
     ]
    },
    {
     "name": "stdout",
     "output_type": "stream",
     "text": [
      "Scenario: diversified, median_balanced, Split: region_holdout, Context: east_asia_n_pacific\n",
      "(325, 82) (75, 82)\n"
     ]
    },
    {
     "name": "stderr",
     "output_type": "stream",
     "text": [
      "l:\\Programs\\anaconda\\envs\\esg_pred\\Lib\\site-packages\\sklearn\\linear_model\\_ridge.py:215: LinAlgWarning: Ill-conditioned matrix (rcond=2.91576e-25): result may not be accurate.\n",
      "  return linalg.solve(A, Xy, assume_a=\"pos\", overwrite_a=True).T\n",
      "l:\\Programs\\anaconda\\envs\\esg_pred\\Lib\\site-packages\\xgboost\\training.py:183: UserWarning: [21:42:43] WARNING: C:\\actions-runner\\_work\\xgboost\\xgboost\\src\\learner.cc:738: \n",
      "Parameters: { \"use_label_encoder\" } are not used.\n",
      "\n",
      "  bst.update(dtrain, iteration=i, fobj=obj)\n"
     ]
    },
    {
     "name": "stdout",
     "output_type": "stream",
     "text": [
      "Scenario: diversified, median_balanced, Split: region_holdout, Context: europe_n_central_asia\n",
      "(325, 82) (75, 82)\n"
     ]
    },
    {
     "name": "stderr",
     "output_type": "stream",
     "text": [
      "l:\\Programs\\anaconda\\envs\\esg_pred\\Lib\\site-packages\\sklearn\\linear_model\\_ridge.py:215: LinAlgWarning: Ill-conditioned matrix (rcond=2.57485e-28): result may not be accurate.\n",
      "  return linalg.solve(A, Xy, assume_a=\"pos\", overwrite_a=True).T\n",
      "l:\\Programs\\anaconda\\envs\\esg_pred\\Lib\\site-packages\\xgboost\\training.py:183: UserWarning: [21:42:45] WARNING: C:\\actions-runner\\_work\\xgboost\\xgboost\\src\\learner.cc:738: \n",
      "Parameters: { \"use_label_encoder\" } are not used.\n",
      "\n",
      "  bst.update(dtrain, iteration=i, fobj=obj)\n"
     ]
    },
    {
     "name": "stdout",
     "output_type": "stream",
     "text": [
      "Scenario: diversified, median_balanced, Split: region_holdout, Context: latin_america_n_caribbean\n",
      "(350, 82) (50, 82)\n"
     ]
    },
    {
     "name": "stderr",
     "output_type": "stream",
     "text": [
      "l:\\Programs\\anaconda\\envs\\esg_pred\\Lib\\site-packages\\sklearn\\linear_model\\_ridge.py:215: LinAlgWarning: Ill-conditioned matrix (rcond=2.78329e-28): result may not be accurate.\n",
      "  return linalg.solve(A, Xy, assume_a=\"pos\", overwrite_a=True).T\n",
      "l:\\Programs\\anaconda\\envs\\esg_pred\\Lib\\site-packages\\xgboost\\training.py:183: UserWarning: [21:42:46] WARNING: C:\\actions-runner\\_work\\xgboost\\xgboost\\src\\learner.cc:738: \n",
      "Parameters: { \"use_label_encoder\" } are not used.\n",
      "\n",
      "  bst.update(dtrain, iteration=i, fobj=obj)\n"
     ]
    },
    {
     "name": "stdout",
     "output_type": "stream",
     "text": [
      "Scenario: diversified, median_balanced, Split: region_holdout, Context: north_america\n",
      "(325, 82) (75, 82)\n"
     ]
    },
    {
     "name": "stderr",
     "output_type": "stream",
     "text": [
      "l:\\Programs\\anaconda\\envs\\esg_pred\\Lib\\site-packages\\sklearn\\linear_model\\_ridge.py:215: LinAlgWarning: Ill-conditioned matrix (rcond=2.6363e-28): result may not be accurate.\n",
      "  return linalg.solve(A, Xy, assume_a=\"pos\", overwrite_a=True).T\n",
      "l:\\Programs\\anaconda\\envs\\esg_pred\\Lib\\site-packages\\xgboost\\training.py:183: UserWarning: [21:42:48] WARNING: C:\\actions-runner\\_work\\xgboost\\xgboost\\src\\learner.cc:738: \n",
      "Parameters: { \"use_label_encoder\" } are not used.\n",
      "\n",
      "  bst.update(dtrain, iteration=i, fobj=obj)\n"
     ]
    },
    {
     "name": "stdout",
     "output_type": "stream",
     "text": [
      "Scenario: diversified, median_balanced, Split: region_holdout, Context: south_asia\n",
      "(350, 82) (50, 82)\n"
     ]
    },
    {
     "name": "stderr",
     "output_type": "stream",
     "text": [
      "l:\\Programs\\anaconda\\envs\\esg_pred\\Lib\\site-packages\\sklearn\\linear_model\\_ridge.py:215: LinAlgWarning: Ill-conditioned matrix (rcond=2.66508e-28): result may not be accurate.\n",
      "  return linalg.solve(A, Xy, assume_a=\"pos\", overwrite_a=True).T\n",
      "l:\\Programs\\anaconda\\envs\\esg_pred\\Lib\\site-packages\\xgboost\\training.py:183: UserWarning: [21:42:50] WARNING: C:\\actions-runner\\_work\\xgboost\\xgboost\\src\\learner.cc:738: \n",
      "Parameters: { \"use_label_encoder\" } are not used.\n",
      "\n",
      "  bst.update(dtrain, iteration=i, fobj=obj)\n"
     ]
    },
    {
     "name": "stdout",
     "output_type": "stream",
     "text": [
      "Scenario: diversified, median_balanced, Split: region_holdout, Context: sub_saharan_africa\n",
      "(325, 82) (75, 82)\n"
     ]
    },
    {
     "name": "stderr",
     "output_type": "stream",
     "text": [
      "l:\\Programs\\anaconda\\envs\\esg_pred\\Lib\\site-packages\\sklearn\\linear_model\\_ridge.py:215: LinAlgWarning: Ill-conditioned matrix (rcond=2.49289e-28): result may not be accurate.\n",
      "  return linalg.solve(A, Xy, assume_a=\"pos\", overwrite_a=True).T\n",
      "l:\\Programs\\anaconda\\envs\\esg_pred\\Lib\\site-packages\\xgboost\\training.py:183: UserWarning: [21:42:52] WARNING: C:\\actions-runner\\_work\\xgboost\\xgboost\\src\\learner.cc:738: \n",
      "Parameters: { \"use_label_encoder\" } are not used.\n",
      "\n",
      "  bst.update(dtrain, iteration=i, fobj=obj)\n"
     ]
    },
    {
     "name": "stdout",
     "output_type": "stream",
     "text": [
      "Scenario: diversified, median_balanced, Split: size_holdout, Context: Large-Cap\n",
      "(250, 83) (150, 83)\n"
     ]
    },
    {
     "name": "stderr",
     "output_type": "stream",
     "text": [
      "l:\\Programs\\anaconda\\envs\\esg_pred\\Lib\\site-packages\\sklearn\\linear_model\\_ridge.py:215: LinAlgWarning: Ill-conditioned matrix (rcond=9.94413e-25): result may not be accurate.\n",
      "  return linalg.solve(A, Xy, assume_a=\"pos\", overwrite_a=True).T\n",
      "l:\\Programs\\anaconda\\envs\\esg_pred\\Lib\\site-packages\\xgboost\\training.py:183: UserWarning: [21:42:53] WARNING: C:\\actions-runner\\_work\\xgboost\\xgboost\\src\\learner.cc:738: \n",
      "Parameters: { \"use_label_encoder\" } are not used.\n",
      "\n",
      "  bst.update(dtrain, iteration=i, fobj=obj)\n"
     ]
    },
    {
     "name": "stdout",
     "output_type": "stream",
     "text": [
      "Scenario: diversified, median_balanced, Split: size_holdout, Context: Mid-Cap\n",
      "(275, 83) (125, 83)\n"
     ]
    },
    {
     "name": "stderr",
     "output_type": "stream",
     "text": [
      "l:\\Programs\\anaconda\\envs\\esg_pred\\Lib\\site-packages\\sklearn\\linear_model\\_ridge.py:215: LinAlgWarning: Ill-conditioned matrix (rcond=2.566e-28): result may not be accurate.\n",
      "  return linalg.solve(A, Xy, assume_a=\"pos\", overwrite_a=True).T\n",
      "l:\\Programs\\anaconda\\envs\\esg_pred\\Lib\\site-packages\\xgboost\\training.py:183: UserWarning: [21:42:54] WARNING: C:\\actions-runner\\_work\\xgboost\\xgboost\\src\\learner.cc:738: \n",
      "Parameters: { \"use_label_encoder\" } are not used.\n",
      "\n",
      "  bst.update(dtrain, iteration=i, fobj=obj)\n"
     ]
    },
    {
     "name": "stdout",
     "output_type": "stream",
     "text": [
      "Scenario: diversified, median_balanced, Split: size_holdout, Context: Small-Cap\n",
      "(275, 83) (125, 83)\n"
     ]
    },
    {
     "name": "stderr",
     "output_type": "stream",
     "text": [
      "l:\\Programs\\anaconda\\envs\\esg_pred\\Lib\\site-packages\\sklearn\\linear_model\\_ridge.py:215: LinAlgWarning: Ill-conditioned matrix (rcond=2.63994e-28): result may not be accurate.\n",
      "  return linalg.solve(A, Xy, assume_a=\"pos\", overwrite_a=True).T\n",
      "l:\\Programs\\anaconda\\envs\\esg_pred\\Lib\\site-packages\\xgboost\\training.py:183: UserWarning: [21:42:56] WARNING: C:\\actions-runner\\_work\\xgboost\\xgboost\\src\\learner.cc:738: \n",
      "Parameters: { \"use_label_encoder\" } are not used.\n",
      "\n",
      "  bst.update(dtrain, iteration=i, fobj=obj)\n"
     ]
    },
    {
     "name": "stdout",
     "output_type": "stream",
     "text": [
      "CPU times: total: 3min 40s\n",
      "Wall time: 55.7 s\n"
     ]
    }
   ],
   "source": [
    "%%time\n",
    "for scenario_type, scenario_dict in datasets.items():        # e.g., 'baselines', 'diversified'\n",
    "    for scenario_name, splits in scenario_dict.items():      # e.g., 'full', 'constrained', 'max_balanced', etc.\n",
    "        for split_type, data_group in splits.items():        # 'within_sample', 'region_holdout', 'size_holdout'\n",
    "            if split_type == 'original_data':\n",
    "                continue  # Skip original data entries\n",
    "            \n",
    "            # if split_type == 'region_holdout':\n",
    "            #     continue # TEMP TO CHECK SMTH\n",
    "\n",
    "            # For within-sample, we have one group; for others, multiple contexts\n",
    "            # contexts = {'within_sample': data_group} if split_type == 'within_sample' else data_group\n",
    "\n",
    "            # for context_name, data in contexts.items():\n",
    "            #     print(f\"Scenario: {scenario_type}, {scenario_name}, Split: {split_type}, Context: {context_name}\")\n",
    "\n",
    "            # Handle different split types\n",
    "            if split_type == 'within_sample':\n",
    "                # For within_sample, data structure is one level deeper\n",
    "                data = data_group['within_sample']\n",
    "                print(f\"Scenario: {scenario_type}, {scenario_name}, Split: {split_type}\")\n",
    "                if 'train' not in data or 'test' not in data:\n",
    "                    continue\n",
    "                    \n",
    "                train_df = data['train']\n",
    "                test_df = data['test']\n",
    "\n",
    "                print(train_df.shape, test_df.shape)\n",
    "\n",
    "                # Separate features and target\n",
    "                X_train = train_df.drop(columns=['totalEsg'])\n",
    "                y_train = train_df['totalEsg']\n",
    "                X_test  = test_df.drop(columns=['totalEsg'])\n",
    "                y_test  = test_df['totalEsg']\n",
    "                \n",
    "                # Train and evaluate models\n",
    "                for model_name, model in models.items():\n",
    "                    # train\n",
    "                    model.fit(X_train, y_train)\n",
    "\n",
    "                    # predict\n",
    "                    y_pred = model.predict(X_test)\n",
    "\n",
    "                    # compute metrics\n",
    "                    rmse, mae, r2 = compute_metrics(y_test, y_pred)\n",
    "                    stability = compute_stability(model, X_test, y_test,\n",
    "                                                noise_level=0.01, n_trials=5)\n",
    "                    \n",
    "                    results.append({\n",
    "                        'scenario_type': scenario_type,\n",
    "                        'scenario': scenario_name,\n",
    "                        'split': split_type,\n",
    "                        'context': 'within_sample',\n",
    "                        'model': model_name,\n",
    "                        'RMSE': rmse,\n",
    "                        'MAE': mae,\n",
    "                        'R2': r2,\n",
    "                        'Stability': stability\n",
    "                    })\n",
    "            \n",
    "            else:\n",
    "                # For region_holdout and size_holdout, process each context\n",
    "                for context_name, data in data_group.items():\n",
    "                    print(f\"Scenario: {scenario_type}, {scenario_name}, Split: {split_type}, Context: {context_name}\")\n",
    "                    if 'train' not in data or 'test' not in data:\n",
    "                        continue\n",
    "                        \n",
    "                    train_df = data['train']\n",
    "                    test_df = data['test']\n",
    "\n",
    "                    print(train_df.shape, test_df.shape)\n",
    "\n",
    "                    # Separate features and target\n",
    "                    X_train = train_df.drop(columns=['totalEsg'])\n",
    "                    y_train = train_df['totalEsg']\n",
    "                    X_test  = test_df.drop(columns=['totalEsg'])\n",
    "                    y_test  = test_df['totalEsg']\n",
    "                    \n",
    "                    # Train and evaluate models\n",
    "                    for model_name, model in models.items():\n",
    "                        # train\n",
    "                        model.fit(X_train, y_train)\n",
    "\n",
    "                        # predict\n",
    "                        y_pred = model.predict(X_test)\n",
    "\n",
    "                        # compute metrics\n",
    "                        rmse, mae, r2 = compute_metrics(y_test, y_pred)\n",
    "                        stability = compute_stability(model, X_test, y_test,\n",
    "                                                  noise_level=0.01, n_trials=5)\n",
    "                        \n",
    "                        results.append({\n",
    "                            'scenario_type': scenario_type,\n",
    "                            'scenario': scenario_name,\n",
    "                            'split': split_type,\n",
    "                            'context': context_name,\n",
    "                            'model': model_name,\n",
    "                            'RMSE': rmse,\n",
    "                            'MAE': mae,\n",
    "                            'R2': r2,\n",
    "                            'Stability': stability\n",
    "                        })\n",
    "\n",
    "results_df = pd.DataFrame(results)"
   ]
  },
  {
   "cell_type": "code",
   "execution_count": 12,
   "id": "f890b89e",
   "metadata": {},
   "outputs": [],
   "source": [
    "results_df = pd.DataFrame(results)"
   ]
  },
  {
   "cell_type": "code",
   "execution_count": 13,
   "id": "96089c1a",
   "metadata": {},
   "outputs": [
    {
     "data": {
      "application/vnd.microsoft.datawrangler.viewer.v0+json": {
       "columns": [
        {
         "name": "index",
         "rawType": "int64",
         "type": "integer"
        },
        {
         "name": "scenario_type",
         "rawType": "object",
         "type": "string"
        },
        {
         "name": "scenario",
         "rawType": "object",
         "type": "string"
        },
        {
         "name": "split",
         "rawType": "object",
         "type": "string"
        },
        {
         "name": "context",
         "rawType": "object",
         "type": "string"
        },
        {
         "name": "model",
         "rawType": "object",
         "type": "string"
        },
        {
         "name": "RMSE",
         "rawType": "float64",
         "type": "float"
        },
        {
         "name": "MAE",
         "rawType": "float64",
         "type": "float"
        },
        {
         "name": "R2",
         "rawType": "float64",
         "type": "float"
        },
        {
         "name": "Stability",
         "rawType": "float64",
         "type": "float"
        }
       ],
       "conversionMethod": "pd.DataFrame",
       "ref": "0843491f-0462-4a51-aa08-744b2395c95b",
       "rows": [
        [
         "0",
         "baselines",
         "full",
         "within_sample",
         "within_sample",
         "Ridge",
         "44.79569547375485",
         "15.57198059126839",
         "-32.245542376989185",
         "-0.0005331817227126245"
        ],
        [
         "1",
         "baselines",
         "full",
         "within_sample",
         "within_sample",
         "RandomForest",
         "6.850229355294391",
         "5.258253424657536",
         "0.22255248382403725",
         "0.033440889164014456"
        ],
        [
         "2",
         "baselines",
         "full",
         "within_sample",
         "within_sample",
         "XGBoost",
         "6.895373065062533",
         "4.742769526651461",
         "0.21227180294079973",
         "0.11320910330932454"
        ],
        [
         "3",
         "baselines",
         "full",
         "within_sample",
         "within_sample",
         "MLP",
         "281718331.9794158",
         "45344376.06230572",
         "-1314894994107691.5",
         "0.00016027706364881217"
        ],
        [
         "4",
         "baselines",
         "full",
         "region_holdout",
         "east_asia_n_pacific",
         "Ridge",
         "171.03775650873686",
         "75.87380882925227",
         "-514.5710757454508",
         "0.0004717265363293639"
        ],
        [
         "5",
         "baselines",
         "full",
         "region_holdout",
         "east_asia_n_pacific",
         "RandomForest",
         "9.10880539685516",
         "7.5255587301587274",
         "-0.4622694604217239",
         "0.03824684341791196"
        ],
        [
         "6",
         "baselines",
         "full",
         "region_holdout",
         "east_asia_n_pacific",
         "XGBoost",
         "8.861442375476587",
         "7.026343497624472",
         "-0.3839276859387484",
         "0.05347429009300782"
        ],
        [
         "7",
         "baselines",
         "full",
         "region_holdout",
         "east_asia_n_pacific",
         "MLP",
         "2199851595.585787",
         "284033774.08151937",
         "-8.528866762015925e+16",
         "0.04747158934103337"
        ],
        [
         "8",
         "baselines",
         "full",
         "region_holdout",
         "europe_n_central_asia",
         "Ridge",
         "7.009065606929613",
         "5.639339424340339",
         "0.14393363542948145",
         "0.00034899982918233695"
        ],
        [
         "9",
         "baselines",
         "full",
         "region_holdout",
         "europe_n_central_asia",
         "RandomForest",
         "6.050090889297784",
         "4.665352808988765",
         "0.36216113035441533",
         "0.07915114561505592"
        ],
        [
         "10",
         "baselines",
         "full",
         "region_holdout",
         "europe_n_central_asia",
         "XGBoost",
         "5.768191358026085",
         "4.007300227304523",
         "0.4202156311361964",
         "0.2502912859594265"
        ],
        [
         "11",
         "baselines",
         "full",
         "region_holdout",
         "europe_n_central_asia",
         "MLP",
         "39795537.844398625",
         "9166003.503217347",
         "-27596623001734.977",
         "0.0006887260894664532"
        ],
        [
         "12",
         "baselines",
         "full",
         "region_holdout",
         "latin_america_n_caribbean",
         "Ridge",
         "7.362772521235959",
         "6.056229852521788",
         "-0.1330825280913357",
         "-0.00011667399689861968"
        ],
        [
         "13",
         "baselines",
         "full",
         "region_holdout",
         "latin_america_n_caribbean",
         "RandomForest",
         "5.622927727468435",
         "4.204259523809523",
         "0.33914865200276534",
         "0.03183942841697796"
        ],
        [
         "14",
         "baselines",
         "full",
         "region_holdout",
         "latin_america_n_caribbean",
         "XGBoost",
         "5.711629831892754",
         "3.731636787596203",
         "0.3181342385353695",
         "0.022681852141392424"
        ],
        [
         "15",
         "baselines",
         "full",
         "region_holdout",
         "latin_america_n_caribbean",
         "MLP",
         "11146350.059898246",
         "2393025.9932037345",
         "-2596833672079.038",
         "0.01029670651734051"
        ],
        [
         "16",
         "baselines",
         "full",
         "region_holdout",
         "north_america",
         "Ridge",
         "314.7793731813741",
         "39.36700428813835",
         "-1841.166845408481",
         "0.0005854892044638478"
        ],
        [
         "17",
         "baselines",
         "full",
         "region_holdout",
         "north_america",
         "RandomForest",
         "6.335142755512248",
         "4.598700877192983",
         "0.2538446784980162",
         "0.1941528935793852"
        ],
        [
         "18",
         "baselines",
         "full",
         "region_holdout",
         "north_america",
         "XGBoost",
         "6.669169854546704",
         "4.703899201844869",
         "0.17308668275800043",
         "0.1919142830935845"
        ],
        [
         "19",
         "baselines",
         "full",
         "region_holdout",
         "north_america",
         "MLP",
         "162522367.09945047",
         "25324374.71036047",
         "-491069213109712.44",
         "0.0013581165352979884"
        ],
        [
         "20",
         "baselines",
         "full",
         "region_holdout",
         "south_asia",
         "Ridge",
         "10.151087849204732",
         "7.853223300635844",
         "-0.520714798845723",
         "-0.0009603872296972133"
        ],
        [
         "21",
         "baselines",
         "full",
         "region_holdout",
         "south_asia",
         "RandomForest",
         "9.22125166235802",
         "7.332956756756756",
         "-0.25488043821084405",
         "-0.0004504934859405731"
        ],
        [
         "22",
         "baselines",
         "full",
         "region_holdout",
         "south_asia",
         "XGBoost",
         "8.923108219701389",
         "7.252274992659284",
         "-0.17504613980398287",
         "0.025136309815412684"
        ],
        [
         "23",
         "baselines",
         "full",
         "region_holdout",
         "south_asia",
         "MLP",
         "758383867.3453095",
         "216345232.82575157",
         "-8487910111878072.0",
         "0.00021615289043824395"
        ],
        [
         "24",
         "baselines",
         "full",
         "region_holdout",
         "sub_saharan_africa",
         "Ridge",
         "13.178999669910704",
         "9.421848075749091",
         "-0.8968509349619904",
         "9.524653461250116e-05"
        ],
        [
         "25",
         "baselines",
         "full",
         "region_holdout",
         "sub_saharan_africa",
         "RandomForest",
         "9.545440971451956",
         "7.663710526315789",
         "0.004914721122062149",
         "-0.011208922636681754"
        ],
        [
         "26",
         "baselines",
         "full",
         "region_holdout",
         "sub_saharan_africa",
         "XGBoost",
         "10.831469591905208",
         "9.005831634119938",
         "-0.2812771419913851",
         "-0.008669256928522157"
        ],
        [
         "27",
         "baselines",
         "full",
         "region_holdout",
         "sub_saharan_africa",
         "MLP",
         "73558859.96537055",
         "35888807.19373391",
         "-59093306125167.836",
         "0.0006016093996484737"
        ],
        [
         "28",
         "baselines",
         "full",
         "size_holdout",
         "Large-Cap",
         "Ridge",
         "181.17165568246034",
         "37.03211334429552",
         "-479.21723090984096",
         "0.0012647030661501418"
        ],
        [
         "29",
         "baselines",
         "full",
         "size_holdout",
         "Large-Cap",
         "RandomForest",
         "6.867475253087549",
         "5.280147787610619",
         "0.30999626933222424",
         "0.11766491251486522"
        ],
        [
         "30",
         "baselines",
         "full",
         "size_holdout",
         "Large-Cap",
         "XGBoost",
         "6.786574528852493",
         "4.822111391725792",
         "0.3261573770164763",
         "0.13897230815259223"
        ],
        [
         "31",
         "baselines",
         "full",
         "size_holdout",
         "Large-Cap",
         "MLP",
         "35426361589.364815",
         "3625108536.0660157",
         "-1.8361592073997939e+19",
         "-5.308031225934573e-05"
        ],
        [
         "32",
         "baselines",
         "full",
         "size_holdout",
         "Mid-Cap",
         "Ridge",
         "82.17586754174235",
         "21.698881394578564",
         "-113.66801778333614",
         "0.00014864583573723626"
        ],
        [
         "33",
         "baselines",
         "full",
         "size_holdout",
         "Mid-Cap",
         "RandomForest",
         "6.38434471857255",
         "5.021419130434783",
         "0.3078720834438954",
         "0.20104992663999938"
        ],
        [
         "34",
         "baselines",
         "full",
         "size_holdout",
         "Mid-Cap",
         "XGBoost",
         "6.639681788001395",
         "5.130225951485011",
         "0.2514027253841892",
         "0.16201928841907126"
        ],
        [
         "35",
         "baselines",
         "full",
         "size_holdout",
         "Mid-Cap",
         "MLP",
         "191985461.82847792",
         "30599304.316936146",
         "-625879022219082.0",
         "-0.00033561587735783"
        ],
        [
         "36",
         "baselines",
         "full",
         "size_holdout",
         "Small-Cap",
         "Ridge",
         "11.42028072487529",
         "8.230023830072199",
         "-1.1266878626998826",
         "-0.00041707123467763863"
        ],
        [
         "37",
         "baselines",
         "full",
         "size_holdout",
         "Small-Cap",
         "RandomForest",
         "7.117267910439413",
         "5.018607352941178",
         "0.1740061355132041",
         "0.017444172011700437"
        ],
        [
         "38",
         "baselines",
         "full",
         "size_holdout",
         "Small-Cap",
         "XGBoost",
         "7.259109245987221",
         "5.16864031567293",
         "0.14075530762362976",
         "0.023094542260067998"
        ],
        [
         "39",
         "baselines",
         "full",
         "size_holdout",
         "Small-Cap",
         "MLP",
         "92360450.91141929",
         "19374138.834067892",
         "-139098447385867.38",
         "-7.441830350489302e-05"
        ],
        [
         "40",
         "baselines",
         "constrained",
         "within_sample",
         "within_sample",
         "Ridge",
         "12.064553512658556",
         "7.806212499015754",
         "-2.1410000478575024",
         "-0.0001837700931314426"
        ],
        [
         "41",
         "baselines",
         "constrained",
         "within_sample",
         "within_sample",
         "RandomForest",
         "5.461538839008656",
         "4.136403448275864",
         "0.35631188904868993",
         "0.013790860027044488"
        ],
        [
         "42",
         "baselines",
         "constrained",
         "within_sample",
         "within_sample",
         "XGBoost",
         "6.066003348864888",
         "4.633332724735655",
         "0.20594474118098605",
         "0.035867406189746494"
        ],
        [
         "43",
         "baselines",
         "constrained",
         "within_sample",
         "within_sample",
         "MLP",
         "123178838.17767464",
         "38445274.471438475",
         "-327429377065354.9",
         "0.005224704938351146"
        ],
        [
         "44",
         "baselines",
         "constrained",
         "region_holdout",
         "europe_n_central_asia",
         "Ridge",
         "48.64962399888731",
         "18.160349487270878",
         "-40.006668933126754",
         "0.011096935309945665"
        ],
        [
         "45",
         "baselines",
         "constrained",
         "region_holdout",
         "europe_n_central_asia",
         "RandomForest",
         "6.040514681819151",
         "4.6559290909090905",
         "0.36781613932307455",
         "0.08080532051813077"
        ],
        [
         "46",
         "baselines",
         "constrained",
         "region_holdout",
         "europe_n_central_asia",
         "XGBoost",
         "6.130678685868771",
         "4.446294206099076",
         "0.34880264812688433",
         "0.12174880055463613"
        ],
        [
         "47",
         "baselines",
         "constrained",
         "region_holdout",
         "europe_n_central_asia",
         "MLP",
         "82917558.64224787",
         "22150522.87102276",
         "-119121054432403.4",
         "0.07659512090812733"
        ],
        [
         "48",
         "baselines",
         "constrained",
         "region_holdout",
         "north_america",
         "Ridge",
         "8.481796024148476",
         "5.646097209935446",
         "-0.5327076205312327",
         "-9.034486590621529e-05"
        ],
        [
         "49",
         "baselines",
         "constrained",
         "region_holdout",
         "north_america",
         "RandomForest",
         "6.598778744420525",
         "4.821883908045977",
         "0.07229306698096993",
         "0.10115705736659608"
        ]
       ],
       "shape": {
        "columns": 9,
        "rows": 140
       }
      },
      "text/html": [
       "<div>\n",
       "<style scoped>\n",
       "    .dataframe tbody tr th:only-of-type {\n",
       "        vertical-align: middle;\n",
       "    }\n",
       "\n",
       "    .dataframe tbody tr th {\n",
       "        vertical-align: top;\n",
       "    }\n",
       "\n",
       "    .dataframe thead th {\n",
       "        text-align: right;\n",
       "    }\n",
       "</style>\n",
       "<table border=\"1\" class=\"dataframe\">\n",
       "  <thead>\n",
       "    <tr style=\"text-align: right;\">\n",
       "      <th></th>\n",
       "      <th>scenario_type</th>\n",
       "      <th>scenario</th>\n",
       "      <th>split</th>\n",
       "      <th>context</th>\n",
       "      <th>model</th>\n",
       "      <th>RMSE</th>\n",
       "      <th>MAE</th>\n",
       "      <th>R2</th>\n",
       "      <th>Stability</th>\n",
       "    </tr>\n",
       "  </thead>\n",
       "  <tbody>\n",
       "    <tr>\n",
       "      <th>0</th>\n",
       "      <td>baselines</td>\n",
       "      <td>full</td>\n",
       "      <td>within_sample</td>\n",
       "      <td>within_sample</td>\n",
       "      <td>Ridge</td>\n",
       "      <td>4.479570e+01</td>\n",
       "      <td>1.557198e+01</td>\n",
       "      <td>-3.224554e+01</td>\n",
       "      <td>-0.000533</td>\n",
       "    </tr>\n",
       "    <tr>\n",
       "      <th>1</th>\n",
       "      <td>baselines</td>\n",
       "      <td>full</td>\n",
       "      <td>within_sample</td>\n",
       "      <td>within_sample</td>\n",
       "      <td>RandomForest</td>\n",
       "      <td>6.850229e+00</td>\n",
       "      <td>5.258253e+00</td>\n",
       "      <td>2.225525e-01</td>\n",
       "      <td>0.033441</td>\n",
       "    </tr>\n",
       "    <tr>\n",
       "      <th>2</th>\n",
       "      <td>baselines</td>\n",
       "      <td>full</td>\n",
       "      <td>within_sample</td>\n",
       "      <td>within_sample</td>\n",
       "      <td>XGBoost</td>\n",
       "      <td>6.895373e+00</td>\n",
       "      <td>4.742770e+00</td>\n",
       "      <td>2.122718e-01</td>\n",
       "      <td>0.113209</td>\n",
       "    </tr>\n",
       "    <tr>\n",
       "      <th>3</th>\n",
       "      <td>baselines</td>\n",
       "      <td>full</td>\n",
       "      <td>within_sample</td>\n",
       "      <td>within_sample</td>\n",
       "      <td>MLP</td>\n",
       "      <td>2.817183e+08</td>\n",
       "      <td>4.534438e+07</td>\n",
       "      <td>-1.314895e+15</td>\n",
       "      <td>0.000160</td>\n",
       "    </tr>\n",
       "    <tr>\n",
       "      <th>4</th>\n",
       "      <td>baselines</td>\n",
       "      <td>full</td>\n",
       "      <td>region_holdout</td>\n",
       "      <td>east_asia_n_pacific</td>\n",
       "      <td>Ridge</td>\n",
       "      <td>1.710378e+02</td>\n",
       "      <td>7.587381e+01</td>\n",
       "      <td>-5.145711e+02</td>\n",
       "      <td>0.000472</td>\n",
       "    </tr>\n",
       "    <tr>\n",
       "      <th>...</th>\n",
       "      <td>...</td>\n",
       "      <td>...</td>\n",
       "      <td>...</td>\n",
       "      <td>...</td>\n",
       "      <td>...</td>\n",
       "      <td>...</td>\n",
       "      <td>...</td>\n",
       "      <td>...</td>\n",
       "      <td>...</td>\n",
       "    </tr>\n",
       "    <tr>\n",
       "      <th>135</th>\n",
       "      <td>diversified</td>\n",
       "      <td>median_balanced</td>\n",
       "      <td>size_holdout</td>\n",
       "      <td>Mid-Cap</td>\n",
       "      <td>MLP</td>\n",
       "      <td>7.898050e+07</td>\n",
       "      <td>1.222599e+07</td>\n",
       "      <td>-1.149300e+14</td>\n",
       "      <td>0.000269</td>\n",
       "    </tr>\n",
       "    <tr>\n",
       "      <th>136</th>\n",
       "      <td>diversified</td>\n",
       "      <td>median_balanced</td>\n",
       "      <td>size_holdout</td>\n",
       "      <td>Small-Cap</td>\n",
       "      <td>Ridge</td>\n",
       "      <td>2.045602e+01</td>\n",
       "      <td>1.292935e+01</td>\n",
       "      <td>-4.228887e+00</td>\n",
       "      <td>0.000406</td>\n",
       "    </tr>\n",
       "    <tr>\n",
       "      <th>137</th>\n",
       "      <td>diversified</td>\n",
       "      <td>median_balanced</td>\n",
       "      <td>size_holdout</td>\n",
       "      <td>Small-Cap</td>\n",
       "      <td>RandomForest</td>\n",
       "      <td>9.012373e+00</td>\n",
       "      <td>6.568490e+00</td>\n",
       "      <td>-1.495128e-02</td>\n",
       "      <td>-0.012209</td>\n",
       "    </tr>\n",
       "    <tr>\n",
       "      <th>138</th>\n",
       "      <td>diversified</td>\n",
       "      <td>median_balanced</td>\n",
       "      <td>size_holdout</td>\n",
       "      <td>Small-Cap</td>\n",
       "      <td>XGBoost</td>\n",
       "      <td>9.328139e+00</td>\n",
       "      <td>6.774992e+00</td>\n",
       "      <td>-8.731898e-02</td>\n",
       "      <td>-0.015248</td>\n",
       "    </tr>\n",
       "    <tr>\n",
       "      <th>139</th>\n",
       "      <td>diversified</td>\n",
       "      <td>median_balanced</td>\n",
       "      <td>size_holdout</td>\n",
       "      <td>Small-Cap</td>\n",
       "      <td>MLP</td>\n",
       "      <td>1.712994e+07</td>\n",
       "      <td>4.655278e+06</td>\n",
       "      <td>-3.666728e+12</td>\n",
       "      <td>0.001687</td>\n",
       "    </tr>\n",
       "  </tbody>\n",
       "</table>\n",
       "<p>140 rows × 9 columns</p>\n",
       "</div>"
      ],
      "text/plain": [
       "    scenario_type         scenario           split              context  \\\n",
       "0       baselines             full   within_sample        within_sample   \n",
       "1       baselines             full   within_sample        within_sample   \n",
       "2       baselines             full   within_sample        within_sample   \n",
       "3       baselines             full   within_sample        within_sample   \n",
       "4       baselines             full  region_holdout  east_asia_n_pacific   \n",
       "..            ...              ...             ...                  ...   \n",
       "135   diversified  median_balanced    size_holdout              Mid-Cap   \n",
       "136   diversified  median_balanced    size_holdout            Small-Cap   \n",
       "137   diversified  median_balanced    size_holdout            Small-Cap   \n",
       "138   diversified  median_balanced    size_holdout            Small-Cap   \n",
       "139   diversified  median_balanced    size_holdout            Small-Cap   \n",
       "\n",
       "            model          RMSE           MAE            R2  Stability  \n",
       "0           Ridge  4.479570e+01  1.557198e+01 -3.224554e+01  -0.000533  \n",
       "1    RandomForest  6.850229e+00  5.258253e+00  2.225525e-01   0.033441  \n",
       "2         XGBoost  6.895373e+00  4.742770e+00  2.122718e-01   0.113209  \n",
       "3             MLP  2.817183e+08  4.534438e+07 -1.314895e+15   0.000160  \n",
       "4           Ridge  1.710378e+02  7.587381e+01 -5.145711e+02   0.000472  \n",
       "..            ...           ...           ...           ...        ...  \n",
       "135           MLP  7.898050e+07  1.222599e+07 -1.149300e+14   0.000269  \n",
       "136         Ridge  2.045602e+01  1.292935e+01 -4.228887e+00   0.000406  \n",
       "137  RandomForest  9.012373e+00  6.568490e+00 -1.495128e-02  -0.012209  \n",
       "138       XGBoost  9.328139e+00  6.774992e+00 -8.731898e-02  -0.015248  \n",
       "139           MLP  1.712994e+07  4.655278e+06 -3.666728e+12   0.001687  \n",
       "\n",
       "[140 rows x 9 columns]"
      ]
     },
     "execution_count": 13,
     "metadata": {},
     "output_type": "execute_result"
    }
   ],
   "source": [
    "results_df"
   ]
  },
  {
   "cell_type": "code",
   "execution_count": 14,
   "id": "e0f8c778",
   "metadata": {},
   "outputs": [
    {
     "data": {
      "text/plain": [
       "0.8538931691535758"
      ]
     },
     "execution_count": 14,
     "metadata": {},
     "output_type": "execute_result"
    }
   ],
   "source": [
    "results_df['R2'].max()"
   ]
  }
 ],
 "metadata": {
  "kernelspec": {
   "display_name": "esg_pred",
   "language": "python",
   "name": "python3"
  },
  "language_info": {
   "codemirror_mode": {
    "name": "ipython",
    "version": 3
   },
   "file_extension": ".py",
   "mimetype": "text/x-python",
   "name": "python",
   "nbconvert_exporter": "python",
   "pygments_lexer": "ipython3",
   "version": "3.11.11"
  }
 },
 "nbformat": 4,
 "nbformat_minor": 5
}
