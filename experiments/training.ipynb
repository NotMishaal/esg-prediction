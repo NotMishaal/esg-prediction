{
 "cells": [
  {
   "cell_type": "code",
   "execution_count": 1,
   "id": "4e206827",
   "metadata": {},
   "outputs": [],
   "source": [
    "import pandas as pd\n",
    "import numpy as np\n",
    "from joblib import dump, load\n",
    "\n",
    "from sklearn.linear_model import Ridge\n",
    "from sklearn.ensemble import RandomForestRegressor\n",
    "from sklearn.neural_network import MLPRegressor\n",
    "from xgboost import XGBRegressor\n",
    "\n",
    "from sklearn.metrics import mean_squared_error, mean_absolute_error, r2_score\n",
    "from sklearn.model_selection import GridSearchCV"
   ]
  },
  {
   "cell_type": "markdown",
   "id": "ffa2621d",
   "metadata": {},
   "source": [
    "Helper Functions"
   ]
  },
  {
   "cell_type": "code",
   "execution_count": 2,
   "id": "90c4b88d",
   "metadata": {},
   "outputs": [],
   "source": [
    "# initial random seed\n",
    "seed = 42"
   ]
  },
  {
   "cell_type": "code",
   "execution_count": 3,
   "id": "c1b66621",
   "metadata": {},
   "outputs": [],
   "source": [
    "def compute_metrics(y_true, y_pred):\n",
    "    \"\"\"Compute RMSE, MAE, and R2.\"\"\"\n",
    "    rmse = np.sqrt(mean_squared_error(y_true, y_pred))\n",
    "    mae = mean_absolute_error(y_true, y_pred)\n",
    "    r2 = r2_score(y_true, y_pred)\n",
    "    return rmse, mae, r2"
   ]
  },
  {
   "cell_type": "code",
   "execution_count": 4,
   "id": "ba34086b",
   "metadata": {},
   "outputs": [],
   "source": [
    "def compute_stability(model, X, y, noise_level=0.01, n_trials=5):\n",
    "    \"\"\"\n",
    "    Add Gaussian noise to numeric features and measure average relative RMSE change.\n",
    "    noise_level is fraction of std-dev of each feature.\n",
    "    \"\"\"\n",
    "    numeric_cols = X.select_dtypes(include=[np.number]).columns\n",
    "    base_rmse = np.sqrt(mean_squared_error(y, model.predict(X)))\n",
    "    rel_changes = []\n",
    "    \n",
    "    for _ in range(n_trials):\n",
    "        Xp = X.copy()\n",
    "        noise = np.random.normal(0, noise_level * Xp[numeric_cols].std(), \n",
    "                                 size=Xp[numeric_cols].shape)\n",
    "        Xp[numeric_cols] += noise\n",
    "        rp = model.predict(Xp)\n",
    "        rmse_p = np.sqrt(mean_squared_error(y, rp))\n",
    "        rel_changes.append((rmse_p - base_rmse) / base_rmse)\n",
    "    \n",
    "    # Return average relative change (lower = more stable)\n",
    "    return np.mean(rel_changes)"
   ]
  },
  {
   "cell_type": "markdown",
   "id": "15eed113",
   "metadata": {},
   "source": [
    "# Model Definition"
   ]
  },
  {
   "cell_type": "code",
   "execution_count": null,
   "id": "1e64049d",
   "metadata": {},
   "outputs": [],
   "source": [
    "models = {\n",
    "    'Ridge': Ridge(random_state=42, alpha=1.0), \n",
    "    'RandomForest': RandomForestRegressor(n_estimators=100, random_state=seed),\n",
    "    'XGBoost': XGBRegressor(\n",
    "        n_estimators=100, \n",
    "        eval_metric='rmse', \n",
    "        random_state=seed,\n",
    "        learning_rate=0.1,\n",
    "        ),\n",
    "    'MLP': MLPRegressor(\n",
    "        hidden_layer_sizes=(64, 64),    # implemented a simple MLP with sklearn for easy compatibility with the rest of the code\n",
    "        activation='relu',\n",
    "        solver='adam',\n",
    "        max_iter=200,\n",
    "        random_state=seed\n",
    "        )\n",
    "}"
   ]
  },
  {
   "cell_type": "code",
   "execution_count": 6,
   "id": "68ca9c56",
   "metadata": {},
   "outputs": [],
   "source": [
    "param_grids = {\n",
    "    'Ridge': {\n",
    "        'alpha': [0.01, 0.1, 1.0, 10.0, 100.0]\n",
    "        },\n",
    "    'RandomForest': {\n",
    "        'n_estimators': [100, 200],\n",
    "        'max_depth': [None, 10, 20]\n",
    "        },\n",
    "    'XGBoost': {\n",
    "        'n_estimators': [100, 200],\n",
    "        'learning_rate': [0.01, 0.1],\n",
    "        'max_depth': [3, 6],\n",
    "        'subsample': [0.8, 1.0],\n",
    "        },\n",
    "    'MLP': {\n",
    "        'hidden_layer_sizes': [(64,), (64, 64)],\n",
    "        'alpha': [1e-4, 1e-3, 1e-2],\n",
    "        'learning_rate_init': [1e-3, 1e-2],\n",
    "        'max_iter': [300]\n",
    "        }\n",
    "}"
   ]
  },
  {
   "cell_type": "code",
   "execution_count": 7,
   "id": "6fc371f4",
   "metadata": {},
   "outputs": [],
   "source": [
    "datasets = load('..\\data\\experimental\\experiment_datasets_2.joblib')  # Load datasets from joblib file"
   ]
  },
  {
   "cell_type": "markdown",
   "id": "fea3c39f",
   "metadata": {},
   "source": [
    "# Manual Training"
   ]
  },
  {
   "cell_type": "code",
   "execution_count": 6,
   "id": "e33241aa",
   "metadata": {},
   "outputs": [
    {
     "data": {
      "text/plain": [
       "((291, 82), (73, 82))"
      ]
     },
     "execution_count": 6,
     "metadata": {},
     "output_type": "execute_result"
    }
   ],
   "source": [
    "train_df = datasets['baselines']['full']['within_sample']['within_sample']['train']\n",
    "test_df = datasets['baselines']['full']['within_sample']['within_sample']['test']\n",
    "\n",
    "train_df.shape, test_df.shape"
   ]
  },
  {
   "cell_type": "code",
   "execution_count": 7,
   "id": "9aefcac6",
   "metadata": {},
   "outputs": [],
   "source": [
    "X_train = train_df.drop(columns=['totalEsg'])\n",
    "y_train = train_df['totalEsg']\n",
    "X_test  = test_df.drop(columns=['totalEsg'])\n",
    "y_test  = test_df['totalEsg']"
   ]
  },
  {
   "cell_type": "code",
   "execution_count": 8,
   "id": "fb332847",
   "metadata": {},
   "outputs": [
    {
     "data": {
      "text/plain": [
       "((291, 81), (291,), (73, 81), (73,))"
      ]
     },
     "execution_count": 8,
     "metadata": {},
     "output_type": "execute_result"
    }
   ],
   "source": [
    "X_train.shape, y_train.shape, X_test.shape, y_test.shape"
   ]
  },
  {
   "cell_type": "code",
   "execution_count": 9,
   "id": "f1406fa9",
   "metadata": {},
   "outputs": [],
   "source": [
    "model = models['Ridge']  # Choose the model you want to use"
   ]
  },
  {
   "cell_type": "code",
   "execution_count": 10,
   "id": "79c45bef",
   "metadata": {},
   "outputs": [
    {
     "data": {
      "text/html": [
       "<style>#sk-container-id-1 {\n",
       "  /* Definition of color scheme common for light and dark mode */\n",
       "  --sklearn-color-text: #000;\n",
       "  --sklearn-color-text-muted: #666;\n",
       "  --sklearn-color-line: gray;\n",
       "  /* Definition of color scheme for unfitted estimators */\n",
       "  --sklearn-color-unfitted-level-0: #fff5e6;\n",
       "  --sklearn-color-unfitted-level-1: #f6e4d2;\n",
       "  --sklearn-color-unfitted-level-2: #ffe0b3;\n",
       "  --sklearn-color-unfitted-level-3: chocolate;\n",
       "  /* Definition of color scheme for fitted estimators */\n",
       "  --sklearn-color-fitted-level-0: #f0f8ff;\n",
       "  --sklearn-color-fitted-level-1: #d4ebff;\n",
       "  --sklearn-color-fitted-level-2: #b3dbfd;\n",
       "  --sklearn-color-fitted-level-3: cornflowerblue;\n",
       "\n",
       "  /* Specific color for light theme */\n",
       "  --sklearn-color-text-on-default-background: var(--sg-text-color, var(--theme-code-foreground, var(--jp-content-font-color1, black)));\n",
       "  --sklearn-color-background: var(--sg-background-color, var(--theme-background, var(--jp-layout-color0, white)));\n",
       "  --sklearn-color-border-box: var(--sg-text-color, var(--theme-code-foreground, var(--jp-content-font-color1, black)));\n",
       "  --sklearn-color-icon: #696969;\n",
       "\n",
       "  @media (prefers-color-scheme: dark) {\n",
       "    /* Redefinition of color scheme for dark theme */\n",
       "    --sklearn-color-text-on-default-background: var(--sg-text-color, var(--theme-code-foreground, var(--jp-content-font-color1, white)));\n",
       "    --sklearn-color-background: var(--sg-background-color, var(--theme-background, var(--jp-layout-color0, #111)));\n",
       "    --sklearn-color-border-box: var(--sg-text-color, var(--theme-code-foreground, var(--jp-content-font-color1, white)));\n",
       "    --sklearn-color-icon: #878787;\n",
       "  }\n",
       "}\n",
       "\n",
       "#sk-container-id-1 {\n",
       "  color: var(--sklearn-color-text);\n",
       "}\n",
       "\n",
       "#sk-container-id-1 pre {\n",
       "  padding: 0;\n",
       "}\n",
       "\n",
       "#sk-container-id-1 input.sk-hidden--visually {\n",
       "  border: 0;\n",
       "  clip: rect(1px 1px 1px 1px);\n",
       "  clip: rect(1px, 1px, 1px, 1px);\n",
       "  height: 1px;\n",
       "  margin: -1px;\n",
       "  overflow: hidden;\n",
       "  padding: 0;\n",
       "  position: absolute;\n",
       "  width: 1px;\n",
       "}\n",
       "\n",
       "#sk-container-id-1 div.sk-dashed-wrapped {\n",
       "  border: 1px dashed var(--sklearn-color-line);\n",
       "  margin: 0 0.4em 0.5em 0.4em;\n",
       "  box-sizing: border-box;\n",
       "  padding-bottom: 0.4em;\n",
       "  background-color: var(--sklearn-color-background);\n",
       "}\n",
       "\n",
       "#sk-container-id-1 div.sk-container {\n",
       "  /* jupyter's `normalize.less` sets `[hidden] { display: none; }`\n",
       "     but bootstrap.min.css set `[hidden] { display: none !important; }`\n",
       "     so we also need the `!important` here to be able to override the\n",
       "     default hidden behavior on the sphinx rendered scikit-learn.org.\n",
       "     See: https://github.com/scikit-learn/scikit-learn/issues/21755 */\n",
       "  display: inline-block !important;\n",
       "  position: relative;\n",
       "}\n",
       "\n",
       "#sk-container-id-1 div.sk-text-repr-fallback {\n",
       "  display: none;\n",
       "}\n",
       "\n",
       "div.sk-parallel-item,\n",
       "div.sk-serial,\n",
       "div.sk-item {\n",
       "  /* draw centered vertical line to link estimators */\n",
       "  background-image: linear-gradient(var(--sklearn-color-text-on-default-background), var(--sklearn-color-text-on-default-background));\n",
       "  background-size: 2px 100%;\n",
       "  background-repeat: no-repeat;\n",
       "  background-position: center center;\n",
       "}\n",
       "\n",
       "/* Parallel-specific style estimator block */\n",
       "\n",
       "#sk-container-id-1 div.sk-parallel-item::after {\n",
       "  content: \"\";\n",
       "  width: 100%;\n",
       "  border-bottom: 2px solid var(--sklearn-color-text-on-default-background);\n",
       "  flex-grow: 1;\n",
       "}\n",
       "\n",
       "#sk-container-id-1 div.sk-parallel {\n",
       "  display: flex;\n",
       "  align-items: stretch;\n",
       "  justify-content: center;\n",
       "  background-color: var(--sklearn-color-background);\n",
       "  position: relative;\n",
       "}\n",
       "\n",
       "#sk-container-id-1 div.sk-parallel-item {\n",
       "  display: flex;\n",
       "  flex-direction: column;\n",
       "}\n",
       "\n",
       "#sk-container-id-1 div.sk-parallel-item:first-child::after {\n",
       "  align-self: flex-end;\n",
       "  width: 50%;\n",
       "}\n",
       "\n",
       "#sk-container-id-1 div.sk-parallel-item:last-child::after {\n",
       "  align-self: flex-start;\n",
       "  width: 50%;\n",
       "}\n",
       "\n",
       "#sk-container-id-1 div.sk-parallel-item:only-child::after {\n",
       "  width: 0;\n",
       "}\n",
       "\n",
       "/* Serial-specific style estimator block */\n",
       "\n",
       "#sk-container-id-1 div.sk-serial {\n",
       "  display: flex;\n",
       "  flex-direction: column;\n",
       "  align-items: center;\n",
       "  background-color: var(--sklearn-color-background);\n",
       "  padding-right: 1em;\n",
       "  padding-left: 1em;\n",
       "}\n",
       "\n",
       "\n",
       "/* Toggleable style: style used for estimator/Pipeline/ColumnTransformer box that is\n",
       "clickable and can be expanded/collapsed.\n",
       "- Pipeline and ColumnTransformer use this feature and define the default style\n",
       "- Estimators will overwrite some part of the style using the `sk-estimator` class\n",
       "*/\n",
       "\n",
       "/* Pipeline and ColumnTransformer style (default) */\n",
       "\n",
       "#sk-container-id-1 div.sk-toggleable {\n",
       "  /* Default theme specific background. It is overwritten whether we have a\n",
       "  specific estimator or a Pipeline/ColumnTransformer */\n",
       "  background-color: var(--sklearn-color-background);\n",
       "}\n",
       "\n",
       "/* Toggleable label */\n",
       "#sk-container-id-1 label.sk-toggleable__label {\n",
       "  cursor: pointer;\n",
       "  display: flex;\n",
       "  width: 100%;\n",
       "  margin-bottom: 0;\n",
       "  padding: 0.5em;\n",
       "  box-sizing: border-box;\n",
       "  text-align: center;\n",
       "  align-items: start;\n",
       "  justify-content: space-between;\n",
       "  gap: 0.5em;\n",
       "}\n",
       "\n",
       "#sk-container-id-1 label.sk-toggleable__label .caption {\n",
       "  font-size: 0.6rem;\n",
       "  font-weight: lighter;\n",
       "  color: var(--sklearn-color-text-muted);\n",
       "}\n",
       "\n",
       "#sk-container-id-1 label.sk-toggleable__label-arrow:before {\n",
       "  /* Arrow on the left of the label */\n",
       "  content: \"▸\";\n",
       "  float: left;\n",
       "  margin-right: 0.25em;\n",
       "  color: var(--sklearn-color-icon);\n",
       "}\n",
       "\n",
       "#sk-container-id-1 label.sk-toggleable__label-arrow:hover:before {\n",
       "  color: var(--sklearn-color-text);\n",
       "}\n",
       "\n",
       "/* Toggleable content - dropdown */\n",
       "\n",
       "#sk-container-id-1 div.sk-toggleable__content {\n",
       "  max-height: 0;\n",
       "  max-width: 0;\n",
       "  overflow: hidden;\n",
       "  text-align: left;\n",
       "  /* unfitted */\n",
       "  background-color: var(--sklearn-color-unfitted-level-0);\n",
       "}\n",
       "\n",
       "#sk-container-id-1 div.sk-toggleable__content.fitted {\n",
       "  /* fitted */\n",
       "  background-color: var(--sklearn-color-fitted-level-0);\n",
       "}\n",
       "\n",
       "#sk-container-id-1 div.sk-toggleable__content pre {\n",
       "  margin: 0.2em;\n",
       "  border-radius: 0.25em;\n",
       "  color: var(--sklearn-color-text);\n",
       "  /* unfitted */\n",
       "  background-color: var(--sklearn-color-unfitted-level-0);\n",
       "}\n",
       "\n",
       "#sk-container-id-1 div.sk-toggleable__content.fitted pre {\n",
       "  /* unfitted */\n",
       "  background-color: var(--sklearn-color-fitted-level-0);\n",
       "}\n",
       "\n",
       "#sk-container-id-1 input.sk-toggleable__control:checked~div.sk-toggleable__content {\n",
       "  /* Expand drop-down */\n",
       "  max-height: 200px;\n",
       "  max-width: 100%;\n",
       "  overflow: auto;\n",
       "}\n",
       "\n",
       "#sk-container-id-1 input.sk-toggleable__control:checked~label.sk-toggleable__label-arrow:before {\n",
       "  content: \"▾\";\n",
       "}\n",
       "\n",
       "/* Pipeline/ColumnTransformer-specific style */\n",
       "\n",
       "#sk-container-id-1 div.sk-label input.sk-toggleable__control:checked~label.sk-toggleable__label {\n",
       "  color: var(--sklearn-color-text);\n",
       "  background-color: var(--sklearn-color-unfitted-level-2);\n",
       "}\n",
       "\n",
       "#sk-container-id-1 div.sk-label.fitted input.sk-toggleable__control:checked~label.sk-toggleable__label {\n",
       "  background-color: var(--sklearn-color-fitted-level-2);\n",
       "}\n",
       "\n",
       "/* Estimator-specific style */\n",
       "\n",
       "/* Colorize estimator box */\n",
       "#sk-container-id-1 div.sk-estimator input.sk-toggleable__control:checked~label.sk-toggleable__label {\n",
       "  /* unfitted */\n",
       "  background-color: var(--sklearn-color-unfitted-level-2);\n",
       "}\n",
       "\n",
       "#sk-container-id-1 div.sk-estimator.fitted input.sk-toggleable__control:checked~label.sk-toggleable__label {\n",
       "  /* fitted */\n",
       "  background-color: var(--sklearn-color-fitted-level-2);\n",
       "}\n",
       "\n",
       "#sk-container-id-1 div.sk-label label.sk-toggleable__label,\n",
       "#sk-container-id-1 div.sk-label label {\n",
       "  /* The background is the default theme color */\n",
       "  color: var(--sklearn-color-text-on-default-background);\n",
       "}\n",
       "\n",
       "/* On hover, darken the color of the background */\n",
       "#sk-container-id-1 div.sk-label:hover label.sk-toggleable__label {\n",
       "  color: var(--sklearn-color-text);\n",
       "  background-color: var(--sklearn-color-unfitted-level-2);\n",
       "}\n",
       "\n",
       "/* Label box, darken color on hover, fitted */\n",
       "#sk-container-id-1 div.sk-label.fitted:hover label.sk-toggleable__label.fitted {\n",
       "  color: var(--sklearn-color-text);\n",
       "  background-color: var(--sklearn-color-fitted-level-2);\n",
       "}\n",
       "\n",
       "/* Estimator label */\n",
       "\n",
       "#sk-container-id-1 div.sk-label label {\n",
       "  font-family: monospace;\n",
       "  font-weight: bold;\n",
       "  display: inline-block;\n",
       "  line-height: 1.2em;\n",
       "}\n",
       "\n",
       "#sk-container-id-1 div.sk-label-container {\n",
       "  text-align: center;\n",
       "}\n",
       "\n",
       "/* Estimator-specific */\n",
       "#sk-container-id-1 div.sk-estimator {\n",
       "  font-family: monospace;\n",
       "  border: 1px dotted var(--sklearn-color-border-box);\n",
       "  border-radius: 0.25em;\n",
       "  box-sizing: border-box;\n",
       "  margin-bottom: 0.5em;\n",
       "  /* unfitted */\n",
       "  background-color: var(--sklearn-color-unfitted-level-0);\n",
       "}\n",
       "\n",
       "#sk-container-id-1 div.sk-estimator.fitted {\n",
       "  /* fitted */\n",
       "  background-color: var(--sklearn-color-fitted-level-0);\n",
       "}\n",
       "\n",
       "/* on hover */\n",
       "#sk-container-id-1 div.sk-estimator:hover {\n",
       "  /* unfitted */\n",
       "  background-color: var(--sklearn-color-unfitted-level-2);\n",
       "}\n",
       "\n",
       "#sk-container-id-1 div.sk-estimator.fitted:hover {\n",
       "  /* fitted */\n",
       "  background-color: var(--sklearn-color-fitted-level-2);\n",
       "}\n",
       "\n",
       "/* Specification for estimator info (e.g. \"i\" and \"?\") */\n",
       "\n",
       "/* Common style for \"i\" and \"?\" */\n",
       "\n",
       ".sk-estimator-doc-link,\n",
       "a:link.sk-estimator-doc-link,\n",
       "a:visited.sk-estimator-doc-link {\n",
       "  float: right;\n",
       "  font-size: smaller;\n",
       "  line-height: 1em;\n",
       "  font-family: monospace;\n",
       "  background-color: var(--sklearn-color-background);\n",
       "  border-radius: 1em;\n",
       "  height: 1em;\n",
       "  width: 1em;\n",
       "  text-decoration: none !important;\n",
       "  margin-left: 0.5em;\n",
       "  text-align: center;\n",
       "  /* unfitted */\n",
       "  border: var(--sklearn-color-unfitted-level-1) 1pt solid;\n",
       "  color: var(--sklearn-color-unfitted-level-1);\n",
       "}\n",
       "\n",
       ".sk-estimator-doc-link.fitted,\n",
       "a:link.sk-estimator-doc-link.fitted,\n",
       "a:visited.sk-estimator-doc-link.fitted {\n",
       "  /* fitted */\n",
       "  border: var(--sklearn-color-fitted-level-1) 1pt solid;\n",
       "  color: var(--sklearn-color-fitted-level-1);\n",
       "}\n",
       "\n",
       "/* On hover */\n",
       "div.sk-estimator:hover .sk-estimator-doc-link:hover,\n",
       ".sk-estimator-doc-link:hover,\n",
       "div.sk-label-container:hover .sk-estimator-doc-link:hover,\n",
       ".sk-estimator-doc-link:hover {\n",
       "  /* unfitted */\n",
       "  background-color: var(--sklearn-color-unfitted-level-3);\n",
       "  color: var(--sklearn-color-background);\n",
       "  text-decoration: none;\n",
       "}\n",
       "\n",
       "div.sk-estimator.fitted:hover .sk-estimator-doc-link.fitted:hover,\n",
       ".sk-estimator-doc-link.fitted:hover,\n",
       "div.sk-label-container:hover .sk-estimator-doc-link.fitted:hover,\n",
       ".sk-estimator-doc-link.fitted:hover {\n",
       "  /* fitted */\n",
       "  background-color: var(--sklearn-color-fitted-level-3);\n",
       "  color: var(--sklearn-color-background);\n",
       "  text-decoration: none;\n",
       "}\n",
       "\n",
       "/* Span, style for the box shown on hovering the info icon */\n",
       ".sk-estimator-doc-link span {\n",
       "  display: none;\n",
       "  z-index: 9999;\n",
       "  position: relative;\n",
       "  font-weight: normal;\n",
       "  right: .2ex;\n",
       "  padding: .5ex;\n",
       "  margin: .5ex;\n",
       "  width: min-content;\n",
       "  min-width: 20ex;\n",
       "  max-width: 50ex;\n",
       "  color: var(--sklearn-color-text);\n",
       "  box-shadow: 2pt 2pt 4pt #999;\n",
       "  /* unfitted */\n",
       "  background: var(--sklearn-color-unfitted-level-0);\n",
       "  border: .5pt solid var(--sklearn-color-unfitted-level-3);\n",
       "}\n",
       "\n",
       ".sk-estimator-doc-link.fitted span {\n",
       "  /* fitted */\n",
       "  background: var(--sklearn-color-fitted-level-0);\n",
       "  border: var(--sklearn-color-fitted-level-3);\n",
       "}\n",
       "\n",
       ".sk-estimator-doc-link:hover span {\n",
       "  display: block;\n",
       "}\n",
       "\n",
       "/* \"?\"-specific style due to the `<a>` HTML tag */\n",
       "\n",
       "#sk-container-id-1 a.estimator_doc_link {\n",
       "  float: right;\n",
       "  font-size: 1rem;\n",
       "  line-height: 1em;\n",
       "  font-family: monospace;\n",
       "  background-color: var(--sklearn-color-background);\n",
       "  border-radius: 1rem;\n",
       "  height: 1rem;\n",
       "  width: 1rem;\n",
       "  text-decoration: none;\n",
       "  /* unfitted */\n",
       "  color: var(--sklearn-color-unfitted-level-1);\n",
       "  border: var(--sklearn-color-unfitted-level-1) 1pt solid;\n",
       "}\n",
       "\n",
       "#sk-container-id-1 a.estimator_doc_link.fitted {\n",
       "  /* fitted */\n",
       "  border: var(--sklearn-color-fitted-level-1) 1pt solid;\n",
       "  color: var(--sklearn-color-fitted-level-1);\n",
       "}\n",
       "\n",
       "/* On hover */\n",
       "#sk-container-id-1 a.estimator_doc_link:hover {\n",
       "  /* unfitted */\n",
       "  background-color: var(--sklearn-color-unfitted-level-3);\n",
       "  color: var(--sklearn-color-background);\n",
       "  text-decoration: none;\n",
       "}\n",
       "\n",
       "#sk-container-id-1 a.estimator_doc_link.fitted:hover {\n",
       "  /* fitted */\n",
       "  background-color: var(--sklearn-color-fitted-level-3);\n",
       "}\n",
       "</style><div id=\"sk-container-id-1\" class=\"sk-top-container\"><div class=\"sk-text-repr-fallback\"><pre>Ridge(random_state=42)</pre><b>In a Jupyter environment, please rerun this cell to show the HTML representation or trust the notebook. <br />On GitHub, the HTML representation is unable to render, please try loading this page with nbviewer.org.</b></div><div class=\"sk-container\" hidden><div class=\"sk-item\"><div class=\"sk-estimator  sk-toggleable\"><input class=\"sk-toggleable__control sk-hidden--visually\" id=\"sk-estimator-id-1\" type=\"checkbox\" checked><label for=\"sk-estimator-id-1\" class=\"sk-toggleable__label  sk-toggleable__label-arrow\"><div><div>Ridge</div></div><div><a class=\"sk-estimator-doc-link \" rel=\"noreferrer\" target=\"_blank\" href=\"https://scikit-learn.org/1.6/modules/generated/sklearn.linear_model.Ridge.html\">?<span>Documentation for Ridge</span></a><span class=\"sk-estimator-doc-link \">i<span>Not fitted</span></span></div></label><div class=\"sk-toggleable__content \"><pre>Ridge(random_state=42)</pre></div> </div></div></div></div>"
      ],
      "text/plain": [
       "Ridge(random_state=42)"
      ]
     },
     "execution_count": 10,
     "metadata": {},
     "output_type": "execute_result"
    }
   ],
   "source": [
    "model"
   ]
  },
  {
   "cell_type": "code",
   "execution_count": 11,
   "id": "d9db37f4",
   "metadata": {},
   "outputs": [
    {
     "name": "stderr",
     "output_type": "stream",
     "text": [
      "l:\\Programs\\anaconda\\envs\\esg_pred\\Lib\\site-packages\\sklearn\\linear_model\\_ridge.py:215: LinAlgWarning: Ill-conditioned matrix (rcond=5.17923e-28): result may not be accurate.\n",
      "  return linalg.solve(A, Xy, assume_a=\"pos\", overwrite_a=True).T\n"
     ]
    },
    {
     "data": {
      "text/html": [
       "<style>#sk-container-id-2 {\n",
       "  /* Definition of color scheme common for light and dark mode */\n",
       "  --sklearn-color-text: #000;\n",
       "  --sklearn-color-text-muted: #666;\n",
       "  --sklearn-color-line: gray;\n",
       "  /* Definition of color scheme for unfitted estimators */\n",
       "  --sklearn-color-unfitted-level-0: #fff5e6;\n",
       "  --sklearn-color-unfitted-level-1: #f6e4d2;\n",
       "  --sklearn-color-unfitted-level-2: #ffe0b3;\n",
       "  --sklearn-color-unfitted-level-3: chocolate;\n",
       "  /* Definition of color scheme for fitted estimators */\n",
       "  --sklearn-color-fitted-level-0: #f0f8ff;\n",
       "  --sklearn-color-fitted-level-1: #d4ebff;\n",
       "  --sklearn-color-fitted-level-2: #b3dbfd;\n",
       "  --sklearn-color-fitted-level-3: cornflowerblue;\n",
       "\n",
       "  /* Specific color for light theme */\n",
       "  --sklearn-color-text-on-default-background: var(--sg-text-color, var(--theme-code-foreground, var(--jp-content-font-color1, black)));\n",
       "  --sklearn-color-background: var(--sg-background-color, var(--theme-background, var(--jp-layout-color0, white)));\n",
       "  --sklearn-color-border-box: var(--sg-text-color, var(--theme-code-foreground, var(--jp-content-font-color1, black)));\n",
       "  --sklearn-color-icon: #696969;\n",
       "\n",
       "  @media (prefers-color-scheme: dark) {\n",
       "    /* Redefinition of color scheme for dark theme */\n",
       "    --sklearn-color-text-on-default-background: var(--sg-text-color, var(--theme-code-foreground, var(--jp-content-font-color1, white)));\n",
       "    --sklearn-color-background: var(--sg-background-color, var(--theme-background, var(--jp-layout-color0, #111)));\n",
       "    --sklearn-color-border-box: var(--sg-text-color, var(--theme-code-foreground, var(--jp-content-font-color1, white)));\n",
       "    --sklearn-color-icon: #878787;\n",
       "  }\n",
       "}\n",
       "\n",
       "#sk-container-id-2 {\n",
       "  color: var(--sklearn-color-text);\n",
       "}\n",
       "\n",
       "#sk-container-id-2 pre {\n",
       "  padding: 0;\n",
       "}\n",
       "\n",
       "#sk-container-id-2 input.sk-hidden--visually {\n",
       "  border: 0;\n",
       "  clip: rect(1px 1px 1px 1px);\n",
       "  clip: rect(1px, 1px, 1px, 1px);\n",
       "  height: 1px;\n",
       "  margin: -1px;\n",
       "  overflow: hidden;\n",
       "  padding: 0;\n",
       "  position: absolute;\n",
       "  width: 1px;\n",
       "}\n",
       "\n",
       "#sk-container-id-2 div.sk-dashed-wrapped {\n",
       "  border: 1px dashed var(--sklearn-color-line);\n",
       "  margin: 0 0.4em 0.5em 0.4em;\n",
       "  box-sizing: border-box;\n",
       "  padding-bottom: 0.4em;\n",
       "  background-color: var(--sklearn-color-background);\n",
       "}\n",
       "\n",
       "#sk-container-id-2 div.sk-container {\n",
       "  /* jupyter's `normalize.less` sets `[hidden] { display: none; }`\n",
       "     but bootstrap.min.css set `[hidden] { display: none !important; }`\n",
       "     so we also need the `!important` here to be able to override the\n",
       "     default hidden behavior on the sphinx rendered scikit-learn.org.\n",
       "     See: https://github.com/scikit-learn/scikit-learn/issues/21755 */\n",
       "  display: inline-block !important;\n",
       "  position: relative;\n",
       "}\n",
       "\n",
       "#sk-container-id-2 div.sk-text-repr-fallback {\n",
       "  display: none;\n",
       "}\n",
       "\n",
       "div.sk-parallel-item,\n",
       "div.sk-serial,\n",
       "div.sk-item {\n",
       "  /* draw centered vertical line to link estimators */\n",
       "  background-image: linear-gradient(var(--sklearn-color-text-on-default-background), var(--sklearn-color-text-on-default-background));\n",
       "  background-size: 2px 100%;\n",
       "  background-repeat: no-repeat;\n",
       "  background-position: center center;\n",
       "}\n",
       "\n",
       "/* Parallel-specific style estimator block */\n",
       "\n",
       "#sk-container-id-2 div.sk-parallel-item::after {\n",
       "  content: \"\";\n",
       "  width: 100%;\n",
       "  border-bottom: 2px solid var(--sklearn-color-text-on-default-background);\n",
       "  flex-grow: 1;\n",
       "}\n",
       "\n",
       "#sk-container-id-2 div.sk-parallel {\n",
       "  display: flex;\n",
       "  align-items: stretch;\n",
       "  justify-content: center;\n",
       "  background-color: var(--sklearn-color-background);\n",
       "  position: relative;\n",
       "}\n",
       "\n",
       "#sk-container-id-2 div.sk-parallel-item {\n",
       "  display: flex;\n",
       "  flex-direction: column;\n",
       "}\n",
       "\n",
       "#sk-container-id-2 div.sk-parallel-item:first-child::after {\n",
       "  align-self: flex-end;\n",
       "  width: 50%;\n",
       "}\n",
       "\n",
       "#sk-container-id-2 div.sk-parallel-item:last-child::after {\n",
       "  align-self: flex-start;\n",
       "  width: 50%;\n",
       "}\n",
       "\n",
       "#sk-container-id-2 div.sk-parallel-item:only-child::after {\n",
       "  width: 0;\n",
       "}\n",
       "\n",
       "/* Serial-specific style estimator block */\n",
       "\n",
       "#sk-container-id-2 div.sk-serial {\n",
       "  display: flex;\n",
       "  flex-direction: column;\n",
       "  align-items: center;\n",
       "  background-color: var(--sklearn-color-background);\n",
       "  padding-right: 1em;\n",
       "  padding-left: 1em;\n",
       "}\n",
       "\n",
       "\n",
       "/* Toggleable style: style used for estimator/Pipeline/ColumnTransformer box that is\n",
       "clickable and can be expanded/collapsed.\n",
       "- Pipeline and ColumnTransformer use this feature and define the default style\n",
       "- Estimators will overwrite some part of the style using the `sk-estimator` class\n",
       "*/\n",
       "\n",
       "/* Pipeline and ColumnTransformer style (default) */\n",
       "\n",
       "#sk-container-id-2 div.sk-toggleable {\n",
       "  /* Default theme specific background. It is overwritten whether we have a\n",
       "  specific estimator or a Pipeline/ColumnTransformer */\n",
       "  background-color: var(--sklearn-color-background);\n",
       "}\n",
       "\n",
       "/* Toggleable label */\n",
       "#sk-container-id-2 label.sk-toggleable__label {\n",
       "  cursor: pointer;\n",
       "  display: flex;\n",
       "  width: 100%;\n",
       "  margin-bottom: 0;\n",
       "  padding: 0.5em;\n",
       "  box-sizing: border-box;\n",
       "  text-align: center;\n",
       "  align-items: start;\n",
       "  justify-content: space-between;\n",
       "  gap: 0.5em;\n",
       "}\n",
       "\n",
       "#sk-container-id-2 label.sk-toggleable__label .caption {\n",
       "  font-size: 0.6rem;\n",
       "  font-weight: lighter;\n",
       "  color: var(--sklearn-color-text-muted);\n",
       "}\n",
       "\n",
       "#sk-container-id-2 label.sk-toggleable__label-arrow:before {\n",
       "  /* Arrow on the left of the label */\n",
       "  content: \"▸\";\n",
       "  float: left;\n",
       "  margin-right: 0.25em;\n",
       "  color: var(--sklearn-color-icon);\n",
       "}\n",
       "\n",
       "#sk-container-id-2 label.sk-toggleable__label-arrow:hover:before {\n",
       "  color: var(--sklearn-color-text);\n",
       "}\n",
       "\n",
       "/* Toggleable content - dropdown */\n",
       "\n",
       "#sk-container-id-2 div.sk-toggleable__content {\n",
       "  max-height: 0;\n",
       "  max-width: 0;\n",
       "  overflow: hidden;\n",
       "  text-align: left;\n",
       "  /* unfitted */\n",
       "  background-color: var(--sklearn-color-unfitted-level-0);\n",
       "}\n",
       "\n",
       "#sk-container-id-2 div.sk-toggleable__content.fitted {\n",
       "  /* fitted */\n",
       "  background-color: var(--sklearn-color-fitted-level-0);\n",
       "}\n",
       "\n",
       "#sk-container-id-2 div.sk-toggleable__content pre {\n",
       "  margin: 0.2em;\n",
       "  border-radius: 0.25em;\n",
       "  color: var(--sklearn-color-text);\n",
       "  /* unfitted */\n",
       "  background-color: var(--sklearn-color-unfitted-level-0);\n",
       "}\n",
       "\n",
       "#sk-container-id-2 div.sk-toggleable__content.fitted pre {\n",
       "  /* unfitted */\n",
       "  background-color: var(--sklearn-color-fitted-level-0);\n",
       "}\n",
       "\n",
       "#sk-container-id-2 input.sk-toggleable__control:checked~div.sk-toggleable__content {\n",
       "  /* Expand drop-down */\n",
       "  max-height: 200px;\n",
       "  max-width: 100%;\n",
       "  overflow: auto;\n",
       "}\n",
       "\n",
       "#sk-container-id-2 input.sk-toggleable__control:checked~label.sk-toggleable__label-arrow:before {\n",
       "  content: \"▾\";\n",
       "}\n",
       "\n",
       "/* Pipeline/ColumnTransformer-specific style */\n",
       "\n",
       "#sk-container-id-2 div.sk-label input.sk-toggleable__control:checked~label.sk-toggleable__label {\n",
       "  color: var(--sklearn-color-text);\n",
       "  background-color: var(--sklearn-color-unfitted-level-2);\n",
       "}\n",
       "\n",
       "#sk-container-id-2 div.sk-label.fitted input.sk-toggleable__control:checked~label.sk-toggleable__label {\n",
       "  background-color: var(--sklearn-color-fitted-level-2);\n",
       "}\n",
       "\n",
       "/* Estimator-specific style */\n",
       "\n",
       "/* Colorize estimator box */\n",
       "#sk-container-id-2 div.sk-estimator input.sk-toggleable__control:checked~label.sk-toggleable__label {\n",
       "  /* unfitted */\n",
       "  background-color: var(--sklearn-color-unfitted-level-2);\n",
       "}\n",
       "\n",
       "#sk-container-id-2 div.sk-estimator.fitted input.sk-toggleable__control:checked~label.sk-toggleable__label {\n",
       "  /* fitted */\n",
       "  background-color: var(--sklearn-color-fitted-level-2);\n",
       "}\n",
       "\n",
       "#sk-container-id-2 div.sk-label label.sk-toggleable__label,\n",
       "#sk-container-id-2 div.sk-label label {\n",
       "  /* The background is the default theme color */\n",
       "  color: var(--sklearn-color-text-on-default-background);\n",
       "}\n",
       "\n",
       "/* On hover, darken the color of the background */\n",
       "#sk-container-id-2 div.sk-label:hover label.sk-toggleable__label {\n",
       "  color: var(--sklearn-color-text);\n",
       "  background-color: var(--sklearn-color-unfitted-level-2);\n",
       "}\n",
       "\n",
       "/* Label box, darken color on hover, fitted */\n",
       "#sk-container-id-2 div.sk-label.fitted:hover label.sk-toggleable__label.fitted {\n",
       "  color: var(--sklearn-color-text);\n",
       "  background-color: var(--sklearn-color-fitted-level-2);\n",
       "}\n",
       "\n",
       "/* Estimator label */\n",
       "\n",
       "#sk-container-id-2 div.sk-label label {\n",
       "  font-family: monospace;\n",
       "  font-weight: bold;\n",
       "  display: inline-block;\n",
       "  line-height: 1.2em;\n",
       "}\n",
       "\n",
       "#sk-container-id-2 div.sk-label-container {\n",
       "  text-align: center;\n",
       "}\n",
       "\n",
       "/* Estimator-specific */\n",
       "#sk-container-id-2 div.sk-estimator {\n",
       "  font-family: monospace;\n",
       "  border: 1px dotted var(--sklearn-color-border-box);\n",
       "  border-radius: 0.25em;\n",
       "  box-sizing: border-box;\n",
       "  margin-bottom: 0.5em;\n",
       "  /* unfitted */\n",
       "  background-color: var(--sklearn-color-unfitted-level-0);\n",
       "}\n",
       "\n",
       "#sk-container-id-2 div.sk-estimator.fitted {\n",
       "  /* fitted */\n",
       "  background-color: var(--sklearn-color-fitted-level-0);\n",
       "}\n",
       "\n",
       "/* on hover */\n",
       "#sk-container-id-2 div.sk-estimator:hover {\n",
       "  /* unfitted */\n",
       "  background-color: var(--sklearn-color-unfitted-level-2);\n",
       "}\n",
       "\n",
       "#sk-container-id-2 div.sk-estimator.fitted:hover {\n",
       "  /* fitted */\n",
       "  background-color: var(--sklearn-color-fitted-level-2);\n",
       "}\n",
       "\n",
       "/* Specification for estimator info (e.g. \"i\" and \"?\") */\n",
       "\n",
       "/* Common style for \"i\" and \"?\" */\n",
       "\n",
       ".sk-estimator-doc-link,\n",
       "a:link.sk-estimator-doc-link,\n",
       "a:visited.sk-estimator-doc-link {\n",
       "  float: right;\n",
       "  font-size: smaller;\n",
       "  line-height: 1em;\n",
       "  font-family: monospace;\n",
       "  background-color: var(--sklearn-color-background);\n",
       "  border-radius: 1em;\n",
       "  height: 1em;\n",
       "  width: 1em;\n",
       "  text-decoration: none !important;\n",
       "  margin-left: 0.5em;\n",
       "  text-align: center;\n",
       "  /* unfitted */\n",
       "  border: var(--sklearn-color-unfitted-level-1) 1pt solid;\n",
       "  color: var(--sklearn-color-unfitted-level-1);\n",
       "}\n",
       "\n",
       ".sk-estimator-doc-link.fitted,\n",
       "a:link.sk-estimator-doc-link.fitted,\n",
       "a:visited.sk-estimator-doc-link.fitted {\n",
       "  /* fitted */\n",
       "  border: var(--sklearn-color-fitted-level-1) 1pt solid;\n",
       "  color: var(--sklearn-color-fitted-level-1);\n",
       "}\n",
       "\n",
       "/* On hover */\n",
       "div.sk-estimator:hover .sk-estimator-doc-link:hover,\n",
       ".sk-estimator-doc-link:hover,\n",
       "div.sk-label-container:hover .sk-estimator-doc-link:hover,\n",
       ".sk-estimator-doc-link:hover {\n",
       "  /* unfitted */\n",
       "  background-color: var(--sklearn-color-unfitted-level-3);\n",
       "  color: var(--sklearn-color-background);\n",
       "  text-decoration: none;\n",
       "}\n",
       "\n",
       "div.sk-estimator.fitted:hover .sk-estimator-doc-link.fitted:hover,\n",
       ".sk-estimator-doc-link.fitted:hover,\n",
       "div.sk-label-container:hover .sk-estimator-doc-link.fitted:hover,\n",
       ".sk-estimator-doc-link.fitted:hover {\n",
       "  /* fitted */\n",
       "  background-color: var(--sklearn-color-fitted-level-3);\n",
       "  color: var(--sklearn-color-background);\n",
       "  text-decoration: none;\n",
       "}\n",
       "\n",
       "/* Span, style for the box shown on hovering the info icon */\n",
       ".sk-estimator-doc-link span {\n",
       "  display: none;\n",
       "  z-index: 9999;\n",
       "  position: relative;\n",
       "  font-weight: normal;\n",
       "  right: .2ex;\n",
       "  padding: .5ex;\n",
       "  margin: .5ex;\n",
       "  width: min-content;\n",
       "  min-width: 20ex;\n",
       "  max-width: 50ex;\n",
       "  color: var(--sklearn-color-text);\n",
       "  box-shadow: 2pt 2pt 4pt #999;\n",
       "  /* unfitted */\n",
       "  background: var(--sklearn-color-unfitted-level-0);\n",
       "  border: .5pt solid var(--sklearn-color-unfitted-level-3);\n",
       "}\n",
       "\n",
       ".sk-estimator-doc-link.fitted span {\n",
       "  /* fitted */\n",
       "  background: var(--sklearn-color-fitted-level-0);\n",
       "  border: var(--sklearn-color-fitted-level-3);\n",
       "}\n",
       "\n",
       ".sk-estimator-doc-link:hover span {\n",
       "  display: block;\n",
       "}\n",
       "\n",
       "/* \"?\"-specific style due to the `<a>` HTML tag */\n",
       "\n",
       "#sk-container-id-2 a.estimator_doc_link {\n",
       "  float: right;\n",
       "  font-size: 1rem;\n",
       "  line-height: 1em;\n",
       "  font-family: monospace;\n",
       "  background-color: var(--sklearn-color-background);\n",
       "  border-radius: 1rem;\n",
       "  height: 1rem;\n",
       "  width: 1rem;\n",
       "  text-decoration: none;\n",
       "  /* unfitted */\n",
       "  color: var(--sklearn-color-unfitted-level-1);\n",
       "  border: var(--sklearn-color-unfitted-level-1) 1pt solid;\n",
       "}\n",
       "\n",
       "#sk-container-id-2 a.estimator_doc_link.fitted {\n",
       "  /* fitted */\n",
       "  border: var(--sklearn-color-fitted-level-1) 1pt solid;\n",
       "  color: var(--sklearn-color-fitted-level-1);\n",
       "}\n",
       "\n",
       "/* On hover */\n",
       "#sk-container-id-2 a.estimator_doc_link:hover {\n",
       "  /* unfitted */\n",
       "  background-color: var(--sklearn-color-unfitted-level-3);\n",
       "  color: var(--sklearn-color-background);\n",
       "  text-decoration: none;\n",
       "}\n",
       "\n",
       "#sk-container-id-2 a.estimator_doc_link.fitted:hover {\n",
       "  /* fitted */\n",
       "  background-color: var(--sklearn-color-fitted-level-3);\n",
       "}\n",
       "</style><div id=\"sk-container-id-2\" class=\"sk-top-container\"><div class=\"sk-text-repr-fallback\"><pre>Ridge(random_state=42)</pre><b>In a Jupyter environment, please rerun this cell to show the HTML representation or trust the notebook. <br />On GitHub, the HTML representation is unable to render, please try loading this page with nbviewer.org.</b></div><div class=\"sk-container\" hidden><div class=\"sk-item\"><div class=\"sk-estimator fitted sk-toggleable\"><input class=\"sk-toggleable__control sk-hidden--visually\" id=\"sk-estimator-id-2\" type=\"checkbox\" checked><label for=\"sk-estimator-id-2\" class=\"sk-toggleable__label fitted sk-toggleable__label-arrow\"><div><div>Ridge</div></div><div><a class=\"sk-estimator-doc-link fitted\" rel=\"noreferrer\" target=\"_blank\" href=\"https://scikit-learn.org/1.6/modules/generated/sklearn.linear_model.Ridge.html\">?<span>Documentation for Ridge</span></a><span class=\"sk-estimator-doc-link fitted\">i<span>Fitted</span></span></div></label><div class=\"sk-toggleable__content fitted\"><pre>Ridge(random_state=42)</pre></div> </div></div></div></div>"
      ],
      "text/plain": [
       "Ridge(random_state=42)"
      ]
     },
     "execution_count": 11,
     "metadata": {},
     "output_type": "execute_result"
    }
   ],
   "source": [
    "model.fit(X_train, y_train)"
   ]
  },
  {
   "cell_type": "code",
   "execution_count": 12,
   "id": "fa532c99",
   "metadata": {},
   "outputs": [],
   "source": [
    "# predict\n",
    "y_pred = model.predict(X_test)"
   ]
  },
  {
   "cell_type": "code",
   "execution_count": 13,
   "id": "0476cf8e",
   "metadata": {},
   "outputs": [],
   "source": [
    "# compute metrics\n",
    "rmse, mae, r2 = compute_metrics(y_test, y_pred)\n",
    "stability = compute_stability(model, X_test, y_test,\n",
    "                            noise_level=0.01, n_trials=5)"
   ]
  },
  {
   "cell_type": "code",
   "execution_count": 14,
   "id": "d822ed67",
   "metadata": {},
   "outputs": [],
   "source": [
    "manual_results = {\n",
    "            'RMSE': rmse,\n",
    "            'MAE': mae,\n",
    "            'R2': r2,\n",
    "            'Stability': stability\n",
    "        }"
   ]
  },
  {
   "cell_type": "code",
   "execution_count": 15,
   "id": "f2dc67c0",
   "metadata": {},
   "outputs": [
    {
     "data": {
      "application/vnd.microsoft.datawrangler.viewer.v0+json": {
       "columns": [
        {
         "name": "index",
         "rawType": "int64",
         "type": "integer"
        },
        {
         "name": "RMSE",
         "rawType": "float64",
         "type": "float"
        },
        {
         "name": "MAE",
         "rawType": "float64",
         "type": "float"
        },
        {
         "name": "R2",
         "rawType": "float64",
         "type": "float"
        },
        {
         "name": "Stability",
         "rawType": "float64",
         "type": "float"
        }
       ],
       "conversionMethod": "pd.DataFrame",
       "ref": "179defcf-2603-4352-8364-4548ddcf1d6b",
       "rows": [
        [
         "0",
         "44.79569547375485",
         "15.571980591268394",
         "-32.24554237698919",
         "-0.0010842998496107645"
        ]
       ],
       "shape": {
        "columns": 4,
        "rows": 1
       }
      },
      "text/html": [
       "<div>\n",
       "<style scoped>\n",
       "    .dataframe tbody tr th:only-of-type {\n",
       "        vertical-align: middle;\n",
       "    }\n",
       "\n",
       "    .dataframe tbody tr th {\n",
       "        vertical-align: top;\n",
       "    }\n",
       "\n",
       "    .dataframe thead th {\n",
       "        text-align: right;\n",
       "    }\n",
       "</style>\n",
       "<table border=\"1\" class=\"dataframe\">\n",
       "  <thead>\n",
       "    <tr style=\"text-align: right;\">\n",
       "      <th></th>\n",
       "      <th>RMSE</th>\n",
       "      <th>MAE</th>\n",
       "      <th>R2</th>\n",
       "      <th>Stability</th>\n",
       "    </tr>\n",
       "  </thead>\n",
       "  <tbody>\n",
       "    <tr>\n",
       "      <th>0</th>\n",
       "      <td>44.795695</td>\n",
       "      <td>15.571981</td>\n",
       "      <td>-32.245542</td>\n",
       "      <td>-0.001084</td>\n",
       "    </tr>\n",
       "  </tbody>\n",
       "</table>\n",
       "</div>"
      ],
      "text/plain": [
       "        RMSE        MAE         R2  Stability\n",
       "0  44.795695  15.571981 -32.245542  -0.001084"
      ]
     },
     "execution_count": 15,
     "metadata": {},
     "output_type": "execute_result"
    }
   ],
   "source": [
    "pd.DataFrame(manual_results, index=[0])"
   ]
  },
  {
   "cell_type": "markdown",
   "id": "8756fe2b",
   "metadata": {},
   "source": [
    "# Iterative Training"
   ]
  },
  {
   "cell_type": "code",
   "execution_count": 8,
   "id": "5be33ab2",
   "metadata": {},
   "outputs": [],
   "source": [
    "def train_and_evaluate(model_name, model, X_train, y_train, X_test, y_test, param_grid):\n",
    "    \"\"\"Train model with grid search and evaluate performance\"\"\"\n",
    "    # Prepare grid search\n",
    "    grid = GridSearchCV(\n",
    "        estimator=model,\n",
    "        param_grid=param_grid,\n",
    "        cv=3,\n",
    "        scoring='neg_root_mean_squared_error',\n",
    "        n_jobs=-1\n",
    "    )\n",
    "    \n",
    "    # Train model\n",
    "    grid.fit(X_train, y_train)\n",
    "    best_model = grid.best_estimator_\n",
    "    \n",
    "    # Make predictions\n",
    "    y_pred = best_model.predict(X_test)\n",
    "    \n",
    "    # Compute metrics\n",
    "    rmse, mae, r2 = compute_metrics(y_test, y_pred)\n",
    "    stability = compute_stability(best_model, X_test, y_test, \n",
    "                                noise_level=0.01, n_trials=5)\n",
    "    \n",
    "    return {\n",
    "        'model': model_name,\n",
    "        'RMSE': rmse,\n",
    "        'MAE': mae,\n",
    "        'R2': r2,\n",
    "        'Stability': stability\n",
    "    }"
   ]
  },
  {
   "cell_type": "code",
   "execution_count": 9,
   "id": "969a5092",
   "metadata": {},
   "outputs": [],
   "source": [
    "def prepare_data(df, target_col='totalEsg'):\n",
    "    \"\"\"Separate features and target\"\"\"\n",
    "    X = df.drop(columns=[target_col])\n",
    "    y = df[target_col]\n",
    "    return X, y"
   ]
  },
  {
   "cell_type": "code",
   "execution_count": null,
   "id": "c29f1c2a",
   "metadata": {},
   "outputs": [],
   "source": [
    "def process_dataset(train_df, test_df, models, param_grids, scenario_info):\n",
    "    \"\"\"Process a single dataset with all models\"\"\"\n",
    "    results = []\n",
    "    \n",
    "    # Prepare data\n",
    "    X_train, y_train = prepare_data(train_df)\n",
    "    X_test, y_test = prepare_data(test_df)\n",
    "    \n",
    "    # print(f\"Data shapes - Train: {train_df.shape}, Test: {test_df.shape}\")\n",
    "    \n",
    "    # Train and evaluate all models\n",
    "    for model_name, model in models.items():\n",
    "        result = train_and_evaluate(\n",
    "            model_name, model, \n",
    "            X_train, y_train, \n",
    "            X_test, y_test,\n",
    "            param_grids[model_name]\n",
    "        )\n",
    "        results.append({**scenario_info, **result})\n",
    "    \n",
    "    return results"
   ]
  },
  {
   "cell_type": "code",
   "execution_count": 11,
   "id": "0cdc7fdb",
   "metadata": {},
   "outputs": [
    {
     "data": {
      "text/plain": [
       "(275, 82)"
      ]
     },
     "execution_count": 11,
     "metadata": {},
     "output_type": "execute_result"
    }
   ],
   "source": [
    "datasets['baselines']['full']['region_holdout']['europe_n_central_asia']['train'].shape"
   ]
  },
  {
   "cell_type": "code",
   "execution_count": 12,
   "id": "9f86d966",
   "metadata": {},
   "outputs": [],
   "source": [
    "results = []\n",
    "n_runs = 5 # number of runs for statistical comparison"
   ]
  },
  {
   "cell_type": "code",
   "execution_count": null,
   "id": "5925db33",
   "metadata": {},
   "outputs": [
    {
     "name": "stdout",
     "output_type": "stream",
     "text": [
      "Data shapes - Train: (291, 83), Test: (73, 83)\n"
     ]
    },
    {
     "name": "stderr",
     "output_type": "stream",
     "text": [
      "l:\\Programs\\anaconda\\envs\\esg_pred\\Lib\\site-packages\\sklearn\\linear_model\\_ridge.py:215: LinAlgWarning: Ill-conditioned matrix (rcond=3.99903e-26): result may not be accurate.\n",
      "  return linalg.solve(A, Xy, assume_a=\"pos\", overwrite_a=True).T\n",
      "l:\\Programs\\anaconda\\envs\\esg_pred\\Lib\\site-packages\\xgboost\\training.py:183: UserWarning: [08:00:51] WARNING: C:\\actions-runner\\_work\\xgboost\\xgboost\\src\\learner.cc:738: \n",
      "Parameters: { \"boosting_type\" } are not used.\n",
      "\n",
      "  bst.update(dtrain, iteration=i, fobj=obj)\n"
     ]
    },
    {
     "name": "stdout",
     "output_type": "stream",
     "text": [
      "Data shapes - Train: (301, 82), Test: (63, 82)\n"
     ]
    },
    {
     "name": "stderr",
     "output_type": "stream",
     "text": [
      "l:\\Programs\\anaconda\\envs\\esg_pred\\Lib\\site-packages\\sklearn\\linear_model\\_ridge.py:215: LinAlgWarning: Ill-conditioned matrix (rcond=2.27771e-23): result may not be accurate.\n",
      "  return linalg.solve(A, Xy, assume_a=\"pos\", overwrite_a=True).T\n",
      "l:\\Programs\\anaconda\\envs\\esg_pred\\Lib\\site-packages\\xgboost\\training.py:183: UserWarning: [08:01:04] WARNING: C:\\actions-runner\\_work\\xgboost\\xgboost\\src\\learner.cc:738: \n",
      "Parameters: { \"boosting_type\" } are not used.\n",
      "\n",
      "  bst.update(dtrain, iteration=i, fobj=obj)\n"
     ]
    },
    {
     "name": "stdout",
     "output_type": "stream",
     "text": [
      "Data shapes - Train: (275, 82), Test: (89, 82)\n"
     ]
    },
    {
     "name": "stderr",
     "output_type": "stream",
     "text": [
      "l:\\Programs\\anaconda\\envs\\esg_pred\\Lib\\site-packages\\sklearn\\linear_model\\_ridge.py:215: LinAlgWarning: Ill-conditioned matrix (rcond=3.82535e-26): result may not be accurate.\n",
      "  return linalg.solve(A, Xy, assume_a=\"pos\", overwrite_a=True).T\n",
      "l:\\Programs\\anaconda\\envs\\esg_pred\\Lib\\site-packages\\xgboost\\training.py:183: UserWarning: [08:01:16] WARNING: C:\\actions-runner\\_work\\xgboost\\xgboost\\src\\learner.cc:738: \n",
      "Parameters: { \"boosting_type\" } are not used.\n",
      "\n",
      "  bst.update(dtrain, iteration=i, fobj=obj)\n"
     ]
    },
    {
     "name": "stdout",
     "output_type": "stream",
     "text": [
      "Data shapes - Train: (322, 82), Test: (42, 82)\n"
     ]
    },
    {
     "name": "stderr",
     "output_type": "stream",
     "text": [
      "l:\\Programs\\anaconda\\envs\\esg_pred\\Lib\\site-packages\\sklearn\\linear_model\\_ridge.py:215: LinAlgWarning: Ill-conditioned matrix (rcond=6.88608e-30): result may not be accurate.\n",
      "  return linalg.solve(A, Xy, assume_a=\"pos\", overwrite_a=True).T\n",
      "l:\\Programs\\anaconda\\envs\\esg_pred\\Lib\\site-packages\\xgboost\\training.py:183: UserWarning: [08:01:29] WARNING: C:\\actions-runner\\_work\\xgboost\\xgboost\\src\\learner.cc:738: \n",
      "Parameters: { \"boosting_type\" } are not used.\n",
      "\n",
      "  bst.update(dtrain, iteration=i, fobj=obj)\n"
     ]
    },
    {
     "name": "stdout",
     "output_type": "stream",
     "text": [
      "Data shapes - Train: (250, 82), Test: (114, 82)\n"
     ]
    },
    {
     "name": "stderr",
     "output_type": "stream",
     "text": [
      "l:\\Programs\\anaconda\\envs\\esg_pred\\Lib\\site-packages\\sklearn\\linear_model\\_ridge.py:215: LinAlgWarning: Ill-conditioned matrix (rcond=3.95053e-27): result may not be accurate.\n",
      "  return linalg.solve(A, Xy, assume_a=\"pos\", overwrite_a=True).T\n",
      "l:\\Programs\\anaconda\\envs\\esg_pred\\Lib\\site-packages\\xgboost\\training.py:183: UserWarning: [08:01:39] WARNING: C:\\actions-runner\\_work\\xgboost\\xgboost\\src\\learner.cc:738: \n",
      "Parameters: { \"boosting_type\" } are not used.\n",
      "\n",
      "  bst.update(dtrain, iteration=i, fobj=obj)\n"
     ]
    },
    {
     "name": "stdout",
     "output_type": "stream",
     "text": [
      "Data shapes - Train: (327, 82), Test: (37, 82)\n"
     ]
    },
    {
     "name": "stderr",
     "output_type": "stream",
     "text": [
      "l:\\Programs\\anaconda\\envs\\esg_pred\\Lib\\site-packages\\sklearn\\linear_model\\_ridge.py:215: LinAlgWarning: Ill-conditioned matrix (rcond=4.31965e-27): result may not be accurate.\n",
      "  return linalg.solve(A, Xy, assume_a=\"pos\", overwrite_a=True).T\n",
      "l:\\Programs\\anaconda\\envs\\esg_pred\\Lib\\site-packages\\xgboost\\training.py:183: UserWarning: [08:01:53] WARNING: C:\\actions-runner\\_work\\xgboost\\xgboost\\src\\learner.cc:738: \n",
      "Parameters: { \"boosting_type\" } are not used.\n",
      "\n",
      "  bst.update(dtrain, iteration=i, fobj=obj)\n"
     ]
    },
    {
     "name": "stdout",
     "output_type": "stream",
     "text": [
      "Data shapes - Train: (345, 82), Test: (19, 82)\n"
     ]
    },
    {
     "name": "stderr",
     "output_type": "stream",
     "text": [
      "l:\\Programs\\anaconda\\envs\\esg_pred\\Lib\\site-packages\\sklearn\\linear_model\\_ridge.py:215: LinAlgWarning: Ill-conditioned matrix (rcond=5.30054e-28): result may not be accurate.\n",
      "  return linalg.solve(A, Xy, assume_a=\"pos\", overwrite_a=True).T\n",
      "l:\\Programs\\anaconda\\envs\\esg_pred\\Lib\\site-packages\\xgboost\\training.py:183: UserWarning: [08:02:07] WARNING: C:\\actions-runner\\_work\\xgboost\\xgboost\\src\\learner.cc:738: \n",
      "Parameters: { \"boosting_type\" } are not used.\n",
      "\n",
      "  bst.update(dtrain, iteration=i, fobj=obj)\n"
     ]
    },
    {
     "name": "stdout",
     "output_type": "stream",
     "text": [
      "Data shapes - Train: (251, 83), Test: (113, 83)\n"
     ]
    },
    {
     "name": "stderr",
     "output_type": "stream",
     "text": [
      "l:\\Programs\\anaconda\\envs\\esg_pred\\Lib\\site-packages\\sklearn\\linear_model\\_ridge.py:215: LinAlgWarning: Ill-conditioned matrix (rcond=8.63406e-23): result may not be accurate.\n",
      "  return linalg.solve(A, Xy, assume_a=\"pos\", overwrite_a=True).T\n",
      "l:\\Programs\\anaconda\\envs\\esg_pred\\Lib\\site-packages\\xgboost\\training.py:183: UserWarning: [08:02:17] WARNING: C:\\actions-runner\\_work\\xgboost\\xgboost\\src\\learner.cc:738: \n",
      "Parameters: { \"boosting_type\" } are not used.\n",
      "\n",
      "  bst.update(dtrain, iteration=i, fobj=obj)\n"
     ]
    },
    {
     "name": "stdout",
     "output_type": "stream",
     "text": [
      "Data shapes - Train: (249, 83), Test: (115, 83)\n"
     ]
    },
    {
     "name": "stderr",
     "output_type": "stream",
     "text": [
      "l:\\Programs\\anaconda\\envs\\esg_pred\\Lib\\site-packages\\sklearn\\linear_model\\_ridge.py:215: LinAlgWarning: Ill-conditioned matrix (rcond=4.14663e-26): result may not be accurate.\n",
      "  return linalg.solve(A, Xy, assume_a=\"pos\", overwrite_a=True).T\n",
      "l:\\Programs\\anaconda\\envs\\esg_pred\\Lib\\site-packages\\xgboost\\training.py:183: UserWarning: [08:02:27] WARNING: C:\\actions-runner\\_work\\xgboost\\xgboost\\src\\learner.cc:738: \n",
      "Parameters: { \"boosting_type\" } are not used.\n",
      "\n",
      "  bst.update(dtrain, iteration=i, fobj=obj)\n"
     ]
    },
    {
     "name": "stdout",
     "output_type": "stream",
     "text": [
      "Data shapes - Train: (228, 83), Test: (136, 83)\n"
     ]
    },
    {
     "name": "stderr",
     "output_type": "stream",
     "text": [
      "l:\\Programs\\anaconda\\envs\\esg_pred\\Lib\\site-packages\\sklearn\\linear_model\\_ridge.py:215: LinAlgWarning: Ill-conditioned matrix (rcond=5.49227e-28): result may not be accurate.\n",
      "  return linalg.solve(A, Xy, assume_a=\"pos\", overwrite_a=True).T\n",
      "l:\\Programs\\anaconda\\envs\\esg_pred\\Lib\\site-packages\\xgboost\\training.py:183: UserWarning: [08:02:35] WARNING: C:\\actions-runner\\_work\\xgboost\\xgboost\\src\\learner.cc:738: \n",
      "Parameters: { \"boosting_type\" } are not used.\n",
      "\n",
      "  bst.update(dtrain, iteration=i, fobj=obj)\n"
     ]
    },
    {
     "name": "stdout",
     "output_type": "stream",
     "text": [
      "Data shapes - Train: (113, 83), Test: (29, 83)\n"
     ]
    },
    {
     "name": "stderr",
     "output_type": "stream",
     "text": [
      "l:\\Programs\\anaconda\\envs\\esg_pred\\Lib\\site-packages\\sklearn\\linear_model\\_ridge.py:215: LinAlgWarning: Ill-conditioned matrix (rcond=1.49297e-21): result may not be accurate.\n",
      "  return linalg.solve(A, Xy, assume_a=\"pos\", overwrite_a=True).T\n",
      "l:\\Programs\\anaconda\\envs\\esg_pred\\Lib\\site-packages\\xgboost\\training.py:183: UserWarning: [08:02:40] WARNING: C:\\actions-runner\\_work\\xgboost\\xgboost\\src\\learner.cc:738: \n",
      "Parameters: { \"boosting_type\" } are not used.\n",
      "\n",
      "  bst.update(dtrain, iteration=i, fobj=obj)\n"
     ]
    },
    {
     "name": "stdout",
     "output_type": "stream",
     "text": [
      "Data shapes - Train: (87, 78), Test: (55, 78)\n"
     ]
    },
    {
     "name": "stderr",
     "output_type": "stream",
     "text": [
      "l:\\Programs\\anaconda\\envs\\esg_pred\\Lib\\site-packages\\sklearn\\linear_model\\_ridge.py:215: LinAlgWarning: Ill-conditioned matrix (rcond=5.52641e-23): result may not be accurate.\n",
      "  return linalg.solve(A, Xy, assume_a=\"pos\", overwrite_a=True).T\n",
      "l:\\Programs\\anaconda\\envs\\esg_pred\\Lib\\site-packages\\xgboost\\training.py:183: UserWarning: [08:02:43] WARNING: C:\\actions-runner\\_work\\xgboost\\xgboost\\src\\learner.cc:738: \n",
      "Parameters: { \"boosting_type\" } are not used.\n",
      "\n",
      "  bst.update(dtrain, iteration=i, fobj=obj)\n"
     ]
    },
    {
     "name": "stdout",
     "output_type": "stream",
     "text": [
      "Data shapes - Train: (55, 78), Test: (87, 78)\n"
     ]
    },
    {
     "name": "stderr",
     "output_type": "stream",
     "text": [
      "l:\\Programs\\anaconda\\envs\\esg_pred\\Lib\\site-packages\\sklearn\\linear_model\\_ridge.py:254: UserWarning: Singular matrix in solving dual problem. Using least-squares solution instead.\n",
      "  warnings.warn(\n",
      "l:\\Programs\\anaconda\\envs\\esg_pred\\Lib\\site-packages\\xgboost\\training.py:183: UserWarning: [08:02:46] WARNING: C:\\actions-runner\\_work\\xgboost\\xgboost\\src\\learner.cc:738: \n",
      "Parameters: { \"boosting_type\" } are not used.\n",
      "\n",
      "  bst.update(dtrain, iteration=i, fobj=obj)\n"
     ]
    },
    {
     "name": "stdout",
     "output_type": "stream",
     "text": [
      "Data shapes - Train: (81, 82), Test: (61, 82)\n"
     ]
    },
    {
     "name": "stderr",
     "output_type": "stream",
     "text": [
      "l:\\Programs\\anaconda\\envs\\esg_pred\\Lib\\site-packages\\sklearn\\linear_model\\_ridge.py:215: LinAlgWarning: Ill-conditioned matrix (rcond=3.89976e-22): result may not be accurate.\n",
      "  return linalg.solve(A, Xy, assume_a=\"pos\", overwrite_a=True).T\n",
      "l:\\Programs\\anaconda\\envs\\esg_pred\\Lib\\site-packages\\xgboost\\training.py:183: UserWarning: [08:02:49] WARNING: C:\\actions-runner\\_work\\xgboost\\xgboost\\src\\learner.cc:738: \n",
      "Parameters: { \"boosting_type\" } are not used.\n",
      "\n",
      "  bst.update(dtrain, iteration=i, fobj=obj)\n"
     ]
    },
    {
     "name": "stdout",
     "output_type": "stream",
     "text": [
      "Data shapes - Train: (61, 82), Test: (81, 82)\n"
     ]
    },
    {
     "name": "stderr",
     "output_type": "stream",
     "text": [
      "l:\\Programs\\anaconda\\envs\\esg_pred\\Lib\\site-packages\\sklearn\\linear_model\\_ridge.py:254: UserWarning: Singular matrix in solving dual problem. Using least-squares solution instead.\n",
      "  warnings.warn(\n",
      "l:\\Programs\\anaconda\\envs\\esg_pred\\Lib\\site-packages\\xgboost\\training.py:183: UserWarning: [08:02:52] WARNING: C:\\actions-runner\\_work\\xgboost\\xgboost\\src\\learner.cc:738: \n",
      "Parameters: { \"boosting_type\" } are not used.\n",
      "\n",
      "  bst.update(dtrain, iteration=i, fobj=obj)\n"
     ]
    },
    {
     "name": "stdout",
     "output_type": "stream",
     "text": [
      "Data shapes - Train: (563, 83), Test: (141, 83)\n"
     ]
    },
    {
     "name": "stderr",
     "output_type": "stream",
     "text": [
      "l:\\Programs\\anaconda\\envs\\esg_pred\\Lib\\site-packages\\sklearn\\linear_model\\_ridge.py:215: LinAlgWarning: Ill-conditioned matrix (rcond=1.03898e-26): result may not be accurate.\n",
      "  return linalg.solve(A, Xy, assume_a=\"pos\", overwrite_a=True).T\n",
      "l:\\Programs\\anaconda\\envs\\esg_pred\\Lib\\site-packages\\xgboost\\training.py:183: UserWarning: [08:03:06] WARNING: C:\\actions-runner\\_work\\xgboost\\xgboost\\src\\learner.cc:738: \n",
      "Parameters: { \"boosting_type\" } are not used.\n",
      "\n",
      "  bst.update(dtrain, iteration=i, fobj=obj)\n"
     ]
    },
    {
     "name": "stdout",
     "output_type": "stream",
     "text": [
      "Data shapes - Train: (572, 82), Test: (132, 82)\n"
     ]
    },
    {
     "name": "stderr",
     "output_type": "stream",
     "text": [
      "l:\\Programs\\anaconda\\envs\\esg_pred\\Lib\\site-packages\\sklearn\\linear_model\\_ridge.py:215: LinAlgWarning: Ill-conditioned matrix (rcond=7.14619e-23): result may not be accurate.\n",
      "  return linalg.solve(A, Xy, assume_a=\"pos\", overwrite_a=True).T\n",
      "l:\\Programs\\anaconda\\envs\\esg_pred\\Lib\\site-packages\\xgboost\\training.py:183: UserWarning: [08:03:18] WARNING: C:\\actions-runner\\_work\\xgboost\\xgboost\\src\\learner.cc:738: \n",
      "Parameters: { \"boosting_type\" } are not used.\n",
      "\n",
      "  bst.update(dtrain, iteration=i, fobj=obj)\n"
     ]
    },
    {
     "name": "stdout",
     "output_type": "stream",
     "text": [
      "Data shapes - Train: (572, 82), Test: (132, 82)\n"
     ]
    },
    {
     "name": "stderr",
     "output_type": "stream",
     "text": [
      "l:\\Programs\\anaconda\\envs\\esg_pred\\Lib\\site-packages\\sklearn\\linear_model\\_ridge.py:215: LinAlgWarning: Ill-conditioned matrix (rcond=9.50466e-27): result may not be accurate.\n",
      "  return linalg.solve(A, Xy, assume_a=\"pos\", overwrite_a=True).T\n",
      "l:\\Programs\\anaconda\\envs\\esg_pred\\Lib\\site-packages\\xgboost\\training.py:183: UserWarning: [08:03:31] WARNING: C:\\actions-runner\\_work\\xgboost\\xgboost\\src\\learner.cc:738: \n",
      "Parameters: { \"boosting_type\" } are not used.\n",
      "\n",
      "  bst.update(dtrain, iteration=i, fobj=obj)\n"
     ]
    },
    {
     "name": "stdout",
     "output_type": "stream",
     "text": [
      "Data shapes - Train: (616, 82), Test: (88, 82)\n"
     ]
    },
    {
     "name": "stderr",
     "output_type": "stream",
     "text": [
      "l:\\Programs\\anaconda\\envs\\esg_pred\\Lib\\site-packages\\sklearn\\linear_model\\_ridge.py:215: LinAlgWarning: Ill-conditioned matrix (rcond=1.01588e-26): result may not be accurate.\n",
      "  return linalg.solve(A, Xy, assume_a=\"pos\", overwrite_a=True).T\n",
      "l:\\Programs\\anaconda\\envs\\esg_pred\\Lib\\site-packages\\xgboost\\training.py:183: UserWarning: [08:03:44] WARNING: C:\\actions-runner\\_work\\xgboost\\xgboost\\src\\learner.cc:738: \n",
      "Parameters: { \"boosting_type\" } are not used.\n",
      "\n",
      "  bst.update(dtrain, iteration=i, fobj=obj)\n"
     ]
    },
    {
     "name": "stdout",
     "output_type": "stream",
     "text": [
      "Data shapes - Train: (572, 82), Test: (132, 82)\n"
     ]
    },
    {
     "name": "stderr",
     "output_type": "stream",
     "text": [
      "l:\\Programs\\anaconda\\envs\\esg_pred\\Lib\\site-packages\\sklearn\\linear_model\\_ridge.py:215: LinAlgWarning: Ill-conditioned matrix (rcond=9.31159e-27): result may not be accurate.\n",
      "  return linalg.solve(A, Xy, assume_a=\"pos\", overwrite_a=True).T\n",
      "l:\\Programs\\anaconda\\envs\\esg_pred\\Lib\\site-packages\\xgboost\\training.py:183: UserWarning: [08:03:56] WARNING: C:\\actions-runner\\_work\\xgboost\\xgboost\\src\\learner.cc:738: \n",
      "Parameters: { \"boosting_type\" } are not used.\n",
      "\n",
      "  bst.update(dtrain, iteration=i, fobj=obj)\n"
     ]
    },
    {
     "name": "stdout",
     "output_type": "stream",
     "text": [
      "Data shapes - Train: (616, 82), Test: (88, 82)\n"
     ]
    },
    {
     "name": "stderr",
     "output_type": "stream",
     "text": [
      "l:\\Programs\\anaconda\\envs\\esg_pred\\Lib\\site-packages\\sklearn\\linear_model\\_ridge.py:215: LinAlgWarning: Ill-conditioned matrix (rcond=1.01252e-26): result may not be accurate.\n",
      "  return linalg.solve(A, Xy, assume_a=\"pos\", overwrite_a=True).T\n",
      "l:\\Programs\\anaconda\\envs\\esg_pred\\Lib\\site-packages\\xgboost\\training.py:183: UserWarning: [08:04:11] WARNING: C:\\actions-runner\\_work\\xgboost\\xgboost\\src\\learner.cc:738: \n",
      "Parameters: { \"boosting_type\" } are not used.\n",
      "\n",
      "  bst.update(dtrain, iteration=i, fobj=obj)\n"
     ]
    },
    {
     "name": "stdout",
     "output_type": "stream",
     "text": [
      "Data shapes - Train: (572, 82), Test: (132, 82)\n"
     ]
    },
    {
     "name": "stderr",
     "output_type": "stream",
     "text": [
      "l:\\Programs\\anaconda\\envs\\esg_pred\\Lib\\site-packages\\sklearn\\linear_model\\_ridge.py:215: LinAlgWarning: Ill-conditioned matrix (rcond=9.93282e-27): result may not be accurate.\n",
      "  return linalg.solve(A, Xy, assume_a=\"pos\", overwrite_a=True).T\n",
      "l:\\Programs\\anaconda\\envs\\esg_pred\\Lib\\site-packages\\xgboost\\training.py:183: UserWarning: [08:04:25] WARNING: C:\\actions-runner\\_work\\xgboost\\xgboost\\src\\learner.cc:738: \n",
      "Parameters: { \"boosting_type\" } are not used.\n",
      "\n",
      "  bst.update(dtrain, iteration=i, fobj=obj)\n"
     ]
    },
    {
     "name": "stdout",
     "output_type": "stream",
     "text": [
      "Data shapes - Train: (440, 83), Test: (264, 83)\n"
     ]
    },
    {
     "name": "stderr",
     "output_type": "stream",
     "text": [
      "l:\\Programs\\anaconda\\envs\\esg_pred\\Lib\\site-packages\\sklearn\\linear_model\\_ridge.py:215: LinAlgWarning: Ill-conditioned matrix (rcond=8.06637e-23): result may not be accurate.\n",
      "  return linalg.solve(A, Xy, assume_a=\"pos\", overwrite_a=True).T\n",
      "l:\\Programs\\anaconda\\envs\\esg_pred\\Lib\\site-packages\\xgboost\\training.py:183: UserWarning: [08:04:36] WARNING: C:\\actions-runner\\_work\\xgboost\\xgboost\\src\\learner.cc:738: \n",
      "Parameters: { \"boosting_type\" } are not used.\n",
      "\n",
      "  bst.update(dtrain, iteration=i, fobj=obj)\n"
     ]
    },
    {
     "name": "stdout",
     "output_type": "stream",
     "text": [
      "Data shapes - Train: (484, 83), Test: (220, 83)\n"
     ]
    },
    {
     "name": "stderr",
     "output_type": "stream",
     "text": [
      "l:\\Programs\\anaconda\\envs\\esg_pred\\Lib\\site-packages\\sklearn\\linear_model\\_ridge.py:215: LinAlgWarning: Ill-conditioned matrix (rcond=1.02894e-27): result may not be accurate.\n",
      "  return linalg.solve(A, Xy, assume_a=\"pos\", overwrite_a=True).T\n",
      "l:\\Programs\\anaconda\\envs\\esg_pred\\Lib\\site-packages\\xgboost\\training.py:183: UserWarning: [08:04:46] WARNING: C:\\actions-runner\\_work\\xgboost\\xgboost\\src\\learner.cc:738: \n",
      "Parameters: { \"boosting_type\" } are not used.\n",
      "\n",
      "  bst.update(dtrain, iteration=i, fobj=obj)\n"
     ]
    },
    {
     "name": "stdout",
     "output_type": "stream",
     "text": [
      "Data shapes - Train: (484, 83), Test: (220, 83)\n"
     ]
    },
    {
     "name": "stderr",
     "output_type": "stream",
     "text": [
      "l:\\Programs\\anaconda\\envs\\esg_pred\\Lib\\site-packages\\sklearn\\linear_model\\_ridge.py:215: LinAlgWarning: Ill-conditioned matrix (rcond=1.08112e-26): result may not be accurate.\n",
      "  return linalg.solve(A, Xy, assume_a=\"pos\", overwrite_a=True).T\n",
      "l:\\Programs\\anaconda\\envs\\esg_pred\\Lib\\site-packages\\xgboost\\training.py:183: UserWarning: [08:04:56] WARNING: C:\\actions-runner\\_work\\xgboost\\xgboost\\src\\learner.cc:738: \n",
      "Parameters: { \"boosting_type\" } are not used.\n",
      "\n",
      "  bst.update(dtrain, iteration=i, fobj=obj)\n"
     ]
    },
    {
     "name": "stdout",
     "output_type": "stream",
     "text": [
      "Data shapes - Train: (320, 83), Test: (80, 83)\n"
     ]
    },
    {
     "name": "stderr",
     "output_type": "stream",
     "text": [
      "l:\\Programs\\anaconda\\envs\\esg_pred\\Lib\\site-packages\\sklearn\\linear_model\\_ridge.py:215: LinAlgWarning: Ill-conditioned matrix (rcond=2.20859e-26): result may not be accurate.\n",
      "  return linalg.solve(A, Xy, assume_a=\"pos\", overwrite_a=True).T\n",
      "l:\\Programs\\anaconda\\envs\\esg_pred\\Lib\\site-packages\\xgboost\\training.py:183: UserWarning: [08:05:05] WARNING: C:\\actions-runner\\_work\\xgboost\\xgboost\\src\\learner.cc:738: \n",
      "Parameters: { \"boosting_type\" } are not used.\n",
      "\n",
      "  bst.update(dtrain, iteration=i, fobj=obj)\n"
     ]
    },
    {
     "name": "stdout",
     "output_type": "stream",
     "text": [
      "Data shapes - Train: (325, 82), Test: (75, 82)\n"
     ]
    },
    {
     "name": "stderr",
     "output_type": "stream",
     "text": [
      "l:\\Programs\\anaconda\\envs\\esg_pred\\Lib\\site-packages\\sklearn\\linear_model\\_ridge.py:215: LinAlgWarning: Ill-conditioned matrix (rcond=2.43635e-23): result may not be accurate.\n",
      "  return linalg.solve(A, Xy, assume_a=\"pos\", overwrite_a=True).T\n",
      "l:\\Programs\\anaconda\\envs\\esg_pred\\Lib\\site-packages\\xgboost\\training.py:183: UserWarning: [08:05:14] WARNING: C:\\actions-runner\\_work\\xgboost\\xgboost\\src\\learner.cc:738: \n",
      "Parameters: { \"boosting_type\" } are not used.\n",
      "\n",
      "  bst.update(dtrain, iteration=i, fobj=obj)\n"
     ]
    },
    {
     "name": "stdout",
     "output_type": "stream",
     "text": [
      "Data shapes - Train: (325, 82), Test: (75, 82)\n"
     ]
    },
    {
     "name": "stderr",
     "output_type": "stream",
     "text": [
      "l:\\Programs\\anaconda\\envs\\esg_pred\\Lib\\site-packages\\sklearn\\linear_model\\_ridge.py:215: LinAlgWarning: Ill-conditioned matrix (rcond=2.02553e-26): result may not be accurate.\n",
      "  return linalg.solve(A, Xy, assume_a=\"pos\", overwrite_a=True).T\n",
      "l:\\Programs\\anaconda\\envs\\esg_pred\\Lib\\site-packages\\xgboost\\training.py:183: UserWarning: [08:05:23] WARNING: C:\\actions-runner\\_work\\xgboost\\xgboost\\src\\learner.cc:738: \n",
      "Parameters: { \"boosting_type\" } are not used.\n",
      "\n",
      "  bst.update(dtrain, iteration=i, fobj=obj)\n"
     ]
    },
    {
     "name": "stdout",
     "output_type": "stream",
     "text": [
      "Data shapes - Train: (350, 82), Test: (50, 82)\n"
     ]
    },
    {
     "name": "stderr",
     "output_type": "stream",
     "text": [
      "l:\\Programs\\anaconda\\envs\\esg_pred\\Lib\\site-packages\\sklearn\\linear_model\\_ridge.py:215: LinAlgWarning: Ill-conditioned matrix (rcond=2.17141e-26): result may not be accurate.\n",
      "  return linalg.solve(A, Xy, assume_a=\"pos\", overwrite_a=True).T\n",
      "l:\\Programs\\anaconda\\envs\\esg_pred\\Lib\\site-packages\\xgboost\\training.py:183: UserWarning: [08:05:33] WARNING: C:\\actions-runner\\_work\\xgboost\\xgboost\\src\\learner.cc:738: \n",
      "Parameters: { \"boosting_type\" } are not used.\n",
      "\n",
      "  bst.update(dtrain, iteration=i, fobj=obj)\n"
     ]
    },
    {
     "name": "stdout",
     "output_type": "stream",
     "text": [
      "Data shapes - Train: (325, 82), Test: (75, 82)\n"
     ]
    },
    {
     "name": "stderr",
     "output_type": "stream",
     "text": [
      "l:\\Programs\\anaconda\\envs\\esg_pred\\Lib\\site-packages\\sklearn\\linear_model\\_ridge.py:215: LinAlgWarning: Ill-conditioned matrix (rcond=1.93281e-26): result may not be accurate.\n",
      "  return linalg.solve(A, Xy, assume_a=\"pos\", overwrite_a=True).T\n",
      "l:\\Programs\\anaconda\\envs\\esg_pred\\Lib\\site-packages\\xgboost\\training.py:183: UserWarning: [08:05:41] WARNING: C:\\actions-runner\\_work\\xgboost\\xgboost\\src\\learner.cc:738: \n",
      "Parameters: { \"boosting_type\" } are not used.\n",
      "\n",
      "  bst.update(dtrain, iteration=i, fobj=obj)\n"
     ]
    },
    {
     "name": "stdout",
     "output_type": "stream",
     "text": [
      "Data shapes - Train: (350, 82), Test: (50, 82)\n"
     ]
    },
    {
     "name": "stderr",
     "output_type": "stream",
     "text": [
      "l:\\Programs\\anaconda\\envs\\esg_pred\\Lib\\site-packages\\sklearn\\linear_model\\_ridge.py:215: LinAlgWarning: Ill-conditioned matrix (rcond=2.16982e-26): result may not be accurate.\n",
      "  return linalg.solve(A, Xy, assume_a=\"pos\", overwrite_a=True).T\n",
      "l:\\Programs\\anaconda\\envs\\esg_pred\\Lib\\site-packages\\xgboost\\training.py:183: UserWarning: [08:05:50] WARNING: C:\\actions-runner\\_work\\xgboost\\xgboost\\src\\learner.cc:738: \n",
      "Parameters: { \"boosting_type\" } are not used.\n",
      "\n",
      "  bst.update(dtrain, iteration=i, fobj=obj)\n"
     ]
    },
    {
     "name": "stdout",
     "output_type": "stream",
     "text": [
      "Data shapes - Train: (325, 82), Test: (75, 82)\n"
     ]
    },
    {
     "name": "stderr",
     "output_type": "stream",
     "text": [
      "l:\\Programs\\anaconda\\envs\\esg_pred\\Lib\\site-packages\\sklearn\\linear_model\\_ridge.py:215: LinAlgWarning: Ill-conditioned matrix (rcond=2.07255e-26): result may not be accurate.\n",
      "  return linalg.solve(A, Xy, assume_a=\"pos\", overwrite_a=True).T\n",
      "l:\\Programs\\anaconda\\envs\\esg_pred\\Lib\\site-packages\\xgboost\\training.py:183: UserWarning: [08:05:59] WARNING: C:\\actions-runner\\_work\\xgboost\\xgboost\\src\\learner.cc:738: \n",
      "Parameters: { \"boosting_type\" } are not used.\n",
      "\n",
      "  bst.update(dtrain, iteration=i, fobj=obj)\n"
     ]
    },
    {
     "name": "stdout",
     "output_type": "stream",
     "text": [
      "Data shapes - Train: (250, 83), Test: (150, 83)\n"
     ]
    },
    {
     "name": "stderr",
     "output_type": "stream",
     "text": [
      "l:\\Programs\\anaconda\\envs\\esg_pred\\Lib\\site-packages\\sklearn\\linear_model\\_ridge.py:215: LinAlgWarning: Ill-conditioned matrix (rcond=8.88301e-23): result may not be accurate.\n",
      "  return linalg.solve(A, Xy, assume_a=\"pos\", overwrite_a=True).T\n",
      "l:\\Programs\\anaconda\\envs\\esg_pred\\Lib\\site-packages\\xgboost\\training.py:183: UserWarning: [08:06:07] WARNING: C:\\actions-runner\\_work\\xgboost\\xgboost\\src\\learner.cc:738: \n",
      "Parameters: { \"boosting_type\" } are not used.\n",
      "\n",
      "  bst.update(dtrain, iteration=i, fobj=obj)\n"
     ]
    },
    {
     "name": "stdout",
     "output_type": "stream",
     "text": [
      "Data shapes - Train: (275, 83), Test: (125, 83)\n"
     ]
    },
    {
     "name": "stderr",
     "output_type": "stream",
     "text": [
      "l:\\Programs\\anaconda\\envs\\esg_pred\\Lib\\site-packages\\sklearn\\linear_model\\_ridge.py:215: LinAlgWarning: Ill-conditioned matrix (rcond=2.10952e-26): result may not be accurate.\n",
      "  return linalg.solve(A, Xy, assume_a=\"pos\", overwrite_a=True).T\n",
      "l:\\Programs\\anaconda\\envs\\esg_pred\\Lib\\site-packages\\xgboost\\training.py:183: UserWarning: [08:06:14] WARNING: C:\\actions-runner\\_work\\xgboost\\xgboost\\src\\learner.cc:738: \n",
      "Parameters: { \"boosting_type\" } are not used.\n",
      "\n",
      "  bst.update(dtrain, iteration=i, fobj=obj)\n"
     ]
    },
    {
     "name": "stdout",
     "output_type": "stream",
     "text": [
      "Data shapes - Train: (275, 83), Test: (125, 83)\n"
     ]
    },
    {
     "name": "stderr",
     "output_type": "stream",
     "text": [
      "l:\\Programs\\anaconda\\envs\\esg_pred\\Lib\\site-packages\\sklearn\\linear_model\\_ridge.py:215: LinAlgWarning: Ill-conditioned matrix (rcond=2.02872e-26): result may not be accurate.\n",
      "  return linalg.solve(A, Xy, assume_a=\"pos\", overwrite_a=True).T\n",
      "l:\\Programs\\anaconda\\envs\\esg_pred\\Lib\\site-packages\\xgboost\\training.py:183: UserWarning: [08:06:22] WARNING: C:\\actions-runner\\_work\\xgboost\\xgboost\\src\\learner.cc:738: \n",
      "Parameters: { \"boosting_type\" } are not used.\n",
      "\n",
      "  bst.update(dtrain, iteration=i, fobj=obj)\n"
     ]
    },
    {
     "name": "stdout",
     "output_type": "stream",
     "text": [
      "Data shapes - Train: (291, 83), Test: (73, 83)\n"
     ]
    },
    {
     "name": "stderr",
     "output_type": "stream",
     "text": [
      "l:\\Programs\\anaconda\\envs\\esg_pred\\Lib\\site-packages\\sklearn\\linear_model\\_ridge.py:215: LinAlgWarning: Ill-conditioned matrix (rcond=3.99903e-26): result may not be accurate.\n",
      "  return linalg.solve(A, Xy, assume_a=\"pos\", overwrite_a=True).T\n",
      "l:\\Programs\\anaconda\\envs\\esg_pred\\Lib\\site-packages\\xgboost\\training.py:183: UserWarning: [08:06:33] WARNING: C:\\actions-runner\\_work\\xgboost\\xgboost\\src\\learner.cc:738: \n",
      "Parameters: { \"boosting_type\" } are not used.\n",
      "\n",
      "  bst.update(dtrain, iteration=i, fobj=obj)\n"
     ]
    },
    {
     "name": "stdout",
     "output_type": "stream",
     "text": [
      "Data shapes - Train: (301, 82), Test: (63, 82)\n"
     ]
    },
    {
     "name": "stderr",
     "output_type": "stream",
     "text": [
      "l:\\Programs\\anaconda\\envs\\esg_pred\\Lib\\site-packages\\sklearn\\linear_model\\_ridge.py:215: LinAlgWarning: Ill-conditioned matrix (rcond=2.27771e-23): result may not be accurate.\n",
      "  return linalg.solve(A, Xy, assume_a=\"pos\", overwrite_a=True).T\n",
      "l:\\Programs\\anaconda\\envs\\esg_pred\\Lib\\site-packages\\xgboost\\training.py:183: UserWarning: [08:06:44] WARNING: C:\\actions-runner\\_work\\xgboost\\xgboost\\src\\learner.cc:738: \n",
      "Parameters: { \"boosting_type\" } are not used.\n",
      "\n",
      "  bst.update(dtrain, iteration=i, fobj=obj)\n"
     ]
    },
    {
     "name": "stdout",
     "output_type": "stream",
     "text": [
      "Data shapes - Train: (275, 82), Test: (89, 82)\n"
     ]
    },
    {
     "name": "stderr",
     "output_type": "stream",
     "text": [
      "l:\\Programs\\anaconda\\envs\\esg_pred\\Lib\\site-packages\\sklearn\\linear_model\\_ridge.py:215: LinAlgWarning: Ill-conditioned matrix (rcond=3.82535e-26): result may not be accurate.\n",
      "  return linalg.solve(A, Xy, assume_a=\"pos\", overwrite_a=True).T\n",
      "l:\\Programs\\anaconda\\envs\\esg_pred\\Lib\\site-packages\\xgboost\\training.py:183: UserWarning: [08:06:54] WARNING: C:\\actions-runner\\_work\\xgboost\\xgboost\\src\\learner.cc:738: \n",
      "Parameters: { \"boosting_type\" } are not used.\n",
      "\n",
      "  bst.update(dtrain, iteration=i, fobj=obj)\n"
     ]
    },
    {
     "name": "stdout",
     "output_type": "stream",
     "text": [
      "Data shapes - Train: (322, 82), Test: (42, 82)\n"
     ]
    },
    {
     "name": "stderr",
     "output_type": "stream",
     "text": [
      "l:\\Programs\\anaconda\\envs\\esg_pred\\Lib\\site-packages\\sklearn\\linear_model\\_ridge.py:215: LinAlgWarning: Ill-conditioned matrix (rcond=6.88608e-30): result may not be accurate.\n",
      "  return linalg.solve(A, Xy, assume_a=\"pos\", overwrite_a=True).T\n",
      "l:\\Programs\\anaconda\\envs\\esg_pred\\Lib\\site-packages\\xgboost\\training.py:183: UserWarning: [08:07:06] WARNING: C:\\actions-runner\\_work\\xgboost\\xgboost\\src\\learner.cc:738: \n",
      "Parameters: { \"boosting_type\" } are not used.\n",
      "\n",
      "  bst.update(dtrain, iteration=i, fobj=obj)\n"
     ]
    },
    {
     "name": "stdout",
     "output_type": "stream",
     "text": [
      "Data shapes - Train: (250, 82), Test: (114, 82)\n"
     ]
    },
    {
     "name": "stderr",
     "output_type": "stream",
     "text": [
      "l:\\Programs\\anaconda\\envs\\esg_pred\\Lib\\site-packages\\sklearn\\linear_model\\_ridge.py:215: LinAlgWarning: Ill-conditioned matrix (rcond=3.95053e-27): result may not be accurate.\n",
      "  return linalg.solve(A, Xy, assume_a=\"pos\", overwrite_a=True).T\n",
      "l:\\Programs\\anaconda\\envs\\esg_pred\\Lib\\site-packages\\xgboost\\training.py:183: UserWarning: [08:07:15] WARNING: C:\\actions-runner\\_work\\xgboost\\xgboost\\src\\learner.cc:738: \n",
      "Parameters: { \"boosting_type\" } are not used.\n",
      "\n",
      "  bst.update(dtrain, iteration=i, fobj=obj)\n"
     ]
    },
    {
     "name": "stdout",
     "output_type": "stream",
     "text": [
      "Data shapes - Train: (327, 82), Test: (37, 82)\n"
     ]
    },
    {
     "name": "stderr",
     "output_type": "stream",
     "text": [
      "l:\\Programs\\anaconda\\envs\\esg_pred\\Lib\\site-packages\\sklearn\\linear_model\\_ridge.py:215: LinAlgWarning: Ill-conditioned matrix (rcond=4.31965e-27): result may not be accurate.\n",
      "  return linalg.solve(A, Xy, assume_a=\"pos\", overwrite_a=True).T\n",
      "l:\\Programs\\anaconda\\envs\\esg_pred\\Lib\\site-packages\\xgboost\\training.py:183: UserWarning: [08:07:28] WARNING: C:\\actions-runner\\_work\\xgboost\\xgboost\\src\\learner.cc:738: \n",
      "Parameters: { \"boosting_type\" } are not used.\n",
      "\n",
      "  bst.update(dtrain, iteration=i, fobj=obj)\n"
     ]
    },
    {
     "name": "stdout",
     "output_type": "stream",
     "text": [
      "Data shapes - Train: (345, 82), Test: (19, 82)\n"
     ]
    },
    {
     "name": "stderr",
     "output_type": "stream",
     "text": [
      "l:\\Programs\\anaconda\\envs\\esg_pred\\Lib\\site-packages\\sklearn\\linear_model\\_ridge.py:215: LinAlgWarning: Ill-conditioned matrix (rcond=5.30054e-28): result may not be accurate.\n",
      "  return linalg.solve(A, Xy, assume_a=\"pos\", overwrite_a=True).T\n",
      "l:\\Programs\\anaconda\\envs\\esg_pred\\Lib\\site-packages\\xgboost\\training.py:183: UserWarning: [08:07:41] WARNING: C:\\actions-runner\\_work\\xgboost\\xgboost\\src\\learner.cc:738: \n",
      "Parameters: { \"boosting_type\" } are not used.\n",
      "\n",
      "  bst.update(dtrain, iteration=i, fobj=obj)\n"
     ]
    },
    {
     "name": "stdout",
     "output_type": "stream",
     "text": [
      "Data shapes - Train: (251, 83), Test: (113, 83)\n"
     ]
    },
    {
     "name": "stderr",
     "output_type": "stream",
     "text": [
      "l:\\Programs\\anaconda\\envs\\esg_pred\\Lib\\site-packages\\sklearn\\linear_model\\_ridge.py:215: LinAlgWarning: Ill-conditioned matrix (rcond=8.63406e-23): result may not be accurate.\n",
      "  return linalg.solve(A, Xy, assume_a=\"pos\", overwrite_a=True).T\n",
      "l:\\Programs\\anaconda\\envs\\esg_pred\\Lib\\site-packages\\xgboost\\training.py:183: UserWarning: [08:07:52] WARNING: C:\\actions-runner\\_work\\xgboost\\xgboost\\src\\learner.cc:738: \n",
      "Parameters: { \"boosting_type\" } are not used.\n",
      "\n",
      "  bst.update(dtrain, iteration=i, fobj=obj)\n"
     ]
    },
    {
     "name": "stdout",
     "output_type": "stream",
     "text": [
      "Data shapes - Train: (249, 83), Test: (115, 83)\n"
     ]
    },
    {
     "name": "stderr",
     "output_type": "stream",
     "text": [
      "l:\\Programs\\anaconda\\envs\\esg_pred\\Lib\\site-packages\\sklearn\\linear_model\\_ridge.py:215: LinAlgWarning: Ill-conditioned matrix (rcond=4.14663e-26): result may not be accurate.\n",
      "  return linalg.solve(A, Xy, assume_a=\"pos\", overwrite_a=True).T\n",
      "l:\\Programs\\anaconda\\envs\\esg_pred\\Lib\\site-packages\\xgboost\\training.py:183: UserWarning: [08:08:01] WARNING: C:\\actions-runner\\_work\\xgboost\\xgboost\\src\\learner.cc:738: \n",
      "Parameters: { \"boosting_type\" } are not used.\n",
      "\n",
      "  bst.update(dtrain, iteration=i, fobj=obj)\n"
     ]
    },
    {
     "name": "stdout",
     "output_type": "stream",
     "text": [
      "Data shapes - Train: (228, 83), Test: (136, 83)\n"
     ]
    },
    {
     "name": "stderr",
     "output_type": "stream",
     "text": [
      "l:\\Programs\\anaconda\\envs\\esg_pred\\Lib\\site-packages\\sklearn\\linear_model\\_ridge.py:215: LinAlgWarning: Ill-conditioned matrix (rcond=5.49227e-28): result may not be accurate.\n",
      "  return linalg.solve(A, Xy, assume_a=\"pos\", overwrite_a=True).T\n",
      "l:\\Programs\\anaconda\\envs\\esg_pred\\Lib\\site-packages\\xgboost\\training.py:183: UserWarning: [08:08:11] WARNING: C:\\actions-runner\\_work\\xgboost\\xgboost\\src\\learner.cc:738: \n",
      "Parameters: { \"boosting_type\" } are not used.\n",
      "\n",
      "  bst.update(dtrain, iteration=i, fobj=obj)\n"
     ]
    },
    {
     "name": "stdout",
     "output_type": "stream",
     "text": [
      "Data shapes - Train: (113, 83), Test: (29, 83)\n"
     ]
    },
    {
     "name": "stderr",
     "output_type": "stream",
     "text": [
      "l:\\Programs\\anaconda\\envs\\esg_pred\\Lib\\site-packages\\sklearn\\linear_model\\_ridge.py:215: LinAlgWarning: Ill-conditioned matrix (rcond=1.49297e-21): result may not be accurate.\n",
      "  return linalg.solve(A, Xy, assume_a=\"pos\", overwrite_a=True).T\n",
      "l:\\Programs\\anaconda\\envs\\esg_pred\\Lib\\site-packages\\xgboost\\training.py:183: UserWarning: [08:08:16] WARNING: C:\\actions-runner\\_work\\xgboost\\xgboost\\src\\learner.cc:738: \n",
      "Parameters: { \"boosting_type\" } are not used.\n",
      "\n",
      "  bst.update(dtrain, iteration=i, fobj=obj)\n"
     ]
    },
    {
     "name": "stdout",
     "output_type": "stream",
     "text": [
      "Data shapes - Train: (87, 78), Test: (55, 78)\n"
     ]
    },
    {
     "name": "stderr",
     "output_type": "stream",
     "text": [
      "l:\\Programs\\anaconda\\envs\\esg_pred\\Lib\\site-packages\\sklearn\\linear_model\\_ridge.py:215: LinAlgWarning: Ill-conditioned matrix (rcond=5.52641e-23): result may not be accurate.\n",
      "  return linalg.solve(A, Xy, assume_a=\"pos\", overwrite_a=True).T\n",
      "l:\\Programs\\anaconda\\envs\\esg_pred\\Lib\\site-packages\\xgboost\\training.py:183: UserWarning: [08:08:20] WARNING: C:\\actions-runner\\_work\\xgboost\\xgboost\\src\\learner.cc:738: \n",
      "Parameters: { \"boosting_type\" } are not used.\n",
      "\n",
      "  bst.update(dtrain, iteration=i, fobj=obj)\n"
     ]
    },
    {
     "name": "stdout",
     "output_type": "stream",
     "text": [
      "Data shapes - Train: (55, 78), Test: (87, 78)\n"
     ]
    },
    {
     "name": "stderr",
     "output_type": "stream",
     "text": [
      "l:\\Programs\\anaconda\\envs\\esg_pred\\Lib\\site-packages\\sklearn\\linear_model\\_ridge.py:254: UserWarning: Singular matrix in solving dual problem. Using least-squares solution instead.\n",
      "  warnings.warn(\n",
      "l:\\Programs\\anaconda\\envs\\esg_pred\\Lib\\site-packages\\xgboost\\training.py:183: UserWarning: [08:08:23] WARNING: C:\\actions-runner\\_work\\xgboost\\xgboost\\src\\learner.cc:738: \n",
      "Parameters: { \"boosting_type\" } are not used.\n",
      "\n",
      "  bst.update(dtrain, iteration=i, fobj=obj)\n"
     ]
    },
    {
     "name": "stdout",
     "output_type": "stream",
     "text": [
      "Data shapes - Train: (81, 82), Test: (61, 82)\n"
     ]
    },
    {
     "name": "stderr",
     "output_type": "stream",
     "text": [
      "l:\\Programs\\anaconda\\envs\\esg_pred\\Lib\\site-packages\\sklearn\\linear_model\\_ridge.py:215: LinAlgWarning: Ill-conditioned matrix (rcond=3.89976e-22): result may not be accurate.\n",
      "  return linalg.solve(A, Xy, assume_a=\"pos\", overwrite_a=True).T\n",
      "l:\\Programs\\anaconda\\envs\\esg_pred\\Lib\\site-packages\\xgboost\\training.py:183: UserWarning: [08:08:26] WARNING: C:\\actions-runner\\_work\\xgboost\\xgboost\\src\\learner.cc:738: \n",
      "Parameters: { \"boosting_type\" } are not used.\n",
      "\n",
      "  bst.update(dtrain, iteration=i, fobj=obj)\n"
     ]
    },
    {
     "name": "stdout",
     "output_type": "stream",
     "text": [
      "Data shapes - Train: (61, 82), Test: (81, 82)\n"
     ]
    },
    {
     "name": "stderr",
     "output_type": "stream",
     "text": [
      "l:\\Programs\\anaconda\\envs\\esg_pred\\Lib\\site-packages\\sklearn\\linear_model\\_ridge.py:254: UserWarning: Singular matrix in solving dual problem. Using least-squares solution instead.\n",
      "  warnings.warn(\n",
      "l:\\Programs\\anaconda\\envs\\esg_pred\\Lib\\site-packages\\xgboost\\training.py:183: UserWarning: [08:08:29] WARNING: C:\\actions-runner\\_work\\xgboost\\xgboost\\src\\learner.cc:738: \n",
      "Parameters: { \"boosting_type\" } are not used.\n",
      "\n",
      "  bst.update(dtrain, iteration=i, fobj=obj)\n"
     ]
    },
    {
     "name": "stdout",
     "output_type": "stream",
     "text": [
      "Data shapes - Train: (563, 83), Test: (141, 83)\n"
     ]
    },
    {
     "name": "stderr",
     "output_type": "stream",
     "text": [
      "l:\\Programs\\anaconda\\envs\\esg_pred\\Lib\\site-packages\\sklearn\\linear_model\\_ridge.py:215: LinAlgWarning: Ill-conditioned matrix (rcond=1.03898e-26): result may not be accurate.\n",
      "  return linalg.solve(A, Xy, assume_a=\"pos\", overwrite_a=True).T\n",
      "l:\\Programs\\anaconda\\envs\\esg_pred\\Lib\\site-packages\\xgboost\\training.py:183: UserWarning: [08:08:41] WARNING: C:\\actions-runner\\_work\\xgboost\\xgboost\\src\\learner.cc:738: \n",
      "Parameters: { \"boosting_type\" } are not used.\n",
      "\n",
      "  bst.update(dtrain, iteration=i, fobj=obj)\n"
     ]
    },
    {
     "name": "stdout",
     "output_type": "stream",
     "text": [
      "Data shapes - Train: (572, 82), Test: (132, 82)\n"
     ]
    },
    {
     "name": "stderr",
     "output_type": "stream",
     "text": [
      "l:\\Programs\\anaconda\\envs\\esg_pred\\Lib\\site-packages\\sklearn\\linear_model\\_ridge.py:215: LinAlgWarning: Ill-conditioned matrix (rcond=7.14619e-23): result may not be accurate.\n",
      "  return linalg.solve(A, Xy, assume_a=\"pos\", overwrite_a=True).T\n",
      "l:\\Programs\\anaconda\\envs\\esg_pred\\Lib\\site-packages\\xgboost\\training.py:183: UserWarning: [08:08:54] WARNING: C:\\actions-runner\\_work\\xgboost\\xgboost\\src\\learner.cc:738: \n",
      "Parameters: { \"boosting_type\" } are not used.\n",
      "\n",
      "  bst.update(dtrain, iteration=i, fobj=obj)\n"
     ]
    },
    {
     "name": "stdout",
     "output_type": "stream",
     "text": [
      "Data shapes - Train: (572, 82), Test: (132, 82)\n"
     ]
    },
    {
     "name": "stderr",
     "output_type": "stream",
     "text": [
      "l:\\Programs\\anaconda\\envs\\esg_pred\\Lib\\site-packages\\sklearn\\linear_model\\_ridge.py:215: LinAlgWarning: Ill-conditioned matrix (rcond=9.50466e-27): result may not be accurate.\n",
      "  return linalg.solve(A, Xy, assume_a=\"pos\", overwrite_a=True).T\n",
      "l:\\Programs\\anaconda\\envs\\esg_pred\\Lib\\site-packages\\xgboost\\training.py:183: UserWarning: [08:09:06] WARNING: C:\\actions-runner\\_work\\xgboost\\xgboost\\src\\learner.cc:738: \n",
      "Parameters: { \"boosting_type\" } are not used.\n",
      "\n",
      "  bst.update(dtrain, iteration=i, fobj=obj)\n"
     ]
    },
    {
     "name": "stdout",
     "output_type": "stream",
     "text": [
      "Data shapes - Train: (616, 82), Test: (88, 82)\n"
     ]
    },
    {
     "name": "stderr",
     "output_type": "stream",
     "text": [
      "l:\\Programs\\anaconda\\envs\\esg_pred\\Lib\\site-packages\\sklearn\\linear_model\\_ridge.py:215: LinAlgWarning: Ill-conditioned matrix (rcond=1.01588e-26): result may not be accurate.\n",
      "  return linalg.solve(A, Xy, assume_a=\"pos\", overwrite_a=True).T\n",
      "l:\\Programs\\anaconda\\envs\\esg_pred\\Lib\\site-packages\\xgboost\\training.py:183: UserWarning: [08:09:18] WARNING: C:\\actions-runner\\_work\\xgboost\\xgboost\\src\\learner.cc:738: \n",
      "Parameters: { \"boosting_type\" } are not used.\n",
      "\n",
      "  bst.update(dtrain, iteration=i, fobj=obj)\n"
     ]
    },
    {
     "name": "stdout",
     "output_type": "stream",
     "text": [
      "Data shapes - Train: (572, 82), Test: (132, 82)\n"
     ]
    },
    {
     "name": "stderr",
     "output_type": "stream",
     "text": [
      "l:\\Programs\\anaconda\\envs\\esg_pred\\Lib\\site-packages\\sklearn\\linear_model\\_ridge.py:215: LinAlgWarning: Ill-conditioned matrix (rcond=9.31159e-27): result may not be accurate.\n",
      "  return linalg.solve(A, Xy, assume_a=\"pos\", overwrite_a=True).T\n",
      "l:\\Programs\\anaconda\\envs\\esg_pred\\Lib\\site-packages\\xgboost\\training.py:183: UserWarning: [08:09:30] WARNING: C:\\actions-runner\\_work\\xgboost\\xgboost\\src\\learner.cc:738: \n",
      "Parameters: { \"boosting_type\" } are not used.\n",
      "\n",
      "  bst.update(dtrain, iteration=i, fobj=obj)\n"
     ]
    },
    {
     "name": "stdout",
     "output_type": "stream",
     "text": [
      "Data shapes - Train: (616, 82), Test: (88, 82)\n"
     ]
    },
    {
     "name": "stderr",
     "output_type": "stream",
     "text": [
      "l:\\Programs\\anaconda\\envs\\esg_pred\\Lib\\site-packages\\sklearn\\linear_model\\_ridge.py:215: LinAlgWarning: Ill-conditioned matrix (rcond=1.01252e-26): result may not be accurate.\n",
      "  return linalg.solve(A, Xy, assume_a=\"pos\", overwrite_a=True).T\n",
      "l:\\Programs\\anaconda\\envs\\esg_pred\\Lib\\site-packages\\xgboost\\training.py:183: UserWarning: [08:09:43] WARNING: C:\\actions-runner\\_work\\xgboost\\xgboost\\src\\learner.cc:738: \n",
      "Parameters: { \"boosting_type\" } are not used.\n",
      "\n",
      "  bst.update(dtrain, iteration=i, fobj=obj)\n"
     ]
    },
    {
     "name": "stdout",
     "output_type": "stream",
     "text": [
      "Data shapes - Train: (572, 82), Test: (132, 82)\n"
     ]
    },
    {
     "name": "stderr",
     "output_type": "stream",
     "text": [
      "l:\\Programs\\anaconda\\envs\\esg_pred\\Lib\\site-packages\\sklearn\\linear_model\\_ridge.py:215: LinAlgWarning: Ill-conditioned matrix (rcond=9.93282e-27): result may not be accurate.\n",
      "  return linalg.solve(A, Xy, assume_a=\"pos\", overwrite_a=True).T\n",
      "l:\\Programs\\anaconda\\envs\\esg_pred\\Lib\\site-packages\\xgboost\\training.py:183: UserWarning: [08:09:54] WARNING: C:\\actions-runner\\_work\\xgboost\\xgboost\\src\\learner.cc:738: \n",
      "Parameters: { \"boosting_type\" } are not used.\n",
      "\n",
      "  bst.update(dtrain, iteration=i, fobj=obj)\n"
     ]
    },
    {
     "name": "stdout",
     "output_type": "stream",
     "text": [
      "Data shapes - Train: (440, 83), Test: (264, 83)\n"
     ]
    },
    {
     "name": "stderr",
     "output_type": "stream",
     "text": [
      "l:\\Programs\\anaconda\\envs\\esg_pred\\Lib\\site-packages\\sklearn\\linear_model\\_ridge.py:215: LinAlgWarning: Ill-conditioned matrix (rcond=8.06637e-23): result may not be accurate.\n",
      "  return linalg.solve(A, Xy, assume_a=\"pos\", overwrite_a=True).T\n",
      "l:\\Programs\\anaconda\\envs\\esg_pred\\Lib\\site-packages\\xgboost\\training.py:183: UserWarning: [08:10:05] WARNING: C:\\actions-runner\\_work\\xgboost\\xgboost\\src\\learner.cc:738: \n",
      "Parameters: { \"boosting_type\" } are not used.\n",
      "\n",
      "  bst.update(dtrain, iteration=i, fobj=obj)\n"
     ]
    },
    {
     "name": "stdout",
     "output_type": "stream",
     "text": [
      "Data shapes - Train: (484, 83), Test: (220, 83)\n"
     ]
    },
    {
     "name": "stderr",
     "output_type": "stream",
     "text": [
      "l:\\Programs\\anaconda\\envs\\esg_pred\\Lib\\site-packages\\sklearn\\linear_model\\_ridge.py:215: LinAlgWarning: Ill-conditioned matrix (rcond=1.02894e-27): result may not be accurate.\n",
      "  return linalg.solve(A, Xy, assume_a=\"pos\", overwrite_a=True).T\n",
      "l:\\Programs\\anaconda\\envs\\esg_pred\\Lib\\site-packages\\xgboost\\training.py:183: UserWarning: [08:10:15] WARNING: C:\\actions-runner\\_work\\xgboost\\xgboost\\src\\learner.cc:738: \n",
      "Parameters: { \"boosting_type\" } are not used.\n",
      "\n",
      "  bst.update(dtrain, iteration=i, fobj=obj)\n"
     ]
    },
    {
     "name": "stdout",
     "output_type": "stream",
     "text": [
      "Data shapes - Train: (484, 83), Test: (220, 83)\n"
     ]
    },
    {
     "name": "stderr",
     "output_type": "stream",
     "text": [
      "l:\\Programs\\anaconda\\envs\\esg_pred\\Lib\\site-packages\\sklearn\\linear_model\\_ridge.py:215: LinAlgWarning: Ill-conditioned matrix (rcond=1.08112e-26): result may not be accurate.\n",
      "  return linalg.solve(A, Xy, assume_a=\"pos\", overwrite_a=True).T\n",
      "l:\\Programs\\anaconda\\envs\\esg_pred\\Lib\\site-packages\\xgboost\\training.py:183: UserWarning: [08:10:25] WARNING: C:\\actions-runner\\_work\\xgboost\\xgboost\\src\\learner.cc:738: \n",
      "Parameters: { \"boosting_type\" } are not used.\n",
      "\n",
      "  bst.update(dtrain, iteration=i, fobj=obj)\n"
     ]
    },
    {
     "name": "stdout",
     "output_type": "stream",
     "text": [
      "Data shapes - Train: (320, 83), Test: (80, 83)\n"
     ]
    },
    {
     "name": "stderr",
     "output_type": "stream",
     "text": [
      "l:\\Programs\\anaconda\\envs\\esg_pred\\Lib\\site-packages\\sklearn\\linear_model\\_ridge.py:215: LinAlgWarning: Ill-conditioned matrix (rcond=2.20859e-26): result may not be accurate.\n",
      "  return linalg.solve(A, Xy, assume_a=\"pos\", overwrite_a=True).T\n",
      "l:\\Programs\\anaconda\\envs\\esg_pred\\Lib\\site-packages\\xgboost\\training.py:183: UserWarning: [08:10:34] WARNING: C:\\actions-runner\\_work\\xgboost\\xgboost\\src\\learner.cc:738: \n",
      "Parameters: { \"boosting_type\" } are not used.\n",
      "\n",
      "  bst.update(dtrain, iteration=i, fobj=obj)\n"
     ]
    },
    {
     "name": "stdout",
     "output_type": "stream",
     "text": [
      "Data shapes - Train: (325, 82), Test: (75, 82)\n"
     ]
    },
    {
     "name": "stderr",
     "output_type": "stream",
     "text": [
      "l:\\Programs\\anaconda\\envs\\esg_pred\\Lib\\site-packages\\sklearn\\linear_model\\_ridge.py:215: LinAlgWarning: Ill-conditioned matrix (rcond=2.43635e-23): result may not be accurate.\n",
      "  return linalg.solve(A, Xy, assume_a=\"pos\", overwrite_a=True).T\n",
      "l:\\Programs\\anaconda\\envs\\esg_pred\\Lib\\site-packages\\xgboost\\training.py:183: UserWarning: [08:10:43] WARNING: C:\\actions-runner\\_work\\xgboost\\xgboost\\src\\learner.cc:738: \n",
      "Parameters: { \"boosting_type\" } are not used.\n",
      "\n",
      "  bst.update(dtrain, iteration=i, fobj=obj)\n"
     ]
    },
    {
     "name": "stdout",
     "output_type": "stream",
     "text": [
      "Data shapes - Train: (325, 82), Test: (75, 82)\n"
     ]
    },
    {
     "name": "stderr",
     "output_type": "stream",
     "text": [
      "l:\\Programs\\anaconda\\envs\\esg_pred\\Lib\\site-packages\\sklearn\\linear_model\\_ridge.py:215: LinAlgWarning: Ill-conditioned matrix (rcond=2.02553e-26): result may not be accurate.\n",
      "  return linalg.solve(A, Xy, assume_a=\"pos\", overwrite_a=True).T\n",
      "l:\\Programs\\anaconda\\envs\\esg_pred\\Lib\\site-packages\\xgboost\\training.py:183: UserWarning: [08:10:52] WARNING: C:\\actions-runner\\_work\\xgboost\\xgboost\\src\\learner.cc:738: \n",
      "Parameters: { \"boosting_type\" } are not used.\n",
      "\n",
      "  bst.update(dtrain, iteration=i, fobj=obj)\n"
     ]
    },
    {
     "name": "stdout",
     "output_type": "stream",
     "text": [
      "Data shapes - Train: (350, 82), Test: (50, 82)\n"
     ]
    },
    {
     "name": "stderr",
     "output_type": "stream",
     "text": [
      "l:\\Programs\\anaconda\\envs\\esg_pred\\Lib\\site-packages\\sklearn\\linear_model\\_ridge.py:215: LinAlgWarning: Ill-conditioned matrix (rcond=2.17141e-26): result may not be accurate.\n",
      "  return linalg.solve(A, Xy, assume_a=\"pos\", overwrite_a=True).T\n",
      "l:\\Programs\\anaconda\\envs\\esg_pred\\Lib\\site-packages\\xgboost\\training.py:183: UserWarning: [08:11:01] WARNING: C:\\actions-runner\\_work\\xgboost\\xgboost\\src\\learner.cc:738: \n",
      "Parameters: { \"boosting_type\" } are not used.\n",
      "\n",
      "  bst.update(dtrain, iteration=i, fobj=obj)\n"
     ]
    },
    {
     "name": "stdout",
     "output_type": "stream",
     "text": [
      "Data shapes - Train: (325, 82), Test: (75, 82)\n"
     ]
    },
    {
     "name": "stderr",
     "output_type": "stream",
     "text": [
      "l:\\Programs\\anaconda\\envs\\esg_pred\\Lib\\site-packages\\sklearn\\linear_model\\_ridge.py:215: LinAlgWarning: Ill-conditioned matrix (rcond=1.93281e-26): result may not be accurate.\n",
      "  return linalg.solve(A, Xy, assume_a=\"pos\", overwrite_a=True).T\n",
      "l:\\Programs\\anaconda\\envs\\esg_pred\\Lib\\site-packages\\xgboost\\training.py:183: UserWarning: [08:11:10] WARNING: C:\\actions-runner\\_work\\xgboost\\xgboost\\src\\learner.cc:738: \n",
      "Parameters: { \"boosting_type\" } are not used.\n",
      "\n",
      "  bst.update(dtrain, iteration=i, fobj=obj)\n"
     ]
    },
    {
     "name": "stdout",
     "output_type": "stream",
     "text": [
      "Data shapes - Train: (350, 82), Test: (50, 82)\n"
     ]
    },
    {
     "name": "stderr",
     "output_type": "stream",
     "text": [
      "l:\\Programs\\anaconda\\envs\\esg_pred\\Lib\\site-packages\\sklearn\\linear_model\\_ridge.py:215: LinAlgWarning: Ill-conditioned matrix (rcond=2.16982e-26): result may not be accurate.\n",
      "  return linalg.solve(A, Xy, assume_a=\"pos\", overwrite_a=True).T\n",
      "l:\\Programs\\anaconda\\envs\\esg_pred\\Lib\\site-packages\\xgboost\\training.py:183: UserWarning: [08:11:18] WARNING: C:\\actions-runner\\_work\\xgboost\\xgboost\\src\\learner.cc:738: \n",
      "Parameters: { \"boosting_type\" } are not used.\n",
      "\n",
      "  bst.update(dtrain, iteration=i, fobj=obj)\n"
     ]
    },
    {
     "name": "stdout",
     "output_type": "stream",
     "text": [
      "Data shapes - Train: (325, 82), Test: (75, 82)\n"
     ]
    },
    {
     "name": "stderr",
     "output_type": "stream",
     "text": [
      "l:\\Programs\\anaconda\\envs\\esg_pred\\Lib\\site-packages\\sklearn\\linear_model\\_ridge.py:215: LinAlgWarning: Ill-conditioned matrix (rcond=2.07255e-26): result may not be accurate.\n",
      "  return linalg.solve(A, Xy, assume_a=\"pos\", overwrite_a=True).T\n",
      "l:\\Programs\\anaconda\\envs\\esg_pred\\Lib\\site-packages\\xgboost\\training.py:183: UserWarning: [08:11:27] WARNING: C:\\actions-runner\\_work\\xgboost\\xgboost\\src\\learner.cc:738: \n",
      "Parameters: { \"boosting_type\" } are not used.\n",
      "\n",
      "  bst.update(dtrain, iteration=i, fobj=obj)\n"
     ]
    },
    {
     "name": "stdout",
     "output_type": "stream",
     "text": [
      "Data shapes - Train: (250, 83), Test: (150, 83)\n"
     ]
    },
    {
     "name": "stderr",
     "output_type": "stream",
     "text": [
      "l:\\Programs\\anaconda\\envs\\esg_pred\\Lib\\site-packages\\sklearn\\linear_model\\_ridge.py:215: LinAlgWarning: Ill-conditioned matrix (rcond=8.88301e-23): result may not be accurate.\n",
      "  return linalg.solve(A, Xy, assume_a=\"pos\", overwrite_a=True).T\n",
      "l:\\Programs\\anaconda\\envs\\esg_pred\\Lib\\site-packages\\xgboost\\training.py:183: UserWarning: [08:11:35] WARNING: C:\\actions-runner\\_work\\xgboost\\xgboost\\src\\learner.cc:738: \n",
      "Parameters: { \"boosting_type\" } are not used.\n",
      "\n",
      "  bst.update(dtrain, iteration=i, fobj=obj)\n"
     ]
    },
    {
     "name": "stdout",
     "output_type": "stream",
     "text": [
      "Data shapes - Train: (275, 83), Test: (125, 83)\n"
     ]
    },
    {
     "name": "stderr",
     "output_type": "stream",
     "text": [
      "l:\\Programs\\anaconda\\envs\\esg_pred\\Lib\\site-packages\\sklearn\\linear_model\\_ridge.py:215: LinAlgWarning: Ill-conditioned matrix (rcond=2.10952e-26): result may not be accurate.\n",
      "  return linalg.solve(A, Xy, assume_a=\"pos\", overwrite_a=True).T\n",
      "l:\\Programs\\anaconda\\envs\\esg_pred\\Lib\\site-packages\\xgboost\\training.py:183: UserWarning: [08:11:42] WARNING: C:\\actions-runner\\_work\\xgboost\\xgboost\\src\\learner.cc:738: \n",
      "Parameters: { \"boosting_type\" } are not used.\n",
      "\n",
      "  bst.update(dtrain, iteration=i, fobj=obj)\n"
     ]
    },
    {
     "name": "stdout",
     "output_type": "stream",
     "text": [
      "Data shapes - Train: (275, 83), Test: (125, 83)\n"
     ]
    },
    {
     "name": "stderr",
     "output_type": "stream",
     "text": [
      "l:\\Programs\\anaconda\\envs\\esg_pred\\Lib\\site-packages\\sklearn\\linear_model\\_ridge.py:215: LinAlgWarning: Ill-conditioned matrix (rcond=2.02872e-26): result may not be accurate.\n",
      "  return linalg.solve(A, Xy, assume_a=\"pos\", overwrite_a=True).T\n",
      "l:\\Programs\\anaconda\\envs\\esg_pred\\Lib\\site-packages\\xgboost\\training.py:183: UserWarning: [08:11:49] WARNING: C:\\actions-runner\\_work\\xgboost\\xgboost\\src\\learner.cc:738: \n",
      "Parameters: { \"boosting_type\" } are not used.\n",
      "\n",
      "  bst.update(dtrain, iteration=i, fobj=obj)\n"
     ]
    },
    {
     "name": "stdout",
     "output_type": "stream",
     "text": [
      "Data shapes - Train: (291, 83), Test: (73, 83)\n"
     ]
    },
    {
     "name": "stderr",
     "output_type": "stream",
     "text": [
      "l:\\Programs\\anaconda\\envs\\esg_pred\\Lib\\site-packages\\sklearn\\linear_model\\_ridge.py:215: LinAlgWarning: Ill-conditioned matrix (rcond=3.99903e-26): result may not be accurate.\n",
      "  return linalg.solve(A, Xy, assume_a=\"pos\", overwrite_a=True).T\n",
      "l:\\Programs\\anaconda\\envs\\esg_pred\\Lib\\site-packages\\xgboost\\training.py:183: UserWarning: [08:12:00] WARNING: C:\\actions-runner\\_work\\xgboost\\xgboost\\src\\learner.cc:738: \n",
      "Parameters: { \"boosting_type\" } are not used.\n",
      "\n",
      "  bst.update(dtrain, iteration=i, fobj=obj)\n"
     ]
    },
    {
     "name": "stdout",
     "output_type": "stream",
     "text": [
      "Data shapes - Train: (301, 82), Test: (63, 82)\n"
     ]
    },
    {
     "name": "stderr",
     "output_type": "stream",
     "text": [
      "l:\\Programs\\anaconda\\envs\\esg_pred\\Lib\\site-packages\\sklearn\\linear_model\\_ridge.py:215: LinAlgWarning: Ill-conditioned matrix (rcond=2.27771e-23): result may not be accurate.\n",
      "  return linalg.solve(A, Xy, assume_a=\"pos\", overwrite_a=True).T\n",
      "l:\\Programs\\anaconda\\envs\\esg_pred\\Lib\\site-packages\\xgboost\\training.py:183: UserWarning: [08:12:11] WARNING: C:\\actions-runner\\_work\\xgboost\\xgboost\\src\\learner.cc:738: \n",
      "Parameters: { \"boosting_type\" } are not used.\n",
      "\n",
      "  bst.update(dtrain, iteration=i, fobj=obj)\n"
     ]
    },
    {
     "name": "stdout",
     "output_type": "stream",
     "text": [
      "Data shapes - Train: (275, 82), Test: (89, 82)\n"
     ]
    },
    {
     "name": "stderr",
     "output_type": "stream",
     "text": [
      "l:\\Programs\\anaconda\\envs\\esg_pred\\Lib\\site-packages\\sklearn\\linear_model\\_ridge.py:215: LinAlgWarning: Ill-conditioned matrix (rcond=3.82535e-26): result may not be accurate.\n",
      "  return linalg.solve(A, Xy, assume_a=\"pos\", overwrite_a=True).T\n",
      "l:\\Programs\\anaconda\\envs\\esg_pred\\Lib\\site-packages\\xgboost\\training.py:183: UserWarning: [08:12:20] WARNING: C:\\actions-runner\\_work\\xgboost\\xgboost\\src\\learner.cc:738: \n",
      "Parameters: { \"boosting_type\" } are not used.\n",
      "\n",
      "  bst.update(dtrain, iteration=i, fobj=obj)\n"
     ]
    },
    {
     "name": "stdout",
     "output_type": "stream",
     "text": [
      "Data shapes - Train: (322, 82), Test: (42, 82)\n"
     ]
    },
    {
     "name": "stderr",
     "output_type": "stream",
     "text": [
      "l:\\Programs\\anaconda\\envs\\esg_pred\\Lib\\site-packages\\sklearn\\linear_model\\_ridge.py:215: LinAlgWarning: Ill-conditioned matrix (rcond=6.88608e-30): result may not be accurate.\n",
      "  return linalg.solve(A, Xy, assume_a=\"pos\", overwrite_a=True).T\n",
      "l:\\Programs\\anaconda\\envs\\esg_pred\\Lib\\site-packages\\xgboost\\training.py:183: UserWarning: [08:12:32] WARNING: C:\\actions-runner\\_work\\xgboost\\xgboost\\src\\learner.cc:738: \n",
      "Parameters: { \"boosting_type\" } are not used.\n",
      "\n",
      "  bst.update(dtrain, iteration=i, fobj=obj)\n"
     ]
    },
    {
     "name": "stdout",
     "output_type": "stream",
     "text": [
      "Data shapes - Train: (250, 82), Test: (114, 82)\n"
     ]
    },
    {
     "name": "stderr",
     "output_type": "stream",
     "text": [
      "l:\\Programs\\anaconda\\envs\\esg_pred\\Lib\\site-packages\\sklearn\\linear_model\\_ridge.py:215: LinAlgWarning: Ill-conditioned matrix (rcond=3.95053e-27): result may not be accurate.\n",
      "  return linalg.solve(A, Xy, assume_a=\"pos\", overwrite_a=True).T\n",
      "l:\\Programs\\anaconda\\envs\\esg_pred\\Lib\\site-packages\\xgboost\\training.py:183: UserWarning: [08:12:42] WARNING: C:\\actions-runner\\_work\\xgboost\\xgboost\\src\\learner.cc:738: \n",
      "Parameters: { \"boosting_type\" } are not used.\n",
      "\n",
      "  bst.update(dtrain, iteration=i, fobj=obj)\n"
     ]
    },
    {
     "name": "stdout",
     "output_type": "stream",
     "text": [
      "Data shapes - Train: (327, 82), Test: (37, 82)\n"
     ]
    },
    {
     "name": "stderr",
     "output_type": "stream",
     "text": [
      "l:\\Programs\\anaconda\\envs\\esg_pred\\Lib\\site-packages\\sklearn\\linear_model\\_ridge.py:215: LinAlgWarning: Ill-conditioned matrix (rcond=4.31965e-27): result may not be accurate.\n",
      "  return linalg.solve(A, Xy, assume_a=\"pos\", overwrite_a=True).T\n",
      "l:\\Programs\\anaconda\\envs\\esg_pred\\Lib\\site-packages\\xgboost\\training.py:183: UserWarning: [08:12:53] WARNING: C:\\actions-runner\\_work\\xgboost\\xgboost\\src\\learner.cc:738: \n",
      "Parameters: { \"boosting_type\" } are not used.\n",
      "\n",
      "  bst.update(dtrain, iteration=i, fobj=obj)\n"
     ]
    },
    {
     "name": "stdout",
     "output_type": "stream",
     "text": [
      "Data shapes - Train: (345, 82), Test: (19, 82)\n"
     ]
    },
    {
     "name": "stderr",
     "output_type": "stream",
     "text": [
      "l:\\Programs\\anaconda\\envs\\esg_pred\\Lib\\site-packages\\sklearn\\linear_model\\_ridge.py:215: LinAlgWarning: Ill-conditioned matrix (rcond=5.30054e-28): result may not be accurate.\n",
      "  return linalg.solve(A, Xy, assume_a=\"pos\", overwrite_a=True).T\n",
      "l:\\Programs\\anaconda\\envs\\esg_pred\\Lib\\site-packages\\xgboost\\training.py:183: UserWarning: [08:13:06] WARNING: C:\\actions-runner\\_work\\xgboost\\xgboost\\src\\learner.cc:738: \n",
      "Parameters: { \"boosting_type\" } are not used.\n",
      "\n",
      "  bst.update(dtrain, iteration=i, fobj=obj)\n"
     ]
    },
    {
     "name": "stdout",
     "output_type": "stream",
     "text": [
      "Data shapes - Train: (251, 83), Test: (113, 83)\n"
     ]
    },
    {
     "name": "stderr",
     "output_type": "stream",
     "text": [
      "l:\\Programs\\anaconda\\envs\\esg_pred\\Lib\\site-packages\\sklearn\\linear_model\\_ridge.py:215: LinAlgWarning: Ill-conditioned matrix (rcond=8.63406e-23): result may not be accurate.\n",
      "  return linalg.solve(A, Xy, assume_a=\"pos\", overwrite_a=True).T\n",
      "l:\\Programs\\anaconda\\envs\\esg_pred\\Lib\\site-packages\\xgboost\\training.py:183: UserWarning: [08:13:15] WARNING: C:\\actions-runner\\_work\\xgboost\\xgboost\\src\\learner.cc:738: \n",
      "Parameters: { \"boosting_type\" } are not used.\n",
      "\n",
      "  bst.update(dtrain, iteration=i, fobj=obj)\n"
     ]
    },
    {
     "name": "stdout",
     "output_type": "stream",
     "text": [
      "Data shapes - Train: (249, 83), Test: (115, 83)\n"
     ]
    },
    {
     "name": "stderr",
     "output_type": "stream",
     "text": [
      "l:\\Programs\\anaconda\\envs\\esg_pred\\Lib\\site-packages\\sklearn\\linear_model\\_ridge.py:215: LinAlgWarning: Ill-conditioned matrix (rcond=4.14663e-26): result may not be accurate.\n",
      "  return linalg.solve(A, Xy, assume_a=\"pos\", overwrite_a=True).T\n",
      "l:\\Programs\\anaconda\\envs\\esg_pred\\Lib\\site-packages\\xgboost\\training.py:183: UserWarning: [08:13:25] WARNING: C:\\actions-runner\\_work\\xgboost\\xgboost\\src\\learner.cc:738: \n",
      "Parameters: { \"boosting_type\" } are not used.\n",
      "\n",
      "  bst.update(dtrain, iteration=i, fobj=obj)\n"
     ]
    },
    {
     "name": "stdout",
     "output_type": "stream",
     "text": [
      "Data shapes - Train: (228, 83), Test: (136, 83)\n"
     ]
    },
    {
     "name": "stderr",
     "output_type": "stream",
     "text": [
      "l:\\Programs\\anaconda\\envs\\esg_pred\\Lib\\site-packages\\sklearn\\linear_model\\_ridge.py:215: LinAlgWarning: Ill-conditioned matrix (rcond=5.49227e-28): result may not be accurate.\n",
      "  return linalg.solve(A, Xy, assume_a=\"pos\", overwrite_a=True).T\n",
      "l:\\Programs\\anaconda\\envs\\esg_pred\\Lib\\site-packages\\xgboost\\training.py:183: UserWarning: [08:13:34] WARNING: C:\\actions-runner\\_work\\xgboost\\xgboost\\src\\learner.cc:738: \n",
      "Parameters: { \"boosting_type\" } are not used.\n",
      "\n",
      "  bst.update(dtrain, iteration=i, fobj=obj)\n"
     ]
    },
    {
     "name": "stdout",
     "output_type": "stream",
     "text": [
      "Data shapes - Train: (113, 83), Test: (29, 83)\n"
     ]
    },
    {
     "name": "stderr",
     "output_type": "stream",
     "text": [
      "l:\\Programs\\anaconda\\envs\\esg_pred\\Lib\\site-packages\\sklearn\\linear_model\\_ridge.py:215: LinAlgWarning: Ill-conditioned matrix (rcond=1.49297e-21): result may not be accurate.\n",
      "  return linalg.solve(A, Xy, assume_a=\"pos\", overwrite_a=True).T\n",
      "l:\\Programs\\anaconda\\envs\\esg_pred\\Lib\\site-packages\\xgboost\\training.py:183: UserWarning: [08:13:39] WARNING: C:\\actions-runner\\_work\\xgboost\\xgboost\\src\\learner.cc:738: \n",
      "Parameters: { \"boosting_type\" } are not used.\n",
      "\n",
      "  bst.update(dtrain, iteration=i, fobj=obj)\n"
     ]
    },
    {
     "name": "stdout",
     "output_type": "stream",
     "text": [
      "Data shapes - Train: (87, 78), Test: (55, 78)\n"
     ]
    },
    {
     "name": "stderr",
     "output_type": "stream",
     "text": [
      "l:\\Programs\\anaconda\\envs\\esg_pred\\Lib\\site-packages\\sklearn\\linear_model\\_ridge.py:215: LinAlgWarning: Ill-conditioned matrix (rcond=5.52641e-23): result may not be accurate.\n",
      "  return linalg.solve(A, Xy, assume_a=\"pos\", overwrite_a=True).T\n",
      "l:\\Programs\\anaconda\\envs\\esg_pred\\Lib\\site-packages\\xgboost\\training.py:183: UserWarning: [08:13:42] WARNING: C:\\actions-runner\\_work\\xgboost\\xgboost\\src\\learner.cc:738: \n",
      "Parameters: { \"boosting_type\" } are not used.\n",
      "\n",
      "  bst.update(dtrain, iteration=i, fobj=obj)\n"
     ]
    },
    {
     "name": "stdout",
     "output_type": "stream",
     "text": [
      "Data shapes - Train: (55, 78), Test: (87, 78)\n"
     ]
    },
    {
     "name": "stderr",
     "output_type": "stream",
     "text": [
      "l:\\Programs\\anaconda\\envs\\esg_pred\\Lib\\site-packages\\sklearn\\linear_model\\_ridge.py:254: UserWarning: Singular matrix in solving dual problem. Using least-squares solution instead.\n",
      "  warnings.warn(\n",
      "l:\\Programs\\anaconda\\envs\\esg_pred\\Lib\\site-packages\\xgboost\\training.py:183: UserWarning: [08:13:45] WARNING: C:\\actions-runner\\_work\\xgboost\\xgboost\\src\\learner.cc:738: \n",
      "Parameters: { \"boosting_type\" } are not used.\n",
      "\n",
      "  bst.update(dtrain, iteration=i, fobj=obj)\n"
     ]
    },
    {
     "name": "stdout",
     "output_type": "stream",
     "text": [
      "Data shapes - Train: (81, 82), Test: (61, 82)\n"
     ]
    },
    {
     "name": "stderr",
     "output_type": "stream",
     "text": [
      "l:\\Programs\\anaconda\\envs\\esg_pred\\Lib\\site-packages\\sklearn\\linear_model\\_ridge.py:215: LinAlgWarning: Ill-conditioned matrix (rcond=3.89976e-22): result may not be accurate.\n",
      "  return linalg.solve(A, Xy, assume_a=\"pos\", overwrite_a=True).T\n",
      "l:\\Programs\\anaconda\\envs\\esg_pred\\Lib\\site-packages\\xgboost\\training.py:183: UserWarning: [08:13:49] WARNING: C:\\actions-runner\\_work\\xgboost\\xgboost\\src\\learner.cc:738: \n",
      "Parameters: { \"boosting_type\" } are not used.\n",
      "\n",
      "  bst.update(dtrain, iteration=i, fobj=obj)\n"
     ]
    },
    {
     "name": "stdout",
     "output_type": "stream",
     "text": [
      "Data shapes - Train: (61, 82), Test: (81, 82)\n"
     ]
    },
    {
     "name": "stderr",
     "output_type": "stream",
     "text": [
      "l:\\Programs\\anaconda\\envs\\esg_pred\\Lib\\site-packages\\sklearn\\linear_model\\_ridge.py:254: UserWarning: Singular matrix in solving dual problem. Using least-squares solution instead.\n",
      "  warnings.warn(\n",
      "l:\\Programs\\anaconda\\envs\\esg_pred\\Lib\\site-packages\\xgboost\\training.py:183: UserWarning: [08:13:52] WARNING: C:\\actions-runner\\_work\\xgboost\\xgboost\\src\\learner.cc:738: \n",
      "Parameters: { \"boosting_type\" } are not used.\n",
      "\n",
      "  bst.update(dtrain, iteration=i, fobj=obj)\n"
     ]
    },
    {
     "name": "stdout",
     "output_type": "stream",
     "text": [
      "Data shapes - Train: (563, 83), Test: (141, 83)\n"
     ]
    },
    {
     "name": "stderr",
     "output_type": "stream",
     "text": [
      "l:\\Programs\\anaconda\\envs\\esg_pred\\Lib\\site-packages\\sklearn\\linear_model\\_ridge.py:215: LinAlgWarning: Ill-conditioned matrix (rcond=1.03898e-26): result may not be accurate.\n",
      "  return linalg.solve(A, Xy, assume_a=\"pos\", overwrite_a=True).T\n",
      "l:\\Programs\\anaconda\\envs\\esg_pred\\Lib\\site-packages\\xgboost\\training.py:183: UserWarning: [08:14:07] WARNING: C:\\actions-runner\\_work\\xgboost\\xgboost\\src\\learner.cc:738: \n",
      "Parameters: { \"boosting_type\" } are not used.\n",
      "\n",
      "  bst.update(dtrain, iteration=i, fobj=obj)\n"
     ]
    },
    {
     "name": "stdout",
     "output_type": "stream",
     "text": [
      "Data shapes - Train: (572, 82), Test: (132, 82)\n"
     ]
    },
    {
     "name": "stderr",
     "output_type": "stream",
     "text": [
      "l:\\Programs\\anaconda\\envs\\esg_pred\\Lib\\site-packages\\sklearn\\linear_model\\_ridge.py:215: LinAlgWarning: Ill-conditioned matrix (rcond=7.14619e-23): result may not be accurate.\n",
      "  return linalg.solve(A, Xy, assume_a=\"pos\", overwrite_a=True).T\n",
      "l:\\Programs\\anaconda\\envs\\esg_pred\\Lib\\site-packages\\xgboost\\training.py:183: UserWarning: [08:14:20] WARNING: C:\\actions-runner\\_work\\xgboost\\xgboost\\src\\learner.cc:738: \n",
      "Parameters: { \"boosting_type\" } are not used.\n",
      "\n",
      "  bst.update(dtrain, iteration=i, fobj=obj)\n"
     ]
    },
    {
     "name": "stdout",
     "output_type": "stream",
     "text": [
      "Data shapes - Train: (572, 82), Test: (132, 82)\n"
     ]
    },
    {
     "name": "stderr",
     "output_type": "stream",
     "text": [
      "l:\\Programs\\anaconda\\envs\\esg_pred\\Lib\\site-packages\\sklearn\\linear_model\\_ridge.py:215: LinAlgWarning: Ill-conditioned matrix (rcond=9.50466e-27): result may not be accurate.\n",
      "  return linalg.solve(A, Xy, assume_a=\"pos\", overwrite_a=True).T\n",
      "l:\\Programs\\anaconda\\envs\\esg_pred\\Lib\\site-packages\\xgboost\\training.py:183: UserWarning: [08:14:33] WARNING: C:\\actions-runner\\_work\\xgboost\\xgboost\\src\\learner.cc:738: \n",
      "Parameters: { \"boosting_type\" } are not used.\n",
      "\n",
      "  bst.update(dtrain, iteration=i, fobj=obj)\n"
     ]
    },
    {
     "name": "stdout",
     "output_type": "stream",
     "text": [
      "Data shapes - Train: (616, 82), Test: (88, 82)\n"
     ]
    },
    {
     "name": "stderr",
     "output_type": "stream",
     "text": [
      "l:\\Programs\\anaconda\\envs\\esg_pred\\Lib\\site-packages\\sklearn\\linear_model\\_ridge.py:215: LinAlgWarning: Ill-conditioned matrix (rcond=1.01588e-26): result may not be accurate.\n",
      "  return linalg.solve(A, Xy, assume_a=\"pos\", overwrite_a=True).T\n",
      "l:\\Programs\\anaconda\\envs\\esg_pred\\Lib\\site-packages\\xgboost\\training.py:183: UserWarning: [08:14:47] WARNING: C:\\actions-runner\\_work\\xgboost\\xgboost\\src\\learner.cc:738: \n",
      "Parameters: { \"boosting_type\" } are not used.\n",
      "\n",
      "  bst.update(dtrain, iteration=i, fobj=obj)\n"
     ]
    },
    {
     "name": "stdout",
     "output_type": "stream",
     "text": [
      "Data shapes - Train: (572, 82), Test: (132, 82)\n"
     ]
    },
    {
     "name": "stderr",
     "output_type": "stream",
     "text": [
      "l:\\Programs\\anaconda\\envs\\esg_pred\\Lib\\site-packages\\sklearn\\linear_model\\_ridge.py:215: LinAlgWarning: Ill-conditioned matrix (rcond=9.31159e-27): result may not be accurate.\n",
      "  return linalg.solve(A, Xy, assume_a=\"pos\", overwrite_a=True).T\n",
      "l:\\Programs\\anaconda\\envs\\esg_pred\\Lib\\site-packages\\xgboost\\training.py:183: UserWarning: [08:14:59] WARNING: C:\\actions-runner\\_work\\xgboost\\xgboost\\src\\learner.cc:738: \n",
      "Parameters: { \"boosting_type\" } are not used.\n",
      "\n",
      "  bst.update(dtrain, iteration=i, fobj=obj)\n"
     ]
    },
    {
     "name": "stdout",
     "output_type": "stream",
     "text": [
      "Data shapes - Train: (616, 82), Test: (88, 82)\n"
     ]
    },
    {
     "name": "stderr",
     "output_type": "stream",
     "text": [
      "l:\\Programs\\anaconda\\envs\\esg_pred\\Lib\\site-packages\\sklearn\\linear_model\\_ridge.py:215: LinAlgWarning: Ill-conditioned matrix (rcond=1.01252e-26): result may not be accurate.\n",
      "  return linalg.solve(A, Xy, assume_a=\"pos\", overwrite_a=True).T\n",
      "l:\\Programs\\anaconda\\envs\\esg_pred\\Lib\\site-packages\\xgboost\\training.py:183: UserWarning: [08:15:11] WARNING: C:\\actions-runner\\_work\\xgboost\\xgboost\\src\\learner.cc:738: \n",
      "Parameters: { \"boosting_type\" } are not used.\n",
      "\n",
      "  bst.update(dtrain, iteration=i, fobj=obj)\n"
     ]
    },
    {
     "name": "stdout",
     "output_type": "stream",
     "text": [
      "Data shapes - Train: (572, 82), Test: (132, 82)\n"
     ]
    },
    {
     "name": "stderr",
     "output_type": "stream",
     "text": [
      "l:\\Programs\\anaconda\\envs\\esg_pred\\Lib\\site-packages\\sklearn\\linear_model\\_ridge.py:215: LinAlgWarning: Ill-conditioned matrix (rcond=9.93282e-27): result may not be accurate.\n",
      "  return linalg.solve(A, Xy, assume_a=\"pos\", overwrite_a=True).T\n",
      "l:\\Programs\\anaconda\\envs\\esg_pred\\Lib\\site-packages\\xgboost\\training.py:183: UserWarning: [08:15:24] WARNING: C:\\actions-runner\\_work\\xgboost\\xgboost\\src\\learner.cc:738: \n",
      "Parameters: { \"boosting_type\" } are not used.\n",
      "\n",
      "  bst.update(dtrain, iteration=i, fobj=obj)\n"
     ]
    },
    {
     "name": "stdout",
     "output_type": "stream",
     "text": [
      "Data shapes - Train: (440, 83), Test: (264, 83)\n"
     ]
    },
    {
     "name": "stderr",
     "output_type": "stream",
     "text": [
      "l:\\Programs\\anaconda\\envs\\esg_pred\\Lib\\site-packages\\sklearn\\linear_model\\_ridge.py:215: LinAlgWarning: Ill-conditioned matrix (rcond=8.06637e-23): result may not be accurate.\n",
      "  return linalg.solve(A, Xy, assume_a=\"pos\", overwrite_a=True).T\n",
      "l:\\Programs\\anaconda\\envs\\esg_pred\\Lib\\site-packages\\xgboost\\training.py:183: UserWarning: [08:15:35] WARNING: C:\\actions-runner\\_work\\xgboost\\xgboost\\src\\learner.cc:738: \n",
      "Parameters: { \"boosting_type\" } are not used.\n",
      "\n",
      "  bst.update(dtrain, iteration=i, fobj=obj)\n"
     ]
    },
    {
     "name": "stdout",
     "output_type": "stream",
     "text": [
      "Data shapes - Train: (484, 83), Test: (220, 83)\n"
     ]
    },
    {
     "name": "stderr",
     "output_type": "stream",
     "text": [
      "l:\\Programs\\anaconda\\envs\\esg_pred\\Lib\\site-packages\\sklearn\\linear_model\\_ridge.py:215: LinAlgWarning: Ill-conditioned matrix (rcond=1.02894e-27): result may not be accurate.\n",
      "  return linalg.solve(A, Xy, assume_a=\"pos\", overwrite_a=True).T\n",
      "l:\\Programs\\anaconda\\envs\\esg_pred\\Lib\\site-packages\\xgboost\\training.py:183: UserWarning: [08:15:45] WARNING: C:\\actions-runner\\_work\\xgboost\\xgboost\\src\\learner.cc:738: \n",
      "Parameters: { \"boosting_type\" } are not used.\n",
      "\n",
      "  bst.update(dtrain, iteration=i, fobj=obj)\n"
     ]
    },
    {
     "name": "stdout",
     "output_type": "stream",
     "text": [
      "Data shapes - Train: (484, 83), Test: (220, 83)\n"
     ]
    },
    {
     "name": "stderr",
     "output_type": "stream",
     "text": [
      "l:\\Programs\\anaconda\\envs\\esg_pred\\Lib\\site-packages\\sklearn\\linear_model\\_ridge.py:215: LinAlgWarning: Ill-conditioned matrix (rcond=1.08112e-26): result may not be accurate.\n",
      "  return linalg.solve(A, Xy, assume_a=\"pos\", overwrite_a=True).T\n",
      "l:\\Programs\\anaconda\\envs\\esg_pred\\Lib\\site-packages\\xgboost\\training.py:183: UserWarning: [08:15:56] WARNING: C:\\actions-runner\\_work\\xgboost\\xgboost\\src\\learner.cc:738: \n",
      "Parameters: { \"boosting_type\" } are not used.\n",
      "\n",
      "  bst.update(dtrain, iteration=i, fobj=obj)\n"
     ]
    },
    {
     "name": "stdout",
     "output_type": "stream",
     "text": [
      "Data shapes - Train: (320, 83), Test: (80, 83)\n"
     ]
    },
    {
     "name": "stderr",
     "output_type": "stream",
     "text": [
      "l:\\Programs\\anaconda\\envs\\esg_pred\\Lib\\site-packages\\sklearn\\linear_model\\_ridge.py:215: LinAlgWarning: Ill-conditioned matrix (rcond=2.20859e-26): result may not be accurate.\n",
      "  return linalg.solve(A, Xy, assume_a=\"pos\", overwrite_a=True).T\n",
      "l:\\Programs\\anaconda\\envs\\esg_pred\\Lib\\site-packages\\xgboost\\training.py:183: UserWarning: [08:16:05] WARNING: C:\\actions-runner\\_work\\xgboost\\xgboost\\src\\learner.cc:738: \n",
      "Parameters: { \"boosting_type\" } are not used.\n",
      "\n",
      "  bst.update(dtrain, iteration=i, fobj=obj)\n"
     ]
    },
    {
     "name": "stdout",
     "output_type": "stream",
     "text": [
      "Data shapes - Train: (325, 82), Test: (75, 82)\n"
     ]
    },
    {
     "name": "stderr",
     "output_type": "stream",
     "text": [
      "l:\\Programs\\anaconda\\envs\\esg_pred\\Lib\\site-packages\\sklearn\\linear_model\\_ridge.py:215: LinAlgWarning: Ill-conditioned matrix (rcond=2.43635e-23): result may not be accurate.\n",
      "  return linalg.solve(A, Xy, assume_a=\"pos\", overwrite_a=True).T\n",
      "l:\\Programs\\anaconda\\envs\\esg_pred\\Lib\\site-packages\\xgboost\\training.py:183: UserWarning: [08:16:14] WARNING: C:\\actions-runner\\_work\\xgboost\\xgboost\\src\\learner.cc:738: \n",
      "Parameters: { \"boosting_type\" } are not used.\n",
      "\n",
      "  bst.update(dtrain, iteration=i, fobj=obj)\n"
     ]
    },
    {
     "name": "stdout",
     "output_type": "stream",
     "text": [
      "Data shapes - Train: (325, 82), Test: (75, 82)\n"
     ]
    },
    {
     "name": "stderr",
     "output_type": "stream",
     "text": [
      "l:\\Programs\\anaconda\\envs\\esg_pred\\Lib\\site-packages\\sklearn\\linear_model\\_ridge.py:215: LinAlgWarning: Ill-conditioned matrix (rcond=2.02553e-26): result may not be accurate.\n",
      "  return linalg.solve(A, Xy, assume_a=\"pos\", overwrite_a=True).T\n",
      "l:\\Programs\\anaconda\\envs\\esg_pred\\Lib\\site-packages\\xgboost\\training.py:183: UserWarning: [08:16:22] WARNING: C:\\actions-runner\\_work\\xgboost\\xgboost\\src\\learner.cc:738: \n",
      "Parameters: { \"boosting_type\" } are not used.\n",
      "\n",
      "  bst.update(dtrain, iteration=i, fobj=obj)\n"
     ]
    },
    {
     "name": "stdout",
     "output_type": "stream",
     "text": [
      "Data shapes - Train: (350, 82), Test: (50, 82)\n"
     ]
    },
    {
     "name": "stderr",
     "output_type": "stream",
     "text": [
      "l:\\Programs\\anaconda\\envs\\esg_pred\\Lib\\site-packages\\sklearn\\linear_model\\_ridge.py:215: LinAlgWarning: Ill-conditioned matrix (rcond=2.17141e-26): result may not be accurate.\n",
      "  return linalg.solve(A, Xy, assume_a=\"pos\", overwrite_a=True).T\n",
      "l:\\Programs\\anaconda\\envs\\esg_pred\\Lib\\site-packages\\xgboost\\training.py:183: UserWarning: [08:16:32] WARNING: C:\\actions-runner\\_work\\xgboost\\xgboost\\src\\learner.cc:738: \n",
      "Parameters: { \"boosting_type\" } are not used.\n",
      "\n",
      "  bst.update(dtrain, iteration=i, fobj=obj)\n"
     ]
    },
    {
     "name": "stdout",
     "output_type": "stream",
     "text": [
      "Data shapes - Train: (325, 82), Test: (75, 82)\n"
     ]
    },
    {
     "name": "stderr",
     "output_type": "stream",
     "text": [
      "l:\\Programs\\anaconda\\envs\\esg_pred\\Lib\\site-packages\\sklearn\\linear_model\\_ridge.py:215: LinAlgWarning: Ill-conditioned matrix (rcond=1.93281e-26): result may not be accurate.\n",
      "  return linalg.solve(A, Xy, assume_a=\"pos\", overwrite_a=True).T\n",
      "l:\\Programs\\anaconda\\envs\\esg_pred\\Lib\\site-packages\\xgboost\\training.py:183: UserWarning: [08:16:40] WARNING: C:\\actions-runner\\_work\\xgboost\\xgboost\\src\\learner.cc:738: \n",
      "Parameters: { \"boosting_type\" } are not used.\n",
      "\n",
      "  bst.update(dtrain, iteration=i, fobj=obj)\n"
     ]
    },
    {
     "name": "stdout",
     "output_type": "stream",
     "text": [
      "Data shapes - Train: (350, 82), Test: (50, 82)\n"
     ]
    },
    {
     "name": "stderr",
     "output_type": "stream",
     "text": [
      "l:\\Programs\\anaconda\\envs\\esg_pred\\Lib\\site-packages\\sklearn\\linear_model\\_ridge.py:215: LinAlgWarning: Ill-conditioned matrix (rcond=2.16982e-26): result may not be accurate.\n",
      "  return linalg.solve(A, Xy, assume_a=\"pos\", overwrite_a=True).T\n",
      "l:\\Programs\\anaconda\\envs\\esg_pred\\Lib\\site-packages\\xgboost\\training.py:183: UserWarning: [08:16:49] WARNING: C:\\actions-runner\\_work\\xgboost\\xgboost\\src\\learner.cc:738: \n",
      "Parameters: { \"boosting_type\" } are not used.\n",
      "\n",
      "  bst.update(dtrain, iteration=i, fobj=obj)\n"
     ]
    },
    {
     "name": "stdout",
     "output_type": "stream",
     "text": [
      "Data shapes - Train: (325, 82), Test: (75, 82)\n"
     ]
    },
    {
     "name": "stderr",
     "output_type": "stream",
     "text": [
      "l:\\Programs\\anaconda\\envs\\esg_pred\\Lib\\site-packages\\sklearn\\linear_model\\_ridge.py:215: LinAlgWarning: Ill-conditioned matrix (rcond=2.07255e-26): result may not be accurate.\n",
      "  return linalg.solve(A, Xy, assume_a=\"pos\", overwrite_a=True).T\n",
      "l:\\Programs\\anaconda\\envs\\esg_pred\\Lib\\site-packages\\xgboost\\training.py:183: UserWarning: [08:16:58] WARNING: C:\\actions-runner\\_work\\xgboost\\xgboost\\src\\learner.cc:738: \n",
      "Parameters: { \"boosting_type\" } are not used.\n",
      "\n",
      "  bst.update(dtrain, iteration=i, fobj=obj)\n"
     ]
    },
    {
     "name": "stdout",
     "output_type": "stream",
     "text": [
      "Data shapes - Train: (250, 83), Test: (150, 83)\n"
     ]
    },
    {
     "name": "stderr",
     "output_type": "stream",
     "text": [
      "l:\\Programs\\anaconda\\envs\\esg_pred\\Lib\\site-packages\\sklearn\\linear_model\\_ridge.py:215: LinAlgWarning: Ill-conditioned matrix (rcond=8.88301e-23): result may not be accurate.\n",
      "  return linalg.solve(A, Xy, assume_a=\"pos\", overwrite_a=True).T\n",
      "l:\\Programs\\anaconda\\envs\\esg_pred\\Lib\\site-packages\\xgboost\\training.py:183: UserWarning: [08:17:05] WARNING: C:\\actions-runner\\_work\\xgboost\\xgboost\\src\\learner.cc:738: \n",
      "Parameters: { \"boosting_type\" } are not used.\n",
      "\n",
      "  bst.update(dtrain, iteration=i, fobj=obj)\n"
     ]
    },
    {
     "name": "stdout",
     "output_type": "stream",
     "text": [
      "Data shapes - Train: (275, 83), Test: (125, 83)\n"
     ]
    },
    {
     "name": "stderr",
     "output_type": "stream",
     "text": [
      "l:\\Programs\\anaconda\\envs\\esg_pred\\Lib\\site-packages\\sklearn\\linear_model\\_ridge.py:215: LinAlgWarning: Ill-conditioned matrix (rcond=2.10952e-26): result may not be accurate.\n",
      "  return linalg.solve(A, Xy, assume_a=\"pos\", overwrite_a=True).T\n",
      "l:\\Programs\\anaconda\\envs\\esg_pred\\Lib\\site-packages\\xgboost\\training.py:183: UserWarning: [08:17:13] WARNING: C:\\actions-runner\\_work\\xgboost\\xgboost\\src\\learner.cc:738: \n",
      "Parameters: { \"boosting_type\" } are not used.\n",
      "\n",
      "  bst.update(dtrain, iteration=i, fobj=obj)\n"
     ]
    },
    {
     "name": "stdout",
     "output_type": "stream",
     "text": [
      "Data shapes - Train: (275, 83), Test: (125, 83)\n"
     ]
    },
    {
     "name": "stderr",
     "output_type": "stream",
     "text": [
      "l:\\Programs\\anaconda\\envs\\esg_pred\\Lib\\site-packages\\sklearn\\linear_model\\_ridge.py:215: LinAlgWarning: Ill-conditioned matrix (rcond=2.02872e-26): result may not be accurate.\n",
      "  return linalg.solve(A, Xy, assume_a=\"pos\", overwrite_a=True).T\n",
      "l:\\Programs\\anaconda\\envs\\esg_pred\\Lib\\site-packages\\xgboost\\training.py:183: UserWarning: [08:17:20] WARNING: C:\\actions-runner\\_work\\xgboost\\xgboost\\src\\learner.cc:738: \n",
      "Parameters: { \"boosting_type\" } are not used.\n",
      "\n",
      "  bst.update(dtrain, iteration=i, fobj=obj)\n"
     ]
    },
    {
     "name": "stdout",
     "output_type": "stream",
     "text": [
      "Data shapes - Train: (291, 83), Test: (73, 83)\n"
     ]
    },
    {
     "name": "stderr",
     "output_type": "stream",
     "text": [
      "l:\\Programs\\anaconda\\envs\\esg_pred\\Lib\\site-packages\\sklearn\\linear_model\\_ridge.py:215: LinAlgWarning: Ill-conditioned matrix (rcond=3.99903e-26): result may not be accurate.\n",
      "  return linalg.solve(A, Xy, assume_a=\"pos\", overwrite_a=True).T\n",
      "l:\\Programs\\anaconda\\envs\\esg_pred\\Lib\\site-packages\\xgboost\\training.py:183: UserWarning: [08:17:32] WARNING: C:\\actions-runner\\_work\\xgboost\\xgboost\\src\\learner.cc:738: \n",
      "Parameters: { \"boosting_type\" } are not used.\n",
      "\n",
      "  bst.update(dtrain, iteration=i, fobj=obj)\n"
     ]
    },
    {
     "name": "stdout",
     "output_type": "stream",
     "text": [
      "Data shapes - Train: (301, 82), Test: (63, 82)\n"
     ]
    },
    {
     "name": "stderr",
     "output_type": "stream",
     "text": [
      "l:\\Programs\\anaconda\\envs\\esg_pred\\Lib\\site-packages\\sklearn\\linear_model\\_ridge.py:215: LinAlgWarning: Ill-conditioned matrix (rcond=2.27771e-23): result may not be accurate.\n",
      "  return linalg.solve(A, Xy, assume_a=\"pos\", overwrite_a=True).T\n",
      "l:\\Programs\\anaconda\\envs\\esg_pred\\Lib\\site-packages\\xgboost\\training.py:183: UserWarning: [08:17:43] WARNING: C:\\actions-runner\\_work\\xgboost\\xgboost\\src\\learner.cc:738: \n",
      "Parameters: { \"boosting_type\" } are not used.\n",
      "\n",
      "  bst.update(dtrain, iteration=i, fobj=obj)\n"
     ]
    },
    {
     "name": "stdout",
     "output_type": "stream",
     "text": [
      "Data shapes - Train: (275, 82), Test: (89, 82)\n"
     ]
    },
    {
     "name": "stderr",
     "output_type": "stream",
     "text": [
      "l:\\Programs\\anaconda\\envs\\esg_pred\\Lib\\site-packages\\sklearn\\linear_model\\_ridge.py:215: LinAlgWarning: Ill-conditioned matrix (rcond=3.82535e-26): result may not be accurate.\n",
      "  return linalg.solve(A, Xy, assume_a=\"pos\", overwrite_a=True).T\n",
      "l:\\Programs\\anaconda\\envs\\esg_pred\\Lib\\site-packages\\xgboost\\training.py:183: UserWarning: [08:17:53] WARNING: C:\\actions-runner\\_work\\xgboost\\xgboost\\src\\learner.cc:738: \n",
      "Parameters: { \"boosting_type\" } are not used.\n",
      "\n",
      "  bst.update(dtrain, iteration=i, fobj=obj)\n"
     ]
    },
    {
     "name": "stdout",
     "output_type": "stream",
     "text": [
      "Data shapes - Train: (322, 82), Test: (42, 82)\n"
     ]
    },
    {
     "name": "stderr",
     "output_type": "stream",
     "text": [
      "l:\\Programs\\anaconda\\envs\\esg_pred\\Lib\\site-packages\\sklearn\\linear_model\\_ridge.py:215: LinAlgWarning: Ill-conditioned matrix (rcond=6.88608e-30): result may not be accurate.\n",
      "  return linalg.solve(A, Xy, assume_a=\"pos\", overwrite_a=True).T\n",
      "l:\\Programs\\anaconda\\envs\\esg_pred\\Lib\\site-packages\\xgboost\\training.py:183: UserWarning: [08:18:06] WARNING: C:\\actions-runner\\_work\\xgboost\\xgboost\\src\\learner.cc:738: \n",
      "Parameters: { \"boosting_type\" } are not used.\n",
      "\n",
      "  bst.update(dtrain, iteration=i, fobj=obj)\n"
     ]
    },
    {
     "name": "stdout",
     "output_type": "stream",
     "text": [
      "Data shapes - Train: (250, 82), Test: (114, 82)\n"
     ]
    },
    {
     "name": "stderr",
     "output_type": "stream",
     "text": [
      "l:\\Programs\\anaconda\\envs\\esg_pred\\Lib\\site-packages\\sklearn\\linear_model\\_ridge.py:215: LinAlgWarning: Ill-conditioned matrix (rcond=3.95053e-27): result may not be accurate.\n",
      "  return linalg.solve(A, Xy, assume_a=\"pos\", overwrite_a=True).T\n",
      "l:\\Programs\\anaconda\\envs\\esg_pred\\Lib\\site-packages\\xgboost\\training.py:183: UserWarning: [08:18:16] WARNING: C:\\actions-runner\\_work\\xgboost\\xgboost\\src\\learner.cc:738: \n",
      "Parameters: { \"boosting_type\" } are not used.\n",
      "\n",
      "  bst.update(dtrain, iteration=i, fobj=obj)\n"
     ]
    },
    {
     "name": "stdout",
     "output_type": "stream",
     "text": [
      "Data shapes - Train: (327, 82), Test: (37, 82)\n"
     ]
    },
    {
     "name": "stderr",
     "output_type": "stream",
     "text": [
      "l:\\Programs\\anaconda\\envs\\esg_pred\\Lib\\site-packages\\sklearn\\linear_model\\_ridge.py:215: LinAlgWarning: Ill-conditioned matrix (rcond=4.31965e-27): result may not be accurate.\n",
      "  return linalg.solve(A, Xy, assume_a=\"pos\", overwrite_a=True).T\n",
      "l:\\Programs\\anaconda\\envs\\esg_pred\\Lib\\site-packages\\xgboost\\training.py:183: UserWarning: [08:18:28] WARNING: C:\\actions-runner\\_work\\xgboost\\xgboost\\src\\learner.cc:738: \n",
      "Parameters: { \"boosting_type\" } are not used.\n",
      "\n",
      "  bst.update(dtrain, iteration=i, fobj=obj)\n"
     ]
    },
    {
     "name": "stdout",
     "output_type": "stream",
     "text": [
      "Data shapes - Train: (345, 82), Test: (19, 82)\n"
     ]
    },
    {
     "name": "stderr",
     "output_type": "stream",
     "text": [
      "l:\\Programs\\anaconda\\envs\\esg_pred\\Lib\\site-packages\\sklearn\\linear_model\\_ridge.py:215: LinAlgWarning: Ill-conditioned matrix (rcond=5.30054e-28): result may not be accurate.\n",
      "  return linalg.solve(A, Xy, assume_a=\"pos\", overwrite_a=True).T\n",
      "l:\\Programs\\anaconda\\envs\\esg_pred\\Lib\\site-packages\\xgboost\\training.py:183: UserWarning: [08:18:41] WARNING: C:\\actions-runner\\_work\\xgboost\\xgboost\\src\\learner.cc:738: \n",
      "Parameters: { \"boosting_type\" } are not used.\n",
      "\n",
      "  bst.update(dtrain, iteration=i, fobj=obj)\n"
     ]
    },
    {
     "name": "stdout",
     "output_type": "stream",
     "text": [
      "Data shapes - Train: (251, 83), Test: (113, 83)\n"
     ]
    },
    {
     "name": "stderr",
     "output_type": "stream",
     "text": [
      "l:\\Programs\\anaconda\\envs\\esg_pred\\Lib\\site-packages\\sklearn\\linear_model\\_ridge.py:215: LinAlgWarning: Ill-conditioned matrix (rcond=8.63406e-23): result may not be accurate.\n",
      "  return linalg.solve(A, Xy, assume_a=\"pos\", overwrite_a=True).T\n",
      "l:\\Programs\\anaconda\\envs\\esg_pred\\Lib\\site-packages\\xgboost\\training.py:183: UserWarning: [08:18:50] WARNING: C:\\actions-runner\\_work\\xgboost\\xgboost\\src\\learner.cc:738: \n",
      "Parameters: { \"boosting_type\" } are not used.\n",
      "\n",
      "  bst.update(dtrain, iteration=i, fobj=obj)\n"
     ]
    },
    {
     "name": "stdout",
     "output_type": "stream",
     "text": [
      "Data shapes - Train: (249, 83), Test: (115, 83)\n"
     ]
    },
    {
     "name": "stderr",
     "output_type": "stream",
     "text": [
      "l:\\Programs\\anaconda\\envs\\esg_pred\\Lib\\site-packages\\sklearn\\linear_model\\_ridge.py:215: LinAlgWarning: Ill-conditioned matrix (rcond=4.14663e-26): result may not be accurate.\n",
      "  return linalg.solve(A, Xy, assume_a=\"pos\", overwrite_a=True).T\n",
      "l:\\Programs\\anaconda\\envs\\esg_pred\\Lib\\site-packages\\xgboost\\training.py:183: UserWarning: [08:19:00] WARNING: C:\\actions-runner\\_work\\xgboost\\xgboost\\src\\learner.cc:738: \n",
      "Parameters: { \"boosting_type\" } are not used.\n",
      "\n",
      "  bst.update(dtrain, iteration=i, fobj=obj)\n"
     ]
    },
    {
     "name": "stdout",
     "output_type": "stream",
     "text": [
      "Data shapes - Train: (228, 83), Test: (136, 83)\n"
     ]
    },
    {
     "name": "stderr",
     "output_type": "stream",
     "text": [
      "l:\\Programs\\anaconda\\envs\\esg_pred\\Lib\\site-packages\\sklearn\\linear_model\\_ridge.py:215: LinAlgWarning: Ill-conditioned matrix (rcond=5.49227e-28): result may not be accurate.\n",
      "  return linalg.solve(A, Xy, assume_a=\"pos\", overwrite_a=True).T\n",
      "l:\\Programs\\anaconda\\envs\\esg_pred\\Lib\\site-packages\\xgboost\\training.py:183: UserWarning: [08:19:08] WARNING: C:\\actions-runner\\_work\\xgboost\\xgboost\\src\\learner.cc:738: \n",
      "Parameters: { \"boosting_type\" } are not used.\n",
      "\n",
      "  bst.update(dtrain, iteration=i, fobj=obj)\n"
     ]
    },
    {
     "name": "stdout",
     "output_type": "stream",
     "text": [
      "Data shapes - Train: (113, 83), Test: (29, 83)\n"
     ]
    },
    {
     "name": "stderr",
     "output_type": "stream",
     "text": [
      "l:\\Programs\\anaconda\\envs\\esg_pred\\Lib\\site-packages\\sklearn\\linear_model\\_ridge.py:215: LinAlgWarning: Ill-conditioned matrix (rcond=1.49297e-21): result may not be accurate.\n",
      "  return linalg.solve(A, Xy, assume_a=\"pos\", overwrite_a=True).T\n",
      "l:\\Programs\\anaconda\\envs\\esg_pred\\Lib\\site-packages\\xgboost\\training.py:183: UserWarning: [08:19:13] WARNING: C:\\actions-runner\\_work\\xgboost\\xgboost\\src\\learner.cc:738: \n",
      "Parameters: { \"boosting_type\" } are not used.\n",
      "\n",
      "  bst.update(dtrain, iteration=i, fobj=obj)\n"
     ]
    },
    {
     "name": "stdout",
     "output_type": "stream",
     "text": [
      "Data shapes - Train: (87, 78), Test: (55, 78)\n"
     ]
    },
    {
     "name": "stderr",
     "output_type": "stream",
     "text": [
      "l:\\Programs\\anaconda\\envs\\esg_pred\\Lib\\site-packages\\sklearn\\linear_model\\_ridge.py:215: LinAlgWarning: Ill-conditioned matrix (rcond=5.52641e-23): result may not be accurate.\n",
      "  return linalg.solve(A, Xy, assume_a=\"pos\", overwrite_a=True).T\n",
      "l:\\Programs\\anaconda\\envs\\esg_pred\\Lib\\site-packages\\xgboost\\training.py:183: UserWarning: [08:19:16] WARNING: C:\\actions-runner\\_work\\xgboost\\xgboost\\src\\learner.cc:738: \n",
      "Parameters: { \"boosting_type\" } are not used.\n",
      "\n",
      "  bst.update(dtrain, iteration=i, fobj=obj)\n"
     ]
    },
    {
     "name": "stdout",
     "output_type": "stream",
     "text": [
      "Data shapes - Train: (55, 78), Test: (87, 78)\n"
     ]
    },
    {
     "name": "stderr",
     "output_type": "stream",
     "text": [
      "l:\\Programs\\anaconda\\envs\\esg_pred\\Lib\\site-packages\\sklearn\\linear_model\\_ridge.py:254: UserWarning: Singular matrix in solving dual problem. Using least-squares solution instead.\n",
      "  warnings.warn(\n",
      "l:\\Programs\\anaconda\\envs\\esg_pred\\Lib\\site-packages\\xgboost\\training.py:183: UserWarning: [08:19:19] WARNING: C:\\actions-runner\\_work\\xgboost\\xgboost\\src\\learner.cc:738: \n",
      "Parameters: { \"boosting_type\" } are not used.\n",
      "\n",
      "  bst.update(dtrain, iteration=i, fobj=obj)\n"
     ]
    },
    {
     "name": "stdout",
     "output_type": "stream",
     "text": [
      "Data shapes - Train: (81, 82), Test: (61, 82)\n"
     ]
    },
    {
     "name": "stderr",
     "output_type": "stream",
     "text": [
      "l:\\Programs\\anaconda\\envs\\esg_pred\\Lib\\site-packages\\sklearn\\linear_model\\_ridge.py:215: LinAlgWarning: Ill-conditioned matrix (rcond=3.89976e-22): result may not be accurate.\n",
      "  return linalg.solve(A, Xy, assume_a=\"pos\", overwrite_a=True).T\n",
      "l:\\Programs\\anaconda\\envs\\esg_pred\\Lib\\site-packages\\xgboost\\training.py:183: UserWarning: [08:19:23] WARNING: C:\\actions-runner\\_work\\xgboost\\xgboost\\src\\learner.cc:738: \n",
      "Parameters: { \"boosting_type\" } are not used.\n",
      "\n",
      "  bst.update(dtrain, iteration=i, fobj=obj)\n"
     ]
    },
    {
     "name": "stdout",
     "output_type": "stream",
     "text": [
      "Data shapes - Train: (61, 82), Test: (81, 82)\n"
     ]
    },
    {
     "name": "stderr",
     "output_type": "stream",
     "text": [
      "l:\\Programs\\anaconda\\envs\\esg_pred\\Lib\\site-packages\\sklearn\\linear_model\\_ridge.py:254: UserWarning: Singular matrix in solving dual problem. Using least-squares solution instead.\n",
      "  warnings.warn(\n",
      "l:\\Programs\\anaconda\\envs\\esg_pred\\Lib\\site-packages\\xgboost\\training.py:183: UserWarning: [08:19:26] WARNING: C:\\actions-runner\\_work\\xgboost\\xgboost\\src\\learner.cc:738: \n",
      "Parameters: { \"boosting_type\" } are not used.\n",
      "\n",
      "  bst.update(dtrain, iteration=i, fobj=obj)\n"
     ]
    },
    {
     "name": "stdout",
     "output_type": "stream",
     "text": [
      "Data shapes - Train: (563, 83), Test: (141, 83)\n"
     ]
    },
    {
     "name": "stderr",
     "output_type": "stream",
     "text": [
      "l:\\Programs\\anaconda\\envs\\esg_pred\\Lib\\site-packages\\sklearn\\linear_model\\_ridge.py:215: LinAlgWarning: Ill-conditioned matrix (rcond=1.03898e-26): result may not be accurate.\n",
      "  return linalg.solve(A, Xy, assume_a=\"pos\", overwrite_a=True).T\n",
      "l:\\Programs\\anaconda\\envs\\esg_pred\\Lib\\site-packages\\xgboost\\training.py:183: UserWarning: [08:19:40] WARNING: C:\\actions-runner\\_work\\xgboost\\xgboost\\src\\learner.cc:738: \n",
      "Parameters: { \"boosting_type\" } are not used.\n",
      "\n",
      "  bst.update(dtrain, iteration=i, fobj=obj)\n"
     ]
    },
    {
     "name": "stdout",
     "output_type": "stream",
     "text": [
      "Data shapes - Train: (572, 82), Test: (132, 82)\n"
     ]
    },
    {
     "name": "stderr",
     "output_type": "stream",
     "text": [
      "l:\\Programs\\anaconda\\envs\\esg_pred\\Lib\\site-packages\\sklearn\\linear_model\\_ridge.py:215: LinAlgWarning: Ill-conditioned matrix (rcond=7.14619e-23): result may not be accurate.\n",
      "  return linalg.solve(A, Xy, assume_a=\"pos\", overwrite_a=True).T\n",
      "l:\\Programs\\anaconda\\envs\\esg_pred\\Lib\\site-packages\\xgboost\\training.py:183: UserWarning: [08:19:54] WARNING: C:\\actions-runner\\_work\\xgboost\\xgboost\\src\\learner.cc:738: \n",
      "Parameters: { \"boosting_type\" } are not used.\n",
      "\n",
      "  bst.update(dtrain, iteration=i, fobj=obj)\n"
     ]
    },
    {
     "name": "stdout",
     "output_type": "stream",
     "text": [
      "Data shapes - Train: (572, 82), Test: (132, 82)\n"
     ]
    },
    {
     "name": "stderr",
     "output_type": "stream",
     "text": [
      "l:\\Programs\\anaconda\\envs\\esg_pred\\Lib\\site-packages\\sklearn\\linear_model\\_ridge.py:215: LinAlgWarning: Ill-conditioned matrix (rcond=9.50466e-27): result may not be accurate.\n",
      "  return linalg.solve(A, Xy, assume_a=\"pos\", overwrite_a=True).T\n",
      "l:\\Programs\\anaconda\\envs\\esg_pred\\Lib\\site-packages\\xgboost\\training.py:183: UserWarning: [08:20:06] WARNING: C:\\actions-runner\\_work\\xgboost\\xgboost\\src\\learner.cc:738: \n",
      "Parameters: { \"boosting_type\" } are not used.\n",
      "\n",
      "  bst.update(dtrain, iteration=i, fobj=obj)\n"
     ]
    },
    {
     "name": "stdout",
     "output_type": "stream",
     "text": [
      "Data shapes - Train: (616, 82), Test: (88, 82)\n"
     ]
    },
    {
     "name": "stderr",
     "output_type": "stream",
     "text": [
      "l:\\Programs\\anaconda\\envs\\esg_pred\\Lib\\site-packages\\sklearn\\linear_model\\_ridge.py:215: LinAlgWarning: Ill-conditioned matrix (rcond=1.01588e-26): result may not be accurate.\n",
      "  return linalg.solve(A, Xy, assume_a=\"pos\", overwrite_a=True).T\n",
      "l:\\Programs\\anaconda\\envs\\esg_pred\\Lib\\site-packages\\xgboost\\training.py:183: UserWarning: [08:20:19] WARNING: C:\\actions-runner\\_work\\xgboost\\xgboost\\src\\learner.cc:738: \n",
      "Parameters: { \"boosting_type\" } are not used.\n",
      "\n",
      "  bst.update(dtrain, iteration=i, fobj=obj)\n"
     ]
    },
    {
     "name": "stdout",
     "output_type": "stream",
     "text": [
      "Data shapes - Train: (572, 82), Test: (132, 82)\n"
     ]
    },
    {
     "name": "stderr",
     "output_type": "stream",
     "text": [
      "l:\\Programs\\anaconda\\envs\\esg_pred\\Lib\\site-packages\\sklearn\\linear_model\\_ridge.py:215: LinAlgWarning: Ill-conditioned matrix (rcond=9.31159e-27): result may not be accurate.\n",
      "  return linalg.solve(A, Xy, assume_a=\"pos\", overwrite_a=True).T\n",
      "l:\\Programs\\anaconda\\envs\\esg_pred\\Lib\\site-packages\\xgboost\\training.py:183: UserWarning: [08:20:31] WARNING: C:\\actions-runner\\_work\\xgboost\\xgboost\\src\\learner.cc:738: \n",
      "Parameters: { \"boosting_type\" } are not used.\n",
      "\n",
      "  bst.update(dtrain, iteration=i, fobj=obj)\n"
     ]
    },
    {
     "name": "stdout",
     "output_type": "stream",
     "text": [
      "Data shapes - Train: (616, 82), Test: (88, 82)\n"
     ]
    },
    {
     "name": "stderr",
     "output_type": "stream",
     "text": [
      "l:\\Programs\\anaconda\\envs\\esg_pred\\Lib\\site-packages\\sklearn\\linear_model\\_ridge.py:215: LinAlgWarning: Ill-conditioned matrix (rcond=1.01252e-26): result may not be accurate.\n",
      "  return linalg.solve(A, Xy, assume_a=\"pos\", overwrite_a=True).T\n",
      "l:\\Programs\\anaconda\\envs\\esg_pred\\Lib\\site-packages\\xgboost\\training.py:183: UserWarning: [08:20:44] WARNING: C:\\actions-runner\\_work\\xgboost\\xgboost\\src\\learner.cc:738: \n",
      "Parameters: { \"boosting_type\" } are not used.\n",
      "\n",
      "  bst.update(dtrain, iteration=i, fobj=obj)\n"
     ]
    },
    {
     "name": "stdout",
     "output_type": "stream",
     "text": [
      "Data shapes - Train: (572, 82), Test: (132, 82)\n"
     ]
    },
    {
     "name": "stderr",
     "output_type": "stream",
     "text": [
      "l:\\Programs\\anaconda\\envs\\esg_pred\\Lib\\site-packages\\sklearn\\linear_model\\_ridge.py:215: LinAlgWarning: Ill-conditioned matrix (rcond=9.93282e-27): result may not be accurate.\n",
      "  return linalg.solve(A, Xy, assume_a=\"pos\", overwrite_a=True).T\n",
      "l:\\Programs\\anaconda\\envs\\esg_pred\\Lib\\site-packages\\xgboost\\training.py:183: UserWarning: [08:20:59] WARNING: C:\\actions-runner\\_work\\xgboost\\xgboost\\src\\learner.cc:738: \n",
      "Parameters: { \"boosting_type\" } are not used.\n",
      "\n",
      "  bst.update(dtrain, iteration=i, fobj=obj)\n"
     ]
    },
    {
     "name": "stdout",
     "output_type": "stream",
     "text": [
      "Data shapes - Train: (440, 83), Test: (264, 83)\n"
     ]
    },
    {
     "name": "stderr",
     "output_type": "stream",
     "text": [
      "l:\\Programs\\anaconda\\envs\\esg_pred\\Lib\\site-packages\\sklearn\\linear_model\\_ridge.py:215: LinAlgWarning: Ill-conditioned matrix (rcond=8.06637e-23): result may not be accurate.\n",
      "  return linalg.solve(A, Xy, assume_a=\"pos\", overwrite_a=True).T\n",
      "l:\\Programs\\anaconda\\envs\\esg_pred\\Lib\\site-packages\\xgboost\\training.py:183: UserWarning: [08:21:11] WARNING: C:\\actions-runner\\_work\\xgboost\\xgboost\\src\\learner.cc:738: \n",
      "Parameters: { \"boosting_type\" } are not used.\n",
      "\n",
      "  bst.update(dtrain, iteration=i, fobj=obj)\n"
     ]
    },
    {
     "name": "stdout",
     "output_type": "stream",
     "text": [
      "Data shapes - Train: (484, 83), Test: (220, 83)\n"
     ]
    },
    {
     "name": "stderr",
     "output_type": "stream",
     "text": [
      "l:\\Programs\\anaconda\\envs\\esg_pred\\Lib\\site-packages\\sklearn\\linear_model\\_ridge.py:215: LinAlgWarning: Ill-conditioned matrix (rcond=1.02894e-27): result may not be accurate.\n",
      "  return linalg.solve(A, Xy, assume_a=\"pos\", overwrite_a=True).T\n",
      "l:\\Programs\\anaconda\\envs\\esg_pred\\Lib\\site-packages\\xgboost\\training.py:183: UserWarning: [08:21:21] WARNING: C:\\actions-runner\\_work\\xgboost\\xgboost\\src\\learner.cc:738: \n",
      "Parameters: { \"boosting_type\" } are not used.\n",
      "\n",
      "  bst.update(dtrain, iteration=i, fobj=obj)\n"
     ]
    },
    {
     "name": "stdout",
     "output_type": "stream",
     "text": [
      "Data shapes - Train: (484, 83), Test: (220, 83)\n"
     ]
    },
    {
     "name": "stderr",
     "output_type": "stream",
     "text": [
      "l:\\Programs\\anaconda\\envs\\esg_pred\\Lib\\site-packages\\sklearn\\linear_model\\_ridge.py:215: LinAlgWarning: Ill-conditioned matrix (rcond=1.08112e-26): result may not be accurate.\n",
      "  return linalg.solve(A, Xy, assume_a=\"pos\", overwrite_a=True).T\n",
      "l:\\Programs\\anaconda\\envs\\esg_pred\\Lib\\site-packages\\xgboost\\training.py:183: UserWarning: [08:21:31] WARNING: C:\\actions-runner\\_work\\xgboost\\xgboost\\src\\learner.cc:738: \n",
      "Parameters: { \"boosting_type\" } are not used.\n",
      "\n",
      "  bst.update(dtrain, iteration=i, fobj=obj)\n"
     ]
    },
    {
     "name": "stdout",
     "output_type": "stream",
     "text": [
      "Data shapes - Train: (320, 83), Test: (80, 83)\n"
     ]
    },
    {
     "name": "stderr",
     "output_type": "stream",
     "text": [
      "l:\\Programs\\anaconda\\envs\\esg_pred\\Lib\\site-packages\\sklearn\\linear_model\\_ridge.py:215: LinAlgWarning: Ill-conditioned matrix (rcond=2.20859e-26): result may not be accurate.\n",
      "  return linalg.solve(A, Xy, assume_a=\"pos\", overwrite_a=True).T\n",
      "l:\\Programs\\anaconda\\envs\\esg_pred\\Lib\\site-packages\\xgboost\\training.py:183: UserWarning: [08:21:40] WARNING: C:\\actions-runner\\_work\\xgboost\\xgboost\\src\\learner.cc:738: \n",
      "Parameters: { \"boosting_type\" } are not used.\n",
      "\n",
      "  bst.update(dtrain, iteration=i, fobj=obj)\n"
     ]
    },
    {
     "name": "stdout",
     "output_type": "stream",
     "text": [
      "Data shapes - Train: (325, 82), Test: (75, 82)\n"
     ]
    },
    {
     "name": "stderr",
     "output_type": "stream",
     "text": [
      "l:\\Programs\\anaconda\\envs\\esg_pred\\Lib\\site-packages\\sklearn\\linear_model\\_ridge.py:215: LinAlgWarning: Ill-conditioned matrix (rcond=2.43635e-23): result may not be accurate.\n",
      "  return linalg.solve(A, Xy, assume_a=\"pos\", overwrite_a=True).T\n",
      "l:\\Programs\\anaconda\\envs\\esg_pred\\Lib\\site-packages\\xgboost\\training.py:183: UserWarning: [08:21:48] WARNING: C:\\actions-runner\\_work\\xgboost\\xgboost\\src\\learner.cc:738: \n",
      "Parameters: { \"boosting_type\" } are not used.\n",
      "\n",
      "  bst.update(dtrain, iteration=i, fobj=obj)\n"
     ]
    },
    {
     "name": "stdout",
     "output_type": "stream",
     "text": [
      "Data shapes - Train: (325, 82), Test: (75, 82)\n"
     ]
    },
    {
     "name": "stderr",
     "output_type": "stream",
     "text": [
      "l:\\Programs\\anaconda\\envs\\esg_pred\\Lib\\site-packages\\sklearn\\linear_model\\_ridge.py:215: LinAlgWarning: Ill-conditioned matrix (rcond=2.02553e-26): result may not be accurate.\n",
      "  return linalg.solve(A, Xy, assume_a=\"pos\", overwrite_a=True).T\n",
      "l:\\Programs\\anaconda\\envs\\esg_pred\\Lib\\site-packages\\xgboost\\training.py:183: UserWarning: [08:21:57] WARNING: C:\\actions-runner\\_work\\xgboost\\xgboost\\src\\learner.cc:738: \n",
      "Parameters: { \"boosting_type\" } are not used.\n",
      "\n",
      "  bst.update(dtrain, iteration=i, fobj=obj)\n"
     ]
    },
    {
     "name": "stdout",
     "output_type": "stream",
     "text": [
      "Data shapes - Train: (350, 82), Test: (50, 82)\n"
     ]
    },
    {
     "name": "stderr",
     "output_type": "stream",
     "text": [
      "l:\\Programs\\anaconda\\envs\\esg_pred\\Lib\\site-packages\\sklearn\\linear_model\\_ridge.py:215: LinAlgWarning: Ill-conditioned matrix (rcond=2.17141e-26): result may not be accurate.\n",
      "  return linalg.solve(A, Xy, assume_a=\"pos\", overwrite_a=True).T\n",
      "l:\\Programs\\anaconda\\envs\\esg_pred\\Lib\\site-packages\\xgboost\\training.py:183: UserWarning: [08:22:07] WARNING: C:\\actions-runner\\_work\\xgboost\\xgboost\\src\\learner.cc:738: \n",
      "Parameters: { \"boosting_type\" } are not used.\n",
      "\n",
      "  bst.update(dtrain, iteration=i, fobj=obj)\n"
     ]
    },
    {
     "name": "stdout",
     "output_type": "stream",
     "text": [
      "Data shapes - Train: (325, 82), Test: (75, 82)\n"
     ]
    },
    {
     "name": "stderr",
     "output_type": "stream",
     "text": [
      "l:\\Programs\\anaconda\\envs\\esg_pred\\Lib\\site-packages\\sklearn\\linear_model\\_ridge.py:215: LinAlgWarning: Ill-conditioned matrix (rcond=1.93281e-26): result may not be accurate.\n",
      "  return linalg.solve(A, Xy, assume_a=\"pos\", overwrite_a=True).T\n",
      "l:\\Programs\\anaconda\\envs\\esg_pred\\Lib\\site-packages\\xgboost\\training.py:183: UserWarning: [08:22:15] WARNING: C:\\actions-runner\\_work\\xgboost\\xgboost\\src\\learner.cc:738: \n",
      "Parameters: { \"boosting_type\" } are not used.\n",
      "\n",
      "  bst.update(dtrain, iteration=i, fobj=obj)\n"
     ]
    },
    {
     "name": "stdout",
     "output_type": "stream",
     "text": [
      "Data shapes - Train: (350, 82), Test: (50, 82)\n"
     ]
    },
    {
     "name": "stderr",
     "output_type": "stream",
     "text": [
      "l:\\Programs\\anaconda\\envs\\esg_pred\\Lib\\site-packages\\sklearn\\linear_model\\_ridge.py:215: LinAlgWarning: Ill-conditioned matrix (rcond=2.16982e-26): result may not be accurate.\n",
      "  return linalg.solve(A, Xy, assume_a=\"pos\", overwrite_a=True).T\n",
      "l:\\Programs\\anaconda\\envs\\esg_pred\\Lib\\site-packages\\xgboost\\training.py:183: UserWarning: [08:22:24] WARNING: C:\\actions-runner\\_work\\xgboost\\xgboost\\src\\learner.cc:738: \n",
      "Parameters: { \"boosting_type\" } are not used.\n",
      "\n",
      "  bst.update(dtrain, iteration=i, fobj=obj)\n"
     ]
    },
    {
     "name": "stdout",
     "output_type": "stream",
     "text": [
      "Data shapes - Train: (325, 82), Test: (75, 82)\n"
     ]
    },
    {
     "name": "stderr",
     "output_type": "stream",
     "text": [
      "l:\\Programs\\anaconda\\envs\\esg_pred\\Lib\\site-packages\\sklearn\\linear_model\\_ridge.py:215: LinAlgWarning: Ill-conditioned matrix (rcond=2.07255e-26): result may not be accurate.\n",
      "  return linalg.solve(A, Xy, assume_a=\"pos\", overwrite_a=True).T\n",
      "l:\\Programs\\anaconda\\envs\\esg_pred\\Lib\\site-packages\\xgboost\\training.py:183: UserWarning: [08:22:33] WARNING: C:\\actions-runner\\_work\\xgboost\\xgboost\\src\\learner.cc:738: \n",
      "Parameters: { \"boosting_type\" } are not used.\n",
      "\n",
      "  bst.update(dtrain, iteration=i, fobj=obj)\n"
     ]
    },
    {
     "name": "stdout",
     "output_type": "stream",
     "text": [
      "Data shapes - Train: (250, 83), Test: (150, 83)\n"
     ]
    },
    {
     "name": "stderr",
     "output_type": "stream",
     "text": [
      "l:\\Programs\\anaconda\\envs\\esg_pred\\Lib\\site-packages\\sklearn\\linear_model\\_ridge.py:215: LinAlgWarning: Ill-conditioned matrix (rcond=8.88301e-23): result may not be accurate.\n",
      "  return linalg.solve(A, Xy, assume_a=\"pos\", overwrite_a=True).T\n",
      "l:\\Programs\\anaconda\\envs\\esg_pred\\Lib\\site-packages\\xgboost\\training.py:183: UserWarning: [08:22:41] WARNING: C:\\actions-runner\\_work\\xgboost\\xgboost\\src\\learner.cc:738: \n",
      "Parameters: { \"boosting_type\" } are not used.\n",
      "\n",
      "  bst.update(dtrain, iteration=i, fobj=obj)\n"
     ]
    },
    {
     "name": "stdout",
     "output_type": "stream",
     "text": [
      "Data shapes - Train: (275, 83), Test: (125, 83)\n"
     ]
    },
    {
     "name": "stderr",
     "output_type": "stream",
     "text": [
      "l:\\Programs\\anaconda\\envs\\esg_pred\\Lib\\site-packages\\sklearn\\linear_model\\_ridge.py:215: LinAlgWarning: Ill-conditioned matrix (rcond=2.10952e-26): result may not be accurate.\n",
      "  return linalg.solve(A, Xy, assume_a=\"pos\", overwrite_a=True).T\n",
      "l:\\Programs\\anaconda\\envs\\esg_pred\\Lib\\site-packages\\xgboost\\training.py:183: UserWarning: [08:22:48] WARNING: C:\\actions-runner\\_work\\xgboost\\xgboost\\src\\learner.cc:738: \n",
      "Parameters: { \"boosting_type\" } are not used.\n",
      "\n",
      "  bst.update(dtrain, iteration=i, fobj=obj)\n"
     ]
    },
    {
     "name": "stdout",
     "output_type": "stream",
     "text": [
      "Data shapes - Train: (275, 83), Test: (125, 83)\n"
     ]
    },
    {
     "name": "stderr",
     "output_type": "stream",
     "text": [
      "l:\\Programs\\anaconda\\envs\\esg_pred\\Lib\\site-packages\\sklearn\\linear_model\\_ridge.py:215: LinAlgWarning: Ill-conditioned matrix (rcond=2.02872e-26): result may not be accurate.\n",
      "  return linalg.solve(A, Xy, assume_a=\"pos\", overwrite_a=True).T\n",
      "l:\\Programs\\anaconda\\envs\\esg_pred\\Lib\\site-packages\\xgboost\\training.py:183: UserWarning: [08:22:55] WARNING: C:\\actions-runner\\_work\\xgboost\\xgboost\\src\\learner.cc:738: \n",
      "Parameters: { \"boosting_type\" } are not used.\n",
      "\n",
      "  bst.update(dtrain, iteration=i, fobj=obj)\n"
     ]
    },
    {
     "name": "stdout",
     "output_type": "stream",
     "text": [
      "Data shapes - Train: (291, 83), Test: (73, 83)\n"
     ]
    },
    {
     "name": "stderr",
     "output_type": "stream",
     "text": [
      "l:\\Programs\\anaconda\\envs\\esg_pred\\Lib\\site-packages\\sklearn\\linear_model\\_ridge.py:215: LinAlgWarning: Ill-conditioned matrix (rcond=3.99903e-26): result may not be accurate.\n",
      "  return linalg.solve(A, Xy, assume_a=\"pos\", overwrite_a=True).T\n",
      "l:\\Programs\\anaconda\\envs\\esg_pred\\Lib\\site-packages\\xgboost\\training.py:183: UserWarning: [08:23:06] WARNING: C:\\actions-runner\\_work\\xgboost\\xgboost\\src\\learner.cc:738: \n",
      "Parameters: { \"boosting_type\" } are not used.\n",
      "\n",
      "  bst.update(dtrain, iteration=i, fobj=obj)\n"
     ]
    },
    {
     "name": "stdout",
     "output_type": "stream",
     "text": [
      "Data shapes - Train: (301, 82), Test: (63, 82)\n"
     ]
    },
    {
     "name": "stderr",
     "output_type": "stream",
     "text": [
      "l:\\Programs\\anaconda\\envs\\esg_pred\\Lib\\site-packages\\sklearn\\linear_model\\_ridge.py:215: LinAlgWarning: Ill-conditioned matrix (rcond=2.27771e-23): result may not be accurate.\n",
      "  return linalg.solve(A, Xy, assume_a=\"pos\", overwrite_a=True).T\n",
      "l:\\Programs\\anaconda\\envs\\esg_pred\\Lib\\site-packages\\xgboost\\training.py:183: UserWarning: [08:23:17] WARNING: C:\\actions-runner\\_work\\xgboost\\xgboost\\src\\learner.cc:738: \n",
      "Parameters: { \"boosting_type\" } are not used.\n",
      "\n",
      "  bst.update(dtrain, iteration=i, fobj=obj)\n"
     ]
    },
    {
     "name": "stdout",
     "output_type": "stream",
     "text": [
      "Data shapes - Train: (275, 82), Test: (89, 82)\n"
     ]
    },
    {
     "name": "stderr",
     "output_type": "stream",
     "text": [
      "l:\\Programs\\anaconda\\envs\\esg_pred\\Lib\\site-packages\\sklearn\\linear_model\\_ridge.py:215: LinAlgWarning: Ill-conditioned matrix (rcond=3.82535e-26): result may not be accurate.\n",
      "  return linalg.solve(A, Xy, assume_a=\"pos\", overwrite_a=True).T\n",
      "l:\\Programs\\anaconda\\envs\\esg_pred\\Lib\\site-packages\\xgboost\\training.py:183: UserWarning: [08:23:27] WARNING: C:\\actions-runner\\_work\\xgboost\\xgboost\\src\\learner.cc:738: \n",
      "Parameters: { \"boosting_type\" } are not used.\n",
      "\n",
      "  bst.update(dtrain, iteration=i, fobj=obj)\n"
     ]
    },
    {
     "name": "stdout",
     "output_type": "stream",
     "text": [
      "Data shapes - Train: (322, 82), Test: (42, 82)\n"
     ]
    },
    {
     "name": "stderr",
     "output_type": "stream",
     "text": [
      "l:\\Programs\\anaconda\\envs\\esg_pred\\Lib\\site-packages\\sklearn\\linear_model\\_ridge.py:215: LinAlgWarning: Ill-conditioned matrix (rcond=6.88608e-30): result may not be accurate.\n",
      "  return linalg.solve(A, Xy, assume_a=\"pos\", overwrite_a=True).T\n",
      "l:\\Programs\\anaconda\\envs\\esg_pred\\Lib\\site-packages\\xgboost\\training.py:183: UserWarning: [08:23:41] WARNING: C:\\actions-runner\\_work\\xgboost\\xgboost\\src\\learner.cc:738: \n",
      "Parameters: { \"boosting_type\" } are not used.\n",
      "\n",
      "  bst.update(dtrain, iteration=i, fobj=obj)\n"
     ]
    },
    {
     "name": "stdout",
     "output_type": "stream",
     "text": [
      "Data shapes - Train: (250, 82), Test: (114, 82)\n"
     ]
    },
    {
     "name": "stderr",
     "output_type": "stream",
     "text": [
      "l:\\Programs\\anaconda\\envs\\esg_pred\\Lib\\site-packages\\sklearn\\linear_model\\_ridge.py:215: LinAlgWarning: Ill-conditioned matrix (rcond=3.95053e-27): result may not be accurate.\n",
      "  return linalg.solve(A, Xy, assume_a=\"pos\", overwrite_a=True).T\n",
      "l:\\Programs\\anaconda\\envs\\esg_pred\\Lib\\site-packages\\xgboost\\training.py:183: UserWarning: [08:23:53] WARNING: C:\\actions-runner\\_work\\xgboost\\xgboost\\src\\learner.cc:738: \n",
      "Parameters: { \"boosting_type\" } are not used.\n",
      "\n",
      "  bst.update(dtrain, iteration=i, fobj=obj)\n"
     ]
    },
    {
     "name": "stdout",
     "output_type": "stream",
     "text": [
      "Data shapes - Train: (327, 82), Test: (37, 82)\n"
     ]
    },
    {
     "name": "stderr",
     "output_type": "stream",
     "text": [
      "l:\\Programs\\anaconda\\envs\\esg_pred\\Lib\\site-packages\\sklearn\\linear_model\\_ridge.py:215: LinAlgWarning: Ill-conditioned matrix (rcond=4.31965e-27): result may not be accurate.\n",
      "  return linalg.solve(A, Xy, assume_a=\"pos\", overwrite_a=True).T\n",
      "l:\\Programs\\anaconda\\envs\\esg_pred\\Lib\\site-packages\\xgboost\\training.py:183: UserWarning: [08:24:09] WARNING: C:\\actions-runner\\_work\\xgboost\\xgboost\\src\\learner.cc:738: \n",
      "Parameters: { \"boosting_type\" } are not used.\n",
      "\n",
      "  bst.update(dtrain, iteration=i, fobj=obj)\n"
     ]
    },
    {
     "name": "stdout",
     "output_type": "stream",
     "text": [
      "Data shapes - Train: (345, 82), Test: (19, 82)\n"
     ]
    },
    {
     "name": "stderr",
     "output_type": "stream",
     "text": [
      "l:\\Programs\\anaconda\\envs\\esg_pred\\Lib\\site-packages\\sklearn\\linear_model\\_ridge.py:215: LinAlgWarning: Ill-conditioned matrix (rcond=5.30054e-28): result may not be accurate.\n",
      "  return linalg.solve(A, Xy, assume_a=\"pos\", overwrite_a=True).T\n",
      "l:\\Programs\\anaconda\\envs\\esg_pred\\Lib\\site-packages\\xgboost\\training.py:183: UserWarning: [08:24:23] WARNING: C:\\actions-runner\\_work\\xgboost\\xgboost\\src\\learner.cc:738: \n",
      "Parameters: { \"boosting_type\" } are not used.\n",
      "\n",
      "  bst.update(dtrain, iteration=i, fobj=obj)\n"
     ]
    },
    {
     "name": "stdout",
     "output_type": "stream",
     "text": [
      "Data shapes - Train: (251, 83), Test: (113, 83)\n"
     ]
    },
    {
     "name": "stderr",
     "output_type": "stream",
     "text": [
      "l:\\Programs\\anaconda\\envs\\esg_pred\\Lib\\site-packages\\sklearn\\linear_model\\_ridge.py:215: LinAlgWarning: Ill-conditioned matrix (rcond=8.63406e-23): result may not be accurate.\n",
      "  return linalg.solve(A, Xy, assume_a=\"pos\", overwrite_a=True).T\n",
      "l:\\Programs\\anaconda\\envs\\esg_pred\\Lib\\site-packages\\xgboost\\training.py:183: UserWarning: [08:24:33] WARNING: C:\\actions-runner\\_work\\xgboost\\xgboost\\src\\learner.cc:738: \n",
      "Parameters: { \"boosting_type\" } are not used.\n",
      "\n",
      "  bst.update(dtrain, iteration=i, fobj=obj)\n"
     ]
    },
    {
     "name": "stdout",
     "output_type": "stream",
     "text": [
      "Data shapes - Train: (249, 83), Test: (115, 83)\n"
     ]
    },
    {
     "name": "stderr",
     "output_type": "stream",
     "text": [
      "l:\\Programs\\anaconda\\envs\\esg_pred\\Lib\\site-packages\\sklearn\\linear_model\\_ridge.py:215: LinAlgWarning: Ill-conditioned matrix (rcond=4.14663e-26): result may not be accurate.\n",
      "  return linalg.solve(A, Xy, assume_a=\"pos\", overwrite_a=True).T\n",
      "l:\\Programs\\anaconda\\envs\\esg_pred\\Lib\\site-packages\\xgboost\\training.py:183: UserWarning: [08:24:42] WARNING: C:\\actions-runner\\_work\\xgboost\\xgboost\\src\\learner.cc:738: \n",
      "Parameters: { \"boosting_type\" } are not used.\n",
      "\n",
      "  bst.update(dtrain, iteration=i, fobj=obj)\n"
     ]
    },
    {
     "name": "stdout",
     "output_type": "stream",
     "text": [
      "Data shapes - Train: (228, 83), Test: (136, 83)\n"
     ]
    },
    {
     "name": "stderr",
     "output_type": "stream",
     "text": [
      "l:\\Programs\\anaconda\\envs\\esg_pred\\Lib\\site-packages\\sklearn\\linear_model\\_ridge.py:215: LinAlgWarning: Ill-conditioned matrix (rcond=5.49227e-28): result may not be accurate.\n",
      "  return linalg.solve(A, Xy, assume_a=\"pos\", overwrite_a=True).T\n",
      "l:\\Programs\\anaconda\\envs\\esg_pred\\Lib\\site-packages\\xgboost\\training.py:183: UserWarning: [08:24:50] WARNING: C:\\actions-runner\\_work\\xgboost\\xgboost\\src\\learner.cc:738: \n",
      "Parameters: { \"boosting_type\" } are not used.\n",
      "\n",
      "  bst.update(dtrain, iteration=i, fobj=obj)\n"
     ]
    },
    {
     "name": "stdout",
     "output_type": "stream",
     "text": [
      "Data shapes - Train: (113, 83), Test: (29, 83)\n"
     ]
    },
    {
     "name": "stderr",
     "output_type": "stream",
     "text": [
      "l:\\Programs\\anaconda\\envs\\esg_pred\\Lib\\site-packages\\sklearn\\linear_model\\_ridge.py:215: LinAlgWarning: Ill-conditioned matrix (rcond=1.49297e-21): result may not be accurate.\n",
      "  return linalg.solve(A, Xy, assume_a=\"pos\", overwrite_a=True).T\n",
      "l:\\Programs\\anaconda\\envs\\esg_pred\\Lib\\site-packages\\xgboost\\training.py:183: UserWarning: [08:24:54] WARNING: C:\\actions-runner\\_work\\xgboost\\xgboost\\src\\learner.cc:738: \n",
      "Parameters: { \"boosting_type\" } are not used.\n",
      "\n",
      "  bst.update(dtrain, iteration=i, fobj=obj)\n"
     ]
    },
    {
     "name": "stdout",
     "output_type": "stream",
     "text": [
      "Data shapes - Train: (87, 78), Test: (55, 78)\n"
     ]
    },
    {
     "name": "stderr",
     "output_type": "stream",
     "text": [
      "l:\\Programs\\anaconda\\envs\\esg_pred\\Lib\\site-packages\\sklearn\\linear_model\\_ridge.py:215: LinAlgWarning: Ill-conditioned matrix (rcond=5.52641e-23): result may not be accurate.\n",
      "  return linalg.solve(A, Xy, assume_a=\"pos\", overwrite_a=True).T\n",
      "l:\\Programs\\anaconda\\envs\\esg_pred\\Lib\\site-packages\\xgboost\\training.py:183: UserWarning: [08:24:58] WARNING: C:\\actions-runner\\_work\\xgboost\\xgboost\\src\\learner.cc:738: \n",
      "Parameters: { \"boosting_type\" } are not used.\n",
      "\n",
      "  bst.update(dtrain, iteration=i, fobj=obj)\n"
     ]
    },
    {
     "name": "stdout",
     "output_type": "stream",
     "text": [
      "Data shapes - Train: (55, 78), Test: (87, 78)\n"
     ]
    },
    {
     "name": "stderr",
     "output_type": "stream",
     "text": [
      "l:\\Programs\\anaconda\\envs\\esg_pred\\Lib\\site-packages\\sklearn\\linear_model\\_ridge.py:254: UserWarning: Singular matrix in solving dual problem. Using least-squares solution instead.\n",
      "  warnings.warn(\n",
      "l:\\Programs\\anaconda\\envs\\esg_pred\\Lib\\site-packages\\xgboost\\training.py:183: UserWarning: [08:25:00] WARNING: C:\\actions-runner\\_work\\xgboost\\xgboost\\src\\learner.cc:738: \n",
      "Parameters: { \"boosting_type\" } are not used.\n",
      "\n",
      "  bst.update(dtrain, iteration=i, fobj=obj)\n"
     ]
    },
    {
     "name": "stdout",
     "output_type": "stream",
     "text": [
      "Data shapes - Train: (81, 82), Test: (61, 82)\n"
     ]
    },
    {
     "name": "stderr",
     "output_type": "stream",
     "text": [
      "l:\\Programs\\anaconda\\envs\\esg_pred\\Lib\\site-packages\\sklearn\\linear_model\\_ridge.py:215: LinAlgWarning: Ill-conditioned matrix (rcond=3.89976e-22): result may not be accurate.\n",
      "  return linalg.solve(A, Xy, assume_a=\"pos\", overwrite_a=True).T\n",
      "l:\\Programs\\anaconda\\envs\\esg_pred\\Lib\\site-packages\\xgboost\\training.py:183: UserWarning: [08:25:04] WARNING: C:\\actions-runner\\_work\\xgboost\\xgboost\\src\\learner.cc:738: \n",
      "Parameters: { \"boosting_type\" } are not used.\n",
      "\n",
      "  bst.update(dtrain, iteration=i, fobj=obj)\n"
     ]
    },
    {
     "name": "stdout",
     "output_type": "stream",
     "text": [
      "Data shapes - Train: (61, 82), Test: (81, 82)\n"
     ]
    },
    {
     "name": "stderr",
     "output_type": "stream",
     "text": [
      "l:\\Programs\\anaconda\\envs\\esg_pred\\Lib\\site-packages\\sklearn\\linear_model\\_ridge.py:254: UserWarning: Singular matrix in solving dual problem. Using least-squares solution instead.\n",
      "  warnings.warn(\n",
      "l:\\Programs\\anaconda\\envs\\esg_pred\\Lib\\site-packages\\xgboost\\training.py:183: UserWarning: [08:25:07] WARNING: C:\\actions-runner\\_work\\xgboost\\xgboost\\src\\learner.cc:738: \n",
      "Parameters: { \"boosting_type\" } are not used.\n",
      "\n",
      "  bst.update(dtrain, iteration=i, fobj=obj)\n"
     ]
    },
    {
     "name": "stdout",
     "output_type": "stream",
     "text": [
      "Data shapes - Train: (563, 83), Test: (141, 83)\n"
     ]
    },
    {
     "name": "stderr",
     "output_type": "stream",
     "text": [
      "l:\\Programs\\anaconda\\envs\\esg_pred\\Lib\\site-packages\\sklearn\\linear_model\\_ridge.py:215: LinAlgWarning: Ill-conditioned matrix (rcond=1.03898e-26): result may not be accurate.\n",
      "  return linalg.solve(A, Xy, assume_a=\"pos\", overwrite_a=True).T\n",
      "l:\\Programs\\anaconda\\envs\\esg_pred\\Lib\\site-packages\\xgboost\\training.py:183: UserWarning: [08:25:20] WARNING: C:\\actions-runner\\_work\\xgboost\\xgboost\\src\\learner.cc:738: \n",
      "Parameters: { \"boosting_type\" } are not used.\n",
      "\n",
      "  bst.update(dtrain, iteration=i, fobj=obj)\n"
     ]
    },
    {
     "name": "stdout",
     "output_type": "stream",
     "text": [
      "Data shapes - Train: (572, 82), Test: (132, 82)\n"
     ]
    },
    {
     "name": "stderr",
     "output_type": "stream",
     "text": [
      "l:\\Programs\\anaconda\\envs\\esg_pred\\Lib\\site-packages\\sklearn\\linear_model\\_ridge.py:215: LinAlgWarning: Ill-conditioned matrix (rcond=7.14619e-23): result may not be accurate.\n",
      "  return linalg.solve(A, Xy, assume_a=\"pos\", overwrite_a=True).T\n",
      "l:\\Programs\\anaconda\\envs\\esg_pred\\Lib\\site-packages\\xgboost\\training.py:183: UserWarning: [08:25:31] WARNING: C:\\actions-runner\\_work\\xgboost\\xgboost\\src\\learner.cc:738: \n",
      "Parameters: { \"boosting_type\" } are not used.\n",
      "\n",
      "  bst.update(dtrain, iteration=i, fobj=obj)\n"
     ]
    },
    {
     "name": "stdout",
     "output_type": "stream",
     "text": [
      "Data shapes - Train: (572, 82), Test: (132, 82)\n"
     ]
    },
    {
     "name": "stderr",
     "output_type": "stream",
     "text": [
      "l:\\Programs\\anaconda\\envs\\esg_pred\\Lib\\site-packages\\sklearn\\linear_model\\_ridge.py:215: LinAlgWarning: Ill-conditioned matrix (rcond=9.50466e-27): result may not be accurate.\n",
      "  return linalg.solve(A, Xy, assume_a=\"pos\", overwrite_a=True).T\n",
      "l:\\Programs\\anaconda\\envs\\esg_pred\\Lib\\site-packages\\xgboost\\training.py:183: UserWarning: [08:25:43] WARNING: C:\\actions-runner\\_work\\xgboost\\xgboost\\src\\learner.cc:738: \n",
      "Parameters: { \"boosting_type\" } are not used.\n",
      "\n",
      "  bst.update(dtrain, iteration=i, fobj=obj)\n"
     ]
    },
    {
     "name": "stdout",
     "output_type": "stream",
     "text": [
      "Data shapes - Train: (616, 82), Test: (88, 82)\n"
     ]
    },
    {
     "name": "stderr",
     "output_type": "stream",
     "text": [
      "l:\\Programs\\anaconda\\envs\\esg_pred\\Lib\\site-packages\\sklearn\\linear_model\\_ridge.py:215: LinAlgWarning: Ill-conditioned matrix (rcond=1.01588e-26): result may not be accurate.\n",
      "  return linalg.solve(A, Xy, assume_a=\"pos\", overwrite_a=True).T\n",
      "l:\\Programs\\anaconda\\envs\\esg_pred\\Lib\\site-packages\\xgboost\\training.py:183: UserWarning: [08:25:56] WARNING: C:\\actions-runner\\_work\\xgboost\\xgboost\\src\\learner.cc:738: \n",
      "Parameters: { \"boosting_type\" } are not used.\n",
      "\n",
      "  bst.update(dtrain, iteration=i, fobj=obj)\n"
     ]
    },
    {
     "name": "stdout",
     "output_type": "stream",
     "text": [
      "Data shapes - Train: (572, 82), Test: (132, 82)\n"
     ]
    },
    {
     "name": "stderr",
     "output_type": "stream",
     "text": [
      "l:\\Programs\\anaconda\\envs\\esg_pred\\Lib\\site-packages\\sklearn\\linear_model\\_ridge.py:215: LinAlgWarning: Ill-conditioned matrix (rcond=9.31159e-27): result may not be accurate.\n",
      "  return linalg.solve(A, Xy, assume_a=\"pos\", overwrite_a=True).T\n",
      "l:\\Programs\\anaconda\\envs\\esg_pred\\Lib\\site-packages\\xgboost\\training.py:183: UserWarning: [08:26:09] WARNING: C:\\actions-runner\\_work\\xgboost\\xgboost\\src\\learner.cc:738: \n",
      "Parameters: { \"boosting_type\" } are not used.\n",
      "\n",
      "  bst.update(dtrain, iteration=i, fobj=obj)\n"
     ]
    },
    {
     "name": "stdout",
     "output_type": "stream",
     "text": [
      "Data shapes - Train: (616, 82), Test: (88, 82)\n"
     ]
    },
    {
     "name": "stderr",
     "output_type": "stream",
     "text": [
      "l:\\Programs\\anaconda\\envs\\esg_pred\\Lib\\site-packages\\sklearn\\linear_model\\_ridge.py:215: LinAlgWarning: Ill-conditioned matrix (rcond=1.01252e-26): result may not be accurate.\n",
      "  return linalg.solve(A, Xy, assume_a=\"pos\", overwrite_a=True).T\n",
      "l:\\Programs\\anaconda\\envs\\esg_pred\\Lib\\site-packages\\xgboost\\training.py:183: UserWarning: [08:26:25] WARNING: C:\\actions-runner\\_work\\xgboost\\xgboost\\src\\learner.cc:738: \n",
      "Parameters: { \"boosting_type\" } are not used.\n",
      "\n",
      "  bst.update(dtrain, iteration=i, fobj=obj)\n"
     ]
    },
    {
     "name": "stdout",
     "output_type": "stream",
     "text": [
      "Data shapes - Train: (572, 82), Test: (132, 82)\n"
     ]
    },
    {
     "name": "stderr",
     "output_type": "stream",
     "text": [
      "l:\\Programs\\anaconda\\envs\\esg_pred\\Lib\\site-packages\\sklearn\\linear_model\\_ridge.py:215: LinAlgWarning: Ill-conditioned matrix (rcond=9.93282e-27): result may not be accurate.\n",
      "  return linalg.solve(A, Xy, assume_a=\"pos\", overwrite_a=True).T\n",
      "l:\\Programs\\anaconda\\envs\\esg_pred\\Lib\\site-packages\\xgboost\\training.py:183: UserWarning: [08:26:39] WARNING: C:\\actions-runner\\_work\\xgboost\\xgboost\\src\\learner.cc:738: \n",
      "Parameters: { \"boosting_type\" } are not used.\n",
      "\n",
      "  bst.update(dtrain, iteration=i, fobj=obj)\n"
     ]
    },
    {
     "name": "stdout",
     "output_type": "stream",
     "text": [
      "Data shapes - Train: (440, 83), Test: (264, 83)\n"
     ]
    },
    {
     "name": "stderr",
     "output_type": "stream",
     "text": [
      "l:\\Programs\\anaconda\\envs\\esg_pred\\Lib\\site-packages\\sklearn\\linear_model\\_ridge.py:215: LinAlgWarning: Ill-conditioned matrix (rcond=8.06637e-23): result may not be accurate.\n",
      "  return linalg.solve(A, Xy, assume_a=\"pos\", overwrite_a=True).T\n",
      "l:\\Programs\\anaconda\\envs\\esg_pred\\Lib\\site-packages\\xgboost\\training.py:183: UserWarning: [08:26:51] WARNING: C:\\actions-runner\\_work\\xgboost\\xgboost\\src\\learner.cc:738: \n",
      "Parameters: { \"boosting_type\" } are not used.\n",
      "\n",
      "  bst.update(dtrain, iteration=i, fobj=obj)\n"
     ]
    },
    {
     "name": "stdout",
     "output_type": "stream",
     "text": [
      "Data shapes - Train: (484, 83), Test: (220, 83)\n"
     ]
    },
    {
     "name": "stderr",
     "output_type": "stream",
     "text": [
      "l:\\Programs\\anaconda\\envs\\esg_pred\\Lib\\site-packages\\sklearn\\linear_model\\_ridge.py:215: LinAlgWarning: Ill-conditioned matrix (rcond=1.02894e-27): result may not be accurate.\n",
      "  return linalg.solve(A, Xy, assume_a=\"pos\", overwrite_a=True).T\n",
      "l:\\Programs\\anaconda\\envs\\esg_pred\\Lib\\site-packages\\xgboost\\training.py:183: UserWarning: [08:27:01] WARNING: C:\\actions-runner\\_work\\xgboost\\xgboost\\src\\learner.cc:738: \n",
      "Parameters: { \"boosting_type\" } are not used.\n",
      "\n",
      "  bst.update(dtrain, iteration=i, fobj=obj)\n"
     ]
    },
    {
     "name": "stdout",
     "output_type": "stream",
     "text": [
      "Data shapes - Train: (484, 83), Test: (220, 83)\n"
     ]
    },
    {
     "name": "stderr",
     "output_type": "stream",
     "text": [
      "l:\\Programs\\anaconda\\envs\\esg_pred\\Lib\\site-packages\\sklearn\\linear_model\\_ridge.py:215: LinAlgWarning: Ill-conditioned matrix (rcond=1.08112e-26): result may not be accurate.\n",
      "  return linalg.solve(A, Xy, assume_a=\"pos\", overwrite_a=True).T\n",
      "l:\\Programs\\anaconda\\envs\\esg_pred\\Lib\\site-packages\\xgboost\\training.py:183: UserWarning: [08:27:13] WARNING: C:\\actions-runner\\_work\\xgboost\\xgboost\\src\\learner.cc:738: \n",
      "Parameters: { \"boosting_type\" } are not used.\n",
      "\n",
      "  bst.update(dtrain, iteration=i, fobj=obj)\n"
     ]
    },
    {
     "name": "stdout",
     "output_type": "stream",
     "text": [
      "Data shapes - Train: (320, 83), Test: (80, 83)\n"
     ]
    },
    {
     "name": "stderr",
     "output_type": "stream",
     "text": [
      "l:\\Programs\\anaconda\\envs\\esg_pred\\Lib\\site-packages\\sklearn\\linear_model\\_ridge.py:215: LinAlgWarning: Ill-conditioned matrix (rcond=2.20859e-26): result may not be accurate.\n",
      "  return linalg.solve(A, Xy, assume_a=\"pos\", overwrite_a=True).T\n",
      "l:\\Programs\\anaconda\\envs\\esg_pred\\Lib\\site-packages\\xgboost\\training.py:183: UserWarning: [08:27:21] WARNING: C:\\actions-runner\\_work\\xgboost\\xgboost\\src\\learner.cc:738: \n",
      "Parameters: { \"boosting_type\" } are not used.\n",
      "\n",
      "  bst.update(dtrain, iteration=i, fobj=obj)\n"
     ]
    },
    {
     "name": "stdout",
     "output_type": "stream",
     "text": [
      "Data shapes - Train: (325, 82), Test: (75, 82)\n"
     ]
    },
    {
     "name": "stderr",
     "output_type": "stream",
     "text": [
      "l:\\Programs\\anaconda\\envs\\esg_pred\\Lib\\site-packages\\sklearn\\linear_model\\_ridge.py:215: LinAlgWarning: Ill-conditioned matrix (rcond=2.43635e-23): result may not be accurate.\n",
      "  return linalg.solve(A, Xy, assume_a=\"pos\", overwrite_a=True).T\n",
      "l:\\Programs\\anaconda\\envs\\esg_pred\\Lib\\site-packages\\xgboost\\training.py:183: UserWarning: [08:27:31] WARNING: C:\\actions-runner\\_work\\xgboost\\xgboost\\src\\learner.cc:738: \n",
      "Parameters: { \"boosting_type\" } are not used.\n",
      "\n",
      "  bst.update(dtrain, iteration=i, fobj=obj)\n"
     ]
    },
    {
     "name": "stdout",
     "output_type": "stream",
     "text": [
      "Data shapes - Train: (325, 82), Test: (75, 82)\n"
     ]
    },
    {
     "name": "stderr",
     "output_type": "stream",
     "text": [
      "l:\\Programs\\anaconda\\envs\\esg_pred\\Lib\\site-packages\\sklearn\\linear_model\\_ridge.py:215: LinAlgWarning: Ill-conditioned matrix (rcond=2.02553e-26): result may not be accurate.\n",
      "  return linalg.solve(A, Xy, assume_a=\"pos\", overwrite_a=True).T\n",
      "l:\\Programs\\anaconda\\envs\\esg_pred\\Lib\\site-packages\\xgboost\\training.py:183: UserWarning: [08:27:40] WARNING: C:\\actions-runner\\_work\\xgboost\\xgboost\\src\\learner.cc:738: \n",
      "Parameters: { \"boosting_type\" } are not used.\n",
      "\n",
      "  bst.update(dtrain, iteration=i, fobj=obj)\n"
     ]
    },
    {
     "name": "stdout",
     "output_type": "stream",
     "text": [
      "Data shapes - Train: (350, 82), Test: (50, 82)\n"
     ]
    },
    {
     "name": "stderr",
     "output_type": "stream",
     "text": [
      "l:\\Programs\\anaconda\\envs\\esg_pred\\Lib\\site-packages\\sklearn\\linear_model\\_ridge.py:215: LinAlgWarning: Ill-conditioned matrix (rcond=2.17141e-26): result may not be accurate.\n",
      "  return linalg.solve(A, Xy, assume_a=\"pos\", overwrite_a=True).T\n",
      "l:\\Programs\\anaconda\\envs\\esg_pred\\Lib\\site-packages\\xgboost\\training.py:183: UserWarning: [08:27:50] WARNING: C:\\actions-runner\\_work\\xgboost\\xgboost\\src\\learner.cc:738: \n",
      "Parameters: { \"boosting_type\" } are not used.\n",
      "\n",
      "  bst.update(dtrain, iteration=i, fobj=obj)\n"
     ]
    },
    {
     "name": "stdout",
     "output_type": "stream",
     "text": [
      "Data shapes - Train: (325, 82), Test: (75, 82)\n"
     ]
    },
    {
     "name": "stderr",
     "output_type": "stream",
     "text": [
      "l:\\Programs\\anaconda\\envs\\esg_pred\\Lib\\site-packages\\sklearn\\linear_model\\_ridge.py:215: LinAlgWarning: Ill-conditioned matrix (rcond=1.93281e-26): result may not be accurate.\n",
      "  return linalg.solve(A, Xy, assume_a=\"pos\", overwrite_a=True).T\n",
      "l:\\Programs\\anaconda\\envs\\esg_pred\\Lib\\site-packages\\xgboost\\training.py:183: UserWarning: [08:27:58] WARNING: C:\\actions-runner\\_work\\xgboost\\xgboost\\src\\learner.cc:738: \n",
      "Parameters: { \"boosting_type\" } are not used.\n",
      "\n",
      "  bst.update(dtrain, iteration=i, fobj=obj)\n"
     ]
    },
    {
     "name": "stdout",
     "output_type": "stream",
     "text": [
      "Data shapes - Train: (350, 82), Test: (50, 82)\n"
     ]
    },
    {
     "name": "stderr",
     "output_type": "stream",
     "text": [
      "l:\\Programs\\anaconda\\envs\\esg_pred\\Lib\\site-packages\\sklearn\\linear_model\\_ridge.py:215: LinAlgWarning: Ill-conditioned matrix (rcond=2.16982e-26): result may not be accurate.\n",
      "  return linalg.solve(A, Xy, assume_a=\"pos\", overwrite_a=True).T\n",
      "l:\\Programs\\anaconda\\envs\\esg_pred\\Lib\\site-packages\\xgboost\\training.py:183: UserWarning: [08:28:07] WARNING: C:\\actions-runner\\_work\\xgboost\\xgboost\\src\\learner.cc:738: \n",
      "Parameters: { \"boosting_type\" } are not used.\n",
      "\n",
      "  bst.update(dtrain, iteration=i, fobj=obj)\n"
     ]
    },
    {
     "name": "stdout",
     "output_type": "stream",
     "text": [
      "Data shapes - Train: (325, 82), Test: (75, 82)\n"
     ]
    },
    {
     "name": "stderr",
     "output_type": "stream",
     "text": [
      "l:\\Programs\\anaconda\\envs\\esg_pred\\Lib\\site-packages\\sklearn\\linear_model\\_ridge.py:215: LinAlgWarning: Ill-conditioned matrix (rcond=2.07255e-26): result may not be accurate.\n",
      "  return linalg.solve(A, Xy, assume_a=\"pos\", overwrite_a=True).T\n",
      "l:\\Programs\\anaconda\\envs\\esg_pred\\Lib\\site-packages\\xgboost\\training.py:183: UserWarning: [08:28:17] WARNING: C:\\actions-runner\\_work\\xgboost\\xgboost\\src\\learner.cc:738: \n",
      "Parameters: { \"boosting_type\" } are not used.\n",
      "\n",
      "  bst.update(dtrain, iteration=i, fobj=obj)\n"
     ]
    },
    {
     "name": "stdout",
     "output_type": "stream",
     "text": [
      "Data shapes - Train: (250, 83), Test: (150, 83)\n"
     ]
    },
    {
     "name": "stderr",
     "output_type": "stream",
     "text": [
      "l:\\Programs\\anaconda\\envs\\esg_pred\\Lib\\site-packages\\sklearn\\linear_model\\_ridge.py:215: LinAlgWarning: Ill-conditioned matrix (rcond=8.88301e-23): result may not be accurate.\n",
      "  return linalg.solve(A, Xy, assume_a=\"pos\", overwrite_a=True).T\n",
      "l:\\Programs\\anaconda\\envs\\esg_pred\\Lib\\site-packages\\xgboost\\training.py:183: UserWarning: [08:28:25] WARNING: C:\\actions-runner\\_work\\xgboost\\xgboost\\src\\learner.cc:738: \n",
      "Parameters: { \"boosting_type\" } are not used.\n",
      "\n",
      "  bst.update(dtrain, iteration=i, fobj=obj)\n"
     ]
    },
    {
     "name": "stdout",
     "output_type": "stream",
     "text": [
      "Data shapes - Train: (275, 83), Test: (125, 83)\n"
     ]
    },
    {
     "name": "stderr",
     "output_type": "stream",
     "text": [
      "l:\\Programs\\anaconda\\envs\\esg_pred\\Lib\\site-packages\\sklearn\\linear_model\\_ridge.py:215: LinAlgWarning: Ill-conditioned matrix (rcond=2.10952e-26): result may not be accurate.\n",
      "  return linalg.solve(A, Xy, assume_a=\"pos\", overwrite_a=True).T\n",
      "l:\\Programs\\anaconda\\envs\\esg_pred\\Lib\\site-packages\\xgboost\\training.py:183: UserWarning: [08:28:32] WARNING: C:\\actions-runner\\_work\\xgboost\\xgboost\\src\\learner.cc:738: \n",
      "Parameters: { \"boosting_type\" } are not used.\n",
      "\n",
      "  bst.update(dtrain, iteration=i, fobj=obj)\n"
     ]
    },
    {
     "name": "stdout",
     "output_type": "stream",
     "text": [
      "Data shapes - Train: (275, 83), Test: (125, 83)\n"
     ]
    },
    {
     "name": "stderr",
     "output_type": "stream",
     "text": [
      "l:\\Programs\\anaconda\\envs\\esg_pred\\Lib\\site-packages\\sklearn\\linear_model\\_ridge.py:215: LinAlgWarning: Ill-conditioned matrix (rcond=2.02872e-26): result may not be accurate.\n",
      "  return linalg.solve(A, Xy, assume_a=\"pos\", overwrite_a=True).T\n",
      "l:\\Programs\\anaconda\\envs\\esg_pred\\Lib\\site-packages\\xgboost\\training.py:183: UserWarning: [08:28:40] WARNING: C:\\actions-runner\\_work\\xgboost\\xgboost\\src\\learner.cc:738: \n",
      "Parameters: { \"boosting_type\" } are not used.\n",
      "\n",
      "  bst.update(dtrain, iteration=i, fobj=obj)\n"
     ]
    },
    {
     "name": "stdout",
     "output_type": "stream",
     "text": [
      "CPU times: total: 21min 28s\n",
      "Wall time: 28min 4s\n"
     ]
    }
   ],
   "source": [
    "%%time\n",
    "for run in range(n_runs):\n",
    "    for scenario_type, scenario_dict in datasets.items():        # e.g., 'baselines', 'diversified'\n",
    "        for scenario_name, splits in scenario_dict.items():      # e.g., 'full', 'constrained', 'max_balanced', etc.\n",
    "            for split_type, data_group in splits.items():        # 'within_sample', 'region_holdout', 'size_holdout'\n",
    "                # if split_type == 'original_data':\n",
    "                #     continue  # skip original data entries\n",
    "\n",
    "                # Handle different split types\n",
    "                if split_type == 'within_sample':\n",
    "                    data = data_group['within_sample'] # for within_sample, the data structure is one level deeper\n",
    "\n",
    "                    scenario_info = {\n",
    "                        'run': run,\n",
    "                        'scenario_type': scenario_type,\n",
    "                        'scenario': scenario_name,\n",
    "                        'split': split_type,\n",
    "                        'context': 'within_sample',\n",
    "                    }\n",
    "                    \n",
    "                    results.extend(process_dataset(\n",
    "                        data['train'], \n",
    "                        data['test'], \n",
    "                        models,\n",
    "                        param_grids,\n",
    "                        scenario_info\n",
    "                    ))\n",
    "                \n",
    "                elif split_type in ['region_holdout', 'size_holdout']:\n",
    "                    for context_name, data in data_group.items():\n",
    "                        if 'train' not in data or 'test' not in data:\n",
    "                            continue # skip if train/test not available\n",
    "\n",
    "                        scenario_info = {\n",
    "                            'run': run,\n",
    "                            'scenario_type': scenario_type,\n",
    "                            'scenario': scenario_name,\n",
    "                            'split': split_type,\n",
    "                            'context': context_name\n",
    "                        }\n",
    "                        \n",
    "                        results.extend(process_dataset(\n",
    "                            data['train'],\n",
    "                            data['test'],\n",
    "                            models,\n",
    "                            param_grids,\n",
    "                            scenario_info\n",
    "                        ))\n",
    "\n",
    "results_df = pd.DataFrame(results)"
   ]
  },
  {
   "cell_type": "code",
   "execution_count": 19,
   "id": "6f6c5d9f",
   "metadata": {},
   "outputs": [],
   "source": [
    "# %%time\n",
    "# for scenario_type, scenario_dict in datasets.items():        # e.g., 'baselines', 'diversified'\n",
    "#     for scenario_name, splits in scenario_dict.items():      # e.g., 'full', 'constrained', 'max_balanced', etc.\n",
    "#         for split_type, data_group in splits.items():        # 'within_sample', 'region_holdout', 'size_holdout'\n",
    "#             if split_type == 'original_data':\n",
    "#                 continue  # Skip original data entries\n",
    "            \n",
    "#             # if split_type == 'region_holdout':\n",
    "#             #     continue # TEMP TO CHECK SMTH\n",
    "\n",
    "#             # For within-sample, we have one group; for others, multiple contexts\n",
    "#             # contexts = {'within_sample': data_group} if split_type == 'within_sample' else data_group\n",
    "\n",
    "#             # for context_name, data in contexts.items():\n",
    "#             #     print(f\"Scenario: {scenario_type}, {scenario_name}, Split: {split_type}, Context: {context_name}\")\n",
    "\n",
    "#             # Handle different split types\n",
    "#             if split_type == 'within_sample':\n",
    "#                 # For within_sample, data structure is one level deeper\n",
    "#                 data = data_group['within_sample']\n",
    "#                 print(f\"Scenario: {scenario_type}, {scenario_name}, Split: {split_type}\")\n",
    "#                 if 'train' not in data or 'test' not in data:\n",
    "#                     continue\n",
    "                    \n",
    "#                 train_df = data['train']\n",
    "#                 test_df = data['test']\n",
    "\n",
    "#                 print(train_df.shape, test_df.shape)\n",
    "\n",
    "#                 # Separate features and target\n",
    "#                 X_train = train_df.drop(columns=['totalEsg'])\n",
    "#                 y_train = train_df['totalEsg']\n",
    "#                 X_test  = test_df.drop(columns=['totalEsg'])\n",
    "#                 y_test  = test_df['totalEsg']\n",
    "                \n",
    "#                 # Train and evaluate models\n",
    "#                 for model_name, model in models.items():\n",
    "#                     # Prepare grid search\n",
    "#                     grid = GridSearchCV(\n",
    "#                         estimator=model,\n",
    "#                         param_grid=param_grids[model_name],\n",
    "#                         cv=3,\n",
    "#                         scoring='neg_root_mean_squared_error',\n",
    "#                         n_jobs=-1\n",
    "#                     )\n",
    "#                     # Tune on training data\n",
    "#                     grid.fit(X_train, y_train)\n",
    "#                     best_model = grid.best_estimator_\n",
    "\n",
    "#                     # train\n",
    "#                     # model.fit(X_train, y_train)\n",
    "\n",
    "\n",
    "#                     # predict\n",
    "#                     # y_pred = model.predict(X_test)\n",
    "#                     y_pred = best_model.predict(X_test)\n",
    "\n",
    "#                     # compute metrics\n",
    "#                     rmse, mae, r2 = compute_metrics(y_test, y_pred)\n",
    "#                     stability = compute_stability(best_model, X_test, y_test,\n",
    "#                                                 noise_level=0.01, n_trials=5)\n",
    "                    \n",
    "#                     results.append({\n",
    "#                         'scenario_type': scenario_type,\n",
    "#                         'scenario': scenario_name,\n",
    "#                         'split': split_type,\n",
    "#                         'context': 'within_sample',\n",
    "#                         'model': model_name,\n",
    "#                         'RMSE': rmse,\n",
    "#                         'MAE': mae,\n",
    "#                         'R2': r2,\n",
    "#                         'Stability': stability\n",
    "#                     })\n",
    "            \n",
    "#             else:\n",
    "#                 # For region_holdout and size_holdout, process each context\n",
    "#                 for context_name, data in data_group.items():\n",
    "#                     print(f\"Scenario: {scenario_type}, {scenario_name}, Split: {split_type}, Context: {context_name}\")\n",
    "#                     if 'train' not in data or 'test' not in data:\n",
    "#                         continue\n",
    "                        \n",
    "#                     train_df = data['train']\n",
    "#                     test_df = data['test']\n",
    "\n",
    "#                     print(train_df.shape, test_df.shape)\n",
    "\n",
    "#                     # Separate features and target\n",
    "#                     X_train = train_df.drop(columns=['totalEsg'])\n",
    "#                     y_train = train_df['totalEsg']\n",
    "#                     X_test  = test_df.drop(columns=['totalEsg'])\n",
    "#                     y_test  = test_df['totalEsg']\n",
    "                    \n",
    "#                     # Train and evaluate models\n",
    "#                     for model_name, model in models.items():\n",
    "#                         # Prepare grid search\n",
    "#                         grid = GridSearchCV(\n",
    "#                             estimator=model,\n",
    "#                             param_grid=param_grids[model_name],\n",
    "#                             cv=3,\n",
    "#                             scoring='neg_root_mean_squared_error',\n",
    "#                             n_jobs=-1\n",
    "#                         )\n",
    "#                         # Tune on training data\n",
    "#                         grid.fit(X_train, y_train)\n",
    "#                         best_model = grid.best_estimator_\n",
    "\n",
    "#                         # train\n",
    "#                         # model.fit(X_train, y_train)\n",
    "\n",
    "\n",
    "#                         # predict\n",
    "#                         # y_pred = model.predict(X_test)\n",
    "#                         y_pred = best_model.predict(X_test)\n",
    "\n",
    "#                         # compute metrics\n",
    "#                         rmse, mae, r2 = compute_metrics(y_test, y_pred)\n",
    "#                         stability = compute_stability(best_model, X_test, y_test,\n",
    "#                                                   noise_level=0.01, n_trials=5)\n",
    "                        \n",
    "#                         results.append({\n",
    "#                             'scenario_type': scenario_type,\n",
    "#                             'scenario': scenario_name,\n",
    "#                             'split': split_type,\n",
    "#                             'context': context_name,\n",
    "#                             'model': model_name,\n",
    "#                             'RMSE': rmse,\n",
    "#                             'MAE': mae,\n",
    "#                             'R2': r2,\n",
    "#                             'Stability': stability\n",
    "#                         })\n",
    "\n",
    "# results_df = pd.DataFrame(results)"
   ]
  },
  {
   "cell_type": "code",
   "execution_count": 14,
   "id": "f890b89e",
   "metadata": {},
   "outputs": [],
   "source": [
    "results_df = pd.DataFrame(results)"
   ]
  },
  {
   "cell_type": "code",
   "execution_count": 15,
   "id": "96089c1a",
   "metadata": {},
   "outputs": [
    {
     "data": {
      "application/vnd.microsoft.datawrangler.viewer.v0+json": {
       "columns": [
        {
         "name": "index",
         "rawType": "int64",
         "type": "integer"
        },
        {
         "name": "run",
         "rawType": "float64",
         "type": "float"
        },
        {
         "name": "scenario_type",
         "rawType": "object",
         "type": "string"
        },
        {
         "name": "scenario",
         "rawType": "object",
         "type": "string"
        },
        {
         "name": "split",
         "rawType": "object",
         "type": "string"
        },
        {
         "name": "context",
         "rawType": "object",
         "type": "string"
        },
        {
         "name": "model",
         "rawType": "object",
         "type": "string"
        },
        {
         "name": "RMSE",
         "rawType": "float64",
         "type": "float"
        },
        {
         "name": "MAE",
         "rawType": "float64",
         "type": "float"
        },
        {
         "name": "R2",
         "rawType": "float64",
         "type": "float"
        },
        {
         "name": "Stability",
         "rawType": "float64",
         "type": "float"
        }
       ],
       "conversionMethod": "pd.DataFrame",
       "ref": "f1bd3081-d0ab-47eb-bb0b-b50325ebfade",
       "rows": [
        [
         "0",
         "0.0",
         "baselines",
         "full",
         "within_sample",
         "within_sample",
         "Ridge",
         "36.0512602912166",
         "13.176643847876823",
         "-20.532862064127716",
         "-0.0010119912040782563"
        ],
        [
         "1",
         "0.0",
         "baselines",
         "full",
         "within_sample",
         "within_sample",
         "RandomForest",
         "6.853873723434217",
         "5.183023578248235",
         "0.2217250491557935",
         "0.033224505336864565"
        ],
        [
         "2",
         "0.0",
         "baselines",
         "full",
         "within_sample",
         "within_sample",
         "XGBoost",
         "6.959849605847165",
         "5.22869691927139",
         "0.19747131292215991",
         "0.04830987839323655"
        ],
        [
         "3",
         "0.0",
         "baselines",
         "full",
         "within_sample",
         "within_sample",
         "MLP",
         "199588297.4010287",
         "32125020.8708891",
         "-659980345354952.5",
         "0.0008606759466157278"
        ],
        [
         "4",
         null,
         "baselines",
         "full",
         "region_holdout",
         "east_asia_n_pacific",
         "Ridge",
         "122.13587319355672",
         "67.28333908984081",
         "-261.9002781710981",
         "0.0020026910581117255"
        ],
        [
         "5",
         null,
         "baselines",
         "full",
         "region_holdout",
         "east_asia_n_pacific",
         "RandomForest",
         "8.878997572989354",
         "7.331653174603177",
         "-0.3894164513320506",
         "0.04158364684783142"
        ],
        [
         "6",
         null,
         "baselines",
         "full",
         "region_holdout",
         "east_asia_n_pacific",
         "XGBoost",
         "8.221527127783705",
         "6.583588560800702",
         "-0.1912682047863834",
         "0.04721343292244866"
        ],
        [
         "7",
         null,
         "baselines",
         "full",
         "region_holdout",
         "east_asia_n_pacific",
         "MLP",
         "15440442378.870234",
         "1993591764.8343265",
         "-4.201690321093975e+18",
         "0.0006346566022466578"
        ],
        [
         "8",
         null,
         "baselines",
         "full",
         "region_holdout",
         "europe_n_central_asia",
         "Ridge",
         "7.365533264388634",
         "5.84395334398016",
         "0.05464358876412334",
         "-0.00038547218240676166"
        ],
        [
         "9",
         null,
         "baselines",
         "full",
         "region_holdout",
         "europe_n_central_asia",
         "RandomForest",
         "6.03804913110342",
         "4.663826665292027",
         "0.36469764028760754",
         "0.06987825008535956"
        ],
        [
         "10",
         null,
         "baselines",
         "full",
         "region_holdout",
         "europe_n_central_asia",
         "XGBoost",
         "6.026055765364028",
         "4.67304857489768",
         "0.36721893356508184",
         "0.08072541538616933"
        ],
        [
         "11",
         null,
         "baselines",
         "full",
         "region_holdout",
         "europe_n_central_asia",
         "MLP",
         "37708827.14579473",
         "8685378.09600531",
         "-24778398486447.08",
         "0.002884014884056889"
        ],
        [
         "12",
         null,
         "baselines",
         "full",
         "region_holdout",
         "latin_america_n_caribbean",
         "Ridge",
         "7.531877772921841",
         "6.097652641751738",
         "-0.18572862555198966",
         "0.0003609698156447311"
        ],
        [
         "13",
         null,
         "baselines",
         "full",
         "region_holdout",
         "latin_america_n_caribbean",
         "RandomForest",
         "5.600445216499536",
         "4.2023751727662475",
         "0.34442273531241785",
         "0.020218883378353904"
        ],
        [
         "14",
         null,
         "baselines",
         "full",
         "region_holdout",
         "latin_america_n_caribbean",
         "XGBoost",
         "6.154832977660113",
         "4.520234180632092",
         "0.20820761362725082",
         "0.019846838172174947"
        ],
        [
         "15",
         null,
         "baselines",
         "full",
         "region_holdout",
         "latin_america_n_caribbean",
         "MLP",
         "496218233.28987706",
         "106533065.26726827",
         "-5146645007216087.0",
         "-4.007986774888575e-05"
        ],
        [
         "16",
         null,
         "baselines",
         "full",
         "region_holdout",
         "north_america",
         "Ridge",
         "222.47318633234818",
         "29.576015858077955",
         "-919.1778590450049",
         "-0.000217207688388295"
        ],
        [
         "17",
         null,
         "baselines",
         "full",
         "region_holdout",
         "north_america",
         "RandomForest",
         "6.40712743705692",
         "4.736943323414868",
         "0.23679157896747738",
         "0.1952996797604939"
        ],
        [
         "18",
         null,
         "baselines",
         "full",
         "region_holdout",
         "north_america",
         "XGBoost",
         "6.475880963819288",
         "4.767185196458248",
         "0.2203240399985833",
         "0.15489033090451176"
        ],
        [
         "19",
         null,
         "baselines",
         "full",
         "region_holdout",
         "north_america",
         "MLP",
         "153553154.63861698",
         "23926798.17835922",
         "-438363025398348.4",
         "-0.0005317219375694882"
        ],
        [
         "20",
         null,
         "baselines",
         "full",
         "region_holdout",
         "south_asia",
         "Ridge",
         "9.71460573086878",
         "7.738018670729056",
         "-0.3927493310764325",
         "-0.0013277422861431892"
        ],
        [
         "21",
         null,
         "baselines",
         "full",
         "region_holdout",
         "south_asia",
         "RandomForest",
         "9.00475928323683",
         "7.251334226044224",
         "-0.196649090756692",
         "-0.010435386847013714"
        ],
        [
         "22",
         null,
         "baselines",
         "full",
         "region_holdout",
         "south_asia",
         "XGBoost",
         "8.499158295274274",
         "6.6723084176553265",
         "-0.06604229543068563",
         "-0.02177993000870901"
        ],
        [
         "23",
         null,
         "baselines",
         "full",
         "region_holdout",
         "south_asia",
         "MLP",
         "247245196.6598082",
         "70531982.6811254",
         "-902149112160818.5",
         "0.0003666665604219339"
        ],
        [
         "24",
         null,
         "baselines",
         "full",
         "region_holdout",
         "sub_saharan_africa",
         "Ridge",
         "13.178999669910704",
         "9.421848075749091",
         "-0.8968509349619904",
         "0.0003732510856914626"
        ],
        [
         "25",
         null,
         "baselines",
         "full",
         "region_holdout",
         "sub_saharan_africa",
         "RandomForest",
         "9.406891743803685",
         "7.595759595141698",
         "0.0335918118181352",
         "-0.0014826993545374472"
        ],
        [
         "26",
         null,
         "baselines",
         "full",
         "region_holdout",
         "sub_saharan_africa",
         "XGBoost",
         "9.69501461447894",
         "7.986260143079256",
         "-0.026514870025737824",
         "-0.002268536429788342"
        ],
        [
         "27",
         null,
         "baselines",
         "full",
         "region_holdout",
         "sub_saharan_africa",
         "MLP",
         "73558859.96537055",
         "35888807.19373391",
         "-59093306125167.836",
         "-0.0004059952470464734"
        ],
        [
         "28",
         null,
         "baselines",
         "full",
         "size_holdout",
         "Large-Cap",
         "Ridge",
         "170.6071435291432",
         "35.44266565602312",
         "-424.8451015105301",
         "-0.00020647083990771366"
        ],
        [
         "29",
         null,
         "baselines",
         "full",
         "size_holdout",
         "Large-Cap",
         "RandomForest",
         "6.896406142728912",
         "5.228817840967196",
         "0.3041704106880938",
         "0.12328809009867077"
        ],
        [
         "30",
         null,
         "baselines",
         "full",
         "size_holdout",
         "Large-Cap",
         "XGBoost",
         "6.714395440906381",
         "4.847684613118129",
         "0.3404145557429823",
         "0.1033088717051978"
        ],
        [
         "31",
         null,
         "baselines",
         "full",
         "size_holdout",
         "Large-Cap",
         "MLP",
         "34284397897.093933",
         "3508253685.88229",
         "-1.7196904765387938e+19",
         "0.00029016026440223397"
        ],
        [
         "32",
         null,
         "baselines",
         "full",
         "size_holdout",
         "Mid-Cap",
         "Ridge",
         "136.59800591254188",
         "25.491983227257634",
         "-315.84176847979444",
         "-0.0004842889286757782"
        ],
        [
         "33",
         null,
         "baselines",
         "full",
         "size_holdout",
         "Mid-Cap",
         "RandomForest",
         "6.466161688737193",
         "5.131902557352876",
         "0.2900188310394639",
         "0.1688332307905303"
        ],
        [
         "34",
         null,
         "baselines",
         "full",
         "size_holdout",
         "Mid-Cap",
         "XGBoost",
         "6.372971727127291",
         "5.096997543334962",
         "0.3103357830300937",
         "0.17512591813549708"
        ],
        [
         "35",
         null,
         "baselines",
         "full",
         "size_holdout",
         "Mid-Cap",
         "MLP",
         "2216075348.942233",
         "353205267.6666611",
         "-8.339168617163547e+16",
         "0.0011906930626054257"
        ],
        [
         "36",
         null,
         "baselines",
         "full",
         "size_holdout",
         "Small-Cap",
         "Ridge",
         "11.42028072487529",
         "8.230023830072199",
         "-1.1266878626998826",
         "0.00011461181103973005"
        ],
        [
         "37",
         null,
         "baselines",
         "full",
         "size_holdout",
         "Small-Cap",
         "RandomForest",
         "7.117267910439413",
         "5.018607352941178",
         "0.1740061355132041",
         "0.012713199628279482"
        ],
        [
         "38",
         null,
         "baselines",
         "full",
         "size_holdout",
         "Small-Cap",
         "XGBoost",
         "7.263211609345986",
         "5.116718659120447",
         "0.13978385786271075",
         "0.022213685108247345"
        ],
        [
         "39",
         null,
         "baselines",
         "full",
         "size_holdout",
         "Small-Cap",
         "MLP",
         "92360450.91141929",
         "19374138.834067892",
         "-139098447385867.38",
         "0.00031130305719287595"
        ],
        [
         "40",
         "0.0",
         "baselines",
         "constrained",
         "within_sample",
         "within_sample",
         "Ridge",
         "8.223010494210538",
         "6.104881201016117",
         "-0.45917413839041243",
         "6.022918401393062e-05"
        ],
        [
         "41",
         "0.0",
         "baselines",
         "constrained",
         "within_sample",
         "within_sample",
         "RandomForest",
         "5.479143593453103",
         "4.148748703320153",
         "0.3521554652876091",
         "0.005064900854220564"
        ],
        [
         "42",
         "0.0",
         "baselines",
         "constrained",
         "within_sample",
         "within_sample",
         "XGBoost",
         "5.944125802088803",
         "4.023228491421404",
         "0.23753235474835865",
         "0.0258435742540354"
        ],
        [
         "43",
         "0.0",
         "baselines",
         "constrained",
         "within_sample",
         "within_sample",
         "MLP",
         "123178838.17767464",
         "38445274.471438475",
         "-327429377065354.9",
         "0.005622907800508053"
        ],
        [
         "44",
         null,
         "baselines",
         "constrained",
         "region_holdout",
         "europe_n_central_asia",
         "Ridge",
         "19.128269451282183",
         "11.043908488630269",
         "-5.339381345910733",
         "0.002473150985384738"
        ],
        [
         "45",
         null,
         "baselines",
         "constrained",
         "region_holdout",
         "europe_n_central_asia",
         "RandomForest",
         "6.007674162934842",
         "4.628621988390398",
         "0.37467145238225497",
         "0.09049015467845356"
        ],
        [
         "46",
         null,
         "baselines",
         "constrained",
         "region_holdout",
         "europe_n_central_asia",
         "XGBoost",
         "6.614969150835214",
         "5.312802440296519",
         "0.24185694281339898",
         "0.019797840305455443"
        ],
        [
         "47",
         null,
         "baselines",
         "constrained",
         "region_holdout",
         "europe_n_central_asia",
         "MLP",
         "20065280.017633572",
         "5360230.511577512",
         "-6975670616829.95",
         "0.32243226011624065"
        ],
        [
         "48",
         null,
         "baselines",
         "constrained",
         "region_holdout",
         "north_america",
         "Ridge",
         "8.481796024148476",
         "5.646097209935446",
         "-0.5327076205312327",
         "9.942910748110842e-05"
        ],
        [
         "49",
         null,
         "baselines",
         "constrained",
         "region_holdout",
         "north_america",
         "RandomForest",
         "6.651808556428792",
         "4.804194252873561",
         "0.05732247810401492",
         "0.11534758348630345"
        ]
       ],
       "shape": {
        "columns": 10,
        "rows": 700
       }
      },
      "text/html": [
       "<div>\n",
       "<style scoped>\n",
       "    .dataframe tbody tr th:only-of-type {\n",
       "        vertical-align: middle;\n",
       "    }\n",
       "\n",
       "    .dataframe tbody tr th {\n",
       "        vertical-align: top;\n",
       "    }\n",
       "\n",
       "    .dataframe thead th {\n",
       "        text-align: right;\n",
       "    }\n",
       "</style>\n",
       "<table border=\"1\" class=\"dataframe\">\n",
       "  <thead>\n",
       "    <tr style=\"text-align: right;\">\n",
       "      <th></th>\n",
       "      <th>run</th>\n",
       "      <th>scenario_type</th>\n",
       "      <th>scenario</th>\n",
       "      <th>split</th>\n",
       "      <th>context</th>\n",
       "      <th>model</th>\n",
       "      <th>RMSE</th>\n",
       "      <th>MAE</th>\n",
       "      <th>R2</th>\n",
       "      <th>Stability</th>\n",
       "    </tr>\n",
       "  </thead>\n",
       "  <tbody>\n",
       "    <tr>\n",
       "      <th>0</th>\n",
       "      <td>0.0</td>\n",
       "      <td>baselines</td>\n",
       "      <td>full</td>\n",
       "      <td>within_sample</td>\n",
       "      <td>within_sample</td>\n",
       "      <td>Ridge</td>\n",
       "      <td>3.605126e+01</td>\n",
       "      <td>1.317664e+01</td>\n",
       "      <td>-2.053286e+01</td>\n",
       "      <td>-0.001012</td>\n",
       "    </tr>\n",
       "    <tr>\n",
       "      <th>1</th>\n",
       "      <td>0.0</td>\n",
       "      <td>baselines</td>\n",
       "      <td>full</td>\n",
       "      <td>within_sample</td>\n",
       "      <td>within_sample</td>\n",
       "      <td>RandomForest</td>\n",
       "      <td>6.853874e+00</td>\n",
       "      <td>5.183024e+00</td>\n",
       "      <td>2.217250e-01</td>\n",
       "      <td>0.033225</td>\n",
       "    </tr>\n",
       "    <tr>\n",
       "      <th>2</th>\n",
       "      <td>0.0</td>\n",
       "      <td>baselines</td>\n",
       "      <td>full</td>\n",
       "      <td>within_sample</td>\n",
       "      <td>within_sample</td>\n",
       "      <td>XGBoost</td>\n",
       "      <td>6.959850e+00</td>\n",
       "      <td>5.228697e+00</td>\n",
       "      <td>1.974713e-01</td>\n",
       "      <td>0.048310</td>\n",
       "    </tr>\n",
       "    <tr>\n",
       "      <th>3</th>\n",
       "      <td>0.0</td>\n",
       "      <td>baselines</td>\n",
       "      <td>full</td>\n",
       "      <td>within_sample</td>\n",
       "      <td>within_sample</td>\n",
       "      <td>MLP</td>\n",
       "      <td>1.995883e+08</td>\n",
       "      <td>3.212502e+07</td>\n",
       "      <td>-6.599803e+14</td>\n",
       "      <td>0.000861</td>\n",
       "    </tr>\n",
       "    <tr>\n",
       "      <th>4</th>\n",
       "      <td>NaN</td>\n",
       "      <td>baselines</td>\n",
       "      <td>full</td>\n",
       "      <td>region_holdout</td>\n",
       "      <td>east_asia_n_pacific</td>\n",
       "      <td>Ridge</td>\n",
       "      <td>1.221359e+02</td>\n",
       "      <td>6.728334e+01</td>\n",
       "      <td>-2.619003e+02</td>\n",
       "      <td>0.002003</td>\n",
       "    </tr>\n",
       "    <tr>\n",
       "      <th>...</th>\n",
       "      <td>...</td>\n",
       "      <td>...</td>\n",
       "      <td>...</td>\n",
       "      <td>...</td>\n",
       "      <td>...</td>\n",
       "      <td>...</td>\n",
       "      <td>...</td>\n",
       "      <td>...</td>\n",
       "      <td>...</td>\n",
       "      <td>...</td>\n",
       "    </tr>\n",
       "    <tr>\n",
       "      <th>695</th>\n",
       "      <td>NaN</td>\n",
       "      <td>diversified</td>\n",
       "      <td>median_balanced</td>\n",
       "      <td>size_holdout</td>\n",
       "      <td>Mid-Cap</td>\n",
       "      <td>MLP</td>\n",
       "      <td>1.501225e+09</td>\n",
       "      <td>2.323859e+08</td>\n",
       "      <td>-4.152267e+16</td>\n",
       "      <td>0.000683</td>\n",
       "    </tr>\n",
       "    <tr>\n",
       "      <th>696</th>\n",
       "      <td>NaN</td>\n",
       "      <td>diversified</td>\n",
       "      <td>median_balanced</td>\n",
       "      <td>size_holdout</td>\n",
       "      <td>Small-Cap</td>\n",
       "      <td>Ridge</td>\n",
       "      <td>1.530604e+01</td>\n",
       "      <td>9.344703e+00</td>\n",
       "      <td>-1.927470e+00</td>\n",
       "      <td>0.000056</td>\n",
       "    </tr>\n",
       "    <tr>\n",
       "      <th>697</th>\n",
       "      <td>NaN</td>\n",
       "      <td>diversified</td>\n",
       "      <td>median_balanced</td>\n",
       "      <td>size_holdout</td>\n",
       "      <td>Small-Cap</td>\n",
       "      <td>RandomForest</td>\n",
       "      <td>8.895846e+00</td>\n",
       "      <td>6.472343e+00</td>\n",
       "      <td>1.112487e-02</td>\n",
       "      <td>-0.000920</td>\n",
       "    </tr>\n",
       "    <tr>\n",
       "      <th>698</th>\n",
       "      <td>NaN</td>\n",
       "      <td>diversified</td>\n",
       "      <td>median_balanced</td>\n",
       "      <td>size_holdout</td>\n",
       "      <td>Small-Cap</td>\n",
       "      <td>XGBoost</td>\n",
       "      <td>9.466702e+00</td>\n",
       "      <td>6.653255e+00</td>\n",
       "      <td>-1.198616e-01</td>\n",
       "      <td>-0.006356</td>\n",
       "    </tr>\n",
       "    <tr>\n",
       "      <th>699</th>\n",
       "      <td>NaN</td>\n",
       "      <td>diversified</td>\n",
       "      <td>median_balanced</td>\n",
       "      <td>size_holdout</td>\n",
       "      <td>Small-Cap</td>\n",
       "      <td>MLP</td>\n",
       "      <td>1.249244e+08</td>\n",
       "      <td>3.394963e+07</td>\n",
       "      <td>-1.950120e+14</td>\n",
       "      <td>0.000546</td>\n",
       "    </tr>\n",
       "  </tbody>\n",
       "</table>\n",
       "<p>700 rows × 10 columns</p>\n",
       "</div>"
      ],
      "text/plain": [
       "     run scenario_type         scenario           split              context  \\\n",
       "0    0.0     baselines             full   within_sample        within_sample   \n",
       "1    0.0     baselines             full   within_sample        within_sample   \n",
       "2    0.0     baselines             full   within_sample        within_sample   \n",
       "3    0.0     baselines             full   within_sample        within_sample   \n",
       "4    NaN     baselines             full  region_holdout  east_asia_n_pacific   \n",
       "..   ...           ...              ...             ...                  ...   \n",
       "695  NaN   diversified  median_balanced    size_holdout              Mid-Cap   \n",
       "696  NaN   diversified  median_balanced    size_holdout            Small-Cap   \n",
       "697  NaN   diversified  median_balanced    size_holdout            Small-Cap   \n",
       "698  NaN   diversified  median_balanced    size_holdout            Small-Cap   \n",
       "699  NaN   diversified  median_balanced    size_holdout            Small-Cap   \n",
       "\n",
       "            model          RMSE           MAE            R2  Stability  \n",
       "0           Ridge  3.605126e+01  1.317664e+01 -2.053286e+01  -0.001012  \n",
       "1    RandomForest  6.853874e+00  5.183024e+00  2.217250e-01   0.033225  \n",
       "2         XGBoost  6.959850e+00  5.228697e+00  1.974713e-01   0.048310  \n",
       "3             MLP  1.995883e+08  3.212502e+07 -6.599803e+14   0.000861  \n",
       "4           Ridge  1.221359e+02  6.728334e+01 -2.619003e+02   0.002003  \n",
       "..            ...           ...           ...           ...        ...  \n",
       "695           MLP  1.501225e+09  2.323859e+08 -4.152267e+16   0.000683  \n",
       "696         Ridge  1.530604e+01  9.344703e+00 -1.927470e+00   0.000056  \n",
       "697  RandomForest  8.895846e+00  6.472343e+00  1.112487e-02  -0.000920  \n",
       "698       XGBoost  9.466702e+00  6.653255e+00 -1.198616e-01  -0.006356  \n",
       "699           MLP  1.249244e+08  3.394963e+07 -1.950120e+14   0.000546  \n",
       "\n",
       "[700 rows x 10 columns]"
      ]
     },
     "execution_count": 15,
     "metadata": {},
     "output_type": "execute_result"
    }
   ],
   "source": [
    "results_df"
   ]
  },
  {
   "cell_type": "code",
   "execution_count": 17,
   "id": "e0f8c778",
   "metadata": {},
   "outputs": [
    {
     "data": {
      "text/plain": [
       "0.8708870271267248"
      ]
     },
     "execution_count": 17,
     "metadata": {},
     "output_type": "execute_result"
    }
   ],
   "source": [
    "results_df['R2'].max()"
   ]
  },
  {
   "cell_type": "code",
   "execution_count": null,
   "id": "35dcd740",
   "metadata": {},
   "outputs": [],
   "source": [
    "# 1. Extract within-sample RMSE per scenario/model\n",
    "within = results_df[results_df['split'] == 'within_sample'][['scenario_type', 'scenario', 'model', 'RMSE']]\n",
    "within = within.rename(columns={'RMSE': 'RMSE_within'})\n",
    "\n",
    "# 2. Merge to get RMSE_within alongside all rows\n",
    "merged = results_df.merge(within, on=['scenario_type', 'scenario', 'model'], how='left')\n",
    "\n",
    "# 3. Compute Cross-Context Generalization Score:\n",
    "#    Transfer Score = 1 - (RMSE_holdout / RMSE_within)\n",
    "#    For within-sample rows, set NaN\n",
    "merged['CrossContextScore'] = np.where(\n",
    "    merged['split'] == 'within_sample',\n",
    "    np.nan,\n",
    "    1 - merged['RMSE'] / merged['RMSE_within']\n",
    ")"
   ]
  }
 ],
 "metadata": {
  "kernelspec": {
   "display_name": "esg_pred",
   "language": "python",
   "name": "python3"
  },
  "language_info": {
   "codemirror_mode": {
    "name": "ipython",
    "version": 3
   },
   "file_extension": ".py",
   "mimetype": "text/x-python",
   "name": "python",
   "nbconvert_exporter": "python",
   "pygments_lexer": "ipython3",
   "version": "3.11.11"
  }
 },
 "nbformat": 4,
 "nbformat_minor": 5
}
